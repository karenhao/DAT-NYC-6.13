{
 "cells": [
  {
   "cell_type": "markdown",
   "metadata": {},
   "source": [
    "# Sentiment Analysis and Topic Models\n",
    "\n",
    "\n",
    "Consider the sentiment of the following statements:\n",
    "\n",
    "- Coronet has the best lines of all day cruisers.\n",
    "- Bertram has a deep V hull and runs easily through seas.\n",
    "- Pastel-colored 1980s day cruisers from Florida are ugly.\n",
    "- I dislike old cabin cruisers.\n",
    "\n",
    "Are they positive, negative, or neutral?  Why?"
   ]
  },
  {
   "cell_type": "code",
   "execution_count": 1,
   "metadata": {},
   "outputs": [],
   "source": [
    "%matplotlib inline \n",
    "import matplotlib.pyplot as plt\n",
    "import numpy as np\n",
    "import pandas as pd\n",
    "\n",
    "from textblob import TextBlob"
   ]
  },
  {
   "cell_type": "markdown",
   "metadata": {},
   "source": [
    "### Sentiment Analysis"
   ]
  },
  {
   "cell_type": "code",
   "execution_count": 2,
   "metadata": {},
   "outputs": [],
   "source": [
    "text = 'Hi, I thought the speech you gave was awful, your hair looked terrible, and your mom would be ashamed.'"
   ]
  },
  {
   "cell_type": "code",
   "execution_count": 3,
   "metadata": {},
   "outputs": [],
   "source": [
    "analysis = TextBlob(text)"
   ]
  },
  {
   "cell_type": "code",
   "execution_count": 4,
   "metadata": {},
   "outputs": [],
   "source": [
    "pos_or_neg = analysis.sentiment.polarity"
   ]
  },
  {
   "cell_type": "code",
   "execution_count": 5,
   "metadata": {},
   "outputs": [
    {
     "data": {
      "text/plain": [
       "-1.0"
      ]
     },
     "execution_count": 5,
     "metadata": {},
     "output_type": "execute_result"
    }
   ],
   "source": [
    "pos_or_neg"
   ]
  },
  {
   "cell_type": "code",
   "execution_count": 6,
   "metadata": {},
   "outputs": [],
   "source": [
    "ny = pd.read_csv('data/ny_donors.csv')"
   ]
  },
  {
   "cell_type": "code",
   "execution_count": 7,
   "metadata": {},
   "outputs": [],
   "source": [
    "sent = ny.project_essay_2[30]"
   ]
  },
  {
   "cell_type": "code",
   "execution_count": 8,
   "metadata": {},
   "outputs": [
    {
     "data": {
      "text/plain": [
       "\"We currently have 3 outdated desktop computers in our classroom that still run on Windows XP! We like to use reading websites, like Raz Kids, Starfall and News-O-Matic to practice our reading skills. It's difficult to make sure everyone gets a fair turn when there are 24 students sharing 3 computers. Most of them don't have access to technology at home either. \\\\r\\\\nThese new Kindle Fires will allow more students to have access to technology at the same time. Students will be able to read ebooks, as well as use other reading apps to practice reading on their own level. They can also use them for research for their writing, publishing their work, and learning how to use different types of  technology. It will encourage reluctant readers to practice reading more if they can have access to different kinds of books on technology.\""
      ]
     },
     "execution_count": 8,
     "metadata": {},
     "output_type": "execute_result"
    }
   ],
   "source": [
    "sent"
   ]
  },
  {
   "cell_type": "code",
   "execution_count": 9,
   "metadata": {},
   "outputs": [],
   "source": [
    "analysis = TextBlob(sent)"
   ]
  },
  {
   "cell_type": "code",
   "execution_count": 10,
   "metadata": {},
   "outputs": [
    {
     "data": {
      "text/plain": [
       "0.18742424242424244"
      ]
     },
     "execution_count": 10,
     "metadata": {},
     "output_type": "execute_result"
    }
   ],
   "source": [
    "analysis.sentiment.polarity"
   ]
  },
  {
   "cell_type": "code",
   "execution_count": 11,
   "metadata": {},
   "outputs": [
    {
     "data": {
      "text/plain": [
       "0.6067845117845116"
      ]
     },
     "execution_count": 11,
     "metadata": {},
     "output_type": "execute_result"
    }
   ],
   "source": [
    "analysis.sentiment.subjectivity"
   ]
  },
  {
   "cell_type": "code",
   "execution_count": 12,
   "metadata": {},
   "outputs": [],
   "source": [
    "import spacy"
   ]
  },
  {
   "cell_type": "code",
   "execution_count": 13,
   "metadata": {},
   "outputs": [],
   "source": [
    "nlp = spacy.load('en')"
   ]
  },
  {
   "cell_type": "code",
   "execution_count": 14,
   "metadata": {},
   "outputs": [],
   "source": [
    "doc = nlp(sent)"
   ]
  },
  {
   "cell_type": "code",
   "execution_count": 15,
   "metadata": {},
   "outputs": [
    {
     "name": "stdout",
     "output_type": "stream",
     "text": [
      "We currently have 3 outdated desktop computers in our classroom that still run on Windows XP!\n",
      "We like to use reading websites, like Raz Kids, Starfall and News-O-Matic to practice our reading skills.\n",
      "It's difficult to make sure everyone gets a fair turn when there are 24 students sharing 3 computers.\n",
      "Most of them don't have access to technology at home either.\n",
      "\\r\\nThese new Kindle Fires will allow more students to have access to technology at the same time.\n",
      "Students will be able to read ebooks, as well as use other reading apps to practice reading on their own level.\n",
      "They can also use them for research for their writing, publishing their work, and learning how to use different types of  technology.\n",
      "It will encourage reluctant readers to practice reading more if they can have access to different kinds of books on technology.\n"
     ]
    }
   ],
   "source": [
    "for sent in doc.sents:\n",
    "    print(sent)"
   ]
  },
  {
   "cell_type": "code",
   "execution_count": 16,
   "metadata": {},
   "outputs": [],
   "source": [
    "from spacy import displacy"
   ]
  },
  {
   "cell_type": "code",
   "execution_count": 17,
   "metadata": {},
   "outputs": [
    {
     "data": {
      "text/html": [
       "<div class=\"entities\" style=\"line-height: 2.5\">We currently have \n",
       "<mark class=\"entity\" style=\"background: #e4e7d2; padding: 0.45em 0.6em; margin: 0 0.25em; line-height: 1; border-radius: 0.35em; box-decoration-break: clone; -webkit-box-decoration-break: clone\">\n",
       "    3\n",
       "    <span style=\"font-size: 0.8em; font-weight: bold; line-height: 1; border-radius: 0.35em; text-transform: uppercase; vertical-align: middle; margin-left: 0.5rem\">CARDINAL</span>\n",
       "</mark>\n",
       " outdated desktop computers in our classroom that still run on \n",
       "<mark class=\"entity\" style=\"background: #aa9cfc; padding: 0.45em 0.6em; margin: 0 0.25em; line-height: 1; border-radius: 0.35em; box-decoration-break: clone; -webkit-box-decoration-break: clone\">\n",
       "    Windows XP\n",
       "    <span style=\"font-size: 0.8em; font-weight: bold; line-height: 1; border-radius: 0.35em; text-transform: uppercase; vertical-align: middle; margin-left: 0.5rem\">PERSON</span>\n",
       "</mark>\n",
       "! We like to use reading websites, like \n",
       "<mark class=\"entity\" style=\"background: #aa9cfc; padding: 0.45em 0.6em; margin: 0 0.25em; line-height: 1; border-radius: 0.35em; box-decoration-break: clone; -webkit-box-decoration-break: clone\">\n",
       "    Raz Kids\n",
       "    <span style=\"font-size: 0.8em; font-weight: bold; line-height: 1; border-radius: 0.35em; text-transform: uppercase; vertical-align: middle; margin-left: 0.5rem\">PERSON</span>\n",
       "</mark>\n",
       ", \n",
       "<mark class=\"entity\" style=\"background: #aa9cfc; padding: 0.45em 0.6em; margin: 0 0.25em; line-height: 1; border-radius: 0.35em; box-decoration-break: clone; -webkit-box-decoration-break: clone\">\n",
       "    Starfall\n",
       "    <span style=\"font-size: 0.8em; font-weight: bold; line-height: 1; border-radius: 0.35em; text-transform: uppercase; vertical-align: middle; margin-left: 0.5rem\">PERSON</span>\n",
       "</mark>\n",
       " and News-O-Matic to practice our reading skills. It's difficult to make sure everyone gets a fair turn when there are \n",
       "<mark class=\"entity\" style=\"background: #e4e7d2; padding: 0.45em 0.6em; margin: 0 0.25em; line-height: 1; border-radius: 0.35em; box-decoration-break: clone; -webkit-box-decoration-break: clone\">\n",
       "    24\n",
       "    <span style=\"font-size: 0.8em; font-weight: bold; line-height: 1; border-radius: 0.35em; text-transform: uppercase; vertical-align: middle; margin-left: 0.5rem\">CARDINAL</span>\n",
       "</mark>\n",
       " students sharing \n",
       "<mark class=\"entity\" style=\"background: #e4e7d2; padding: 0.45em 0.6em; margin: 0 0.25em; line-height: 1; border-radius: 0.35em; box-decoration-break: clone; -webkit-box-decoration-break: clone\">\n",
       "    3\n",
       "    <span style=\"font-size: 0.8em; font-weight: bold; line-height: 1; border-radius: 0.35em; text-transform: uppercase; vertical-align: middle; margin-left: 0.5rem\">CARDINAL</span>\n",
       "</mark>\n",
       " computers. Most of them don't have access to technology at home either. \\r\\nThese new \n",
       "<mark class=\"entity\" style=\"background: #7aecec; padding: 0.45em 0.6em; margin: 0 0.25em; line-height: 1; border-radius: 0.35em; box-decoration-break: clone; -webkit-box-decoration-break: clone\">\n",
       "    Kindle Fires\n",
       "    <span style=\"font-size: 0.8em; font-weight: bold; line-height: 1; border-radius: 0.35em; text-transform: uppercase; vertical-align: middle; margin-left: 0.5rem\">ORG</span>\n",
       "</mark>\n",
       " will allow more students to have access to technology at the same time. Students will be able to read ebooks, as well as use other reading apps to practice reading on their own level. They can also use them for research for their writing, publishing their work, and learning how to use different types of \n",
       "<mark class=\"entity\" style=\"background: #c887fb; padding: 0.45em 0.6em; margin: 0 0.25em; line-height: 1; border-radius: 0.35em; box-decoration-break: clone; -webkit-box-decoration-break: clone\">\n",
       "     \n",
       "    <span style=\"font-size: 0.8em; font-weight: bold; line-height: 1; border-radius: 0.35em; text-transform: uppercase; vertical-align: middle; margin-left: 0.5rem\">NORP</span>\n",
       "</mark>\n",
       "technology. It will encourage reluctant readers to practice reading more if they can have access to different kinds of books on technology.</div>"
      ],
      "text/plain": [
       "<IPython.core.display.HTML object>"
      ]
     },
     "metadata": {},
     "output_type": "display_data"
    }
   ],
   "source": [
    "displacy.render(doc, style = 'ent', jupyter = True)"
   ]
  },
  {
   "cell_type": "code",
   "execution_count": 18,
   "metadata": {},
   "outputs": [],
   "source": [
    "from textblob import TextBlob"
   ]
  },
  {
   "cell_type": "code",
   "execution_count": 19,
   "metadata": {},
   "outputs": [],
   "source": [
    "text = ny.project_essay_2[10]"
   ]
  },
  {
   "cell_type": "code",
   "execution_count": 20,
   "metadata": {},
   "outputs": [],
   "source": [
    "blob = TextBlob(text)"
   ]
  },
  {
   "cell_type": "code",
   "execution_count": 21,
   "metadata": {},
   "outputs": [
    {
     "data": {
      "text/plain": [
       "[('We', 'PRP'),\n",
       " ('are', 'VBP'),\n",
       " ('looking', 'VBG'),\n",
       " ('to', 'TO'),\n",
       " ('add', 'VB')]"
      ]
     },
     "execution_count": 21,
     "metadata": {},
     "output_type": "execute_result"
    }
   ],
   "source": [
    "blob.tags[:5]"
   ]
  },
  {
   "cell_type": "code",
   "execution_count": 22,
   "metadata": {},
   "outputs": [
    {
     "data": {
      "text/plain": [
       "'We'"
      ]
     },
     "execution_count": 22,
     "metadata": {},
     "output_type": "execute_result"
    }
   ],
   "source": [
    "blob.tags[0][0]"
   ]
  },
  {
   "cell_type": "code",
   "execution_count": 23,
   "metadata": {},
   "outputs": [
    {
     "data": {
      "text/plain": [
       "'PRP'"
      ]
     },
     "execution_count": 23,
     "metadata": {},
     "output_type": "execute_result"
    }
   ],
   "source": [
    "blob.tags[0][1]"
   ]
  },
  {
   "cell_type": "code",
   "execution_count": 24,
   "metadata": {},
   "outputs": [
    {
     "name": "stdout",
     "output_type": "stream",
     "text": [
      "0.0 We are loo\n",
      "0.0 But, we ar\n",
      "0.7 We believe\n",
      "0.0 \\r\\n\\r\\nA \n",
      "0.0 For exampl\n",
      "0.5 More stude\n",
      "0.0 We could t\n",
      "0.3181818181818182 Our robot \n",
      "0.0 The possib\n",
      "0.0 Robotics c\n",
      "0.0 It allows \n",
      "0.08333333333333333 This will \n",
      "0.0 Thank you!\n"
     ]
    }
   ],
   "source": [
    "for sent in blob.sentences:\n",
    "    print(sent.sentiment.polarity, sent[:10])"
   ]
  },
  {
   "cell_type": "code",
   "execution_count": 25,
   "metadata": {},
   "outputs": [
    {
     "data": {
      "text/plain": [
       "WordList(['We', 'are', 'looking', 'to', 'add', 'robotics', 'coding', 'and', 'programming', 'to', 'our', 'STEM', 'lab', 'in', 'a', 'rural', 'school', 'But', 'we', 'are', 'currently', 'lacking', 'the', 'technology', 'to', 'accomplish', 'this', 'with', 'our', 'students', 'We', 'believe', 'a', 'set', 'of', 'three', 'GoPiGo', 'Robot', 'Starter', 'Kits', 'and', 'Raspberry', 'Pi', 'computers', 'would', 'be', 'the', 'perfect', 'fit', 'to', 'introduce', 'hands-on', 'innovation', 'r\\\\n\\\\r\\\\nA', 'set', 'of', 'three', 'Raspberry', 'Pi', 'computers', 'to', 'program', 'three', 'GoPiGo', 'Robots', 'can', 'engage', 'a', 'variety', 'of', 'grade', 'levels', 'covering', 'a', 'variety', 'of', 'STEAM', 'topics', 'and', 'disciplines', 'For', 'example', 'younger', 'programmers', 'can', 'be', 'introduced', 'to', 'coding', 'by', 'moving', 'the', 'robots', 'through', 'a', 'maze', 'or', 'competing', 'in', 'a', 'robot', 'soccer', 'match', 'More', 'students', 'can', 'learn', 'about', 'planets', 'and', 'program', 'the', 'GoPiGo', 'to', 'explore', 'as', 'a', 'planetary', 'rover', 'We', 'could', 'transform', 'our', 'robots', 'to', 'become', 'reptiles', 'and', 'utilize', 'heat', 'sensors', 'to', 'explain', 'cold-blooded', 'tendencies', 'of', 'different', 'animal', 'species', 'Our', 'robot', 'platform', 'can', 'even', 'spark', 'a', 'new', 'innovative', 'invention', 'to', 'help', 'people', 'The', 'possibilities', 'to', 'engage', 'our', 'students', 'through', 'collaboration', 'are', 'endless', 'r\\\\n\\\\r\\\\nPlease', 'consider', 'helping', 'us', 'utilize', 'the', 'GoPiGo', 'robot', 'kits', 'as', 'a', 'medium', 'to', 'learn', 'STEM', 'content', 'Robotics', 'cultivates', 'creativity', 'and', 'provides', 'authenticity', 'to', 'a', 'curriculum', 'It', 'allows', 'ideas', 'to', 'become', 'reality', 'through', 'brainstorming', 'and', 'constructing', 'a', 'robot', 'or', 'program', 'This', 'will', 'prepare', 'our', 'students', 'to', 'become', 'highly-skilled', 'learners', 'that', 'will', 'contribute', 'to', 'a', 'vibrant', 'future', 'Thank', 'you'])"
      ]
     },
     "execution_count": 25,
     "metadata": {},
     "output_type": "execute_result"
    }
   ],
   "source": [
    "blob.words"
   ]
  },
  {
   "cell_type": "code",
   "execution_count": 26,
   "metadata": {},
   "outputs": [
    {
     "data": {
      "text/plain": [
       "2"
      ]
     },
     "execution_count": 26,
     "metadata": {},
     "output_type": "execute_result"
    }
   ],
   "source": [
    "blob.words.count('robotics')"
   ]
  },
  {
   "cell_type": "code",
   "execution_count": 27,
   "metadata": {},
   "outputs": [
    {
     "data": {
      "text/plain": [
       "2"
      ]
     },
     "execution_count": 27,
     "metadata": {},
     "output_type": "execute_result"
    }
   ],
   "source": [
    "blob.words.count('STEM')"
   ]
  },
  {
   "cell_type": "code",
   "execution_count": 28,
   "metadata": {},
   "outputs": [
    {
     "data": {
      "text/plain": [
       "1"
      ]
     },
     "execution_count": 28,
     "metadata": {},
     "output_type": "execute_result"
    }
   ],
   "source": [
    "blob.words.count('technology')"
   ]
  },
  {
   "cell_type": "code",
   "execution_count": 29,
   "metadata": {},
   "outputs": [
    {
     "data": {
      "text/plain": [
       "5"
      ]
     },
     "execution_count": 29,
     "metadata": {},
     "output_type": "execute_result"
    }
   ],
   "source": [
    "blob.words.count('robot')"
   ]
  },
  {
   "cell_type": "markdown",
   "metadata": {},
   "source": [
    "### Problem\n",
    "\n",
    "Add columns to our dataframe `ny_donors` that contain scores for sentiment and polarity of the `project_essay_1` and `project_essay_2`."
   ]
  },
  {
   "cell_type": "code",
   "execution_count": 31,
   "metadata": {},
   "outputs": [
    {
     "data": {
      "text/html": [
       "<div>\n",
       "<style scoped>\n",
       "    .dataframe tbody tr th:only-of-type {\n",
       "        vertical-align: middle;\n",
       "    }\n",
       "\n",
       "    .dataframe tbody tr th {\n",
       "        vertical-align: top;\n",
       "    }\n",
       "\n",
       "    .dataframe thead th {\n",
       "        text-align: right;\n",
       "    }\n",
       "</style>\n",
       "<table border=\"1\" class=\"dataframe\">\n",
       "  <thead>\n",
       "    <tr style=\"text-align: right;\">\n",
       "      <th></th>\n",
       "      <th>Unnamed: 0</th>\n",
       "      <th>id</th>\n",
       "      <th>teacher_id</th>\n",
       "      <th>teacher_prefix</th>\n",
       "      <th>school_state</th>\n",
       "      <th>project_submitted_datetime</th>\n",
       "      <th>project_grade_category</th>\n",
       "      <th>project_subject_categories</th>\n",
       "      <th>project_subject_subcategories</th>\n",
       "      <th>project_title</th>\n",
       "      <th>project_essay_1</th>\n",
       "      <th>project_essay_2</th>\n",
       "      <th>project_essay_3</th>\n",
       "      <th>project_essay_4</th>\n",
       "      <th>project_resource_summary</th>\n",
       "      <th>teacher_number_of_previously_posted_projects</th>\n",
       "      <th>project_is_approved</th>\n",
       "    </tr>\n",
       "  </thead>\n",
       "  <tbody>\n",
       "    <tr>\n",
       "      <th>0</th>\n",
       "      <td>13</td>\n",
       "      <td>p173555</td>\n",
       "      <td>9b7f355e34bc9ca5740779b69ee14d8e</td>\n",
       "      <td>Mrs.</td>\n",
       "      <td>NY</td>\n",
       "      <td>2016-11-15 22:13:39</td>\n",
       "      <td>Grades 3-5</td>\n",
       "      <td>Literacy &amp; Language</td>\n",
       "      <td>Literature &amp; Writing</td>\n",
       "      <td>Extra! Extra! Read all about it!!  We love to ...</td>\n",
       "      <td>Each day my fifth graders walk into our \\\"home...</td>\n",
       "      <td>My students have had a taste of good reading! ...</td>\n",
       "      <td>NaN</td>\n",
       "      <td>NaN</td>\n",
       "      <td>My students need good books, with life lessons...</td>\n",
       "      <td>5</td>\n",
       "      <td>0</td>\n",
       "    </tr>\n",
       "    <tr>\n",
       "      <th>1</th>\n",
       "      <td>21</td>\n",
       "      <td>p116615</td>\n",
       "      <td>b3593a375f2cf7fd4469b928ffac1c95</td>\n",
       "      <td>Mrs.</td>\n",
       "      <td>NY</td>\n",
       "      <td>2016-09-30 08:12:37</td>\n",
       "      <td>Grades PreK-2</td>\n",
       "      <td>Applied Learning, Music &amp; The Arts</td>\n",
       "      <td>Early Development, Performing Arts</td>\n",
       "      <td>Oral Language Development through the use of p...</td>\n",
       "      <td>Teaching kindergarten in a diverse district po...</td>\n",
       "      <td>Students don't often get the chance to 'play' ...</td>\n",
       "      <td>NaN</td>\n",
       "      <td>NaN</td>\n",
       "      <td>My students need the opportunity to develop or...</td>\n",
       "      <td>0</td>\n",
       "      <td>1</td>\n",
       "    </tr>\n",
       "    <tr>\n",
       "      <th>2</th>\n",
       "      <td>30</td>\n",
       "      <td>p081434</td>\n",
       "      <td>17563b7d138a9ca1e7308f0f480e7d09</td>\n",
       "      <td>Ms.</td>\n",
       "      <td>NY</td>\n",
       "      <td>2016-12-06 21:19:44</td>\n",
       "      <td>Grades PreK-2</td>\n",
       "      <td>Health &amp; Sports, Special Needs</td>\n",
       "      <td>Health &amp; Wellness, Special Needs</td>\n",
       "      <td>Seating Like a Boss- Our 21st Century Room</td>\n",
       "      <td>\\\"Great job buddy!\\\" is something I hear every...</td>\n",
       "      <td>In order to promote essential learning skills ...</td>\n",
       "      <td>NaN</td>\n",
       "      <td>NaN</td>\n",
       "      <td>My students need an opportunity to sit and wor...</td>\n",
       "      <td>9</td>\n",
       "      <td>0</td>\n",
       "    </tr>\n",
       "    <tr>\n",
       "      <th>3</th>\n",
       "      <td>32</td>\n",
       "      <td>p156550</td>\n",
       "      <td>a902ce7ebdce6f236873d6b443c3ca08</td>\n",
       "      <td>Ms.</td>\n",
       "      <td>NY</td>\n",
       "      <td>2017-03-30 20:05:08</td>\n",
       "      <td>Grades 9-12</td>\n",
       "      <td>Applied Learning, Special Needs</td>\n",
       "      <td>Other, Special Needs</td>\n",
       "      <td>Keeping Students Focused with Fun and Technology!</td>\n",
       "      <td>Attending a District 75 high school in Bronx, ...</td>\n",
       "      <td>With a classroom lacking technology, student i...</td>\n",
       "      <td>NaN</td>\n",
       "      <td>NaN</td>\n",
       "      <td>My students need a wider variety of Interactiv...</td>\n",
       "      <td>0</td>\n",
       "      <td>1</td>\n",
       "    </tr>\n",
       "    <tr>\n",
       "      <th>4</th>\n",
       "      <td>59</td>\n",
       "      <td>p186381</td>\n",
       "      <td>da67f09a612a32fa30c9c80bed7e6365</td>\n",
       "      <td>Mrs.</td>\n",
       "      <td>NY</td>\n",
       "      <td>2016-09-24 11:36:26</td>\n",
       "      <td>Grades PreK-2</td>\n",
       "      <td>Literacy &amp; Language</td>\n",
       "      <td>Literacy, Literature &amp; Writing</td>\n",
       "      <td>Listening &amp; Learning in First Grade</td>\n",
       "      <td>Who doesn't enjoy listening to a great story? ...</td>\n",
       "      <td>The Listening Center in the classroom is alway...</td>\n",
       "      <td>NaN</td>\n",
       "      <td>NaN</td>\n",
       "      <td>My students need wireless headphones to use in...</td>\n",
       "      <td>9</td>\n",
       "      <td>1</td>\n",
       "    </tr>\n",
       "  </tbody>\n",
       "</table>\n",
       "</div>"
      ],
      "text/plain": [
       "   Unnamed: 0       id                        teacher_id teacher_prefix  \\\n",
       "0          13  p173555  9b7f355e34bc9ca5740779b69ee14d8e           Mrs.   \n",
       "1          21  p116615  b3593a375f2cf7fd4469b928ffac1c95           Mrs.   \n",
       "2          30  p081434  17563b7d138a9ca1e7308f0f480e7d09            Ms.   \n",
       "3          32  p156550  a902ce7ebdce6f236873d6b443c3ca08            Ms.   \n",
       "4          59  p186381  da67f09a612a32fa30c9c80bed7e6365           Mrs.   \n",
       "\n",
       "  school_state project_submitted_datetime project_grade_category  \\\n",
       "0           NY        2016-11-15 22:13:39             Grades 3-5   \n",
       "1           NY        2016-09-30 08:12:37          Grades PreK-2   \n",
       "2           NY        2016-12-06 21:19:44          Grades PreK-2   \n",
       "3           NY        2017-03-30 20:05:08            Grades 9-12   \n",
       "4           NY        2016-09-24 11:36:26          Grades PreK-2   \n",
       "\n",
       "           project_subject_categories       project_subject_subcategories  \\\n",
       "0                 Literacy & Language                Literature & Writing   \n",
       "1  Applied Learning, Music & The Arts  Early Development, Performing Arts   \n",
       "2      Health & Sports, Special Needs    Health & Wellness, Special Needs   \n",
       "3     Applied Learning, Special Needs                Other, Special Needs   \n",
       "4                 Literacy & Language      Literacy, Literature & Writing   \n",
       "\n",
       "                                       project_title  \\\n",
       "0  Extra! Extra! Read all about it!!  We love to ...   \n",
       "1  Oral Language Development through the use of p...   \n",
       "2         Seating Like a Boss- Our 21st Century Room   \n",
       "3  Keeping Students Focused with Fun and Technology!   \n",
       "4                Listening & Learning in First Grade   \n",
       "\n",
       "                                     project_essay_1  \\\n",
       "0  Each day my fifth graders walk into our \\\"home...   \n",
       "1  Teaching kindergarten in a diverse district po...   \n",
       "2  \\\"Great job buddy!\\\" is something I hear every...   \n",
       "3  Attending a District 75 high school in Bronx, ...   \n",
       "4  Who doesn't enjoy listening to a great story? ...   \n",
       "\n",
       "                                     project_essay_2 project_essay_3  \\\n",
       "0  My students have had a taste of good reading! ...             NaN   \n",
       "1  Students don't often get the chance to 'play' ...             NaN   \n",
       "2  In order to promote essential learning skills ...             NaN   \n",
       "3  With a classroom lacking technology, student i...             NaN   \n",
       "4  The Listening Center in the classroom is alway...             NaN   \n",
       "\n",
       "  project_essay_4                           project_resource_summary  \\\n",
       "0             NaN  My students need good books, with life lessons...   \n",
       "1             NaN  My students need the opportunity to develop or...   \n",
       "2             NaN  My students need an opportunity to sit and wor...   \n",
       "3             NaN  My students need a wider variety of Interactiv...   \n",
       "4             NaN  My students need wireless headphones to use in...   \n",
       "\n",
       "   teacher_number_of_previously_posted_projects  project_is_approved  \n",
       "0                                             5                    0  \n",
       "1                                             0                    1  \n",
       "2                                             9                    0  \n",
       "3                                             0                    1  \n",
       "4                                             9                    1  "
      ]
     },
     "execution_count": 31,
     "metadata": {},
     "output_type": "execute_result"
    }
   ],
   "source": [
    "ny.head()"
   ]
  },
  {
   "cell_type": "code",
   "execution_count": 33,
   "metadata": {},
   "outputs": [],
   "source": [
    "ny['polarity_1'] = ny['project_essay_1'].apply(lambda essay: TextBlob(essay).sentiment.polarity)\n",
    "ny['subjectivity_1'] = ny['project_essay_1'].apply(lambda essay: TextBlob(essay).sentiment.subjectivity)\n",
    "ny['polarity_2'] = ny['project_essay_2'].apply(lambda essay: TextBlob(essay).sentiment.polarity)\n",
    "ny['subjectivity_2'] = ny['project_essay_2'].apply(lambda essay: TextBlob(essay).sentiment.subjectivity)\n",
    "\n",
    "\n",
    "\n"
   ]
  },
  {
   "cell_type": "code",
   "execution_count": 35,
   "metadata": {},
   "outputs": [
    {
     "data": {
      "text/html": [
       "<div>\n",
       "<style scoped>\n",
       "    .dataframe tbody tr th:only-of-type {\n",
       "        vertical-align: middle;\n",
       "    }\n",
       "\n",
       "    .dataframe tbody tr th {\n",
       "        vertical-align: top;\n",
       "    }\n",
       "\n",
       "    .dataframe thead th {\n",
       "        text-align: right;\n",
       "    }\n",
       "</style>\n",
       "<table border=\"1\" class=\"dataframe\">\n",
       "  <thead>\n",
       "    <tr style=\"text-align: right;\">\n",
       "      <th></th>\n",
       "      <th>polarity_1</th>\n",
       "      <th>subjectivity_1</th>\n",
       "      <th>polarity_2</th>\n",
       "      <th>subjectivity_2</th>\n",
       "    </tr>\n",
       "  </thead>\n",
       "  <tbody>\n",
       "    <tr>\n",
       "      <th>0</th>\n",
       "      <td>0.463889</td>\n",
       "      <td>0.686111</td>\n",
       "      <td>0.477778</td>\n",
       "      <td>0.597222</td>\n",
       "    </tr>\n",
       "    <tr>\n",
       "      <th>1</th>\n",
       "      <td>0.215783</td>\n",
       "      <td>0.411869</td>\n",
       "      <td>-0.142551</td>\n",
       "      <td>0.666035</td>\n",
       "    </tr>\n",
       "    <tr>\n",
       "      <th>2</th>\n",
       "      <td>0.332481</td>\n",
       "      <td>0.450631</td>\n",
       "      <td>0.227692</td>\n",
       "      <td>0.506923</td>\n",
       "    </tr>\n",
       "    <tr>\n",
       "      <th>3</th>\n",
       "      <td>0.287773</td>\n",
       "      <td>0.572455</td>\n",
       "      <td>0.206151</td>\n",
       "      <td>0.535119</td>\n",
       "    </tr>\n",
       "    <tr>\n",
       "      <th>4</th>\n",
       "      <td>0.430592</td>\n",
       "      <td>0.580014</td>\n",
       "      <td>0.113462</td>\n",
       "      <td>0.427564</td>\n",
       "    </tr>\n",
       "  </tbody>\n",
       "</table>\n",
       "</div>"
      ],
      "text/plain": [
       "   polarity_1  subjectivity_1  polarity_2  subjectivity_2\n",
       "0    0.463889        0.686111    0.477778        0.597222\n",
       "1    0.215783        0.411869   -0.142551        0.666035\n",
       "2    0.332481        0.450631    0.227692        0.506923\n",
       "3    0.287773        0.572455    0.206151        0.535119\n",
       "4    0.430592        0.580014    0.113462        0.427564"
      ]
     },
     "execution_count": 35,
     "metadata": {},
     "output_type": "execute_result"
    }
   ],
   "source": [
    "ny[['polarity_1','subjectivity_1','polarity_2','subjectivity_2']].head()"
   ]
  },
  {
   "cell_type": "code",
   "execution_count": null,
   "metadata": {},
   "outputs": [],
   "source": []
  },
  {
   "cell_type": "code",
   "execution_count": null,
   "metadata": {},
   "outputs": [],
   "source": []
  },
  {
   "cell_type": "markdown",
   "metadata": {},
   "source": [
    "### Topic Models\n",
    "\n",
    "Below, we explore two approaches to modeling topics with `scikitlearn`: NMF and LDA.  Before we can use these models, we have to preprocess our data.  Below, we do so for both a basic `CountVectorizer` and a `TfidfVectorizer`."
   ]
  },
  {
   "cell_type": "code",
   "execution_count": 36,
   "metadata": {},
   "outputs": [],
   "source": [
    "from sklearn.feature_extraction.text import CountVectorizer"
   ]
  },
  {
   "cell_type": "code",
   "execution_count": 37,
   "metadata": {},
   "outputs": [],
   "source": [
    "vect = CountVectorizer()"
   ]
  },
  {
   "cell_type": "code",
   "execution_count": 38,
   "metadata": {},
   "outputs": [],
   "source": [
    "X = vect.fit_transform(ny.project_essay_2)"
   ]
  },
  {
   "cell_type": "code",
   "execution_count": 39,
   "metadata": {},
   "outputs": [
    {
     "data": {
      "text/plain": [
       "<12157x20418 sparse matrix of type '<class 'numpy.int64'>'\n",
       "\twith 1056010 stored elements in Compressed Sparse Row format>"
      ]
     },
     "execution_count": 39,
     "metadata": {},
     "output_type": "execute_result"
    }
   ],
   "source": [
    "X"
   ]
  },
  {
   "cell_type": "code",
   "execution_count": 40,
   "metadata": {},
   "outputs": [],
   "source": [
    "X2 = X.toarray()"
   ]
  },
  {
   "cell_type": "code",
   "execution_count": 41,
   "metadata": {},
   "outputs": [],
   "source": [
    "names = vect.get_feature_names()\n",
    "words = pd.DataFrame(X2, columns=names)"
   ]
  },
  {
   "cell_type": "code",
   "execution_count": 42,
   "metadata": {},
   "outputs": [
    {
     "data": {
      "text/html": [
       "<div>\n",
       "<style scoped>\n",
       "    .dataframe tbody tr th:only-of-type {\n",
       "        vertical-align: middle;\n",
       "    }\n",
       "\n",
       "    .dataframe tbody tr th {\n",
       "        vertical-align: top;\n",
       "    }\n",
       "\n",
       "    .dataframe thead th {\n",
       "        text-align: right;\n",
       "    }\n",
       "</style>\n",
       "<table border=\"1\" class=\"dataframe\">\n",
       "  <thead>\n",
       "    <tr style=\"text-align: right;\">\n",
       "      <th></th>\n",
       "      <th>00</th>\n",
       "      <th>000</th>\n",
       "      <th>00am</th>\n",
       "      <th>00pm</th>\n",
       "      <th>021</th>\n",
       "      <th>04</th>\n",
       "      <th>05a</th>\n",
       "      <th>06</th>\n",
       "      <th>08</th>\n",
       "      <th>10</th>\n",
       "      <th>...</th>\n",
       "      <th>zoo</th>\n",
       "      <th>zoob</th>\n",
       "      <th>zoology</th>\n",
       "      <th>zoom</th>\n",
       "      <th>zooms</th>\n",
       "      <th>zooplankton</th>\n",
       "      <th>zoos</th>\n",
       "      <th>zucchini</th>\n",
       "      <th>zuma</th>\n",
       "      <th>zumba</th>\n",
       "    </tr>\n",
       "  </thead>\n",
       "  <tbody>\n",
       "    <tr>\n",
       "      <th>0</th>\n",
       "      <td>0</td>\n",
       "      <td>0</td>\n",
       "      <td>0</td>\n",
       "      <td>0</td>\n",
       "      <td>0</td>\n",
       "      <td>0</td>\n",
       "      <td>0</td>\n",
       "      <td>0</td>\n",
       "      <td>0</td>\n",
       "      <td>0</td>\n",
       "      <td>...</td>\n",
       "      <td>0</td>\n",
       "      <td>0</td>\n",
       "      <td>0</td>\n",
       "      <td>0</td>\n",
       "      <td>0</td>\n",
       "      <td>0</td>\n",
       "      <td>0</td>\n",
       "      <td>0</td>\n",
       "      <td>0</td>\n",
       "      <td>0</td>\n",
       "    </tr>\n",
       "    <tr>\n",
       "      <th>1</th>\n",
       "      <td>0</td>\n",
       "      <td>0</td>\n",
       "      <td>0</td>\n",
       "      <td>0</td>\n",
       "      <td>0</td>\n",
       "      <td>0</td>\n",
       "      <td>0</td>\n",
       "      <td>0</td>\n",
       "      <td>0</td>\n",
       "      <td>0</td>\n",
       "      <td>...</td>\n",
       "      <td>0</td>\n",
       "      <td>0</td>\n",
       "      <td>0</td>\n",
       "      <td>0</td>\n",
       "      <td>0</td>\n",
       "      <td>0</td>\n",
       "      <td>0</td>\n",
       "      <td>0</td>\n",
       "      <td>0</td>\n",
       "      <td>0</td>\n",
       "    </tr>\n",
       "    <tr>\n",
       "      <th>2</th>\n",
       "      <td>0</td>\n",
       "      <td>0</td>\n",
       "      <td>0</td>\n",
       "      <td>0</td>\n",
       "      <td>0</td>\n",
       "      <td>0</td>\n",
       "      <td>0</td>\n",
       "      <td>0</td>\n",
       "      <td>0</td>\n",
       "      <td>0</td>\n",
       "      <td>...</td>\n",
       "      <td>0</td>\n",
       "      <td>0</td>\n",
       "      <td>0</td>\n",
       "      <td>0</td>\n",
       "      <td>0</td>\n",
       "      <td>0</td>\n",
       "      <td>0</td>\n",
       "      <td>0</td>\n",
       "      <td>0</td>\n",
       "      <td>0</td>\n",
       "    </tr>\n",
       "    <tr>\n",
       "      <th>3</th>\n",
       "      <td>0</td>\n",
       "      <td>0</td>\n",
       "      <td>0</td>\n",
       "      <td>0</td>\n",
       "      <td>0</td>\n",
       "      <td>0</td>\n",
       "      <td>0</td>\n",
       "      <td>0</td>\n",
       "      <td>0</td>\n",
       "      <td>0</td>\n",
       "      <td>...</td>\n",
       "      <td>0</td>\n",
       "      <td>0</td>\n",
       "      <td>0</td>\n",
       "      <td>0</td>\n",
       "      <td>0</td>\n",
       "      <td>0</td>\n",
       "      <td>0</td>\n",
       "      <td>0</td>\n",
       "      <td>0</td>\n",
       "      <td>0</td>\n",
       "    </tr>\n",
       "    <tr>\n",
       "      <th>4</th>\n",
       "      <td>0</td>\n",
       "      <td>0</td>\n",
       "      <td>0</td>\n",
       "      <td>0</td>\n",
       "      <td>0</td>\n",
       "      <td>0</td>\n",
       "      <td>0</td>\n",
       "      <td>0</td>\n",
       "      <td>0</td>\n",
       "      <td>0</td>\n",
       "      <td>...</td>\n",
       "      <td>0</td>\n",
       "      <td>0</td>\n",
       "      <td>0</td>\n",
       "      <td>0</td>\n",
       "      <td>0</td>\n",
       "      <td>0</td>\n",
       "      <td>0</td>\n",
       "      <td>0</td>\n",
       "      <td>0</td>\n",
       "      <td>0</td>\n",
       "    </tr>\n",
       "  </tbody>\n",
       "</table>\n",
       "<p>5 rows × 20418 columns</p>\n",
       "</div>"
      ],
      "text/plain": [
       "   00  000  00am  00pm  021  04  05a  06  08  10  ...    zoo  zoob  zoology  \\\n",
       "0   0    0     0     0    0   0    0   0   0   0  ...      0     0        0   \n",
       "1   0    0     0     0    0   0    0   0   0   0  ...      0     0        0   \n",
       "2   0    0     0     0    0   0    0   0   0   0  ...      0     0        0   \n",
       "3   0    0     0     0    0   0    0   0   0   0  ...      0     0        0   \n",
       "4   0    0     0     0    0   0    0   0   0   0  ...      0     0        0   \n",
       "\n",
       "   zoom  zooms  zooplankton  zoos  zucchini  zuma  zumba  \n",
       "0     0      0            0     0         0     0      0  \n",
       "1     0      0            0     0         0     0      0  \n",
       "2     0      0            0     0         0     0      0  \n",
       "3     0      0            0     0         0     0      0  \n",
       "4     0      0            0     0         0     0      0  \n",
       "\n",
       "[5 rows x 20418 columns]"
      ]
     },
     "execution_count": 42,
     "metadata": {},
     "output_type": "execute_result"
    }
   ],
   "source": [
    "words.head()"
   ]
  },
  {
   "cell_type": "code",
   "execution_count": 43,
   "metadata": {},
   "outputs": [
    {
     "data": {
      "text/plain": [
       "0    12154\n",
       "1        2\n",
       "2        1\n",
       "Name: zumba, dtype: int64"
      ]
     },
     "execution_count": 43,
     "metadata": {},
     "output_type": "execute_result"
    }
   ],
   "source": [
    "words['zumba'].value_counts()"
   ]
  },
  {
   "cell_type": "code",
   "execution_count": 44,
   "metadata": {},
   "outputs": [],
   "source": [
    "vect = CountVectorizer(min_df = 15, stop_words = 'english')\n",
    "X = vect.fit_transform(ny.project_essay_2)\n",
    "X2 = X.toarray()\n",
    "names = vect.get_feature_names()\n",
    "words = pd.DataFrame(X2, columns=names)"
   ]
  },
  {
   "cell_type": "code",
   "execution_count": 45,
   "metadata": {},
   "outputs": [
    {
     "data": {
      "text/html": [
       "<div>\n",
       "<style scoped>\n",
       "    .dataframe tbody tr th:only-of-type {\n",
       "        vertical-align: middle;\n",
       "    }\n",
       "\n",
       "    .dataframe tbody tr th {\n",
       "        vertical-align: top;\n",
       "    }\n",
       "\n",
       "    .dataframe thead th {\n",
       "        text-align: right;\n",
       "    }\n",
       "</style>\n",
       "<table border=\"1\" class=\"dataframe\">\n",
       "  <thead>\n",
       "    <tr style=\"text-align: right;\">\n",
       "      <th></th>\n",
       "      <th>00</th>\n",
       "      <th>000</th>\n",
       "      <th>10</th>\n",
       "      <th>100</th>\n",
       "      <th>11</th>\n",
       "      <th>11th</th>\n",
       "      <th>12</th>\n",
       "      <th>13</th>\n",
       "      <th>14</th>\n",
       "      <th>15</th>\n",
       "      <th>...</th>\n",
       "      <th>yes</th>\n",
       "      <th>yoga</th>\n",
       "      <th>york</th>\n",
       "      <th>young</th>\n",
       "      <th>younger</th>\n",
       "      <th>youngest</th>\n",
       "      <th>youngsters</th>\n",
       "      <th>youth</th>\n",
       "      <th>yummy</th>\n",
       "      <th>zone</th>\n",
       "    </tr>\n",
       "  </thead>\n",
       "  <tbody>\n",
       "    <tr>\n",
       "      <th>0</th>\n",
       "      <td>0</td>\n",
       "      <td>0</td>\n",
       "      <td>0</td>\n",
       "      <td>0</td>\n",
       "      <td>0</td>\n",
       "      <td>0</td>\n",
       "      <td>0</td>\n",
       "      <td>0</td>\n",
       "      <td>0</td>\n",
       "      <td>0</td>\n",
       "      <td>...</td>\n",
       "      <td>0</td>\n",
       "      <td>0</td>\n",
       "      <td>0</td>\n",
       "      <td>0</td>\n",
       "      <td>0</td>\n",
       "      <td>0</td>\n",
       "      <td>0</td>\n",
       "      <td>0</td>\n",
       "      <td>0</td>\n",
       "      <td>0</td>\n",
       "    </tr>\n",
       "    <tr>\n",
       "      <th>1</th>\n",
       "      <td>0</td>\n",
       "      <td>0</td>\n",
       "      <td>0</td>\n",
       "      <td>0</td>\n",
       "      <td>0</td>\n",
       "      <td>0</td>\n",
       "      <td>0</td>\n",
       "      <td>0</td>\n",
       "      <td>0</td>\n",
       "      <td>0</td>\n",
       "      <td>...</td>\n",
       "      <td>0</td>\n",
       "      <td>0</td>\n",
       "      <td>0</td>\n",
       "      <td>0</td>\n",
       "      <td>0</td>\n",
       "      <td>0</td>\n",
       "      <td>0</td>\n",
       "      <td>0</td>\n",
       "      <td>0</td>\n",
       "      <td>0</td>\n",
       "    </tr>\n",
       "    <tr>\n",
       "      <th>2</th>\n",
       "      <td>0</td>\n",
       "      <td>0</td>\n",
       "      <td>0</td>\n",
       "      <td>0</td>\n",
       "      <td>0</td>\n",
       "      <td>0</td>\n",
       "      <td>0</td>\n",
       "      <td>0</td>\n",
       "      <td>0</td>\n",
       "      <td>0</td>\n",
       "      <td>...</td>\n",
       "      <td>0</td>\n",
       "      <td>1</td>\n",
       "      <td>0</td>\n",
       "      <td>0</td>\n",
       "      <td>0</td>\n",
       "      <td>0</td>\n",
       "      <td>0</td>\n",
       "      <td>0</td>\n",
       "      <td>0</td>\n",
       "      <td>0</td>\n",
       "    </tr>\n",
       "    <tr>\n",
       "      <th>3</th>\n",
       "      <td>0</td>\n",
       "      <td>0</td>\n",
       "      <td>0</td>\n",
       "      <td>0</td>\n",
       "      <td>0</td>\n",
       "      <td>0</td>\n",
       "      <td>0</td>\n",
       "      <td>0</td>\n",
       "      <td>0</td>\n",
       "      <td>0</td>\n",
       "      <td>...</td>\n",
       "      <td>0</td>\n",
       "      <td>0</td>\n",
       "      <td>0</td>\n",
       "      <td>0</td>\n",
       "      <td>0</td>\n",
       "      <td>0</td>\n",
       "      <td>0</td>\n",
       "      <td>0</td>\n",
       "      <td>0</td>\n",
       "      <td>0</td>\n",
       "    </tr>\n",
       "    <tr>\n",
       "      <th>4</th>\n",
       "      <td>0</td>\n",
       "      <td>0</td>\n",
       "      <td>0</td>\n",
       "      <td>0</td>\n",
       "      <td>0</td>\n",
       "      <td>0</td>\n",
       "      <td>0</td>\n",
       "      <td>0</td>\n",
       "      <td>0</td>\n",
       "      <td>0</td>\n",
       "      <td>...</td>\n",
       "      <td>0</td>\n",
       "      <td>0</td>\n",
       "      <td>0</td>\n",
       "      <td>0</td>\n",
       "      <td>0</td>\n",
       "      <td>0</td>\n",
       "      <td>0</td>\n",
       "      <td>0</td>\n",
       "      <td>0</td>\n",
       "      <td>0</td>\n",
       "    </tr>\n",
       "  </tbody>\n",
       "</table>\n",
       "<p>5 rows × 4175 columns</p>\n",
       "</div>"
      ],
      "text/plain": [
       "   00  000  10  100  11  11th  12  13  14  15  ...   yes  yoga  york  young  \\\n",
       "0   0    0   0    0   0     0   0   0   0   0  ...     0     0     0      0   \n",
       "1   0    0   0    0   0     0   0   0   0   0  ...     0     0     0      0   \n",
       "2   0    0   0    0   0     0   0   0   0   0  ...     0     1     0      0   \n",
       "3   0    0   0    0   0     0   0   0   0   0  ...     0     0     0      0   \n",
       "4   0    0   0    0   0     0   0   0   0   0  ...     0     0     0      0   \n",
       "\n",
       "   younger  youngest  youngsters  youth  yummy  zone  \n",
       "0        0         0           0      0      0     0  \n",
       "1        0         0           0      0      0     0  \n",
       "2        0         0           0      0      0     0  \n",
       "3        0         0           0      0      0     0  \n",
       "4        0         0           0      0      0     0  \n",
       "\n",
       "[5 rows x 4175 columns]"
      ]
     },
     "execution_count": 45,
     "metadata": {},
     "output_type": "execute_result"
    }
   ],
   "source": [
    "words.head()"
   ]
  },
  {
   "cell_type": "code",
   "execution_count": 46,
   "metadata": {},
   "outputs": [],
   "source": [
    "from sklearn.feature_extraction.text import TfidfTransformer"
   ]
  },
  {
   "cell_type": "code",
   "execution_count": 47,
   "metadata": {},
   "outputs": [
    {
     "data": {
      "text/plain": [
       "TfidfTransformer(norm='l2', smooth_idf=True, sublinear_tf=False, use_idf=True)"
      ]
     },
     "execution_count": 47,
     "metadata": {},
     "output_type": "execute_result"
    }
   ],
   "source": [
    "transformer = TfidfTransformer()\n",
    "transformer"
   ]
  },
  {
   "cell_type": "code",
   "execution_count": 48,
   "metadata": {},
   "outputs": [],
   "source": [
    "tfidf = transformer.fit_transform(words)"
   ]
  },
  {
   "cell_type": "code",
   "execution_count": 49,
   "metadata": {},
   "outputs": [
    {
     "data": {
      "text/plain": [
       "<12157x4175 sparse matrix of type '<class 'numpy.float64'>'\n",
       "\twith 608648 stored elements in Compressed Sparse Row format>"
      ]
     },
     "execution_count": 49,
     "metadata": {},
     "output_type": "execute_result"
    }
   ],
   "source": [
    "tfidf"
   ]
  },
  {
   "cell_type": "code",
   "execution_count": 50,
   "metadata": {},
   "outputs": [
    {
     "data": {
      "text/plain": [
       "array([[0.        , 0.        , 0.        , ..., 0.        , 0.        ,\n",
       "        0.        ],\n",
       "       [0.        , 0.        , 0.        , ..., 0.        , 0.        ,\n",
       "        0.        ],\n",
       "       [0.        , 0.        , 0.        , ..., 0.        , 0.        ,\n",
       "        0.        ],\n",
       "       ...,\n",
       "       [0.        , 0.        , 0.        , ..., 0.        , 0.        ,\n",
       "        0.        ],\n",
       "       [0.        , 0.        , 0.10751966, ..., 0.        , 0.        ,\n",
       "        0.        ],\n",
       "       [0.        , 0.        , 0.        , ..., 0.        , 0.        ,\n",
       "        0.        ]])"
      ]
     },
     "execution_count": 50,
     "metadata": {},
     "output_type": "execute_result"
    }
   ],
   "source": [
    "transformer.fit_transform(words[:10]).toarray()"
   ]
  },
  {
   "cell_type": "code",
   "execution_count": 51,
   "metadata": {},
   "outputs": [
    {
     "data": {
      "text/plain": [
       "Index(['00', '000', '10', '100', '11', '11th', '12', '13', '14', '15'], dtype='object')"
      ]
     },
     "execution_count": 51,
     "metadata": {},
     "output_type": "execute_result"
    }
   ],
   "source": [
    "words.columns[:10]"
   ]
  },
  {
   "cell_type": "code",
   "execution_count": 65,
   "metadata": {},
   "outputs": [
    {
     "name": "stderr",
     "output_type": "stream",
     "text": [
      "/Users/karenhao/Documents/anaconda3/lib/python3.6/site-packages/sklearn/decomposition/online_lda.py:536: DeprecationWarning: The default value for 'learning_method' will be changed from 'online' to 'batch' in the release 0.20. This warning was introduced in 0.18.\n",
      "  DeprecationWarning)\n"
     ]
    }
   ],
   "source": [
    "from sklearn.decomposition import NMF, LatentDirichletAllocation\n",
    "\n",
    "no_topic = 10\n",
    "\n",
    "nmf = NMF(n_components=no_topic).fit(tfidf) \n",
    "\n",
    "lda = LatentDirichletAllocation(n_components=5).fit(tfidf) "
   ]
  },
  {
   "cell_type": "code",
   "execution_count": 54,
   "metadata": {},
   "outputs": [],
   "source": [
    "def display_topics(model, feature_names, no_top_words): \n",
    "    for topic_idx, topic in enumerate(model.components_): \n",
    "        print (\"Topic %d:\" % (topic_idx) )\n",
    "        print( \" \".join([feature_names[i] \n",
    "                        for i in topic.argsort()[:-no_top_words - 1:-1]]) )"
   ]
  },
  {
   "cell_type": "code",
   "execution_count": 55,
   "metadata": {},
   "outputs": [
    {
     "name": "stdout",
     "output_type": "stream",
     "text": [
      "Topic 0:\n",
      "supplies need students paper year materials pencils classroom school help\n",
      "Topic 1:\n",
      "books reading read library book students readers level love classroom\n",
      "Topic 2:\n",
      "technology students access chromebooks use computer research computers classroom able\n",
      "Topic 3:\n",
      "seating students chairs sit classroom work sitting flexible stools comfortable\n",
      "Topic 4:\n",
      "math skills students learning games materials help fun centers practice\n",
      "Topic 5:\n",
      "school students healthy snacks day children play music equipment snack\n",
      "Topic 6:\n",
      "art create projects paint express creative artists students creativity arts\n",
      "Topic 7:\n",
      "printer print ink color work students classroom projects able pictures\n",
      "Topic 8:\n",
      "science stem students world hands explore learn learning kits life\n",
      "Topic 9:\n",
      "ipad ipads apps use technology students able classroom learning reading\n"
     ]
    }
   ],
   "source": [
    "no_top_words = 10\n",
    "\n",
    "display_topics(nmf, words.columns, no_top_words) "
   ]
  },
  {
   "cell_type": "code",
   "execution_count": 56,
   "metadata": {},
   "outputs": [
    {
     "name": "stdout",
     "output_type": "stream",
     "text": [
      "Topic 0:\n",
      "supplies school students paper need pencils healthy classroom snacks year\n",
      "Topic 1:\n",
      "students reading books learning help classroom use able school skills\n",
      "Topic 2:\n",
      "science plants garden calculators plant backpacks cycle labs scientists lab\n",
      "Topic 3:\n",
      "students chairs seating sit music sitting day comfortable movement physical\n",
      "Topic 4:\n",
      "water film bottles lighting french bottle determination sugar humans stream\n"
     ]
    }
   ],
   "source": [
    "display_topics(lda, words.columns, no_top_words) "
   ]
  },
  {
   "cell_type": "code",
   "execution_count": 57,
   "metadata": {},
   "outputs": [
    {
     "name": "stdout",
     "output_type": "stream",
     "text": [
      "(12157, 3827)\n"
     ]
    }
   ],
   "source": [
    "tf_vectorizer = CountVectorizer(strip_accents = 'unicode',\n",
    "                                stop_words = 'english',\n",
    "                                lowercase = True,\n",
    "                                token_pattern = r'\\b[a-zA-Z]{3,}\\b',\n",
    "                                max_df = 0.5, \n",
    "                                min_df = 10)\n",
    "dtm_tf = tf_vectorizer.fit_transform(ny.project_essay_1)\n",
    "print(dtm_tf.shape)"
   ]
  },
  {
   "cell_type": "code",
   "execution_count": 58,
   "metadata": {},
   "outputs": [
    {
     "name": "stdout",
     "output_type": "stream",
     "text": [
      "(12157, 3827)\n"
     ]
    }
   ],
   "source": [
    "from sklearn.feature_extraction.text import CountVectorizer, TfidfVectorizer\n",
    "tfidf_vectorizer = TfidfVectorizer(**tf_vectorizer.get_params())\n",
    "dtm_tfidf = tfidf_vectorizer.fit_transform(ny.project_essay_1)\n",
    "print(dtm_tfidf.shape)"
   ]
  },
  {
   "cell_type": "code",
   "execution_count": 60,
   "metadata": {},
   "outputs": [
    {
     "name": "stderr",
     "output_type": "stream",
     "text": [
      "/Users/karenhao/Documents/anaconda3/lib/python3.6/site-packages/sklearn/decomposition/online_lda.py:536: DeprecationWarning: The default value for 'learning_method' will be changed from 'online' to 'batch' in the release 0.20. This warning was introduced in 0.18.\n",
      "  DeprecationWarning)\n",
      "/Users/karenhao/Documents/anaconda3/lib/python3.6/site-packages/sklearn/decomposition/online_lda.py:536: DeprecationWarning: The default value for 'learning_method' will be changed from 'online' to 'batch' in the release 0.20. This warning was introduced in 0.18.\n",
      "  DeprecationWarning)\n"
     ]
    },
    {
     "data": {
      "text/plain": [
       "LatentDirichletAllocation(batch_size=128, doc_topic_prior=None,\n",
       "             evaluate_every=-1, learning_decay=0.7, learning_method=None,\n",
       "             learning_offset=10.0, max_doc_update_iter=100, max_iter=10,\n",
       "             mean_change_tol=0.001, n_components=20, n_jobs=1,\n",
       "             n_topics=None, perp_tol=0.1, random_state=0,\n",
       "             topic_word_prior=None, total_samples=1000000.0, verbose=0)"
      ]
     },
     "execution_count": 60,
     "metadata": {},
     "output_type": "execute_result"
    }
   ],
   "source": [
    "# for TF DTM# for T \n",
    "lda_tf = LatentDirichletAllocation(n_components=20, random_state=0)\n",
    "lda_tf.fit(dtm_tf)\n",
    "# for TFIDF DTM\n",
    "lda_tfidf = LatentDirichletAllocation(n_components=20, random_state=0)\n",
    "lda_tfidf.fit(dtm_tfidf)"
   ]
  },
  {
   "cell_type": "markdown",
   "metadata": {},
   "source": [
    "### Visualizing Topic Models"
   ]
  },
  {
   "cell_type": "code",
   "execution_count": 61,
   "metadata": {
    "scrolled": false
   },
   "outputs": [],
   "source": [
    "import pyLDAvis.sklearn\n",
    "pyLDAvis.enable_notebook()"
   ]
  },
  {
   "cell_type": "code",
   "execution_count": 62,
   "metadata": {},
   "outputs": [
    {
     "data": {
      "text/html": [
       "\n",
       "<link rel=\"stylesheet\" type=\"text/css\" href=\"https://cdn.rawgit.com/bmabey/pyLDAvis/files/ldavis.v1.0.0.css\">\n",
       "\n",
       "\n",
       "<div id=\"ldavis_el634851148826130643189966741\"></div>\n",
       "<script type=\"text/javascript\">\n",
       "\n",
       "var ldavis_el634851148826130643189966741_data = {\"mdsDat\": {\"Freq\": [67.91372910632327, 8.216426396513238, 4.351058314636362, 2.53800707114713, 2.067090454004768, 1.4531674913052854, 1.2020264655762256, 1.195760629075587, 1.1333522934987463, 1.0872169151908522, 1.071230919309963, 1.0017891983742406, 0.9989386183794746, 0.8991383007545471, 0.894613577437129, 0.8478398045798499, 0.8069984030737374, 0.8046920734362828, 0.7928663904484842, 0.7240575769348278], \"cluster\": [1, 1, 1, 1, 1, 1, 1, 1, 1, 1, 1, 1, 1, 1, 1, 1, 1, 1, 1, 1], \"topics\": [1, 2, 3, 4, 5, 6, 7, 8, 9, 10, 11, 12, 13, 14, 15, 16, 17, 18, 19, 20], \"x\": [-0.11177751866980729, -0.21152149802317569, -0.26650665935752876, -0.23254674052226726, -0.12510507924568015, 0.00041095349643043114, -0.027031333030747583, 0.04030723568213894, 0.04361996425905172, 0.06927485000476125, 0.06016825565168196, 0.017959240619080122, 0.0782851974780565, 0.1059885331610205, 0.07037961644479783, 0.10566795345029147, 0.1019064306028598, 0.10169713728916874, 0.09895793313559331, 0.07986552757427395], \"y\": [-0.03481694714613636, -0.07378568803739181, -0.14052029108506423, 0.3070499844602989, -0.06438138917780868, 0.002914001850730667, -0.05923291281977039, 0.05504948094605771, -0.02325932986103169, 0.022619879522433443, -0.010666774776491165, -0.0212487652523703, 0.0139399932202415, 0.0009512983443080417, 0.02951739411883894, 0.00617506702454979, -0.00047009842584329917, 5.1574981400463e-05, -0.002074706498666005, -0.0078117713882854675]}, \"tinfo\": {\"Category\": [\"Default\", \"Default\", \"Default\", \"Default\", \"Default\", \"Default\", \"Default\", \"Default\", \"Default\", \"Default\", \"Default\", \"Default\", \"Default\", \"Default\", \"Default\", \"Default\", \"Default\", \"Default\", \"Default\", \"Default\", \"Default\", \"Default\", \"Default\", \"Default\", \"Default\", \"Default\", \"Default\", \"Default\", \"Default\", \"Default\", \"Topic1\", \"Topic1\", \"Topic1\", \"Topic1\", \"Topic1\", \"Topic1\", \"Topic1\", \"Topic1\", \"Topic1\", \"Topic1\", \"Topic1\", \"Topic1\", \"Topic1\", \"Topic1\", \"Topic1\", \"Topic1\", \"Topic1\", \"Topic1\", \"Topic1\", \"Topic1\", \"Topic1\", \"Topic1\", \"Topic1\", \"Topic1\", \"Topic1\", \"Topic1\", \"Topic1\", \"Topic1\", \"Topic1\", \"Topic1\", \"Topic1\", \"Topic1\", \"Topic1\", \"Topic1\", \"Topic1\", \"Topic1\", \"Topic1\", \"Topic1\", \"Topic1\", \"Topic1\", \"Topic1\", \"Topic1\", \"Topic1\", \"Topic1\", \"Topic1\", \"Topic1\", \"Topic1\", \"Topic1\", \"Topic1\", \"Topic1\", \"Topic1\", \"Topic1\", \"Topic1\", \"Topic1\", \"Topic1\", \"Topic1\", \"Topic1\", \"Topic1\", \"Topic1\", \"Topic1\", \"Topic1\", \"Topic1\", \"Topic1\", \"Topic1\", \"Topic1\", \"Topic1\", \"Topic1\", \"Topic1\", \"Topic1\", \"Topic1\", \"Topic1\", \"Topic1\", \"Topic1\", \"Topic1\", \"Topic1\", \"Topic1\", \"Topic1\", \"Topic1\", \"Topic1\", \"Topic1\", \"Topic1\", \"Topic1\", \"Topic2\", \"Topic2\", \"Topic2\", \"Topic2\", \"Topic2\", \"Topic2\", \"Topic2\", \"Topic2\", \"Topic2\", \"Topic2\", \"Topic2\", \"Topic2\", \"Topic2\", \"Topic2\", \"Topic2\", \"Topic2\", \"Topic2\", \"Topic2\", \"Topic2\", \"Topic2\", \"Topic2\", \"Topic2\", \"Topic2\", \"Topic2\", \"Topic2\", \"Topic2\", \"Topic2\", \"Topic2\", \"Topic2\", \"Topic2\", \"Topic2\", \"Topic2\", \"Topic2\", \"Topic2\", \"Topic2\", \"Topic2\", \"Topic2\", \"Topic2\", \"Topic2\", \"Topic2\", \"Topic2\", \"Topic2\", \"Topic2\", \"Topic2\", \"Topic2\", \"Topic2\", \"Topic2\", \"Topic2\", \"Topic2\", \"Topic2\", \"Topic2\", \"Topic2\", \"Topic2\", \"Topic2\", \"Topic2\", \"Topic2\", \"Topic2\", \"Topic2\", \"Topic2\", \"Topic2\", \"Topic2\", \"Topic2\", \"Topic2\", \"Topic2\", \"Topic2\", \"Topic2\", \"Topic2\", \"Topic2\", \"Topic2\", \"Topic2\", \"Topic2\", \"Topic2\", \"Topic3\", \"Topic3\", \"Topic3\", \"Topic3\", \"Topic3\", \"Topic3\", \"Topic3\", \"Topic3\", \"Topic3\", \"Topic3\", \"Topic3\", \"Topic3\", \"Topic3\", \"Topic3\", \"Topic3\", \"Topic3\", \"Topic3\", \"Topic3\", \"Topic3\", \"Topic3\", \"Topic3\", \"Topic3\", \"Topic3\", \"Topic3\", \"Topic3\", \"Topic3\", \"Topic3\", \"Topic3\", \"Topic3\", \"Topic3\", \"Topic3\", \"Topic3\", \"Topic3\", \"Topic3\", \"Topic3\", \"Topic3\", \"Topic3\", \"Topic3\", \"Topic3\", \"Topic3\", \"Topic3\", \"Topic3\", \"Topic3\", \"Topic3\", \"Topic3\", \"Topic3\", \"Topic3\", \"Topic3\", \"Topic3\", \"Topic3\", \"Topic3\", \"Topic3\", \"Topic3\", \"Topic3\", \"Topic3\", \"Topic3\", \"Topic3\", \"Topic3\", \"Topic3\", \"Topic3\", \"Topic3\", \"Topic3\", \"Topic3\", \"Topic3\", \"Topic4\", \"Topic4\", \"Topic4\", \"Topic4\", \"Topic4\", \"Topic4\", \"Topic4\", \"Topic4\", \"Topic4\", \"Topic4\", \"Topic4\", \"Topic4\", \"Topic4\", \"Topic4\", \"Topic4\", \"Topic4\", \"Topic4\", \"Topic4\", \"Topic4\", \"Topic4\", \"Topic4\", \"Topic4\", \"Topic4\", \"Topic4\", \"Topic4\", \"Topic4\", \"Topic4\", \"Topic4\", \"Topic4\", \"Topic4\", \"Topic4\", \"Topic4\", \"Topic4\", \"Topic4\", \"Topic4\", \"Topic4\", \"Topic4\", \"Topic4\", \"Topic4\", \"Topic4\", \"Topic4\", \"Topic4\", \"Topic4\", \"Topic4\", \"Topic4\", \"Topic4\", \"Topic4\", \"Topic4\", \"Topic4\", \"Topic4\", \"Topic4\", \"Topic4\", \"Topic4\", \"Topic4\", \"Topic4\", \"Topic4\", \"Topic4\", \"Topic4\", \"Topic4\", \"Topic4\", \"Topic5\", \"Topic5\", \"Topic5\", \"Topic5\", \"Topic5\", \"Topic5\", \"Topic5\", \"Topic5\", \"Topic5\", \"Topic5\", \"Topic5\", \"Topic5\", \"Topic5\", \"Topic5\", \"Topic5\", \"Topic5\", \"Topic5\", \"Topic5\", \"Topic5\", \"Topic5\", \"Topic5\", \"Topic5\", \"Topic5\", \"Topic5\", \"Topic5\", \"Topic5\", \"Topic5\", \"Topic5\", \"Topic5\", \"Topic5\", \"Topic5\", \"Topic5\", \"Topic5\", \"Topic5\", \"Topic5\", \"Topic5\", \"Topic5\", \"Topic5\", \"Topic5\", \"Topic5\", \"Topic5\", \"Topic5\", \"Topic5\", \"Topic5\", \"Topic5\", \"Topic5\", \"Topic5\", \"Topic5\", \"Topic5\", \"Topic5\", \"Topic5\", \"Topic5\", \"Topic6\", \"Topic6\", \"Topic6\", \"Topic6\", \"Topic6\", \"Topic6\", \"Topic6\", \"Topic6\", \"Topic6\", \"Topic6\", \"Topic6\", \"Topic6\", \"Topic6\", \"Topic6\", \"Topic6\", \"Topic6\", \"Topic6\", \"Topic6\", \"Topic6\", \"Topic6\", \"Topic6\", \"Topic6\", \"Topic6\", \"Topic6\", \"Topic6\", \"Topic6\", \"Topic6\", \"Topic6\", \"Topic6\", \"Topic6\", \"Topic6\", \"Topic6\", \"Topic6\", \"Topic6\", \"Topic6\", \"Topic6\", \"Topic6\", \"Topic6\", \"Topic6\", \"Topic6\", \"Topic6\", \"Topic7\", \"Topic7\", \"Topic7\", \"Topic7\", \"Topic7\", \"Topic7\", \"Topic7\", \"Topic7\", \"Topic7\", \"Topic7\", \"Topic7\", \"Topic7\", \"Topic7\", \"Topic7\", \"Topic7\", \"Topic7\", \"Topic7\", \"Topic7\", \"Topic7\", \"Topic7\", \"Topic7\", \"Topic7\", \"Topic7\", \"Topic7\", \"Topic7\", \"Topic7\", \"Topic7\", \"Topic7\", \"Topic7\", \"Topic7\", \"Topic7\", \"Topic7\", \"Topic7\", \"Topic7\", \"Topic7\", \"Topic7\", \"Topic7\", \"Topic7\", \"Topic7\", \"Topic7\", \"Topic7\", \"Topic7\", \"Topic7\", \"Topic7\", \"Topic7\", \"Topic7\", \"Topic7\", \"Topic8\", \"Topic8\", \"Topic8\", \"Topic8\", \"Topic8\", \"Topic8\", \"Topic8\", \"Topic8\", \"Topic8\", \"Topic8\", \"Topic8\", \"Topic8\", \"Topic8\", \"Topic8\", \"Topic8\", \"Topic8\", \"Topic8\", \"Topic8\", \"Topic8\", \"Topic8\", \"Topic8\", \"Topic8\", \"Topic8\", \"Topic8\", \"Topic8\", \"Topic8\", \"Topic8\", \"Topic8\", \"Topic8\", \"Topic8\", \"Topic8\", \"Topic8\", \"Topic8\", \"Topic8\", \"Topic8\", \"Topic8\", \"Topic8\", \"Topic8\", \"Topic8\", \"Topic8\", \"Topic8\", \"Topic8\", \"Topic8\", \"Topic8\", \"Topic8\", \"Topic8\", \"Topic8\", \"Topic8\", \"Topic8\", \"Topic9\", \"Topic9\", \"Topic9\", \"Topic9\", \"Topic9\", \"Topic9\", \"Topic9\", \"Topic9\", \"Topic9\", \"Topic9\", \"Topic9\", \"Topic9\", \"Topic9\", \"Topic9\", \"Topic9\", \"Topic9\", \"Topic9\", \"Topic9\", \"Topic9\", \"Topic9\", \"Topic9\", \"Topic9\", \"Topic9\", \"Topic9\", \"Topic9\", \"Topic9\", \"Topic9\", \"Topic9\", \"Topic9\", \"Topic9\", \"Topic9\", \"Topic9\", \"Topic9\", \"Topic9\", \"Topic9\", \"Topic9\", \"Topic9\", \"Topic9\", \"Topic9\", \"Topic9\", \"Topic9\", \"Topic9\", \"Topic9\", \"Topic9\", \"Topic9\", \"Topic9\", \"Topic9\", \"Topic9\", \"Topic9\", \"Topic9\", \"Topic9\", \"Topic10\", \"Topic10\", \"Topic10\", \"Topic10\", \"Topic10\", \"Topic10\", \"Topic10\", \"Topic10\", \"Topic10\", \"Topic10\", \"Topic10\", \"Topic10\", \"Topic10\", \"Topic10\", \"Topic10\", \"Topic10\", \"Topic10\", \"Topic10\", \"Topic10\", \"Topic10\", \"Topic10\", \"Topic10\", \"Topic10\", \"Topic10\", \"Topic10\", \"Topic10\", \"Topic10\", \"Topic10\", \"Topic10\", \"Topic10\", \"Topic10\", \"Topic10\", \"Topic10\", \"Topic10\", \"Topic10\", \"Topic10\", \"Topic10\", \"Topic10\", \"Topic10\", \"Topic10\", \"Topic10\", \"Topic10\", \"Topic10\", \"Topic10\", \"Topic11\", \"Topic11\", \"Topic11\", \"Topic11\", \"Topic11\", \"Topic11\", \"Topic11\", \"Topic11\", \"Topic11\", \"Topic11\", \"Topic11\", \"Topic11\", \"Topic11\", \"Topic11\", \"Topic11\", \"Topic11\", \"Topic11\", \"Topic11\", \"Topic11\", \"Topic11\", \"Topic11\", \"Topic11\", \"Topic11\", \"Topic11\", \"Topic11\", \"Topic11\", \"Topic11\", \"Topic11\", \"Topic11\", \"Topic11\", \"Topic11\", \"Topic11\", \"Topic11\", \"Topic11\", \"Topic11\", \"Topic11\", \"Topic11\", \"Topic11\", \"Topic11\", \"Topic11\", \"Topic11\", \"Topic11\", \"Topic11\", \"Topic11\", \"Topic12\", \"Topic12\", \"Topic12\", \"Topic12\", \"Topic12\", \"Topic12\", \"Topic12\", \"Topic12\", \"Topic12\", \"Topic12\", \"Topic12\", \"Topic12\", \"Topic12\", \"Topic12\", \"Topic12\", \"Topic12\", \"Topic12\", \"Topic12\", \"Topic12\", \"Topic12\", \"Topic12\", \"Topic12\", \"Topic12\", \"Topic12\", \"Topic12\", \"Topic12\", \"Topic12\", \"Topic12\", \"Topic12\", \"Topic12\", \"Topic12\", \"Topic12\", \"Topic12\", \"Topic12\", \"Topic12\", \"Topic12\", \"Topic12\", \"Topic12\", \"Topic12\", \"Topic12\", \"Topic12\", \"Topic12\", \"Topic12\", \"Topic12\", \"Topic12\", \"Topic12\", \"Topic12\", \"Topic13\", \"Topic13\", \"Topic13\", \"Topic13\", \"Topic13\", \"Topic13\", \"Topic13\", \"Topic13\", \"Topic13\", \"Topic13\", \"Topic13\", \"Topic13\", \"Topic13\", \"Topic13\", \"Topic13\", \"Topic13\", \"Topic13\", \"Topic13\", \"Topic13\", \"Topic13\", \"Topic13\", \"Topic13\", \"Topic13\", \"Topic13\", \"Topic13\", \"Topic13\", \"Topic13\", \"Topic13\", \"Topic13\", \"Topic13\", \"Topic13\", \"Topic13\", \"Topic13\", \"Topic13\", \"Topic13\", \"Topic13\", \"Topic13\", \"Topic13\", \"Topic13\", \"Topic14\", \"Topic14\", \"Topic14\", \"Topic14\", \"Topic14\", \"Topic14\", \"Topic14\", \"Topic14\", \"Topic14\", \"Topic14\", \"Topic14\", \"Topic14\", \"Topic14\", \"Topic14\", \"Topic14\", \"Topic14\", \"Topic14\", \"Topic14\", \"Topic14\", \"Topic14\", \"Topic14\", \"Topic14\", \"Topic14\", \"Topic14\", \"Topic14\", \"Topic14\", \"Topic14\", \"Topic14\", \"Topic14\", \"Topic14\", \"Topic14\", \"Topic14\", \"Topic14\", \"Topic14\", \"Topic14\", \"Topic14\", \"Topic15\", \"Topic15\", \"Topic15\", \"Topic15\", \"Topic15\", \"Topic15\", \"Topic15\", \"Topic15\", \"Topic15\", \"Topic15\", \"Topic15\", \"Topic15\", \"Topic15\", \"Topic15\", \"Topic15\", \"Topic15\", \"Topic15\", \"Topic15\", \"Topic15\", \"Topic15\", \"Topic15\", \"Topic15\", \"Topic15\", \"Topic15\", \"Topic15\", \"Topic15\", \"Topic15\", \"Topic15\", \"Topic15\", \"Topic15\", \"Topic15\", \"Topic15\", \"Topic15\", \"Topic15\", \"Topic15\", \"Topic15\", \"Topic16\", \"Topic16\", \"Topic16\", \"Topic16\", \"Topic16\", \"Topic16\", \"Topic16\", \"Topic16\", \"Topic16\", \"Topic16\", \"Topic16\", \"Topic16\", \"Topic16\", \"Topic16\", \"Topic16\", \"Topic16\", \"Topic16\", \"Topic16\", \"Topic16\", \"Topic16\", \"Topic16\", \"Topic16\", \"Topic16\", \"Topic16\", \"Topic16\", \"Topic16\", \"Topic16\", \"Topic16\", \"Topic16\", \"Topic16\", \"Topic16\", \"Topic16\", \"Topic16\", \"Topic17\", \"Topic17\", \"Topic17\", \"Topic17\", \"Topic17\", \"Topic17\", \"Topic17\", \"Topic17\", \"Topic17\", \"Topic17\", \"Topic17\", \"Topic17\", \"Topic17\", \"Topic17\", \"Topic17\", \"Topic17\", \"Topic17\", \"Topic17\", \"Topic17\", \"Topic17\", \"Topic17\", \"Topic17\", \"Topic17\", \"Topic17\", \"Topic17\", \"Topic17\", \"Topic17\", \"Topic17\", \"Topic17\", \"Topic17\", \"Topic17\", \"Topic17\", \"Topic17\", \"Topic17\", \"Topic17\", \"Topic17\", \"Topic17\", \"Topic17\", \"Topic17\", \"Topic17\", \"Topic18\", \"Topic18\", \"Topic18\", \"Topic18\", \"Topic18\", \"Topic18\", \"Topic18\", \"Topic18\", \"Topic18\", \"Topic18\", \"Topic18\", \"Topic18\", \"Topic18\", \"Topic18\", \"Topic18\", \"Topic18\", \"Topic18\", \"Topic18\", \"Topic18\", \"Topic18\", \"Topic18\", \"Topic18\", \"Topic18\", \"Topic18\", \"Topic18\", \"Topic18\", \"Topic18\", \"Topic18\", \"Topic18\", \"Topic18\", \"Topic18\", \"Topic18\", \"Topic19\", \"Topic19\", \"Topic19\", \"Topic19\", \"Topic19\", \"Topic19\", \"Topic19\", \"Topic19\", \"Topic19\", \"Topic19\", \"Topic19\", \"Topic19\", \"Topic19\", \"Topic19\", \"Topic19\", \"Topic19\", \"Topic19\", \"Topic19\", \"Topic19\", \"Topic19\", \"Topic19\", \"Topic19\", \"Topic19\", \"Topic19\", \"Topic19\", \"Topic19\", \"Topic19\", \"Topic19\", \"Topic19\", \"Topic19\", \"Topic19\", \"Topic19\", \"Topic19\", \"Topic19\", \"Topic19\", \"Topic19\", \"Topic19\", \"Topic19\", \"Topic19\", \"Topic19\", \"Topic19\", \"Topic19\", \"Topic19\", \"Topic19\", \"Topic19\", \"Topic20\", \"Topic20\", \"Topic20\", \"Topic20\", \"Topic20\", \"Topic20\", \"Topic20\", \"Topic20\", \"Topic20\", \"Topic20\", \"Topic20\", \"Topic20\", \"Topic20\", \"Topic20\", \"Topic20\", \"Topic20\", \"Topic20\", \"Topic20\", \"Topic20\", \"Topic20\", \"Topic20\", \"Topic20\", \"Topic20\", \"Topic20\", \"Topic20\", \"Topic20\", \"Topic20\", \"Topic20\", \"Topic20\", \"Topic20\", \"Topic20\", \"Topic20\", \"Topic20\", \"Topic20\", \"Topic20\", \"Topic20\", \"Topic20\", \"Topic20\", \"Topic20\", \"Topic20\", \"Topic20\", \"Topic20\", \"Topic20\", \"Topic20\", \"Topic20\", \"Topic20\", \"Topic20\", \"Topic20\", \"Topic20\", \"Topic20\", \"Topic20\", \"Topic20\", \"Topic20\", \"Topic20\", \"Topic20\", \"Topic20\", \"Topic20\", \"Topic20\", \"Topic20\", \"Topic20\"], \"Freq\": [361.0, 403.0, 199.0, 400.0, 336.0, 244.0, 231.0, 314.0, 243.0, 424.0, 201.0, 190.0, 280.0, 269.0, 248.0, 286.0, 183.0, 286.0, 161.0, 244.0, 139.0, 155.0, 171.0, 161.0, 136.0, 242.0, 181.0, 140.0, 212.0, 203.0, 98.3110769910237, 81.83776065925628, 60.27632823170476, 52.11807556106195, 50.439456391075325, 45.363556803318936, 44.86140087051297, 43.97635521517907, 72.0331135625662, 144.80438370101115, 40.9971358221196, 39.20198561714164, 38.92581188776026, 36.89223379804489, 37.52564102299266, 62.103170967090875, 35.72099929347743, 35.5947735079743, 35.557799705454485, 35.21766880527593, 84.52821820936174, 34.579717582795794, 34.20391422428428, 34.12789254281372, 33.93466882756665, 33.768105656402845, 33.707917402772395, 33.502419858363226, 33.4174347781552, 33.34200236234646, 89.28377088440038, 94.98118703211459, 171.13942666594227, 103.94720226194634, 140.96273447830947, 58.47840003748511, 48.65314456938012, 50.67881038537845, 84.24898105006636, 119.58913631676008, 92.00279045325249, 220.82046112974237, 170.66467776434595, 79.27364167599497, 78.00153464927836, 223.82643487287612, 106.22575636321444, 210.05032104953065, 104.44305907276367, 103.36349758294027, 215.85801257755224, 92.07188815020878, 111.42907236543111, 127.3212145910044, 114.74538256505345, 331.6872397892507, 284.83562308142956, 250.25597910501122, 157.56711814076849, 227.58771171477213, 219.34210971401964, 142.5515682966815, 296.0247915690077, 164.65996678077013, 161.26509313859452, 285.5209694118673, 206.45130666346256, 135.6706174860492, 171.99166294867302, 181.19073346353545, 183.59243650887538, 203.81036632538883, 217.5272669209527, 185.31772208151833, 176.33875245313803, 199.1581348095009, 152.82447987753883, 156.69273048741596, 205.29657978035175, 171.41369290887653, 164.51257473334675, 153.13129960371816, 19.566445731297367, 16.881367419942347, 12.613003971231254, 11.880640159925068, 11.673432765237324, 10.807731249805034, 10.47287238660059, 10.046253418948707, 9.902777747022212, 9.595751303409061, 9.559678610529986, 9.536276566737149, 9.164201079365297, 8.99458393053341, 8.901654173038546, 8.806058580032175, 8.729218235528455, 8.721020228628147, 8.634527907623026, 8.628944875437076, 8.565821826220862, 8.267272442516873, 8.171935635635007, 7.981837985543577, 7.852897194001913, 7.775602016337103, 7.760103333841365, 7.757124934028958, 9.650749510700026, 7.560987599945342, 10.906115739828804, 11.100657594683785, 14.450211495167203, 13.341572178742233, 17.68649449402462, 11.24479468720008, 9.71870183637567, 60.86279941049323, 24.30730518026814, 33.038512435842996, 28.690521995544167, 19.853927521887552, 22.88886415454992, 58.9845347297923, 44.65907059578436, 23.558376740609894, 15.821428104437135, 45.80628267707928, 28.788651890792043, 48.78880321901678, 36.57090461015256, 18.368256176324195, 18.04360587375533, 23.58583079102412, 28.516706700154543, 39.23810633565472, 29.01687967683806, 25.454175860283573, 31.523710790327094, 29.846353341192994, 32.76693251679699, 31.502675275067563, 25.721139457441975, 27.48429315189771, 26.663613117237446, 32.95070496404004, 26.4111453194565, 27.69059251701222, 25.267808458923984, 24.755986521900205, 24.5783007968006, 23.821272265153873, 21.91456645333686, 18.94350410123601, 17.941818712615763, 17.838457192745498, 15.221075532537052, 14.551237688211547, 13.415185771065437, 11.41442228920105, 18.745621215243446, 10.228137954563175, 9.695154505820177, 9.441698524559783, 8.897984514235675, 8.616456352641453, 8.432390968443553, 8.355935432922287, 8.31405002359585, 7.98184884752204, 7.8134908918199, 7.503221632123599, 7.198853404860898, 6.719859584506247, 6.674613640851394, 6.388602214150482, 6.193203065242503, 6.0588729549499165, 6.0204715242485385, 5.911516121810782, 5.818951899438701, 5.689938544966272, 26.21564979725417, 13.040547963454125, 14.494264220768102, 18.473159400795275, 50.36452371917792, 10.23304583906587, 44.314275043881835, 10.704779132210927, 21.455991591689312, 18.691155848023207, 12.706426272730555, 23.50191744194199, 18.69953963363741, 54.9777467609567, 22.979705327822806, 27.361776969203305, 12.734791458394497, 41.184032110007365, 38.69743992142423, 19.252073741138744, 13.06241373011931, 14.31491114578489, 33.11113209085524, 17.179778426909103, 27.246071227819368, 27.255136215677304, 21.56934537227383, 19.990338948767242, 17.539720144112568, 25.29224700116778, 24.394680123173323, 20.087994928833083, 20.04569968755567, 17.824221615271025, 21.436614646874556, 15.557082314675117, 8.53218093814525, 8.17513969474747, 6.8708094940749245, 6.805093385666588, 37.88508782943983, 6.2380754901314885, 5.933481898907204, 5.787546357131784, 34.14791295809749, 18.844985545668887, 5.260602434275374, 4.871977707669027, 19.939363949936865, 4.578179705995405, 4.492744333543929, 4.393095989691062, 4.390326701798658, 3.9809002178721937, 3.7582503309036452, 3.7238927926932157, 3.614279904278056, 3.6060057372772705, 3.5735537181376587, 14.159834393233487, 3.2713568595147247, 12.467525489043023, 3.2020492229626694, 3.1785535586851563, 41.64260052671777, 15.448969837356755, 47.51554830684048, 9.330933081060182, 17.431964694790246, 17.93007629647865, 7.112027620613611, 18.301468186161955, 70.33870902974287, 34.43342570926812, 8.803624155144748, 45.27772882082708, 43.8232142837429, 15.768853091630417, 27.47687372723716, 33.903440487984554, 18.855381867788264, 35.233461949099706, 31.533328153960174, 29.717717251966647, 33.31212558239366, 18.460825343747434, 26.057116866784188, 17.671724640407096, 26.26202953735443, 24.184137311660475, 22.75874897941996, 27.574429507589297, 16.93037353899382, 18.2787627104421, 14.903622360326755, 11.406388159127431, 10.959155713680635, 10.726413398997787, 28.001983140067473, 9.274929661662213, 12.69288080861353, 8.76002099211734, 7.279652824431256, 7.260414750365799, 6.889357658475687, 6.871936475860009, 15.009874280465404, 6.811801710334509, 6.426366182104434, 12.542382080803392, 6.185244374810691, 5.848213546442117, 5.792288009408844, 5.613708107766628, 5.467248699219781, 5.463683771101758, 5.398711502053717, 5.374644684354411, 15.752116428231552, 5.172770715213461, 5.16451187159413, 10.664639201406787, 5.124409358691061, 4.896596864534882, 11.201512161174245, 17.36587544043998, 8.878808450212352, 11.114539345216848, 15.493747566230601, 6.750298298257316, 13.279550115575661, 11.814465972900939, 6.926757448155591, 8.36140526532004, 7.024512944881242, 12.856283484134803, 8.233102917363823, 8.155639982582342, 11.19617118191859, 8.827846478812933, 9.134264553957602, 9.232615536915395, 8.272274534388027, 7.609240157571225, 7.702660281703863, 7.628985455157131, 14.48643026221037, 12.599201338058869, 11.831477722738489, 11.399502518163322, 11.163367048088197, 10.187300788288306, 8.820360257504431, 8.229071766745083, 7.364074053405194, 7.2759308306540005, 7.154362880270239, 7.0556927333945705, 6.732377247530181, 6.7039784545251, 6.516923744248186, 6.362849280336598, 10.87944893738253, 6.242283308106587, 6.175865731940828, 6.1508207685784155, 5.9575500725732, 5.9476822084567145, 5.9300370623277985, 5.925401701786114, 12.757606992643302, 5.677917623287151, 5.6745905766719, 5.664931356002873, 5.332792606314575, 5.28576459948992, 8.689344696560385, 7.928561839093086, 10.475722293070708, 10.401427978988522, 11.23975876244933, 7.436940339648171, 7.011492168329919, 8.973166453987158, 8.529179958845164, 8.87345515050561, 6.3481597826163, 11.198780944808203, 10.451497344031694, 9.710878510212703, 8.777375610943587, 8.353898577307284, 8.128363707076545, 7.614100860844276, 7.169059072114594, 6.410493466913486, 6.220580209377353, 5.873558058202423, 11.575657893216917, 11.398985978608193, 5.380875004740364, 5.0853867408189295, 4.99083414168254, 4.593349078598721, 4.329567800003398, 4.277644577192606, 4.250991693757592, 4.213479317242507, 4.117746008024364, 4.0339374813834965, 4.032680137963604, 3.9161313584763984, 3.7106071470100064, 3.6372218000724437, 3.386544792059957, 10.05281389640054, 8.707087588306903, 7.773794388215895, 23.518035999801928, 12.060424707761873, 7.94337530947974, 5.780304858403483, 8.732946630477786, 8.80596536761254, 7.854942442476616, 8.069646726203068, 8.14814633462, 7.9695072009332355, 6.666824224414945, 8.428058265071451, 6.525633030119693, 6.6653202963524905, 6.483643876635007, 5.9436470768492145, 12.031572263355471, 9.908655844037728, 9.709402435887542, 9.198960575113347, 7.4738019716869974, 7.321078494228608, 13.274804226500773, 7.095523916432599, 6.179238875678183, 6.049066455044001, 5.758015577330505, 5.488806029040109, 5.344543600618654, 5.163549446704862, 5.068392920708047, 4.804943105068274, 4.803082041107464, 4.706326610697582, 4.54936414477427, 4.185733598031108, 4.148644057766305, 4.137583580571194, 4.096201115123535, 4.082784632943815, 3.7129856931020577, 3.539761874625466, 3.5397618778080244, 3.5397618669798754, 3.5076910421927328, 3.434243635586393, 7.208059353862556, 5.142544879873431, 9.58140127479151, 4.096761703513337, 5.482579324805149, 10.8748536981231, 14.595490787035583, 8.126656922534988, 8.388981714767722, 7.452021339366022, 6.80861818836837, 5.54211349830271, 7.22606281516437, 8.232348789014551, 7.345786919854972, 5.266938474452608, 6.444921619129888, 6.068846574534636, 5.945882275001336, 16.875716394058543, 16.21644457436997, 8.131169588856967, 7.633518729276281, 7.253313181062553, 6.815905115622512, 6.736242153627907, 6.736242153487817, 6.294252357718939, 6.195957390683338, 5.459953456614532, 5.242790890457535, 5.212944134367055, 5.038045543331754, 4.991625261208796, 4.990677006449061, 4.846341395886141, 4.409176531640955, 4.164606702510434, 4.157840984642419, 3.9361827558649933, 6.69749396524149, 3.494607924514501, 3.258261006788232, 15.067209169332411, 3.0191112705045975, 6.1685497844278, 14.586500046846927, 15.496804674173942, 12.86523403623741, 13.690746018171584, 7.195326591875388, 21.47755215535009, 15.027092173746844, 11.038389464182584, 10.907694365399019, 17.23886164672194, 14.845290518891655, 9.871967120682521, 10.104771415912014, 10.129023352171238, 12.05464990071358, 9.380640710552507, 9.087412552944409, 10.500631727526722, 9.119627815489663, 8.108694045818229, 8.748953746358167, 7.8301756481981855, 7.182474291590983, 6.9369674581230045, 11.779415298724683, 11.573281296425689, 11.504961079365671, 9.590186624518545, 9.112349827737647, 7.787752828495289, 7.528956168185593, 7.452152559719409, 6.6973530499887755, 6.356731219260694, 6.2609994788786505, 6.232343471052895, 5.6745664849913195, 4.929656841652924, 4.4620314790563915, 4.429394274754114, 4.329033584601653, 3.7353876992777115, 3.575644461110203, 3.550317917036348, 3.3978051702317, 2.7542843427489845, 9.115593772493188, 5.158563804022509, 5.935253822095071, 5.286262363617584, 6.4380004570110465, 6.075575424413577, 6.041419500054009, 2.4935760908177573, 7.066262005665246, 10.001586720354926, 13.008017080492573, 9.032992389814252, 11.373260782376303, 9.692377752897393, 6.4047563762527515, 5.788278589304556, 6.126450574239149, 8.828477813751048, 9.069283991778203, 7.054843137627529, 7.380349430126437, 6.001371775227182, 18.542963477579775, 16.144669339318895, 13.965727477859076, 13.65655539103822, 12.078122182108624, 11.691372746087708, 8.915725154443766, 8.578407066582066, 7.672511313322619, 7.66482685541619, 7.6638150169438015, 7.089127500407719, 7.044793453566901, 5.757022756785775, 5.704142752531254, 5.687143121230946, 5.469818373288946, 14.471583974567844, 4.899314080018146, 4.766933219308802, 3.8419556160213593, 3.690891583571604, 5.324553836005432, 16.34912566587354, 5.561232854683277, 10.994217775869416, 10.852191188527753, 6.137134863864027, 4.940651484605228, 5.3526076274542485, 15.66628793063374, 11.400943054707447, 10.180563576144108, 11.568924307728905, 9.450809387471706, 10.41792333149063, 9.987912974786429, 8.426719510081115, 8.0769014785745, 7.868318285282628, 7.7016945874328115, 7.655326172868218, 6.386338506436923, 7.221311471733407, 14.589240943980123, 8.24548799522542, 7.281474933283677, 6.9349721548499925, 6.932455700214264, 5.396964144193869, 5.152421661198776, 5.051295311755107, 4.889741682715903, 4.018003367095948, 3.9790130221172335, 17.552397026289327, 2.99233461125205, 11.100586449700085, 2.8456099076394152, 3.4363955597882923, 3.937615332997777, 10.708758711633303, 5.628451692146977, 4.033837384313645, 3.8362355285017804, 2.160838693458168, 14.118995612254341, 4.269609633833152, 3.5067148486283517, 5.15620200092371, 11.568019564035312, 11.540358902556765, 5.024133581846172, 1.8946397688542147, 13.000222913466187, 8.331954049932403, 8.71563295215726, 10.610450771571974, 11.24553871333209, 7.865959197798511, 7.690138012050498, 11.415663116683413, 7.4557583871564015, 6.966509261355928, 6.143672485625061, 5.946465623983266, 5.5332357196233675, 5.466286592257314, 5.409995188451638, 5.310556794504601, 5.237969621008692, 16.065258715476062, 13.189725951200609, 11.023489475752813, 10.23192471450173, 7.589273236220974, 7.319026737065136, 6.714165417411162, 6.6442807602862874, 6.374589717707942, 6.345388001068503, 6.244742152318357, 6.239281689873071, 6.049981280933442, 5.918093541673832, 5.757509238927587, 5.560607424055403, 5.325207195079601, 4.830465306930775, 4.526394643857441, 6.350758218277407, 7.871486058575069, 5.840487468460611, 4.071059479746648, 5.264707166262035, 4.603976610152172, 4.996408069973085, 5.43691318007818, 2.855242925463509, 4.867867247965418, 4.606413652496675, 5.239429762728674, 5.234830595136396, 4.798553073233511, 5.809882254732513, 6.552898033537714, 5.742746713722876, 5.469140351957001, 5.260868380966882, 5.266133968592939, 16.21469773140759, 13.18717632109607, 12.550825735769813, 11.49200561357514, 8.367464534503634, 7.994918493506539, 7.679827476235719, 7.289768470658584, 7.014676479250385, 6.416070353236234, 5.965816364628993, 5.824834734229962, 5.572459407707327, 5.162261135555284, 5.147772564683053, 5.105562942786955, 5.054327946108946, 5.054327929108137, 4.756523698791347, 4.602437760241121, 4.227123001675059, 4.227122983302088, 4.22712297980245, 3.7945480413855948, 3.634943258535785, 3.118943947234474, 5.843131314573718, 4.479417689270561, 5.733786533741703, 5.997207255940507, 5.495072635832112, 8.705846417459075, 4.738779660093457, 5.3977799626440115, 4.32384272152112, 4.297162877098416, 13.68187874897317, 20.390216791702294, 10.010191771357537, 8.850882846233722, 8.204816909913637, 5.245131294555874, 9.482147564583459, 9.518215555201161, 9.34064445219988, 4.604507183438848, 9.157191685706875, 3.7385078523070807, 8.075912189936364, 7.9931776626944195, 4.173907182717997, 7.825144316527922, 4.2652111447894425, 7.6864600717060725, 7.300479537408042, 7.3720466738623855, 3.824565331448463, 6.795836537754115, 1.1591087836476746, 6.577984136153448, 6.0677733472209185, 5.979401636397459, 5.5126372518711, 5.470170677307379, 8.817000022079636, 5.462108669532978, 7.1561407611440435, 5.470148226829774, 5.1515570392681385, 5.126766110555774, 4.990171057964397, 4.855823330748126, 13.575159470042623, 13.515561514937753, 10.808887495196954, 10.494730054879861, 10.442942800605167, 9.809419800388808, 7.966445749645862, 6.519264571707531, 6.488046994364317, 5.995449837883099, 5.099968991010438, 4.425628831825427, 4.425292896864091, 8.23288320716017, 8.058948839105492, 4.844334708352353, 4.3183055442700695, 4.817027183244996, 4.887147354598382, 4.196371934684101, 5.773455870549763, 5.298601568753501, 4.822818332101851, 3.899498532870833, 6.456641170350135, 3.792036830948272, 2.541448812486798, 3.446259664496672, 3.2141042504374466, 1.2840560108421708, 4.325625678986786, 4.3706359687224685, 3.3199477407948943, 28.769716919824937, 13.021682661447667, 11.970923788147804, 9.878231670807436, 8.617343402537324, 6.886612487443491, 6.861652239113472, 6.4216377267933895, 6.019365581641044, 11.851250750361285, 5.079370393798549, 4.4428516053584035, 3.528999583987254, 5.749372729134982, 5.3669350640846, 3.9379703494905027, 3.9473948499863685, 2.3723561851896715, 3.4410566822419137, 5.531037277078225, 0.11126146244147941, 0.11126146279353367, 0.11126146309737275, 0.11126146298175806, 0.11126146381735887, 0.11126146398670703, 0.11126146338353105, 0.11126146349697891, 0.11126146277839384, 0.11126146358321162, 0.1116563533574088, 0.11126373920115713, 0.11126285060791863, 0.1112623370508626, 0.11126211145329251, 0.11126209586742952, 0.11126203144438503, 0.1112620103025652, 0.1112619237008957, 0.11126190447385934, 10.289694166547385, 8.960407258259426, 8.835245970051872, 8.813853254243686, 8.676780124118435, 8.05409418107316, 7.375486615460352, 7.224980254080147, 7.224980250138982, 7.208733466156103, 6.11095734245888, 6.020865868551392, 4.410552692718728, 6.796545887071253, 7.809188935681849, 6.789287814330658, 1.9695225092052424, 3.332831473038852, 3.0053581170053523, 1.827312552383094, 1.799070801497262, 1.680594246944517, 3.045588988176177, 1.5587362731069876, 3.169143054790381, 1.5584490744113695, 2.0038614373076578, 1.5367271747921285, 0.1128006983808585, 0.11280069893130233, 0.11281305540042613, 0.11281274258758256, 13.434474743183817, 11.669308694415825, 11.019541934770972, 8.956733776786985, 7.2506720681325065, 6.020045577394983, 9.099329088426813, 9.592081620136875, 9.050458263930555, 8.66070459116001, 8.989158776418831, 9.41754074496745, 9.983056561555552, 9.03808371062997, 7.923627925357402, 0.1120290455079052, 0.11202904509517096, 0.11202904509097529, 0.11202904571168727, 0.11202904632880539, 0.11202904522884806, 0.1120290463339226, 0.11202904617836965, 0.11202904604003594, 0.11202904576920131, 0.11202904517715476, 0.11202904543664527, 0.11202904562437802, 0.11202904676860874, 0.11202904528156873, 0.11203020699436375, 0.11202952473081905, 0.11202941016217256, 0.11202936372326733, 0.11202927781880156, 0.11202926819201584, 0.11202925580823436, 0.11202924744545986, 0.11202922203677768, 0.1120291976060094, 0.11202919263946799, 0.1120291784503544, 0.11202917294526285, 0.11202916952225817, 0.11202916891229811, 0.1353380389509755, 0.13533803786480397, 0.13533803799035155, 0.13533803764950872, 0.13533803903094332, 0.1353380370051518, 0.13533803719369353, 0.13533803851424414, 0.13533803919521767, 0.13533803802384708, 0.1353380382630734, 0.1353380382179286, 0.1353380380281375, 0.1353380373443218, 0.13533803810442255, 0.13533803874679504, 0.13533803774177436, 0.1353380387678109, 0.13533803798864863, 0.13533803717221024, 0.13533803866655233, 0.13533803834610192, 0.1353380380545171, 0.13533803774000688, 0.13533803773315595, 0.13533803859631063, 0.13533803832239763, 0.13533803723572208, 0.135338037797542, 0.13533803741573083, 0.13533813404025274, 0.13533811114776756, 0.13533809917263032, 0.13533809398473978, 0.13533809023038934, 0.13533808923566462, 0.13533808579415782, 0.135338080610571, 0.13533808016697252, 0.13533807875732862, 0.1353380769580552, 0.1353380758597537, 0.13533807471358833, 0.13533807437539447, 0.13533807420704727, 0.1353380739368632, 0.13533807329742495, 0.13533807319431415, 0.13533807204027554, 0.13533807185245095, 0.13533807090782893, 0.13533807089507088, 0.13533807026418945, 0.13533807002999665, 0.1353380692587305, 0.13533806869223874, 0.1353380685936348, 0.13533806827385783, 0.135338068138047, 0.13533806780255564], \"Term\": [\"come\", \"learn\", \"challenges\", \"classroom\", \"day\", \"english\", \"want\", \"new\", \"learners\", \"learning\", \"best\", \"low\", \"education\", \"children\", \"year\", \"work\", \"poverty\", \"grade\", \"families\", \"needs\", \"creative\", \"excited\", \"provide\", \"city\", \"experiences\", \"special\", \"technology\", \"kindergarten\", \"eager\", \"free\", \"small\", \"music\", \"schools\", \"spanish\", \"computer\", \"engage\", \"american\", \"providing\", \"college\", \"skills\", \"improve\", \"united\", \"states\", \"leaders\", \"concepts\", \"basic\", \"express\", \"stem\", \"sense\", \"studies\", \"access\", \"end\", \"research\", \"creativity\", \"addition\", \"growing\", \"background\", \"prepare\", \"overcome\", \"speaking\", \"opportunities\", \"succeed\", \"technology\", \"art\", \"student\", \"instruction\", \"age\", \"build\", \"variety\", \"science\", \"create\", \"help\", \"community\", \"tools\", \"success\", \"need\", \"math\", \"english\", \"just\", \"use\", \"language\", \"parents\", \"live\", \"backgrounds\", \"support\", \"learning\", \"come\", \"new\", \"reading\", \"work\", \"class\", \"world\", \"learn\", \"diverse\", \"different\", \"classroom\", \"children\", \"resources\", \"teach\", \"high\", \"learners\", \"education\", \"love\", \"year\", \"want\", \"grade\", \"make\", \"nmy\", \"day\", \"needs\", \"special\", \"eager\", \"learns\", \"isn\", \"adventure\", \"mistakes\", \"fund\", \"succeeds\", \"visit\", \"hunger\", \"structure\", \"adventures\", \"washington\", \"central\", \"thrilled\", \"poetry\", \"animals\", \"barely\", \"appreciative\", \"underprivileged\", \"basics\", \"acquired\", \"expressing\", \"continually\", \"respond\", \"aloud\", \"rug\", \"afraid\", \"got\", \"fabulous\", \"gift\", \"page\", \"easily\", \"moment\", \"watching\", \"singing\", \"favorite\", \"upcoming\", \"late\", \"day\", \"exciting\", \"wonderful\", \"energetic\", \"boys\", \"girls\", \"learn\", \"year\", \"old\", \"seeing\", \"love\", \"ready\", \"classroom\", \"eager\", \"ensure\", \"faces\", \"curious\", \"excited\", \"come\", \"group\", \"kindergarten\", \"children\", \"want\", \"new\", \"work\", \"amazing\", \"make\", \"hard\", \"learning\", \"best\", \"education\", \"poverty\", \"title\", \"grade\", \"teacher\", \"disorders\", \"disorder\", \"impairments\", \"tactile\", \"improvements\", \"occupational\", \"disturbance\", \"auditory\", \"verbal\", \"figuring\", \"impaired\", \"therapist\", \"wrong\", \"parental\", \"nice\", \"happiest\", \"staying\", \"praise\", \"online\", \"reads\", \"pocket\", \"nalmost\", \"restrictive\", \"syndrome\", \"quick\", \"affecting\", \"frustration\", \"input\", \"impairment\", \"dollars\", \"sensory\", \"array\", \"mixture\", \"adhd\", \"autism\", \"function\", \"speech\", \"passions\", \"therapy\", \"intervention\", \"cognitive\", \"spectrum\", \"delays\", \"disabilities\", \"services\", \"emotional\", \"severe\", \"needs\", \"special\", \"integrated\", \"intellectual\", \"behavior\", \"education\", \"including\", \"class\", \"grade\", \"academic\", \"general\", \"fourth\", \"classroom\", \"learning\", \"love\", \"learn\", \"environment\", \"certainly\", \"earliest\", \"spontaneous\", \"acquiring\", \"smartboard\", \"loud\", \"control\", \"socialization\", \"hinder\", \"roots\", \"simple\", \"hopeful\", \"vivacious\", \"ease\", \"minute\", \"virtually\", \"witty\", \"position\", \"presence\", \"spunky\", \"organizational\", \"mobility\", \"statement\", \"injury\", \"foundations\", \"ahead\", \"traumatic\", \"prevent\", \"solely\", \"upward\", \"meaningful\", \"raised\", \"faced\", \"memorable\", \"path\", \"excellence\", \"gone\", \"door\", \"challenges\", \"looking\", \"clever\", \"creative\", \"experiences\", \"status\", \"positive\", \"despite\", \"growth\", \"face\", \"district\", \"things\", \"provide\", \"inspire\", \"income\", \"focus\", \"low\", \"teacher\", \"poverty\", \"classroom\", \"continue\", \"high\", \"chairs\", \"gym\", \"clay\", \"excitable\", \"seating\", \"explosion\", \"exercise\", \"enrollments\", \"friend\", \"dozen\", \"balls\", \"mache\", \"minutes\", \"chair\", \"transform\", \"seats\", \"stools\", \"choosing\", \"fly\", \"nonfiction\", \"volleyball\", \"playground\", \"formation\", \"par\", \"flexible\", \"montessori\", \"einstein\", \"alternative\", \"absorbing\", \"unsafe\", \"overcrowded\", \"laughter\", \"nyou\", \"options\", \"sit\", \"simplest\", \"elementary\", \"long\", \"friendships\", \"hear\", \"sitting\", \"children\", \"appreciate\", \"movement\", \"work\", \"play\", \"hard\", \"grade\", \"child\", \"awesome\", \"physical\", \"learning\", \"standing\", \"carpet\", \"desk\", \"site\", \"floor\", \"successfully\", \"tone\", \"relationship\", \"twice\", \"source\", \"gathering\", \"understands\", \"empowers\", \"court\", \"station\", \"miracle\", \"seuss\", \"steer\", \"metamorphosis\", \"heads\", \"cooking\", \"memory\", \"zone\", \"recognized\", \"nwhen\", \"culinary\", \"fingertips\", \"arctic\", \"improved\", \"fits\", \"units\", \"shoes\", \"feet\", \"meeting\", \"choose\", \"brains\", \"quote\", \"morning\", \"technology\", \"day\", \"explore\", \"gangs\", \"discovering\", \"studio\", \"disadvantages\", \"nest\", \"overrun\", \"belonging\", \"kits\", \"spaces\", \"physics\", \"addressed\", \"pathologist\", \"sessions\", \"compliment\", \"response\", \"monetary\", \"calmer\", \"cabs\", \"insecurities\", \"wow\", \"sensitive\", \"selected\", \"creators\", \"exterior\", \"dna\", \"complain\", \"carefully\", \"patient\", \"pull\", \"gymnasium\", \"reasons\", \"speech\", \"works\", \"authentic\", \"sections\", \"delays\", \"therapy\", \"regular\", \"sixth\", \"hardships\", \"classes\", \"set\", \"education\", \"nwe\", \"city\", \"want\", \"goals\", \"prouder\", \"regards\", \"existent\", \"mountains\", \"adirondack\", \"brooklynite\", \"beings\", \"unfortunate\", \"grape\", \"arriving\", \"intelligences\", \"condition\", \"lies\", \"defy\", \"usa\", \"hooks\", \"poster\", \"cold\", \"lake\", \"capitalize\", \"admirable\", \"carrying\", \"journals\", \"species\", \"wildlife\", \"peril\", \"defying\", \"conservation\", \"tad\", \"gotten\", \"phenomenal\", \"supposed\", \"human\", \"exemplary\", \"impacts\", \"determination\", \"beautiful\", \"odds\", \"districts\", \"lifelong\", \"constant\", \"outdated\", \"poorest\", \"little\", \"better\", \"harder\", \"daily\", \"day\", \"work\", \"flowing\", \"charismatic\", \"mothers\", \"organizations\", \"occur\", \"popular\", \"fathers\", \"errands\", \"follows\", \"sample\", \"chromebook\", \"joys\", \"kindle\", \"innovation\", \"fuel\", \"obesity\", \"outcomes\", \"sparks\", \"teen\", \"flash\", \"stopping\", \"counselor\", \"facilitates\", \"dreaming\", \"alphabet\", \"eclipse\", \"select\", \"colorful\", \"digital\", \"numbers\", \"inviting\", \"photography\", \"passion\", \"remember\", \"nmost\", \"olds\", \"kindergarten\", \"excited\", \"bright\", \"speak\", \"room\", \"amazing\", \"hope\", \"place\", \"day\", \"learn\", \"like\", \"come\", \"families\", \"teacher\", \"english\", \"mom\", \"influence\", \"grandparent\", \"dad\", \"blossom\", \"abused\", \"bleak\", \"aunt\", \"bettering\", \"luxury\", \"dark\", \"suggestions\", \"cloud\", \"characteristics\", \"handicapped\", \"ordinary\", \"heroes\", \"devotion\", \"worse\", \"buses\", \"wholehearted\", \"treasures\", \"crowded\", \"translate\", \"portion\", \"begins\", \"endeavors\", \"outlook\", \"instead\", \"corners\", \"broken\", \"shelters\", \"lives\", \"chance\", \"homes\", \"hope\", \"homeless\", \"power\", \"line\", \"want\", \"come\", \"future\", \"poverty\", \"don\", \"perseverance\", \"lingual\", \"mono\", \"lastly\", \"magnet\", \"business\", \"embracing\", \"gross\", \"rainbow\", \"isolated\", \"polite\", \"junior\", \"developments\", \"routes\", \"prefer\", \"museum\", \"symbols\", \"latin\", \"europe\", \"courageous\", \"shopping\", \"handle\", \"geographic\", \"largest\", \"trains\", \"prek\", \"wanting\", \"servicing\", \"location\", \"contains\", \"america\", \"major\", \"huge\", \"fourth\", \"state\", \"city\", \"york\", \"lack\", \"old\", \"really\", \"classes\", \"program\", \"reside\", \"lunch\", \"expressed\", \"combine\", \"lego\", \"sum\", \"frustrating\", \"classics\", \"intensely\", \"pushes\", \"notoriously\", \"energize\", \"directing\", \"thoughtful\", \"keys\", \"collaboration\", \"kennedy\", \"john\", \"vision\", \"fully\", \"brilliant\", \"quiet\", \"physically\", \"libraries\", \"price\", \"inquiry\", \"thought\", \"nall\", \"girls\", \"qualify\", \"activity\", \"bodies\", \"play\", \"peers\", \"exciting\", \"reduced\", \"creative\", \"engaged\", \"knowledge\", \"learners\", \"lunch\", \"free\", \"needs\", \"special\", \"english\", \"teach\", \"eager\", \"language\", \"children\", \"enriching\", \"clip\", \"june\", \"resides\", \"disciplined\", \"mentally\", \"classmate\", \"treasure\", \"rewarded\", \"trade\", \"humanities\", \"bonded\", \"bins\", \"venues\", \"whopping\", \"teammates\", \"reached\", \"competent\", \"favor\", \"ups\", \"witness\", \"scholarship\", \"chart\", \"professional\", \"empowering\", \"neven\", \"exam\", \"algebra\", \"solid\", \"reward\", \"fulfilling\", \"empower\", \"developed\", \"warm\", \"goal\", \"place\", \"order\", \"strong\", \"majority\", \"races\", \"forever\", \"fundamental\", \"craving\", \"pens\", \"adolescents\", \"impulsive\", \"jazz\", \"goofy\", \"compare\", \"universities\", \"volunteer\", \"civic\", \"borders\", \"gusto\", \"citywide\", \"pacific\", \"islander\", \"oftentimes\", \"prizes\", \"fingerprints\", \"nuclear\", \"brick\", \"extends\", \"profit\", \"political\", \"optimal\", \"plentiful\", \"debate\", \"silly\", \"frustrated\", \"chance\", \"mixed\", \"meet\", \"funny\", \"consists\", \"deprived\", \"cool\", \"cope\", \"tenth\", \"geography\", \"interfere\", \"offered\", \"aren\", \"doesn\", \"remain\", \"eagerness\", \"mean\", \"curiosity\", \"exposed\", \"resilient\", \"neighborhoods\", \"willingness\", \"offer\", \"minds\", \"filled\", \"circumstances\", \"allow\", \"similar\", \"engaged\", \"ways\", \"little\", \"just\", \"hands\", \"best\", \"things\", \"low\", \"experiences\", \"materials\", \"amazing\", \"families\", \"world\", \"entrepreneurs\", \"questioners\", \"talkers\", \"decreased\", \"inspirations\", \"sake\", \"rewards\", \"travelers\", \"redirecting\", \"ambassadors\", \"poses\", \"criteria\", \"refuse\", \"dreamers\", \"mini\", \"budding\", \"demanding\", \"dealing\", \"similar\", \"stimulating\", \"behaviors\", \"crowded\", \"spent\", \"nearly\", \"thinkers\", \"scientists\", \"feet\", \"poor\", \"days\", \"breaks\", \"contained\", \"constantly\", \"circumstances\", \"guide\", \"discovered\", \"suffer\", \"uncommon\", \"bubbly\", \"folders\", \"operate\", \"efficient\", \"notebook\", \"magical\", \"percentages\", \"ensures\", \"superheroes\", \"capture\", \"magic\", \"imaginations\", \"happens\", \"surround\", \"fall\", \"books\", \"humanity\", \"nlast\", \"bridging\", \"ensuring\", \"producing\", \"relies\", \"japanese\", \"commit\", \"facilitator\", \"rank\", \"nmany\", \"academics\", \"opinions\", \"views\", \"year\", \"supplies\", \"home\", \"fantastic\", \"nalthough\", \"minute\", \"assigned\", \"thrown\", \"pregnancies\", \"freely\", \"bounce\", \"persevering\", \"luckiest\", \"sexual\", \"orientation\", \"tied\", \"flowers\", \"sat\", \"switch\", \"religion\", \"domestic\", \"mental\", \"setup\", \"stretch\", \"knows\", \"bands\", \"went\", \"tables\", \"allowing\", \"considering\", \"desks\", \"professional\", \"feet\", \"stand\", \"humanity\", \"nlast\", \"coming\", \"moving\", \"extraordinary\", \"indies\", \"descendants\", \"ntechnology\", \"partnership\", \"smoothly\", \"flatbush\", \"melting\", \"west\", \"pot\", \"enrich\", \"eighth\", \"includes\", \"cuts\", \"budget\", \"humanity\", \"nlast\", \"bridging\", \"ensuring\", \"producing\", \"relies\", \"japanese\", \"commit\", \"facilitator\", \"rank\", \"flow\", \"traits\", \"presenting\", \"peoples\", \"institutions\", \"funds\", \"nthere\", \"financially\", \"heart\", \"lot\", \"pre\", \"old\", \"brooklyn\", \"energetic\", \"area\", \"east\", \"receive\", \"children\", \"nthe\", \"poverty\", \"humanity\", \"nlast\", \"bridging\", \"ensuring\", \"producing\", \"relies\", \"japanese\", \"commit\", \"facilitator\", \"rank\", \"flow\", \"traits\", \"presenting\", \"peoples\", \"institutions\", \"bonus\", \"unfair\", \"nno\", \"solution\", \"broadway\", \"mott\", \"afternoon\", \"advances\", \"trial\", \"card\", \"tradition\", \"richly\", \"forgetting\", \"routinely\", \"yemeni\", \"communication\", \"resourceful\", \"training\", \"methods\", \"verbal\", \"amazing\", \"require\", \"non\", \"teach\", \"books\", \"opportunity\", \"yearning\", \"exactly\", \"actions\", \"savvy\", \"tech\", \"resource\", \"autistic\", \"imagination\", \"creativity\", \"type\", \"inspiration\", \"reside\", \"film\", \"challenges\", \"engagement\", \"learning\", \"sixth\", \"intelligent\", \"entire\"], \"Total\": [361.0, 403.0, 199.0, 400.0, 336.0, 244.0, 231.0, 314.0, 243.0, 424.0, 201.0, 190.0, 280.0, 269.0, 248.0, 286.0, 183.0, 286.0, 161.0, 244.0, 139.0, 155.0, 171.0, 161.0, 136.0, 242.0, 181.0, 140.0, 212.0, 203.0, 99.90419458328807, 83.42666321680693, 61.86550754352486, 53.70697815766985, 52.02835957862589, 46.952474202904966, 46.450304576772126, 45.56525833621423, 74.75673708238695, 150.2880725242071, 42.58661358570479, 40.79088791491427, 40.514714182435924, 38.481136169070105, 39.14219685645161, 64.81437871381314, 37.309933325460555, 37.183676163147815, 37.158064954209735, 36.80657469511821, 88.3434705801542, 36.16898745986402, 35.792817544961096, 35.71683410665199, 35.523571319183155, 35.357070926728845, 35.29682334356767, 35.09132225214134, 35.006337795588756, 34.93090576847282, 93.80879375974898, 99.8930448535079, 181.19541812244245, 109.93162858572987, 150.5151723585882, 61.676459387476775, 51.14524852505923, 53.4750746990516, 90.34520446736998, 129.97003584851814, 99.06226070236026, 247.40283665879397, 190.44673726473818, 85.6057416500759, 84.33212508867268, 256.3390530913331, 117.09287432412981, 244.08749308439948, 115.5130287106835, 114.44729532114162, 255.45909954969807, 101.21971635238135, 125.37446444285354, 145.34115004660575, 129.67564986341594, 424.38656612155836, 361.39406420797184, 314.17150115106807, 187.38682495202, 286.28663001222986, 275.26365814434513, 167.21727716813228, 403.07704733042175, 200.290128019029, 195.45147958751193, 400.72321221458935, 269.6251638611217, 160.13210612924243, 217.31673940624768, 237.95949387884127, 243.12807065479754, 280.0129508259522, 307.3154880971925, 248.00524280132177, 231.28106461753893, 286.53207808390414, 196.20682944328468, 205.0482848529832, 336.94010802333247, 244.95547612024853, 242.0288052529264, 212.64944161761997, 21.152963948102027, 18.467885734441662, 14.1995216665833, 13.467158029761782, 13.259957423860076, 12.394248935123032, 12.059390131081267, 11.632771522499176, 11.489295532041021, 11.182269116443498, 11.146196311737796, 11.122794288415541, 10.750718890518263, 10.581101611996708, 10.488171962972613, 10.392576263741898, 10.315735949563397, 10.307537944737104, 10.221045622882187, 10.215462819092735, 10.15233971591198, 9.853791036298563, 9.758453347017053, 9.568355959010983, 9.439414861324767, 9.362119693907268, 9.346621039804562, 9.343642670313761, 11.653032625470441, 9.147505301896425, 13.46808472532811, 13.971332977250377, 21.36073148106949, 19.598089882114003, 29.184985140840592, 15.606613348203535, 12.918463622441516, 336.94010802333247, 65.55976690796369, 118.42754183025164, 93.65260156229418, 49.06752394723654, 64.5402170188266, 403.07704733042175, 248.00524280132177, 71.30009602383431, 33.493605249227116, 307.3154880971925, 122.53943464290693, 400.72321221458935, 212.64944161761997, 46.4783768657692, 46.8770504709203, 91.57096393585404, 155.58245446541463, 361.39406420797184, 186.15195544902446, 140.47633197193062, 269.6251638611217, 231.28106461753893, 314.17150115106807, 286.28663001222986, 157.92814641867457, 196.20682944328468, 191.50962443475876, 424.38656612155836, 201.42721379276546, 280.0129508259522, 183.60655635838683, 167.5530152855943, 286.53207808390414, 205.2888714719886, 23.49841869997287, 20.527356620088664, 19.525671012208356, 19.422309399145952, 16.80495361902352, 16.135089895924168, 14.99903799273364, 12.998274847663579, 21.491498230901442, 11.811990128301797, 11.279006783179545, 11.02555087757462, 10.481836717876915, 10.20030893238334, 10.016243409308244, 9.939792130706167, 9.897926333669014, 9.565701330024615, 9.397343098257844, 9.087073890996352, 8.782705639070773, 8.30371175129243, 8.258465912306159, 7.972454386544938, 7.777055251433264, 7.642725155092417, 7.604323931304397, 7.495368374500979, 7.402804138840522, 7.273790719756003, 34.05173704177061, 16.916181342072317, 18.91983586717714, 25.550577928148773, 77.00789540160098, 13.568451119888106, 77.27747788986804, 14.566886250617591, 33.92239957031756, 29.563225422827056, 18.18597697864617, 40.74663499059801, 31.22852601531203, 146.35249212115954, 53.213964637364874, 74.17628728471641, 22.199998448989955, 244.95547612024853, 242.0288052529264, 56.45237812960848, 23.95336767860069, 30.135867232584598, 280.0129508259522, 52.25172471718005, 275.26365814434513, 286.53207808390414, 139.7704743006608, 104.79910122990424, 67.88079400152868, 400.72321221458935, 424.38656612155836, 307.3154880971925, 403.07704733042175, 136.18771780463038, 23.0146266750627, 17.135094280911257, 10.110192905875957, 9.753151911851228, 8.448821476143241, 8.38310548929509, 46.957301796632585, 7.816087512956041, 7.5114939333757205, 7.365558367951609, 43.698606881032596, 24.413558492772854, 6.838614437518684, 6.44998973449002, 26.568727982153163, 6.15619170087949, 6.070756342302952, 5.971107997245539, 5.968338687449117, 5.558912203056501, 5.336262336963671, 5.3019048057107, 5.19229189603675, 5.184017720347226, 5.151565703014189, 20.981462307769135, 4.849368837530329, 18.487934764988122, 4.780061207277844, 4.756565535172076, 66.28740751400815, 24.34760393877157, 79.272574868577, 14.749895992848774, 31.698391873570458, 33.53222017889308, 11.528390606071198, 37.516473890830525, 199.79972123387574, 82.86337923210453, 15.247950639458058, 139.57069963147526, 136.76268331365375, 37.03938386113578, 86.81849135762998, 120.05442871169092, 50.00479091264917, 152.38862088261104, 139.72908113924478, 135.3067910731526, 171.4796868678594, 57.04106582979642, 165.91703813153148, 67.31698317171065, 190.3061239126183, 205.2888714719886, 183.60655635838683, 400.72321221458935, 71.28321865118366, 237.95949387884127, 16.478817601447595, 12.981583493475876, 12.53435094996161, 12.301608638823529, 32.535609024514365, 10.850124901339145, 14.904778413176697, 10.335216206595753, 8.854848549646453, 8.83560997991464, 8.464552920085014, 8.447131712699937, 18.452395141876643, 8.3869974243811, 8.001561400661075, 15.684741924953784, 7.760439594416352, 7.423408785247758, 7.367483229656578, 7.1889033694602364, 7.042443967961707, 7.0388790035814175, 6.97390672757072, 6.949839907206394, 20.5178484581336, 6.747965958035705, 6.739707090773056, 13.928458451402243, 6.699604577781183, 6.471792119992908, 15.400008086166192, 27.049142336982936, 13.978643572833438, 19.062082663654177, 33.37195533631628, 11.061596210576944, 78.66168416496922, 68.51696234277297, 14.471654271525555, 33.05739422655044, 16.397541236944566, 269.6251638611217, 33.790838175999255, 33.61965971759243, 286.28663001222986, 89.73166565105754, 191.50962443475876, 286.53207808390414, 86.55143412936475, 35.3187750025003, 54.82510562978521, 424.38656612155836, 16.052563524019106, 14.165320363521404, 13.39759696962108, 12.965621571344478, 12.729486116629458, 11.75341987239058, 10.386479357183825, 9.7951908124284, 8.930193098711667, 8.842049873402686, 8.720481915372194, 8.621811815777138, 8.298496473691577, 8.270097518595973, 8.083042773426326, 7.928968309804145, 13.587437948908585, 7.808402339477839, 7.741984760204727, 7.7169398089048045, 7.523669105324354, 7.513801249654181, 7.496156139455321, 7.491520744352346, 16.13718606251972, 7.244036697032894, 7.240709676528501, 7.231050384467224, 6.898911687913985, 6.851883646231569, 11.701384842656276, 11.098302071261275, 16.370540245371366, 27.086662781477713, 36.81924172577951, 16.55307324511152, 15.105609596303514, 49.39823935841195, 181.19541812244245, 336.94010802333247, 84.82408901416687, 12.757059864154392, 12.009776260774553, 11.269157428525881, 10.335654558261206, 9.912177493155776, 9.686642620483102, 9.172379783050975, 8.727338200378458, 7.968772395855973, 7.77885912318043, 7.431836981988867, 14.861338013990627, 14.679267960197397, 6.939154298549669, 6.643665681090087, 6.549113101862793, 6.151627989572283, 5.8878467563579955, 5.8359234909116715, 5.80927064362676, 5.771758278162954, 5.676024960656637, 5.5922164136746995, 5.590959980216861, 5.4744102815173425, 5.268886162884325, 5.195500730126832, 4.944823714750201, 15.31508151385903, 13.381279669989711, 14.88105200971301, 77.27747788986804, 34.03834739009311, 18.404134480909867, 11.98020228750511, 31.22852601531203, 33.92239957031756, 28.369970311317545, 33.866199507663325, 44.63095738458512, 98.09195361041859, 48.039612226084806, 280.0129508259522, 68.59281904110449, 161.17098291474568, 231.28106461753893, 83.30662813629324, 13.590341026988202, 11.46742496428056, 11.268171219802651, 10.757729396208337, 9.03257073610313, 8.879847249663491, 16.1875497436078, 8.654294248137584, 7.738007646289804, 7.6078352315149775, 7.3167843343448755, 7.047574812683748, 6.903312384636329, 6.722318242038593, 6.627161685773073, 6.363711867266673, 6.361850847680815, 6.265095400564076, 6.108132906522964, 5.744502392180179, 5.707412873433382, 5.696352347108268, 5.654969940689362, 5.641553415163787, 5.271754457347512, 5.09853063611, 5.0985306407447295, 5.098530635385649, 5.066459809900573, 4.993012401911797, 10.648993241865746, 7.659093080215394, 15.746891912771092, 6.011123067279703, 9.239023067119849, 25.04461398683689, 45.20629485221476, 21.661373427313848, 23.483103979525715, 28.761303857957383, 25.203945645683426, 13.59918921716989, 45.037721336181434, 103.87681969743572, 93.16481036533109, 12.721607470227235, 113.20755641200915, 336.94010802333247, 286.28663001222986, 18.431553465511985, 17.772281682470062, 9.687006660785332, 9.189355862066348, 8.809150278563026, 8.371742240982957, 8.292079222912196, 8.292079224285787, 7.850089450220695, 7.751794475153434, 7.015790526474716, 6.798627968584269, 6.76878120918706, 6.5938826324313675, 6.547462338381803, 6.546514117343799, 6.402178493690809, 5.965014539531245, 5.7204437867753875, 5.713678055850402, 5.492019830034054, 9.662006124148885, 5.050445157777072, 4.8140981108927265, 22.785002654952624, 4.574948344178553, 9.376997207814483, 25.604823528655142, 27.86952485059332, 23.524764215490833, 27.038482019043524, 13.295229318872433, 55.63079237119722, 38.46075553069047, 28.315016842351454, 42.92813294493932, 140.47633197193062, 155.58245446541463, 66.03176654906831, 76.23501046513498, 81.08960603306393, 157.92814641867457, 72.2200634313335, 116.91617285552974, 336.94010802333247, 403.07704733042175, 129.99582461468137, 361.39406420797184, 161.47121333725957, 205.2888714719886, 244.08749308439948, 13.331493851808803, 13.12536411014265, 13.057039633995673, 11.142265176733462, 10.664428377496872, 9.339831410056062, 9.081034708405747, 9.004231110323598, 8.249431666199476, 7.908809963280088, 7.813078026039119, 7.784422079406173, 7.226645029785075, 6.481735400138894, 6.014110030700648, 5.981472869649471, 5.881112125757108, 5.287466243591699, 5.127723041994363, 5.102396505702693, 4.9498837128912125, 4.306362932098934, 15.862463259776831, 10.106390961356427, 12.647245096894899, 11.54778883665879, 14.641988019176146, 13.987937313112145, 16.786913460232764, 6.968795443350416, 21.002010026154313, 50.70591100878443, 118.91459191202777, 54.81740068963799, 101.26653837539801, 72.2200634313335, 27.621040134812308, 19.473334148137113, 26.126044387747914, 231.28106461753893, 361.39406420797184, 89.17329885658664, 183.60655635838683, 86.04796844813497, 20.09682039292151, 17.69852625172326, 15.519584383083227, 15.21041245647841, 13.631979183974117, 13.245229658534534, 10.469582083230756, 10.132263972004145, 9.22636823198317, 9.21868377221362, 9.217671941757768, 8.6429844511342, 8.598650355355455, 7.310879655921287, 7.257999671123544, 7.241000038062304, 7.023675352840467, 18.95827142333478, 6.453170991176775, 6.32079018122041, 5.3958125290826855, 5.244748488931829, 8.512292017940108, 26.15359377630722, 9.629531807700866, 23.119198330508365, 23.364084026826827, 13.219823830695749, 10.769361647904667, 11.717906603783778, 37.24901083540387, 28.656640897298246, 27.01179319965786, 67.88079400152868, 45.711977168017015, 161.17098291474568, 164.72824790856995, 74.62604022990011, 71.30009602383431, 74.8795534254003, 98.09195361041859, 106.82309957132472, 21.420074594710425, 187.9421537895059, 16.13686332391504, 9.793110415264268, 8.829097358104995, 8.48259454044733, 8.480078128821344, 6.944586534061267, 6.700044878903041, 6.598917701849358, 6.437364068179199, 5.565625744499697, 5.526635462062965, 32.64549499496619, 5.878453152889799, 23.491857442646825, 6.921489625227968, 9.13076185431036, 10.864725196416812, 30.162776055856384, 16.38943725943107, 12.106393043567383, 13.063315466263631, 7.575526907825953, 58.08139047735288, 20.623927834543675, 19.043680098508382, 28.373592637138017, 64.5402170188266, 66.83755530167997, 33.20566549369939, 12.893032925974191, 89.73166565105754, 58.679903775786286, 65.55976690796369, 102.80300762788742, 139.57069963147526, 75.89454211329934, 82.32594986382144, 243.12807065479754, 187.9421537895059, 203.13038462541573, 244.95547612024853, 242.0288052529264, 244.08749308439948, 217.31673940624768, 212.64944161761997, 255.45909954969807, 269.6251638611217, 17.61183595946517, 14.736303210241626, 12.570066716913361, 11.778501955378633, 9.135850468461268, 8.86560398226749, 8.260742686548213, 8.190858197677466, 7.921173528208642, 7.891965237397854, 7.791319420922458, 7.785858919661158, 7.596558597028884, 7.46467081325237, 7.304086469918779, 7.1071846592959345, 6.871784438285502, 6.377042575998645, 6.072971880996408, 8.651172238542184, 11.6133027529638, 9.206726170791727, 8.012829156710982, 11.179155555801959, 9.924644147717, 10.910623238909753, 12.8258145030855, 6.863781102259227, 11.936046654319485, 11.50124777688123, 13.106023937974813, 17.184678348305813, 13.294195109358846, 33.25259326271184, 95.0190805167836, 116.91617285552974, 88.5160443985382, 56.40007109886446, 79.43352035610056, 17.751047665829073, 14.723547127479819, 14.087175634762428, 13.028355512096516, 9.903814459901104, 9.531268487350214, 9.216177372726825, 8.826118412268423, 8.551026373641523, 7.952420250356624, 7.502166273827769, 7.361219979201852, 7.108809311567071, 6.698611035046049, 6.684122478907728, 6.641912848438541, 6.590677849279731, 6.5906778377262425, 6.292873603528165, 6.138787670392462, 5.763472905119019, 5.763472894678198, 5.763472890773249, 5.330898503807559, 5.17129316048806, 5.357132188128548, 10.355450219457678, 9.399036816541958, 12.598662048647011, 13.565760920199093, 14.71230422972288, 54.81740068963799, 19.839542679174784, 95.71409008851968, 36.36436959779502, 44.13359051190788, 15.216345711245655, 22.714123665844888, 11.544658098839054, 10.385349212756438, 9.739283239915917, 8.749977613794355, 19.591501195565893, 20.56531655562637, 25.675336945313575, 13.95405754995371, 28.661718273257925, 14.413837056523617, 36.76542198909588, 38.52485032063686, 20.904739526828486, 39.53277010190689, 22.396453129190714, 43.895048541982305, 53.228612637423474, 55.319260489603664, 31.71278125149269, 61.759142468076284, 12.561026392979063, 75.89454211329934, 94.33506422612729, 103.87681969743572, 115.5130287106835, 124.42517603181946, 201.42721379276546, 135.3067910731526, 190.3061239126183, 136.76268331365375, 157.02930005877053, 157.92814641867457, 161.47121333725957, 167.21727716813228, 15.103291278242207, 15.04369332612222, 12.33701930422011, 12.022861867510626, 11.971074636255208, 11.337551650141593, 9.49457754511481, 8.047396370576202, 8.016178816899195, 7.52358163577829, 6.628100821238785, 5.953760634751095, 5.953424717679663, 12.156998556341634, 12.437999399740933, 9.066981426414523, 9.089943125233578, 11.045879887718057, 12.561026392979063, 11.299923548177242, 15.896327379078576, 15.862463259776831, 15.75395358030268, 18.181638640045932, 34.36066307611014, 23.786866146664984, 16.370540245371366, 26.857474649229072, 25.298502152829112, 10.819390787002405, 40.36092886375959, 47.542514356347915, 31.71278125149269, 30.290397930247682, 14.542363662704073, 13.491604795628266, 11.398912666282769, 10.138024426377068, 8.40729348348036, 8.382333249560057, 7.942318731623185, 7.54004693459029, 15.15155772327345, 6.600051425110422, 5.963532610827373, 7.190535540024977, 12.05738457169744, 12.336066608103797, 14.095082531013581, 15.168190208573732, 9.270887373176178, 24.156088609438754, 120.1898501583253, 3.0456320051645465, 3.199822324092157, 3.2142093538840775, 3.218670762359505, 3.2339146163279695, 3.2444815277033503, 3.245717571991432, 3.2647169021640083, 3.2682432490236653, 3.272431641295404, 46.71657267202184, 31.17326227085621, 7.082189545678359, 8.110959056401944, 248.00524280132177, 133.25004906691095, 167.01347808165985, 19.876836218806158, 10.653025901928574, 26.568727982153163, 11.80883594092751, 10.479549170857736, 10.354388075944595, 10.332995018979444, 10.195921996177876, 9.57323613765085, 8.89462839742478, 8.744122072423316, 8.744122077090898, 8.727875248118762, 7.630104886133396, 7.540007652444214, 5.929694454581843, 9.646682198880033, 11.492471301112298, 15.801260215265254, 4.858883121116551, 8.652730214644862, 9.543586464462146, 5.961999570145683, 6.420350269553371, 6.317371728189455, 13.937723306546102, 7.67417688385977, 18.29805328464158, 11.179155555801959, 16.370540245371366, 14.177807738723434, 3.0456320051645465, 3.199822324092157, 96.51635360984504, 27.292410448014344, 14.954388178073406, 13.189222101517586, 12.539455343961063, 10.47664719669439, 8.770585494991353, 7.5399589900610975, 15.897349670411765, 17.961886935007072, 19.68473396363922, 20.560665881018323, 23.942280414009442, 27.610383712264117, 31.415991374186007, 28.454513918620275, 40.92725732378327, 3.0456320051645465, 3.199822324092157, 3.2142093538840775, 3.218670762359505, 3.2339146163279695, 3.2444815277033503, 3.245717571991432, 3.2647169021640083, 3.2682432490236653, 3.272431641295404, 3.280260322744463, 3.306241838984183, 3.3094716092101386, 3.3130879867191623, 3.31429077847934, 29.098322073262707, 14.15055567639182, 15.39965088617287, 40.00889287032975, 71.78354688836535, 86.31007324890452, 71.30009602383431, 82.90183927345927, 93.65260156229418, 122.84324848945363, 43.81181292946412, 156.99591052709593, 269.6251638611217, 70.62682220930718, 183.60655635838683, 3.0456320051645465, 3.199822324092157, 3.2142093538840775, 3.218670762359505, 3.2339146163279695, 3.2444815277033503, 3.245717571991432, 3.2647169021640083, 3.2682432490236653, 3.272431641295404, 3.280260322744463, 3.306241838984183, 3.3094716092101386, 3.3130879867191623, 3.31429077847934, 3.3144662020704536, 3.323987569953801, 3.3361469449915977, 3.3401569512211355, 3.340302486230859, 3.346072749029917, 3.351114152934853, 3.3542866969116747, 3.3666911385937435, 3.377701198432091, 3.382086425684658, 3.382435235346332, 3.383144497325123, 3.3975149690026214, 3.3982665677003854, 28.61888264431668, 3.857738896098511, 8.280720632997078, 11.34297429956637, 21.491498230901442, 157.92814641867457, 51.53089931354191, 34.88009437451668, 217.31673940624768, 120.1898501583253, 98.5892959767892, 6.87385332376826, 10.898836925737454, 9.106366429331292, 11.809126909481513, 11.055270878101151, 10.301746802081656, 11.834468939954064, 12.377407189507624, 35.71683410665199, 15.49846999451968, 13.777629452716662, 21.420074594710425, 5.498733503719174, 199.79972123387574, 18.01987106379995, 424.38656612155836, 33.866199507663325, 21.663606175761824, 24.364649333678035], \"loglift\": [30.0, 29.0, 28.0, 27.0, 26.0, 25.0, 24.0, 23.0, 22.0, 21.0, 20.0, 19.0, 18.0, 17.0, 16.0, 15.0, 14.0, 13.0, 12.0, 11.0, 10.0, 9.0, 8.0, 7.0, 6.0, 5.0, 4.0, 3.0, 2.0, 1.0, 0.3709, 0.3677, 0.3609, 0.3569, 0.3559, 0.3525, 0.3521, 0.3514, 0.3498, 0.3498, 0.3489, 0.3472, 0.3469, 0.3448, 0.3448, 0.3442, 0.3434, 0.3433, 0.3429, 0.3428, 0.3428, 0.342, 0.3415, 0.3414, 0.3412, 0.341, 0.3409, 0.3406, 0.3405, 0.3404, 0.3375, 0.3365, 0.3298, 0.331, 0.3214, 0.3337, 0.337, 0.3332, 0.3171, 0.3037, 0.313, 0.2733, 0.2773, 0.3101, 0.3089, 0.2513, 0.2895, 0.2368, 0.2862, 0.2851, 0.2185, 0.2922, 0.269, 0.2546, 0.2646, 0.1405, 0.1489, 0.1595, 0.2136, 0.1575, 0.1598, 0.2273, 0.0782, 0.191, 0.1947, 0.048, 0.12, 0.2212, 0.153, 0.1144, 0.1061, 0.0693, 0.0414, 0.0956, 0.1157, 0.0232, 0.1371, 0.118, -0.1085, 0.0299, 0.0009, 0.0586, 2.4211, 2.4092, 2.3806, 2.3737, 2.3716, 2.3621, 2.358, 2.3524, 2.3504, 2.346, 2.3455, 2.3451, 2.3394, 2.3366, 2.335, 2.3334, 2.332, 2.3319, 2.3304, 2.3303, 2.3291, 2.3235, 2.3216, 2.3177, 2.315, 2.3134, 2.313, 2.313, 2.3105, 2.3086, 2.288, 2.269, 2.1082, 2.1145, 1.9982, 2.1712, 2.2144, 0.7878, 1.5068, 1.2224, 1.316, 1.5942, 1.4624, 0.5772, 0.7846, 1.3916, 1.749, 0.5956, 1.0506, 0.3933, 0.7386, 1.5707, 1.5443, 1.1426, 0.8023, 0.2787, 0.6403, 0.7909, 0.3527, 0.4515, 0.2385, 0.2921, 0.6842, 0.5335, 0.5274, -0.0566, 0.4674, 0.1853, 0.5158, 0.5868, 0.043, 0.3452, 3.065, 3.0545, 3.0502, 3.0497, 3.0358, 3.0314, 3.0232, 3.0048, 2.9981, 2.9908, 2.9834, 2.9797, 2.9709, 2.966, 2.9626, 2.9612, 2.9604, 2.9537, 2.9502, 2.9432, 2.9359, 2.9231, 2.9218, 2.9133, 2.907, 2.9025, 2.9012, 2.8974, 2.894, 2.8892, 2.8732, 2.8745, 2.8683, 2.8104, 2.7101, 2.8526, 2.5787, 2.8267, 2.6767, 2.6763, 2.7762, 2.5845, 2.6219, 2.1557, 2.295, 2.1375, 2.579, 1.3517, 1.3015, 2.059, 2.5284, 2.3903, 0.9998, 2.0224, 0.8219, 0.7821, 1.266, 1.478, 1.7815, 0.372, 0.2785, 0.407, 0.1336, 1.1013, 3.6028, 3.5772, 3.5041, 3.4973, 3.467, 3.4652, 3.4591, 3.4483, 3.438, 3.4327, 3.4272, 3.4149, 3.4115, 3.3932, 3.3868, 3.3776, 3.3728, 3.3669, 3.3667, 3.3399, 3.3232, 3.3205, 3.3115, 3.3108, 3.3081, 3.2806, 3.2801, 3.2798, 3.2731, 3.2707, 3.2089, 3.2189, 3.162, 3.2159, 3.0758, 3.0478, 3.1908, 2.956, 2.6298, 2.7956, 3.1245, 2.548, 2.5357, 2.8198, 2.5233, 2.4094, 2.6985, 2.2094, 2.1851, 2.158, 2.0352, 2.5457, 1.8226, 2.3363, 1.6933, 1.5351, 1.5859, 0.9974, 2.2362, 1.1074, 3.7786, 3.7497, 3.7447, 3.742, 3.729, 3.7222, 3.7184, 3.7137, 3.6831, 3.6827, 3.6731, 3.6726, 3.6725, 3.671, 3.6598, 3.6555, 3.6522, 3.6405, 3.6385, 3.6317, 3.6258, 3.6257, 3.623, 3.622, 3.6147, 3.6132, 3.6128, 3.612, 3.611, 3.6001, 3.5607, 3.4359, 3.4252, 3.3396, 3.1117, 3.3851, 2.1001, 2.1213, 3.1422, 2.5044, 3.0313, 0.8358, 2.467, 2.4626, 0.6376, 1.5601, 0.8361, 0.4439, 1.5312, 2.344, 1.9164, -0.1397, 4.1288, 4.1143, 4.1071, 4.1027, 4.1001, 4.0884, 4.068, 4.0572, 4.0386, 4.0365, 4.0335, 4.031, 4.0223, 4.0215, 4.0161, 4.0114, 4.0092, 4.0076, 4.0054, 4.0046, 3.998, 3.9977, 3.9971, 3.9969, 3.9964, 3.9878, 3.9877, 3.9873, 3.9739, 3.9719, 3.9338, 3.8951, 3.785, 3.2743, 3.0449, 3.4313, 3.4639, 2.5257, 1.1753, 0.5946, 1.639, 4.2909, 4.2822, 4.2723, 4.2577, 4.2501, 4.2458, 4.235, 4.2245, 4.2036, 4.1976, 4.1858, 4.1713, 4.1682, 4.1668, 4.1539, 4.1494, 4.1291, 4.1137, 4.1105, 4.1089, 4.1065, 4.1002, 4.0945, 4.0944, 4.0862, 4.0705, 4.0646, 4.0426, 4.0002, 3.9914, 3.7718, 3.2315, 3.3836, 3.5809, 3.6924, 3.1469, 3.0725, 3.137, 2.9869, 2.7205, 1.9109, 2.4463, 0.9179, 2.0687, 1.2356, 0.8468, 1.781, 4.3046, 4.2803, 4.2775, 4.2699, 4.237, 4.2334, 4.228, 4.2278, 4.2014, 4.1971, 4.1868, 4.1764, 4.1705, 4.1626, 4.1582, 4.1454, 4.1453, 4.1403, 4.1318, 4.1098, 4.1074, 4.1067, 4.1039, 4.103, 4.0759, 4.0615, 4.0615, 4.0615, 4.0587, 4.0521, 4.0361, 4.028, 3.9296, 4.043, 3.9045, 3.5922, 3.2959, 3.446, 3.397, 3.0758, 3.1176, 3.5288, 2.5966, 1.8913, 1.8861, 3.5445, 1.5605, 0.4097, 0.5521, 4.3918, 4.3884, 4.3049, 4.2945, 4.2857, 4.2744, 4.2722, 4.2722, 4.2591, 4.256, 4.2293, 4.2201, 4.2188, 4.2109, 4.2087, 4.2086, 4.2016, 4.1778, 4.1626, 4.1621, 4.1469, 4.1135, 4.1117, 4.0896, 4.0664, 4.0644, 4.0612, 3.9173, 3.8931, 3.8765, 3.7994, 3.866, 3.5283, 3.5402, 3.538, 3.1099, 2.3821, 2.1305, 2.5796, 2.4592, 2.3998, 1.9073, 2.4389, 1.9254, 1.0115, 0.6913, 1.7054, 0.759, 1.4536, 1.1272, 0.9193, 4.3978, 4.3957, 4.395, 4.3715, 4.3643, 4.3398, 4.3341, 4.3324, 4.3131, 4.3031, 4.3001, 4.2992, 4.2798, 4.2478, 4.223, 4.2211, 4.2151, 4.1741, 4.161, 4.1589, 4.1453, 4.0746, 3.9676, 3.849, 3.765, 3.7402, 3.6999, 3.6876, 3.4996, 3.4938, 3.4323, 2.8983, 2.3087, 2.7184, 2.3351, 2.5132, 3.06, 3.3083, 3.0712, 1.2559, 0.8365, 1.9847, 1.3076, 1.8586, 4.4559, 4.4445, 4.4309, 4.4286, 4.4153, 4.4116, 4.3757, 4.3699, 4.3519, 4.3518, 4.3517, 4.3382, 4.337, 4.2974, 4.2955, 4.2948, 4.2863, 4.2663, 4.2609, 4.2542, 4.1967, 4.185, 4.0672, 4.0665, 3.9873, 3.7931, 3.7695, 3.769, 3.7572, 3.7528, 3.6702, 3.6147, 3.5606, 2.7669, 2.9601, 1.7974, 1.7334, 2.3553, 2.3585, 2.2833, 1.9919, 1.9006, 3.3262, 1.2773, 4.5026, 4.4314, 4.4107, 4.4019, 4.4019, 4.3513, 4.3407, 4.3361, 4.3284, 4.2776, 4.2748, 3.9829, 3.9281, 3.8537, 3.7145, 3.6262, 3.5884, 3.5678, 3.5346, 3.5044, 3.3781, 3.349, 3.1891, 3.0285, 2.9113, 2.8981, 2.8843, 2.847, 2.7149, 2.6857, 2.6715, 2.6514, 2.5855, 2.3324, 2.0848, 2.3366, 2.2326, 1.5448, 1.3762, 1.2306, 0.9177, 0.8971, 0.8166, 0.9206, 0.932, 0.73, 0.6623, 4.5143, 4.4954, 4.4749, 4.4655, 4.4208, 4.4145, 4.3989, 4.397, 4.389, 4.3881, 4.385, 4.3848, 4.3786, 4.3741, 4.3683, 4.3608, 4.3513, 4.3285, 4.3123, 4.2971, 4.2173, 4.1511, 3.9291, 3.8532, 3.8381, 3.8252, 3.748, 3.7291, 3.7093, 3.6912, 3.6894, 3.4175, 3.5872, 2.8617, 1.9321, 1.5927, 1.8222, 2.2341, 1.8926, 4.621, 4.6013, 4.596, 4.586, 4.5429, 4.5357, 4.5291, 4.5202, 4.5134, 4.4968, 4.4823, 4.4774, 4.468, 4.451, 4.4503, 4.4484, 4.4461, 4.4461, 4.4316, 4.4234, 4.4015, 4.4015, 4.4015, 4.3715, 4.359, 4.1706, 4.1392, 3.9704, 3.9243, 3.8952, 3.7267, 2.8715, 3.2796, 1.8361, 2.582, 2.3822, 4.6102, 4.6086, 4.5739, 4.5567, 4.5451, 4.2048, 3.9908, 3.9461, 3.7054, 3.6078, 3.5755, 3.367, 3.2009, 3.1438, 3.1054, 3.0967, 3.0581, 2.9742, 2.7299, 2.7011, 2.6013, 2.5096, 2.3336, 2.2709, 1.9727, 1.8616, 1.6742, 1.5921, 1.5878, 1.5068, 1.4359, 1.4976, 1.2994, 1.2889, 1.2397, 1.1774, 4.6636, 4.6631, 4.638, 4.6343, 4.6337, 4.6255, 4.5948, 4.5596, 4.5587, 4.5432, 4.5081, 4.4736, 4.4736, 4.3805, 4.3363, 4.1434, 4.0259, 3.9403, 3.8262, 3.7797, 3.7574, 3.6737, 3.5865, 3.2307, 3.0984, 2.934, 2.9075, 2.717, 2.707, 2.6389, 2.5369, 2.3835, 2.5135, 4.7681, 4.7092, 4.7, 4.6764, 4.6571, 4.6201, 4.6194, 4.6071, 4.5944, 4.5739, 4.5577, 4.5252, 4.1079, 4.079, 3.9873, 3.5444, 3.4735, 3.4566, 2.8708, 1.7409, 1.51, 1.4606, 1.4562, 1.4548, 1.45, 1.4468, 1.4464, 1.4406, 1.4395, 1.4382, -1.2168, -0.8158, 0.6662, 0.5305, -2.8897, -2.2685, -2.4943, -0.3658, 0.2579, -0.656, 4.6848, 4.6659, 4.6638, 4.6634, 4.6611, 4.6497, 4.6352, 4.6316, 4.6316, 4.6312, 4.6004, 4.5975, 4.5265, 4.4723, 4.4361, 3.9777, 3.9194, 3.8684, 3.667, 3.6399, 3.5503, 3.4983, 3.3016, 3.2285, 3.0691, 2.8521, 2.7221, 2.6004, 1.5266, 1.4772, -1.9293, -0.6662, 4.7301, 4.7148, 4.7081, 4.6805, 4.647, 4.6121, 4.2793, 4.21, 4.0602, 3.9727, 3.8576, 3.7617, 3.6908, 3.6904, 3.1953, 1.5346, 1.4852, 1.4807, 1.4793, 1.4746, 1.4713, 1.4709, 1.4651, 1.464, 1.4627, 1.4604, 1.4525, 1.4515, 1.4504, 1.45, -0.7224, -0.0015, -0.0861, -1.0408, -1.6254, -1.8097, -1.6186, -1.7694, -1.8913, -2.1626, -1.1316, -2.4079, -2.9488, -1.6091, -2.5645, 1.8144, 1.765, 1.7605, 1.7591, 1.7544, 1.7511, 1.7507, 1.7449, 1.7438, 1.7425, 1.7402, 1.7323, 1.7313, 1.7302, 1.7298, 1.7298, 1.7269, 1.7233, 1.7221, 1.722, 1.7203, 1.7188, 1.7178, 1.7141, 1.7109, 1.7096, 1.7095, 1.7093, 1.705, 1.7048, -0.426, 1.578, 0.8141, 0.4995, -0.1396, -2.1341, -1.0141, -0.6238, -2.4533, -1.861, -1.6629, 1.0004, 0.5394, 0.7191, 0.4592, 0.5252, 0.5958, 0.4571, 0.4122, -0.6475, 0.1873, 0.305, -0.1363, 1.2236, -2.3692, 0.0366, -3.1226, -0.5943, -0.1476, -0.2651], \"logprob\": [30.0, 29.0, 28.0, 27.0, 26.0, 25.0, 24.0, 23.0, 22.0, 21.0, 20.0, 19.0, 18.0, 17.0, 16.0, 15.0, 14.0, 13.0, 12.0, 11.0, 10.0, 9.0, 8.0, 7.0, 6.0, 5.0, 4.0, 3.0, 2.0, 1.0, -6.2028, -6.3862, -6.692, -6.8375, -6.8702, -6.9763, -6.9874, -7.0073, -6.5139, -5.8156, -7.0775, -7.1223, -7.1293, -7.183, -7.166, -6.6622, -7.2152, -7.2188, -7.2198, -7.2294, -6.3539, -7.2477, -7.2586, -7.2609, -7.2665, -7.2715, -7.2732, -7.2794, -7.2819, -7.2842, -6.2992, -6.2373, -5.6485, -6.1471, -5.8425, -6.7223, -6.9063, -6.8655, -6.3572, -6.0069, -6.2692, -5.3936, -5.6513, -6.4181, -6.4343, -5.3801, -6.1254, -5.4436, -6.1423, -6.1527, -5.4164, -6.2684, -6.0776, -5.9443, -6.0483, -4.9868, -5.1391, -5.2685, -5.7311, -5.3634, -5.4003, -5.8313, -5.1005, -5.6871, -5.7079, -5.1367, -5.4609, -5.8807, -5.6435, -5.5914, -5.5783, -5.4738, -5.4087, -5.5689, -5.6186, -5.4969, -5.7617, -5.7367, -5.4665, -5.6469, -5.688, -5.7597, -5.7051, -5.8527, -6.1441, -6.204, -6.2216, -6.2986, -6.3301, -6.3717, -6.3861, -6.4176, -6.4213, -6.4238, -6.4636, -6.4823, -6.4926, -6.5034, -6.5122, -6.5131, -6.5231, -6.5238, -6.5311, -6.5666, -6.5782, -6.6017, -6.618, -6.6279, -6.6299, -6.6303, -6.4118, -6.6559, -6.2896, -6.2719, -6.0082, -6.088, -5.8061, -6.259, -6.4048, -4.5703, -5.4881, -5.1812, -5.3223, -5.6905, -5.5482, -4.6016, -4.8798, -5.5194, -5.9175, -4.8545, -5.3189, -4.7914, -5.0796, -5.7683, -5.7861, -5.5182, -5.3284, -5.0092, -5.311, -5.442, -5.2281, -5.2828, -5.1895, -5.2288, -5.4316, -5.3653, -5.3956, -5.1839, -5.4051, -5.3578, -5.4493, -5.4698, -5.477, -5.5083, -4.956, -5.1017, -5.156, -5.1618, -5.3205, -5.3655, -5.4468, -5.6083, -5.1122, -5.718, -5.7715, -5.798, -5.8573, -5.8895, -5.9111, -5.9202, -5.9252, -5.966, -5.9873, -6.0278, -6.0692, -6.1381, -6.1448, -6.1886, -6.2197, -6.2416, -6.248, -6.2663, -6.282, -6.3045, -4.7768, -5.4751, -5.3694, -5.1268, -4.1239, -5.7175, -4.2519, -5.6725, -4.9772, -5.1151, -5.5011, -4.8861, -5.1147, -4.0362, -4.9085, -4.734, -5.4988, -4.3251, -4.3874, -5.0855, -5.4734, -5.3819, -4.5433, -5.1994, -4.7383, -4.7379, -4.9719, -5.0479, -5.1787, -4.8127, -4.8488, -5.043, -5.0451, -5.1626, -4.439, -4.7596, -5.3603, -5.403, -5.5768, -5.5864, -3.8696, -5.6734, -5.7235, -5.7484, -3.9734, -4.5679, -5.8439, -5.9206, -4.5114, -5.9828, -6.0017, -6.0241, -6.0247, -6.1226, -6.1802, -6.1894, -6.2192, -6.2215, -6.2306, -4.8537, -6.3189, -4.981, -6.3403, -6.3477, -3.775, -4.7666, -3.6431, -5.2708, -4.6458, -4.6176, -5.5423, -4.5971, -3.2508, -3.9651, -5.329, -3.6913, -3.724, -4.7461, -4.1908, -3.9806, -4.5673, -3.9421, -4.0531, -4.1124, -3.9982, -4.5885, -4.2438, -4.6322, -4.236, -4.3184, -4.3792, -4.1872, -4.675, -4.5984, -4.5973, -4.8647, -4.9047, -4.9262, -3.9666, -5.0716, -4.7578, -5.1287, -5.3138, -5.3164, -5.3689, -5.3714, -4.5902, -5.3802, -5.4385, -4.7698, -5.4767, -5.5327, -5.5424, -5.5737, -5.6001, -5.6008, -5.6127, -5.6172, -4.5419, -5.6555, -5.6571, -4.9319, -5.6649, -5.7103, -4.8828, -4.4444, -5.1152, -4.8906, -4.5584, -5.3893, -4.7127, -4.8296, -5.3635, -5.1753, -5.3495, -4.7451, -5.1907, -5.2002, -4.8833, -5.121, -5.0869, -5.0761, -5.186, -5.2695, -5.2573, -5.2669, -4.2733, -4.4129, -4.4757, -4.5129, -4.5338, -4.6253, -4.7694, -4.8388, -4.9499, -4.9619, -4.9788, -4.9927, -5.0396, -5.0438, -5.0721, -5.096, -4.5596, -5.1151, -5.1258, -5.1299, -5.1618, -5.1635, -5.1665, -5.1672, -4.4004, -5.2099, -5.2105, -5.2122, -5.2726, -5.2815, -4.7844, -4.876, -4.5974, -4.6045, -4.527, -4.94, -4.9989, -4.7522, -4.803, -4.7634, -5.0983, -4.3409, -4.41, -4.4835, -4.5846, -4.634, -4.6614, -4.7267, -4.787, -4.8988, -4.9289, -4.9863, -4.3078, -4.3232, -5.0739, -5.1304, -5.1491, -5.2321, -5.2913, -5.3033, -5.3096, -5.3185, -5.3414, -5.362, -5.3623, -5.3916, -5.4456, -5.4655, -5.5369, -4.4489, -4.5926, -4.706, -3.599, -4.2668, -4.6844, -5.0023, -4.5896, -4.5813, -4.6956, -4.6686, -4.659, -4.6811, -4.8596, -4.6252, -4.881, -4.8598, -4.8875, -4.9744, -4.264, -4.4581, -4.4784, -4.5324, -4.7401, -4.7608, -4.1657, -4.7921, -4.9303, -4.9516, -5.0009, -5.0488, -5.0754, -5.1099, -5.1285, -5.1819, -5.1823, -5.2026, -5.2365, -5.3198, -5.3287, -5.3314, -5.3415, -5.3447, -5.4397, -5.4875, -5.4875, -5.4875, -5.4966, -5.5177, -4.7763, -5.114, -4.4917, -5.3413, -5.0499, -4.3651, -4.0708, -4.6564, -4.6246, -4.743, -4.8333, -5.0391, -4.7738, -4.6435, -4.7574, -5.0901, -4.8882, -4.9484, -4.9688, -3.872, -3.9119, -4.6022, -4.6654, -4.7165, -4.7787, -4.7904, -4.7904, -4.8583, -4.874, -5.0005, -5.0411, -5.0468, -5.0809, -5.0902, -5.0903, -5.1197, -5.2142, -5.2713, -5.2729, -5.3277, -4.7962, -5.4467, -5.5167, -3.9854, -5.593, -4.8785, -4.0178, -3.9573, -4.1434, -4.0812, -4.7245, -3.6309, -3.9881, -4.2965, -4.3085, -3.8508, -4.0002, -4.4082, -4.3849, -4.3825, -4.2085, -4.4593, -4.491, -4.3465, -4.4875, -4.605, -4.529, -4.6399, -4.7263, -4.7611, -4.19, -4.2077, -4.2136, -4.3956, -4.4467, -4.6038, -4.6376, -4.6479, -4.7546, -4.8068, -4.822, -4.8266, -4.9204, -5.0611, -5.1608, -5.1681, -5.191, -5.3385, -5.3822, -5.3893, -5.4332, -5.6432, -4.4464, -5.0157, -4.8755, -4.9913, -4.7941, -4.8521, -4.8577, -5.7426, -4.701, -4.3536, -4.0908, -4.4555, -4.2251, -4.385, -4.7993, -4.9005, -4.8437, -4.4784, -4.4515, -4.7026, -4.6575, -4.8644, -3.7215, -3.86, -4.0049, -4.0273, -4.1502, -4.1827, -4.4537, -4.4923, -4.6039, -4.6049, -4.605, -4.683, -4.6893, -4.8911, -4.9004, -4.9033, -4.9423, -3.9694, -5.0525, -5.0798, -5.2956, -5.3357, -4.9692, -3.8474, -4.9257, -4.2442, -4.2572, -4.8272, -5.0441, -4.964, -3.89, -4.2079, -4.3211, -4.1932, -4.3954, -4.298, -4.3402, -4.5101, -4.5525, -4.5787, -4.6001, -4.6061, -4.7874, -4.6645, -3.8942, -4.4649, -4.5892, -4.638, -4.6383, -4.8887, -4.9351, -4.9549, -4.9874, -5.1837, -5.1935, -3.7093, -5.4785, -4.1675, -5.5288, -5.3401, -5.204, -4.2035, -4.8467, -5.1798, -5.23, -5.804, -3.927, -5.123, -5.3198, -4.9343, -4.1263, -4.1287, -4.9603, -5.9355, -4.0096, -4.4544, -4.4094, -4.2127, -4.1546, -4.512, -4.5346, -4.1395, -4.5655, -4.6334, -4.7591, -4.7917, -4.8638, -4.8759, -4.8863, -4.9048, -4.9186, -3.795, -3.9922, -4.1717, -4.2462, -4.5449, -4.5812, -4.6675, -4.6779, -4.7194, -4.724, -4.7399, -4.7408, -4.7716, -4.7937, -4.8212, -4.856, -4.8992, -4.9967, -5.0618, -4.7231, -4.5084, -4.8069, -5.1678, -4.9107, -5.0448, -4.963, -4.8785, -5.5225, -4.989, -5.0442, -4.9155, -4.9163, -5.0034, -4.8121, -4.6918, -4.8237, -4.8726, -4.9114, -4.9104, -3.6805, -3.8872, -3.9366, -4.0248, -4.3421, -4.3876, -4.4278, -4.48, -4.5184, -4.6076, -4.6804, -4.7043, -4.7486, -4.825, -4.8279, -4.8361, -4.8462, -4.8462, -4.9069, -4.9398, -5.0249, -5.0249, -5.0249, -5.1329, -5.1758, -5.3289, -4.7012, -4.9669, -4.72, -4.6751, -4.7626, -4.3024, -4.9106, -4.7804, -5.0023, -5.0085, -3.8453, -3.4463, -4.1578, -4.2809, -4.3567, -4.8041, -4.212, -4.2082, -4.227, -4.9343, -4.2468, -5.1427, -4.3725, -4.3828, -5.0325, -4.404, -5.0109, -4.4219, -4.4734, -4.4637, -5.1199, -4.5451, -6.3137, -4.5776, -4.6584, -4.6731, -4.7543, -4.7621, -4.2847, -4.7635, -4.4934, -4.7621, -4.8221, -4.8269, -4.8539, -4.8812, -3.7994, -3.8038, -4.0273, -4.0568, -4.0618, -4.1243, -4.3324, -4.5329, -4.5377, -4.6167, -4.7784, -4.9203, -4.9203, -4.2995, -4.3209, -4.8299, -4.9448, -4.8355, -4.8211, -4.9735, -4.6544, -4.7402, -4.8343, -5.0468, -4.5426, -5.0748, -5.4749, -5.1704, -5.2401, -6.1577, -4.9431, -4.9328, -5.2077, -2.999, -3.7917, -3.8758, -4.068, -4.2045, -4.4287, -4.4324, -4.4986, -4.5633, -3.8859, -4.7331, -4.867, -5.0973, -4.6092, -4.6781, -4.9876, -4.9853, -5.4944, -5.1225, -4.6479, -8.5542, -8.5542, -8.5542, -8.5542, -8.5542, -8.5542, -8.5542, -8.5542, -8.5542, -8.5542, -8.5506, -8.5542, -8.5542, -8.5542, -8.5542, -8.5542, -8.5542, -8.5542, -8.5542, -8.5542, -4.0243, -4.1626, -4.1767, -4.1791, -4.1948, -4.2693, -4.3573, -4.3779, -4.3779, -4.3802, -4.5454, -4.5602, -4.8714, -4.439, -4.3001, -4.4401, -5.6777, -5.1516, -5.255, -5.7526, -5.7682, -5.8363, -5.2418, -5.9116, -5.202, -5.9118, -5.6604, -5.9258, -8.5376, -8.5376, -8.5375, -8.5375, -3.7428, -3.8837, -3.941, -4.1482, -4.3595, -4.5455, -4.1324, -4.0797, -4.1378, -4.1818, -4.1446, -4.0981, -4.0398, -4.1392, -4.2708, -8.5296, -8.5296, -8.5296, -8.5296, -8.5296, -8.5296, -8.5296, -8.5296, -8.5296, -8.5296, -8.5296, -8.5296, -8.5296, -8.5296, -8.5296, -8.5296, -8.5296, -8.5296, -8.5296, -8.5296, -8.5296, -8.5296, -8.5296, -8.5296, -8.5296, -8.5296, -8.5296, -8.5296, -8.5296, -8.5296, -8.2498, -8.2498, -8.2498, -8.2498, -8.2498, -8.2498, -8.2498, -8.2498, -8.2498, -8.2498, -8.2498, -8.2498, -8.2498, -8.2498, -8.2498, -8.2498, -8.2498, -8.2498, -8.2498, -8.2498, -8.2498, -8.2498, -8.2498, -8.2498, -8.2498, -8.2498, -8.2498, -8.2498, -8.2498, -8.2498, -8.2498, -8.2498, -8.2498, -8.2498, -8.2498, -8.2498, -8.2498, -8.2498, -8.2498, -8.2498, -8.2498, -8.2498, -8.2498, -8.2498, -8.2498, -8.2498, -8.2498, -8.2498, -8.2498, -8.2498, -8.2498, -8.2498, -8.2498, -8.2498, -8.2498, -8.2498, -8.2498, -8.2498, -8.2498, -8.2498]}, \"token.table\": {\"Topic\": [5, 10, 1, 3, 4, 5, 13, 1, 1, 10, 2, 4, 2, 3, 1, 12, 1, 7, 2, 3, 5, 8, 8, 14, 1, 2, 2, 3, 2, 1, 1, 2, 1, 4, 1, 13, 1, 5, 15, 1, 18, 2, 2, 9, 2, 5, 1, 2, 5, 6, 8, 9, 11, 12, 15, 16, 1, 2, 11, 1, 2, 1, 2, 5, 2, 6, 1, 2, 7, 1, 15, 2, 3, 8, 1, 2, 18, 3, 10, 1, 4, 7, 1, 3, 2, 3, 1, 2, 5, 13, 1, 1, 2, 3, 10, 5, 5, 6, 18, 2, 1, 2, 2, 1, 2, 8, 1, 10, 1, 3, 1, 3, 16, 1, 8, 7, 1, 2, 3, 6, 7, 15, 1, 2, 8, 10, 10, 13, 10, 10, 1, 12, 13, 1, 1, 2, 5, 17, 14, 18, 1, 2, 3, 2, 6, 3, 5, 16, 14, 1, 1, 2, 7, 9, 1, 12, 1, 1, 3, 10, 1, 2, 8, 8, 17, 1, 16, 1, 19, 1, 2, 10, 11, 7, 7, 8, 1, 17, 1, 7, 6, 8, 2, 4, 5, 5, 1, 2, 3, 4, 5, 8, 1, 10, 14, 10, 9, 2, 13, 1, 3, 5, 6, 14, 1, 2, 3, 5, 12, 1, 2, 6, 5, 9, 1, 15, 16, 1, 2, 5, 7, 11, 12, 14, 14, 1, 2, 3, 5, 7, 12, 1, 2, 4, 6, 7, 11, 12, 12, 13, 1, 2, 3, 4, 5, 6, 7, 5, 1, 2, 4, 13, 10, 1, 3, 8, 1, 12, 1, 2, 1, 2, 9, 12, 1, 2, 3, 9, 10, 15, 1, 2, 5, 7, 1, 1, 2, 1, 2, 3, 7, 14, 13, 7, 7, 1, 1, 8, 8, 1, 18, 1, 2, 6, 14, 2, 3, 4, 8, 1, 2, 16, 1, 3, 16, 1, 11, 2, 1, 2, 4, 5, 1, 4, 6, 2, 15, 15, 3, 10, 3, 9, 11, 6, 14, 1, 2, 1, 2, 4, 6, 12, 1, 7, 16, 10, 16, 6, 1, 15, 1, 2, 4, 1, 19, 10, 1, 2, 3, 4, 6, 8, 10, 1, 2, 3, 4, 5, 6, 7, 8, 9, 12, 13, 1, 16, 1, 16, 1, 14, 16, 8, 8, 1, 3, 7, 1, 16, 15, 19, 6, 2, 5, 6, 18, 1, 2, 3, 4, 1, 8, 1, 13, 11, 10, 1, 2, 3, 12, 1, 9, 12, 1, 2, 3, 5, 7, 7, 13, 17, 7, 3, 3, 1, 2, 4, 7, 1, 8, 3, 1, 2, 3, 6, 10, 7, 1, 2, 15, 3, 1, 18, 1, 2, 5, 10, 1, 2, 4, 5, 1, 16, 9, 1, 2, 3, 5, 6, 9, 12, 1, 15, 4, 4, 2, 4, 1, 2, 9, 1, 2, 3, 5, 6, 7, 10, 17, 1, 3, 19, 5, 1, 2, 5, 11, 1, 2, 3, 1, 13, 1, 13, 6, 1, 1, 4, 10, 1, 2, 6, 14, 12, 1, 1, 2, 6, 12, 15, 1, 1, 2, 5, 9, 12, 14, 1, 19, 13, 5, 1, 2, 17, 1, 1, 2, 16, 1, 2, 3, 4, 9, 11, 1, 2, 1, 13, 1, 4, 8, 5, 1, 2, 3, 6, 9, 1, 2, 12, 8, 2, 5, 8, 1, 2, 4, 15, 1, 2, 3, 6, 5, 1, 3, 10, 15, 1, 12, 2, 14, 7, 19, 2, 1, 2, 3, 4, 5, 7, 8, 1, 2, 4, 1, 2, 9, 1, 1, 10, 17, 1, 2, 9, 10, 15, 1, 2, 9, 13, 2, 5, 6, 6, 16, 18, 3, 1, 2, 15, 1, 1, 14, 6, 6, 9, 1, 19, 2, 5, 6, 1, 18, 9, 5, 1, 4, 17, 9, 14, 2, 5, 4, 1, 2, 3, 11, 1, 2, 3, 4, 5, 11, 12, 18, 5, 5, 6, 3, 14, 12, 3, 9, 2, 13, 1, 12, 13, 2, 3, 2, 14, 1, 2, 1, 2, 14, 1, 2, 8, 10, 7, 6, 1, 2, 3, 1, 11, 15, 2, 1, 2, 12, 1, 3, 13, 1, 2, 4, 5, 7, 8, 2, 4, 14, 2, 8, 1, 2, 3, 4, 5, 6, 7, 11, 12, 13, 10, 8, 11, 1, 2, 3, 5, 8, 1, 1, 4, 17, 14, 5, 5, 7, 10, 11, 1, 2, 5, 15, 3, 7, 17, 3, 1, 2, 3, 5, 7, 8, 2, 8, 1, 2, 5, 7, 6, 1, 2, 5, 1, 2, 1, 2, 3, 6, 10, 10, 1, 2, 3, 4, 13, 4, 1, 2, 4, 5, 10, 1, 2, 10, 1, 2, 3, 10, 8, 1, 9, 10, 1, 4, 1, 11, 1, 8, 13, 1, 2, 1, 2, 1, 17, 6, 8, 3, 3, 3, 1, 6, 3, 14, 1, 3, 19, 1, 3, 1, 2, 3, 4, 15, 19, 10, 4, 9, 3, 1, 12, 7, 1, 16, 1, 2, 3, 4, 1, 10, 1, 1, 3, 1, 2, 3, 1, 3, 8, 1, 4, 12, 1, 15, 1, 3, 1, 2, 9, 14, 2, 11, 1, 14, 1, 12, 8, 9, 13, 11, 1, 2, 15, 1, 12, 1, 12, 1, 2, 3, 6, 7, 9, 9, 7, 1, 2, 12, 2, 18, 1, 2, 11, 8, 1, 2, 3, 4, 5, 7, 8, 12, 1, 5, 11, 11, 2, 13, 1, 11, 1, 2, 5, 1, 1, 2, 3, 5, 6, 7, 9, 11, 12, 15, 1, 2, 3, 4, 5, 6, 12, 1, 2, 3, 4, 5, 6, 7, 9, 11, 13, 2, 12, 1, 12, 8, 1, 2, 8, 1, 2, 4, 5, 6, 9, 1, 2, 10, 11, 1, 2, 5, 6, 8, 10, 15, 1, 2, 1, 2, 3, 4, 10, 13, 1, 11, 1, 2, 5, 1, 2, 4, 8, 1, 2, 7, 4, 1, 2, 3, 4, 5, 6, 7, 1, 2, 3, 4, 15, 18, 1, 2, 3, 4, 5, 11, 12, 10, 5, 1, 2, 17, 6, 17, 11, 1, 9, 11, 1, 2, 3, 7, 13, 1, 2, 3, 6, 8, 10, 1, 2, 15, 1, 2, 5, 1, 15, 1, 4, 5, 1, 3, 5, 8, 13, 14, 1, 6, 1, 19, 2, 4, 6, 1, 18, 13, 6, 1, 1, 2, 3, 15, 1, 16, 1, 3, 4, 5, 6, 6, 2, 1, 3, 14, 2, 3, 4, 10, 2, 6, 7, 11, 5, 1, 2, 6, 9, 1, 8, 1, 5, 1, 2, 11, 1, 1, 2, 12, 3, 1, 2, 1, 4, 16, 1, 2, 3, 5, 6, 10, 1, 2, 3, 4, 5, 8, 12, 1, 2, 15, 7, 1, 13, 1, 2, 3, 5, 8, 9, 11, 12, 3, 1, 1, 3, 4, 1, 9, 1, 2, 3, 4, 5, 6, 9, 1, 1, 3, 5, 5, 17, 12, 19, 1, 2, 7, 1, 5, 14, 1, 9, 1, 2, 3, 7, 13, 6, 14, 1, 5, 9, 3, 9, 1, 2, 8, 1, 2, 10, 15, 1, 2, 15, 14, 1, 2, 11, 1, 2, 6, 9, 3, 17, 1, 1, 2, 3, 1, 2, 5, 14, 1, 14, 1, 5, 1, 2, 3, 13, 10, 4, 9, 18, 9, 1, 8, 1, 10, 1, 1, 5, 7, 14, 2, 5, 3, 1, 2, 5, 19, 1, 7, 9, 1, 3, 1, 4, 6, 1, 7, 7, 1, 2, 12, 14, 1, 17, 8, 11, 18, 1, 8, 1, 9, 1, 3, 5, 7, 1, 12, 7, 1, 2, 3, 5, 7, 8, 9, 13, 1, 2, 5, 12, 5, 1, 14, 3, 2, 11, 1, 14, 1, 16, 1, 8, 9, 1, 10, 16, 4, 1, 2, 4, 6, 7, 8, 1, 2, 19, 1, 2, 4, 10, 15, 1, 6, 10, 3, 1, 2, 6, 11, 18, 1, 11, 1, 4, 1, 1, 4, 1, 2, 3, 12, 14, 1, 1, 13, 18, 14, 1, 2, 4, 5, 11, 8, 1, 2, 3, 4, 1, 1, 7, 12, 1, 2, 3, 12, 16, 3, 1, 2, 12, 1, 2, 6, 14, 11, 1, 4, 1, 13, 1, 2, 8, 12, 13, 3, 1, 2, 5, 6, 1, 2, 3, 5, 6, 11, 1, 7, 1, 2, 3, 4, 7, 6, 16, 1, 2, 3, 12, 16, 8, 1, 7, 6, 1, 1, 18, 1, 15, 1, 2, 9, 1, 2, 3, 1, 1, 2, 11, 13, 1, 15, 1, 1, 1, 2, 6, 11, 2, 7, 3, 2, 3, 7, 13, 13, 16, 1, 1, 2, 3, 7, 9, 4, 11, 1, 2, 16, 9, 18, 1, 6, 1, 13, 1, 1, 2, 5, 1, 2, 16, 1, 5, 1, 5, 1, 7, 1, 2, 6, 1, 9, 7, 1, 7, 1, 3, 1, 2, 3, 1, 3, 11, 1, 7, 1, 7, 13, 2, 18, 2, 6, 1, 3, 18, 1, 2, 10, 14, 2, 6, 11, 2, 14, 1, 15, 16, 1, 4, 5, 10, 1, 2, 1, 5, 12, 6, 1, 5, 1, 3, 7, 1, 2, 1, 4, 19, 4, 4, 1, 13, 1, 6, 7, 1, 9, 1, 2, 5, 9, 1, 1, 2, 3, 4, 5, 6, 7, 12, 8, 1, 3, 1, 3, 7, 1, 16, 4, 4, 2, 6, 18, 6, 1, 2, 11, 4, 1, 6, 1, 4, 3, 6, 1, 1, 16, 5, 9, 1, 18, 1, 2, 7, 13, 2, 1, 2, 3, 5, 7, 1, 7, 1, 2, 3, 2, 1, 2, 10, 6, 17, 10, 12, 13, 17, 1, 2, 5, 6, 8, 10, 1, 2, 3, 2, 8, 1, 17, 18, 11, 3, 1, 18, 3, 8, 16, 1, 2, 3, 4, 5, 6, 8, 11, 12, 1, 2, 3, 4, 5, 9, 13, 1, 1, 6, 9, 15, 3, 1, 3, 7, 1, 2, 4, 5, 10, 15, 1, 2, 16, 1, 12, 1, 2, 12, 2, 18, 18, 1, 2, 3, 5, 7, 8, 6, 1, 2, 13, 1, 1, 10, 11, 1, 5, 1, 10, 4, 16, 13, 10, 1, 6, 1, 17, 2, 6, 1, 8, 1, 2, 6, 14, 5, 2, 3, 2, 13, 4, 8, 1, 2, 5, 1, 2, 13, 2, 3, 1, 4, 1, 12, 2, 4, 5, 14, 1, 2, 3, 6, 7, 10, 11, 2, 11, 1, 2, 13, 2, 2, 9, 1, 2, 3, 7, 15, 2, 18, 1, 19, 10, 13, 8, 1, 8, 15, 7, 13, 4, 1, 2, 3, 6, 1, 2, 3, 5, 8, 1, 7, 1, 2, 5, 8, 15, 10, 7, 3, 1, 2, 5, 6, 9, 12, 1, 1, 1, 2, 5, 8, 11, 12, 6], \"Freq\": [0.7463127027798305, 0.8565465101850248, 0.7297678605610755, 0.15740091110140841, 0.07870045555070421, 0.014309173736491675, 0.014309173736491675, 0.9623631860964039, 0.9621537329448624, 0.022638911363408527, 0.881017351771764, 0.8202476565836176, 0.10981328368019923, 0.7686929857613946, 0.813114256213992, 0.15057671411370221, 0.9571109755408964, 0.8073374072306836, 0.03913805796534691, 0.7044850433762444, 0.19569028982673456, 0.7749731725898412, 0.7008429368442971, 0.8393426342587562, 0.596251954802021, 0.9155237975793075, 0.8942728793116798, 0.7850602865133971, 0.8545073403842812, 0.5968164343934483, 0.9580557610545555, 0.01955215838886848, 0.2383056017095897, 0.6672556847868512, 0.43707687574892856, 0.43707687574892856, 0.8095967334042136, 0.048575804004252814, 0.1133435426765899, 0.6457295644384753, 0.21524318814615842, 0.8360892962459254, 0.2633311082233216, 0.658327770558304, 0.1435909082816448, 0.7897499955490465, 0.5888753975080088, 0.16463183156137878, 0.02532797408636597, 0.012663987043182985, 0.03165996760795746, 0.0759839222590979, 0.03799196112954895, 0.02532797408636597, 0.03165996760795746, 0.7974925096136503, 0.5100806591605157, 0.02684635048213241, 0.42954160771411853, 0.9687772859621385, 0.8581095000895821, 0.5918764102811003, 0.11837528205622005, 0.2367505641124401, 0.8724535063715853, 0.8297549707146832, 0.8221860073056525, 0.16280911035755494, 0.008140455517877747, 0.4862555834213087, 0.4862555834213087, 0.11822999290187261, 0.768494953862172, 0.7886606133562644, 0.946042566074566, 0.03638625254132946, 0.8468235184250145, 0.8462661490787936, 0.7774122980888738, 0.380349318098111, 0.10867123374231742, 0.4346849349692697, 0.32464203663304186, 0.6492840732660837, 0.08449893316496224, 0.7604903984846602, 0.42470329163279624, 0.226508422204158, 0.226508422204158, 0.08494065832655925, 0.9632594885113367, 0.8738062135828402, 0.08256436663774867, 0.02064109165943717, 0.013760727772958113, 0.8269781128534424, 0.3354579242197311, 0.16772896210986554, 0.3354579242197311, 0.8660027861810952, 0.9565778648247176, 0.015428675239108349, 0.8805361341750992, 0.5530203278487706, 0.08848325245580331, 0.3318121967092624, 0.4329833244029675, 0.4329833244029675, 0.4645627050301845, 0.4645627050301845, 0.3774456738917381, 0.18872283694586905, 0.3774456738917381, 0.06177587194101959, 0.8030863352332547, 0.8721836850653157, 0.7446858702733417, 0.12907888418071256, 0.049645724684889446, 0.019858289873955777, 0.004964572468488944, 0.0446811522164005, 0.7835576513679577, 0.05366833228547656, 0.07513566519966719, 0.06440199874257187, 0.8485433037382695, 0.7898313326177304, 0.8809568795717628, 0.8439270893310137, 0.698051424492113, 0.1551225387760251, 0.7706278860060722, 0.6034154153542601, 0.865297692467388, 0.05824119083915111, 0.01664034023975746, 0.04992102071927238, 0.7464233964087195, 0.8827058507679649, 0.46874181025992756, 0.40760157413906745, 0.08152031482781348, 0.4832939407407366, 0.42288219814814454, 0.2772799373883391, 0.5545598747766782, 0.09242664579611304, 0.6940259936684364, 0.6222370044388003, 0.7269228510542896, 0.0454326781908931, 0.0454326781908931, 0.15144226063631033, 0.549134168399899, 0.3660894455999327, 0.598748169737396, 0.38091592138263936, 0.2380724508641496, 0.33330143120980943, 0.844372098538111, 0.0844372098538111, 0.04824983420217777, 0.788301848352771, 0.8877469240046254, 0.33087086637899177, 0.5514514439649862, 0.7818750166140367, 0.19546875415350917, 0.9537153578002295, 0.018700301133337833, 0.7839453471578307, 0.9059865558667627, 0.6793655075483405, 0.8127929726042561, 0.696317927457926, 0.4146836297928664, 0.49762035575143965, 0.5921186873866724, 0.7698969180786455, 0.9177342740145614, 0.7022037536056885, 0.8990546566535949, 0.9124632042263092, 0.8346252712145729, 0.9102594835859045, 0.5355362827295993, 0.05005011988127096, 0.02502505994063548, 0.3503508391688967, 0.010010023976254192, 0.020020047952508384, 0.6567257758867979, 0.16418144397169948, 0.16418144397169948, 0.7713983511102378, 0.9002783258708882, 0.24959973074241085, 0.4991994614848217, 0.7625523558783857, 0.0693229414434896, 0.09243058859131947, 0.02310764714782987, 0.02310764714782987, 0.7640236432312613, 0.11868328438543865, 0.04450623164453949, 0.04821508428158445, 0.01854426318522479, 0.624673375168838, 0.02715971196386252, 0.2987568316024877, 0.8082540209726237, 0.7126780625978, 0.7252596301031595, 0.12613210958315818, 0.09459908218736864, 0.7631646700638606, 0.09927345301643715, 0.012409181627054644, 0.04343213569469125, 0.06204590813527322, 0.012409181627054644, 0.752795183269449, 0.8440232023437629, 0.7956008485695518, 0.069024731154436, 0.09808777585104063, 0.007265761174151158, 0.014531522348302316, 0.007265761174151158, 0.703421610645456, 0.030583548288932873, 0.030583548288932873, 0.020389032192621916, 0.08155612877048767, 0.08155612877048767, 0.030583548288932873, 0.7199852684499486, 0.8473814359813913, 0.7137095912648193, 0.12227891598593058, 0.062387202033638046, 0.06987366627767462, 0.014972928488073132, 0.002495488081345522, 0.01247744040672761, 0.8775883206009715, 0.13116516752254412, 0.1967477512838162, 0.5902432538514486, 0.8821751164135312, 0.8302607884115824, 0.21994969006596501, 0.7148364927143863, 0.7980724442839013, 0.46824735025127207, 0.46824735025127207, 0.9631238977251129, 0.01337672080173768, 0.23433084759538436, 0.15622056506358958, 0.585827118988461, 0.8169008272928903, 0.7886128418423352, 0.10791544151526691, 0.041505939044333424, 0.024903563426600057, 0.024903563426600057, 0.008301187808866685, 0.6631000613503467, 0.186496892254785, 0.07252656921019417, 0.062165630751595, 0.6126105447839307, 0.9084910939093999, 0.034941965150361534, 0.8978888399767886, 0.06300974315626587, 0.031504871578132934, 0.005250811929688823, 0.7544872895431968, 0.7840625086648414, 0.7591737373597566, 0.7205489004683229, 0.96101434688594, 0.9708192961003069, 0.7094639124655107, 0.7845397597963913, 0.6515356729027103, 0.2606142691610841, 0.6570958687844666, 0.13595086940368273, 0.09063391293578849, 0.09063391293578849, 0.3570869468821201, 0.1983816371567334, 0.11902898229404003, 0.27773429201942673, 0.7572169980360589, 0.10516902750500817, 0.08413522200400654, 0.545081607865422, 0.32209367737502215, 0.09910574688462219, 0.426697375995937, 0.426697375995937, 0.8118702710997499, 0.5611418894499625, 0.15431401959873967, 0.23848530301623402, 0.04208564170874718, 0.17036754016760175, 0.8092458157961083, 0.7974832380326132, 0.04402547131957791, 0.8805094263915583, 0.8662014859500787, 0.4304904663061365, 0.286993644204091, 0.10349817492876914, 0.724487224501384, 0.7910403377817244, 0.8464229090721049, 0.844312238009376, 0.9287088680160517, 0.06056796965322076, 0.5087027591569688, 0.07164827593760124, 0.3224172417192056, 0.007164827593760125, 0.07881310353136137, 0.9519320748998792, 0.7152799005093512, 0.6718442754740047, 0.5673772006660346, 0.31520955592557476, 0.8282674772282086, 0.7343856955594806, 0.21759576164725353, 0.6770705181549835, 0.26209181347934846, 0.04368196891322474, 0.6325885605173184, 0.3162942802586592, 0.8974835763989297, 0.7066666089748187, 0.07066666089748187, 0.08833332612185234, 0.04416666306092617, 0.017666665224370468, 0.0529999956731114, 0.7679431819320678, 0.6084167337709886, 0.1810410768781966, 0.050454070605399054, 0.03561463807439933, 0.020775205543399608, 0.026710978555799497, 0.008903659518599833, 0.017807319037199665, 0.032646751568199385, 0.011871546024799777, 0.0059357730123998885, 0.8300886698010137, 0.1185840956858591, 0.45265746602581775, 0.45265746602581775, 0.3968675388460759, 0.4762410466152911, 0.8317487225751962, 0.7437910286264151, 0.7845397589717594, 0.06404400896216991, 0.6084180851406141, 0.2881980403297646, 0.33003506828024415, 0.4400467577069922, 0.9200632179152769, 0.8772310836688408, 0.8956830114542095, 0.27325311180489, 0.27325311180489, 0.163951867082934, 0.163951867082934, 0.5164324270693267, 0.12494332912967582, 0.06663644220249376, 0.2832048793605985, 0.47914493736286123, 0.4392161925826228, 0.5265456044850839, 0.3761040032036314, 0.8140812465575165, 0.7565060117117378, 0.8237338511828122, 0.08697810850998638, 0.06651267121351899, 0.015349077972350538, 0.3946963595170809, 0.5382223084323831, 0.7237676570958224, 0.49879574267560906, 0.0546625471425325, 0.3758050116049109, 0.02733127357126625, 0.034164091964082814, 0.870772136323613, 0.875671074917169, 0.893939960622792, 0.8326549789825197, 0.925594091418768, 0.9362332113022311, 0.7156706333762161, 0.028626825335048643, 0.22901460268038915, 0.02147011900128648, 0.5961733173010784, 0.34067046702918763, 0.8667222528736787, 0.8238049555009711, 0.08986963150919686, 0.0649058449788644, 0.004992757306066492, 0.009985514612132984, 0.7306723088521089, 0.5452703514590241, 0.03894788224707315, 0.3505309402236584, 0.8248793828647943, 0.1740269736245876, 0.6961078944983504, 0.708906916689933, 0.16269994809277152, 0.04648569945507758, 0.06972854918261637, 0.3465144415711562, 0.10661982817574037, 0.47978922679083164, 0.7922486411139241, 0.1645142911493323, 0.6580571645973292, 0.623169684309504, 0.7194940124748606, 0.173995284062548, 0.009405150489867458, 0.023512876224668647, 0.014107725734801188, 0.028215451469602377, 0.023512876224668647, 0.6280153837390284, 0.3140076918695142, 0.9337561695137114, 0.7751950322127658, 0.816745678716542, 0.07424960715604928, 0.7532215124977627, 0.22824894318114022, 0.6557451088638816, 0.7285377315522823, 0.09999537491894071, 0.11785169186875155, 0.007142526779924337, 0.007142526779924337, 0.028570107119697347, 0.007142526779924337, 0.7554468918642566, 0.32596432174907936, 0.2897460637769594, 0.32596432174907936, 0.7418720031387138, 0.7881855144364015, 0.02542533917536779, 0.16526470463989062, 0.8596331666777223, 0.5797000844077013, 0.040444191935421016, 0.36399772741878916, 0.5819137139093367, 0.29095685695466833, 0.4030371205722407, 0.503796400715301, 0.8435262968649618, 0.9676798400518891, 0.40978041999091863, 0.06829673666515311, 0.40978041999091863, 0.587276798321679, 0.30965503911506714, 0.05338879984742537, 0.04271103987794029, 0.7186972648947969, 0.9584159464213248, 0.6719850806117854, 0.07905706830726887, 0.039528534153634436, 0.10540942440969184, 0.09223324635848035, 0.8879086838830017, 0.8603472359289918, 0.05325959079560426, 0.02048445799830933, 0.02867824119763306, 0.024581349597971196, 0.00819378319932373, 0.5429725061775343, 0.375904042738293, 0.9084799584112117, 0.8708090687310788, 0.5809152948257363, 0.3872768632171576, 0.6707433766250579, 0.6213745200002574, 0.6156460449962746, 0.3283445573313465, 0.926950274750272, 0.7930230548024354, 0.04405683637791308, 0.13217050913373923, 0.02202841818895654, 0.8441791028115657, 0.7748128798750797, 0.4587645483705301, 0.4587645483705301, 0.46780654737806965, 0.38983878948172473, 0.32804269867355734, 0.5367971432840029, 0.08946619054733382, 0.8941919974014058, 0.6620283781607038, 0.1863963394821399, 0.025709839928571024, 0.025709839928571024, 0.09641189973214133, 0.47285097952711547, 0.36607817769841194, 0.13727931663690449, 0.6654330572223961, 0.06709257744589758, 0.8722035067966686, 0.8874554535012771, 0.5776429511756517, 0.05118355263581723, 0.32172518799656546, 0.03655968045415517, 0.7191353388989783, 0.10610193524739024, 0.08252372741463686, 0.07073462349826017, 0.8294835388382673, 0.545102701898125, 0.05191454303791667, 0.12978635759479168, 0.20765817215166668, 0.9648904940667196, 0.9295486798707532, 0.8864951579480843, 0.750342554288555, 0.7154406424216345, 0.8693100543598974, 0.8561971259257669, 0.5380979204685287, 0.10499471618898121, 0.045935188332679275, 0.2296759416633964, 0.013124339523622651, 0.032810848809056624, 0.026248679047245302, 0.32798228193173257, 0.050458812604881935, 0.6055057512585833, 0.5759748049154495, 0.38398320327696633, 0.5940070441870583, 0.6119495544272806, 0.5795640273702937, 0.24838458315869727, 0.12419229157934863, 0.7927109566746776, 0.08670276088629286, 0.04954443479216735, 0.030965271745104595, 0.030965271745104595, 0.7043374431366557, 0.2012392694676159, 0.8441791029514049, 0.8233201302390416, 0.6167554964697015, 0.17132097124158374, 0.17132097124158374, 0.6108533896935635, 0.18325601690806906, 0.12217067793871271, 0.8465973888718187, 0.5603834853473129, 0.27115329936160304, 0.12653820636874807, 0.7274402364279926, 0.9091115184026933, 0.6940259919409473, 0.8286480563430975, 0.7297263436091656, 0.7000744460749382, 0.3145178349637756, 0.5661321029347961, 0.14621416110570562, 0.7798088592304301, 0.8641354332151631, 0.6097077070781626, 0.7863587839931435, 0.9223313722204359, 0.814389366486509, 0.7130444315599034, 0.26739166183496377, 0.8326104011658952, 0.7643225007877226, 0.8829394090597221, 0.5911660000278723, 0.7169582552965535, 0.7764629688522838, 0.4861463464799312, 0.0589268298763553, 0.26517073444359884, 0.1767804896290659, 0.6990583917903581, 0.11322776768435378, 0.054152410631647455, 0.03446062494741202, 0.01969178568423544, 0.03446062494741202, 0.03446062494741202, 0.8709962584390077, 0.7905273546750259, 0.48370420331096553, 0.4146036028379705, 0.5437625456274763, 0.33985159101717266, 0.8254640928612457, 0.7890247777715064, 0.7636546407742674, 0.45780474905245294, 0.38150395754371075, 0.46414825923430775, 0.36468791796981326, 0.13261378835265936, 0.14740075947714312, 0.7370037973857156, 0.9049802813399009, 0.9228251522555279, 0.721691097759072, 0.206197456502592, 0.49499001905127055, 0.35749279153702873, 0.10999778201139346, 0.807416580110985, 0.05607059584104063, 0.044856476672832504, 0.07849883417745689, 0.8622676476504204, 0.8027079315032599, 0.6202343267945161, 0.17175719818925061, 0.19084133132138958, 0.23495434552584588, 0.5873858638146147, 0.8214156835702693, 0.8581457137726235, 0.44933223561272817, 0.3563669454859568, 0.1859305802535427, 0.8524603643758966, 0.06314521217599234, 0.07366941420532439, 0.7322346536484632, 0.024007693562244695, 0.06001923390561174, 0.07202308068673409, 0.07202308068673409, 0.024007693562244695, 0.2602271299187338, 0.6071966364770455, 0.8186151806966061, 0.8559242924186514, 0.6008396852471899, 0.6945121165167677, 0.08725026589406629, 0.09423028716559159, 0.02443007445033856, 0.031410095721863866, 0.010470031907287954, 0.013960042543050607, 0.02094006381457591, 0.010470031907287954, 0.010470031907287954, 0.9190444646240075, 0.7753933924938496, 0.8882516311129837, 0.7359578881110161, 0.15578670624247787, 0.05909150926438816, 0.026859776938358254, 0.016115866163014952, 0.9616181179277794, 0.5999425145563647, 0.37996359255236434, 0.9573991093408811, 0.7480413495979302, 0.847354254242423, 0.22419380462752908, 0.6725814138825872, 0.6651025637344379, 0.7626676490667448, 0.8036958691899044, 0.12055438037848566, 0.024110876075697132, 0.040184793459495216, 0.3955646598239871, 0.19778232991199354, 0.26370977321599137, 0.8048458051035364, 0.7571421041003445, 0.1409850814531676, 0.020886678733802608, 0.046995027151055864, 0.010443339366901304, 0.015665009050351956, 0.4716385106239115, 0.3930320921865929, 0.44811944829370176, 0.26887166897622106, 0.06721791724405526, 0.1792477793174807, 0.7775102759096841, 0.6352587822283221, 0.06050083640269734, 0.24200334561078937, 0.7498332957433006, 0.22494998872299019, 0.8932799760287006, 0.06871384430990005, 0.004041990841758826, 0.016167963367035305, 0.008083981683517653, 0.6801434685255313, 0.7606336568027725, 0.0966551055605733, 0.05042875072725564, 0.07564312609088346, 0.00840479178787594, 0.7987758564698136, 0.7783802929751429, 0.07783802929751428, 0.0838255700127077, 0.03592524429116044, 0.01796262214558022, 0.6154728394378592, 0.10861285401844574, 0.21722570803689148, 0.6616203246883886, 0.06912451153460776, 0.13824902306921552, 0.1086242324115265, 0.7857049634378855, 0.7200215221278691, 0.12461910959905426, 0.13846567733228252, 0.16384338240507298, 0.7782560664240967, 0.5553130030697109, 0.37020866871314057, 0.3175229770863471, 0.6350459541726942, 0.770087795898583, 0.3283390765214831, 0.8596403686480732, 0.8079236504780289, 0.08079236504780289, 0.6385205606421381, 0.2837869158409503, 0.21647310386286062, 0.5411827596571516, 0.8866028890871015, 0.8105036804255855, 0.921863324888838, 0.9627438424397902, 0.7247519936745043, 0.8925939541433616, 0.8680388491300282, 0.5411256897010933, 0.09549276877078117, 0.31830922923593724, 0.6506962245558375, 0.32534811227791877, 0.7051717009753256, 0.07232530266413595, 0.030135542776723312, 0.15670482243896122, 0.030135542776723312, 0.9098337951727455, 0.9142603511263339, 0.7716023007213176, 0.7582785861865342, 0.8004943453362242, 0.727310535623385, 0.193949476166236, 0.6854099451833512, 0.8709771184645883, 0.835346892727101, 0.4382807304933072, 0.017531229219732287, 0.19284352141705516, 0.3155621259551812, 0.5361319114035159, 0.35742127426901055, 0.6034473538008751, 0.9403912055914275, 0.032427282951428535, 0.4251370942230038, 0.19485450151887673, 0.336566866259878, 0.3757300485159072, 0.5427211811896437, 0.8200323702088759, 0.8770469628116679, 0.046160366463771994, 0.746263657985918, 0.2285720133554395, 0.5714300333885988, 0.30443227595358074, 0.6426903603464482, 0.33285892283676255, 0.11095297427892085, 0.517780546634964, 0.7586473080779472, 0.920516849868519, 0.8678028444920847, 0.616196559201202, 0.7931006217036366, 0.43807954514898656, 0.32855965886173993, 0.7073423982714194, 0.7354425073859702, 0.8750947984388345, 0.8099054255595016, 0.900331340635875, 0.0346281284859952, 0.05194219272899279, 0.4334327092054539, 0.4334327092054539, 0.1701127786496705, 0.5103383359490115, 0.6122027731844831, 0.17796592243734977, 0.02135591069248197, 0.01423727379498798, 0.03559318448746995, 0.12101682725739783, 0.7386854214188002, 0.8020773160476865, 0.8381318419542756, 0.060734191445961996, 0.0971747063135392, 0.5239120553492872, 0.3143472332095723, 0.8442093377313894, 0.026800296435917127, 0.1072011857436685, 0.8185807474261779, 0.8455365276897426, 0.03914520961526586, 0.04305973057679245, 0.01174356288457976, 0.01174356288457976, 0.015658083846106344, 0.01174356288457976, 0.01957260480763293, 0.15294265232580148, 0.15294265232580148, 0.6117706093032059, 0.920422114788684, 0.77408585821524, 0.154817171643048, 0.15824227499493712, 0.7384639499763732, 0.11090924668240776, 0.22181849336481552, 0.6284857312003107, 0.961510071777439, 0.7343509186653203, 0.14637400067991183, 0.04961830531522434, 0.002480915265761217, 0.009923661063044868, 0.007442745797283652, 0.022328237391850955, 0.009923661063044868, 0.007442745797283652, 0.007442745797283652, 0.7568027809559275, 0.09048728902733916, 0.05758282029012492, 0.03290446873721424, 0.00822611718430356, 0.00411305859215178, 0.04524364451366958, 0.782305630063003, 0.07775929455445511, 0.056552214221421905, 0.03534513388838869, 0.018850738073807303, 0.009425369036903651, 0.004712684518451826, 0.009425369036903651, 0.002356342259225913, 0.002356342259225913, 0.9454939765920852, 0.7928330288004007, 0.5280160771216813, 0.26400803856084065, 0.7242899815931484, 0.625840889860073, 0.06953787665111923, 0.2433825682789173, 0.769255476446328, 0.06923299288016951, 0.030770219057853116, 0.038462773822316394, 0.023077664293389838, 0.06154043811570623, 0.5358637454725236, 0.15310392727786387, 0.2296558909167958, 0.9040300741674535, 0.741262586054132, 0.019253573663743688, 0.019253573663743688, 0.019253573663743688, 0.07701429465497475, 0.048133934159359223, 0.057760720991231064, 0.8853477499845632, 0.09571327026860142, 0.6475235609181091, 0.016818793790080756, 0.058865778265282644, 0.12614095342560566, 0.10932215963552491, 0.025228190685121134, 0.37142405750467644, 0.4642800718808456, 0.6713665992644811, 0.1313543346387028, 0.17513911285160375, 0.5068584022183776, 0.012068057195675658, 0.4103139446529724, 0.04827222878270263, 0.7661922875660296, 0.19503076410771664, 0.013930768864836903, 0.8350127537985459, 0.7093687381322438, 0.14968331171597804, 0.06507970074607741, 0.032539850373038706, 0.02277789526112709, 0.00650797007460774, 0.016269925186519353, 0.7041286809116452, 0.0630562997831324, 0.052546916485943666, 0.13662198286345353, 0.036782841540160566, 0.7869918435295933, 0.702343765560116, 0.11705729426001933, 0.03724550271909706, 0.04256628882182521, 0.015962358308184453, 0.03724550271909706, 0.03724550271909706, 0.7586476382486713, 0.8286836571372233, 0.16212623225349335, 0.3242524645069867, 0.40531558063373335, 0.13199962911588378, 0.7919977746953027, 0.8802830343305771, 0.41875110355768747, 0.13958370118589583, 0.3838551782612135, 0.7553486202175094, 0.05035657468116729, 0.07553486202175094, 0.025178287340583645, 0.06294571835145911, 0.7797893704012275, 0.1376098888943343, 0.030579975309852063, 0.010193325103284022, 0.020386650206568043, 0.015289987654926031, 0.8406074531988429, 0.1209965273543789, 0.03184119140904708, 0.9052643093086676, 0.05124137599860383, 0.025620687999301915, 0.6244000098451684, 0.2775111154867415, 0.3168022523065514, 0.6336045046131028, 0.04525746461522163, 0.7731359085330306, 0.0731344778342056, 0.03134334764323097, 0.03134334764323097, 0.03134334764323097, 0.05223891273871828, 0.5537780759856927, 0.3691853839904618, 0.3897140665303516, 0.5567343807576451, 0.27118835291715476, 0.6101737940635982, 0.7985305706983062, 0.5062887321019733, 0.44300264058922667, 0.7895683152553428, 0.7749950672650688, 0.8816029848875079, 0.7139017554119627, 0.05636066490094442, 0.07514755320125924, 0.13150821810220364, 0.24119634545588464, 0.6431902545490257, 0.11291470190124157, 0.07527646793416105, 0.7527646793416105, 0.812902600701324, 0.1083870134268432, 0.7567188776099683, 0.8910565966093639, 0.6048526518000935, 0.10080877530001559, 0.252021938250039, 0.15856374342044455, 0.7399641359620744, 0.7544458353329139, 0.9001241821352115, 0.7873264503760221, 0.07157513185236565, 0.7634621546813458, 0.9020860130288272, 0.740964022506046, 0.526334548309615, 0.2631672741548075, 0.1821927282610206, 0.8258485082275596, 0.5977156356148663, 0.8366077699604654, 0.7138680225083102, 0.23795600750277007, 0.7694446791352522, 0.18320111407982193, 0.828614827849884, 0.9828991935935475, 0.5286605821064264, 0.2467082716496657, 0.17622019403547548, 0.8429965068224442, 0.6570903013323898, 0.28161012914245276, 0.6050059743114667, 0.1100010862384485, 0.220002172476897, 0.8738426599406578, 0.07412058276282366, 0.023406499819839048, 0.007802166606613016, 0.007802166606613016, 0.007802166606613016, 0.6980860469355508, 0.07348274178268956, 0.16737735628279288, 0.012247123630448258, 0.008164749086965507, 0.008164749086965507, 0.024494247260896516, 0.6829776899114296, 0.10118187998687846, 0.2023637599737569, 0.8070880495757761, 0.3666151705921889, 0.45826896324023614, 0.7957437230431302, 0.1050381714416932, 0.019097849353035126, 0.02546379913738017, 0.006365949784345042, 0.015914874460862607, 0.022280824245207647, 0.006365949784345042, 0.798702634619031, 0.6250347042526598, 0.8348215155637213, 0.08562271954499706, 0.04281135977249853, 0.5650711807477513, 0.388486436764079, 0.7656733150075693, 0.08778420172061305, 0.058522801147075365, 0.03901520076471691, 0.0048769000955896135, 0.0048769000955896135, 0.03413830066912729, 0.5994939770271531, 0.8027501215838664, 0.1146785887976952, 0.0286696471994238, 0.834619648038265, 0.7957510148212396, 0.776715429956138, 0.8590534577550436, 0.8636945298094049, 0.07079463359093482, 0.0424767801545609, 0.4240116174384687, 0.4240116174384687, 0.6940259931982101, 0.38257556664791503, 0.5526091518247661, 0.8018332059955293, 0.014578785563555078, 0.029157571127110156, 0.10205149894488555, 0.04373635669066523, 0.8055927439663003, 0.12393734522558467, 0.28615079704684176, 0.6438392933553939, 0.7637652513042642, 0.9296508477333678, 0.7946282874790348, 0.3693209955889696, 0.1846604977944848, 0.3693209955889696, 0.615103545771832, 0.06834483841909245, 0.11390806403182074, 0.1822529024509132, 0.3062552450732039, 0.15312762253660195, 0.45938286760980584, 0.7945495674975416, 0.5329586090220313, 0.3366054372770724, 0.1122018124256908, 0.41930544762073024, 0.20965272381036512, 0.09317898836016228, 0.2562422179904463, 0.8513044502422291, 0.8350896810702905, 0.7059963543408779, 0.9487383477921628, 0.010659981435866998, 0.021319962871733995, 0.8723056509121123, 0.05071544482047165, 0.020286177928188657, 0.030429266892282987, 0.28970251765230465, 0.5794050353046093, 0.3147609894400598, 0.577061813973443, 0.836006630242303, 0.011297386895166257, 0.0790817082661638, 0.05648693447583129, 0.668731612960473, 0.7495883349460658, 0.8705724449113993, 0.800537771349236, 0.7809841610831966, 0.5147365690861945, 0.4412027735024524, 0.4289410129380308, 0.4289410129380308, 0.9426864413151615, 0.19480509251776928, 0.7142853392318207, 0.8258795450018384, 0.758647306748035, 0.8745553826945005, 0.7194410327085987, 0.8823262177312424, 0.9089138293938279, 0.05927698887351052, 0.019758996291170172, 0.7981223150948716, 0.5572453434269294, 0.01797565623957837, 0.37748878103114575, 0.13729770148477724, 0.7551373581662748, 0.31547341707065646, 0.536304809020116, 0.09464202512119693, 0.1345773844937231, 0.8074643069623386, 0.606695035669548, 0.8009556419789855, 0.0340832188076164, 0.1363328752304656, 0.8077695752874479, 0.6036664308395056, 0.7575698548312974, 0.7845397596849315, 0.94542318777413, 0.8356630803805805, 0.18781118126144966, 0.6573391344150737, 0.3760747468193388, 0.5265046455470742, 0.6201538439267245, 0.14591855151217045, 0.14591855151217045, 0.07295927575608523, 0.6124019603338998, 0.3062009801669499, 0.7713213345284066, 0.7099103398001313, 0.017106273248195934, 0.017106273248195934, 0.04276568312048984, 0.04276568312048984, 0.03421254649639187, 0.07697822961688171, 0.0513188197445878, 0.7020932860534447, 0.04457735149545681, 0.10029904086477781, 0.1448763923602346, 0.7103403819636585, 0.3191816415401321, 0.4255755220535095, 0.7970209053642624, 0.8505730622410737, 0.8678981038323259, 0.1866670384232834, 0.5600011152698502, 0.8191388165615003, 0.11170074771293187, 0.7993299601300898, 0.15542527002529524, 0.836146144793166, 0.3953430143634664, 0.47441161723615966, 0.754363902247568, 0.6698924222849749, 0.5183227593143982, 0.06910970124191976, 0.3109936555886389, 0.05759141770159979, 0.02303656708063992, 0.7859348041494447, 0.2918193425602631, 0.19454622837350874, 0.43772901384039464, 0.6644642894007813, 0.13616071504114372, 0.12526785783785221, 0.03812500021152024, 0.02723214300822874, 0.4621704702202202, 0.15405682340674007, 0.30811364681348014, 0.8363213238625562, 0.7415125209711523, 0.19696426338296233, 0.04634453256069702, 0.8266740523386101, 0.8691967052025874, 0.47579504456624133, 0.47579504456624133, 0.9689005092398665, 0.6702032524413607, 0.604326078650765, 0.2163573190216506, 0.6490719570649518, 0.4820821225159506, 0.15495496795155556, 0.08608609330641975, 0.2410410612579753, 0.8144930674366103, 0.6184455179806048, 0.2683565842719673, 0.44726097378661217, 0.17890438951464488, 0.773500916668682, 0.8425144033562506, 0.028083813445208355, 0.028083813445208355, 0.01872254229680557, 0.07489016918722229, 0.8829800500347972, 0.7231177188675018, 0.04665275605596786, 0.029157972534979912, 0.1924426187308674, 0.9656479872304334, 0.26118045773248366, 0.6529511443312092, 0.7577000086845668, 0.6283892313300143, 0.029923296730000683, 0.16457813201500376, 0.1795397803800041, 0.9306225337424336, 0.7715002409034237, 0.4956059148590127, 0.08260098580983545, 0.3304039432393418, 0.3310028614286144, 0.06620057228572288, 0.46340400600006015, 0.9013552496284568, 0.8670800686523686, 0.2875026231576353, 0.6160770496235043, 0.6111663188809324, 0.7276130450400873, 0.843175607679225, 0.09605798062168384, 0.01600966343694731, 0.01600966343694731, 0.021346217915929746, 0.8803714040365133, 0.7099755295389386, 0.23665850984631287, 0.024481914811687537, 0.016321276541125026, 0.6143199030403951, 0.13354780500878155, 0.02670956100175631, 0.06677390250439078, 0.040064341502634465, 0.10683824400702524, 0.40319730057281844, 0.5375964007637579, 0.6751768224033164, 0.14650063127619128, 0.08917429729855122, 0.05732633397764007, 0.02547837065672892, 0.8009054776392679, 0.7484862971558448, 0.7003686143173551, 0.07781873492415056, 0.10700076052070702, 0.10700076052070702, 0.6718821837322221, 0.8720353550294521, 0.6697222376866707, 0.28198831060491397, 0.8167273260107794, 0.6164313104953095, 0.10366258360994816, 0.7256380852696371, 0.573309947401395, 0.3583187171258719, 0.5200105854405442, 0.05200105854405442, 0.39000793908040815, 0.7762332994931512, 0.07762332994931513, 0.11643499492397269, 0.9499112484590225, 0.5602221386737531, 0.04668517822281276, 0.2801110693368766, 0.8490044012289285, 0.7175406314319043, 0.19134416838184115, 0.8736382453295577, 0.5184384049482151, 0.849298765172267, 0.0936726579234118, 0.012489687723121572, 0.03746906316936472, 0.8198020439832738, 0.7525965694257518, 0.8476150503411433, 0.17389417555373596, 0.17389417555373596, 0.08694708777686798, 0.43473543888433985, 0.7574635221199211, 0.8425861984892834, 0.5912899614751138, 0.6659299834060328, 0.036996110189224045, 0.12332036729741348, 0.024664073459482697, 0.12332036729741348, 0.8146021931082225, 0.8206946745649727, 0.5886655447428749, 0.8475101600606254, 0.8820246477002918, 0.7740143290991006, 0.7957551605474835, 0.4234013266455384, 0.4234013266455384, 0.21723248447911764, 0.6516974534373529, 0.9698457570688739, 0.9232897353345478, 0.03847040563893949, 0.030776324511151594, 0.672640099008724, 0.12612001856413574, 0.168160024752181, 0.0922066649417754, 0.8605955394565704, 0.12751245825843532, 0.8288309786798297, 0.4173552232264732, 0.5008262678717679, 0.38813379160787664, 0.4777031281327712, 0.0895693365248946, 0.21328789543983925, 0.6398636863195177, 0.7047185358989781, 0.9688340887600894, 0.6930297159417992, 0.1762024648739627, 0.7635440144538383, 0.45100943264708543, 0.07516823877451424, 0.43221737295345686, 0.2269319197003333, 0.2269319197003333, 0.4538638394006666, 0.13624657615236457, 0.7493561688380052, 0.770197724033866, 0.145713082925326, 0.062448464110854, 0.20580861384667434, 0.4116172276933487, 0.07359739222068169, 0.8095713144274987, 0.3603603855370531, 0.5855856264977112, 0.8005377717765603, 0.6310901305856872, 0.0788862663232109, 0.19721566580802724, 0.0788862663232109, 0.18020774593790712, 0.7208309837516285, 0.7413155995395599, 0.4422899707060401, 0.4422899707060401, 0.3980566431095735, 0.0796113286219147, 0.3980566431095735, 0.18307219774258762, 0.7780568404059974, 0.6328200620184181, 0.27120859800789343, 0.2551269042072921, 0.6633299509389595, 0.38954864553150836, 0.4494792063825096, 0.08989584127650192, 0.8483974284974715, 0.48787802295478044, 0.42689327008543293, 0.5019754282187229, 0.23622373092645785, 0.23622373092645785, 0.9648137577693975, 0.026615551938466136, 0.9809397934568144, 0.8285179204893549, 0.7957602962972324, 0.7676474949972513, 0.6276070263352223, 0.5026790003228319, 0.4188991669356932, 0.5987742579787502, 0.7916716259491295, 0.7529390603652075, 0.9682168273802595, 0.6705767393342073, 0.800157298173357, 0.026234665513880557, 0.026234665513880557, 0.13117332756940278, 0.9447221385763328, 0.681737034678871, 0.09089827129051614, 0.16113784456046043, 0.012395218812343109, 0.00826347920822874, 0.00826347920822874, 0.01652695841645748, 0.024790437624686218, 0.7090245727796359, 0.39267046232632175, 0.5890056934894826, 0.10352304731530183, 0.5693767602341601, 0.3105691419459055, 0.5712851668709236, 0.3173806482616242, 0.8901907296713674, 0.7195652411636666, 0.6347948967750889, 0.14106553261668645, 0.14106553261668645, 0.8721348449456126, 0.7437875608624636, 0.02187610473124893, 0.19688494258124034, 0.7703727140327338, 0.9626132329203846, 0.8660105106721792, 0.5399657854726182, 0.4319726283780945, 0.808250105154553, 0.7684030278082764, 0.9681667794772552, 0.5309770437312245, 0.35398469582081626, 0.7731520781782787, 0.728329489657942, 0.4622818348398227, 0.3467113761298671, 0.8333322828195209, 0.035460948205085996, 0.017730474102542998, 0.08865237051271498, 0.8703753830782996, 0.9367826365310257, 0.013287696972071286, 0.013287696972071286, 0.01993154545810693, 0.006643848486035643, 0.9509170654948823, 0.8873777887499172, 0.9510171617985667, 0.020021413932601404, 0.010010706966300702, 0.8875083966425762, 0.9249144370307917, 0.023715754795661327, 0.03557363219349199, 0.850816197206614, 0.8894420035108354, 0.7707701276724327, 0.8252192140767882, 0.27814339959344014, 0.5562867991868803, 0.8480297064900706, 0.08255156434859094, 0.02251406300416117, 0.007504687668053722, 0.015009375336107444, 0.007504687668053722, 0.8868280214606719, 0.030846192050805975, 0.07711548012701494, 0.13056376120864135, 0.6528188060432067, 0.5393226989755798, 0.21572907959023194, 0.6745710138419058, 0.7118780052921914, 0.752591323711574, 0.474881031080277, 0.316587354053518, 0.9267692955602645, 0.7895059173633311, 0.8916254184863959, 0.791471473711312, 0.10123472338167944, 0.004601578335530884, 0.013804735006592652, 0.009203156671061767, 0.013804735006592652, 0.013804735006592652, 0.023007891677654418, 0.023007891677654418, 0.6235116354929421, 0.11690843165492663, 0.07793895443661776, 0.11690843165492663, 0.02435592326144305, 0.03409829256602027, 0.8442161400931412, 0.8140913143817817, 0.9437324727739367, 0.04967013014599667, 0.6992464481946774, 0.8666054280529346, 0.8162857438992475, 0.05895809333458887, 0.6190599800131831, 0.2653114200056499, 0.628202023903186, 0.07390612045919835, 0.22171836137759507, 0.022171836137759506, 0.007390612045919835, 0.036953060229599176, 0.6984731332698414, 0.08730914165873017, 0.17461828331746035, 0.7351520256369233, 0.21004343589626379, 0.3063209794044159, 0.12252839176176634, 0.5513777629279486, 0.8371533189224832, 0.8588155705235708, 0.802027962247605, 0.7340960100917692, 0.14920650611621325, 0.03580956146789118, 0.02984130122324265, 0.02984130122324265, 0.01790478073394559, 0.8665111334164579, 0.9228352967599103, 0.05840729726328546, 0.7602669068494687, 0.5913509438467786, 0.845337055824145, 0.31154162631259597, 0.6230832526251919, 0.6049164269890446, 0.7498536472524339, 0.2968418707994803, 0.4947364513324672, 0.6186372083687144, 0.869846553798964, 0.8546113033656063, 0.6966435591479028, 0.5940550878199637, 0.7838576302465251, 0.9033149727005604, 0.8772766572358555, 0.8731474041863977, 0.8118943152053761, 0.6016869672072201, 0.8088470069649423, 0.956095883015592, 0.08545997020409037, 0.7691397318368133, 0.7997689975136567, 0.7725835297697231, 0.7048294049821002, 0.1922262013587546, 0.11559127161344215, 0.693547629680653, 0.6307071726052589, 0.7544708031997772, 0.8999775810426951, 0.017475292835780486, 0.06990117134312195, 0.9297671137635016, 0.05534328058116081, 0.8037862820886792, 0.04653002732783679, 0.8840705192288989, 0.8630298773946998, 0.8121904324853442, 0.46020492093523, 0.368163936748184, 0.8292293301156666, 0.731142257789605, 0.7099807996693439, 0.8150822848593307, 0.7609788561421783, 0.12971230502423495, 0.008647487001615663, 0.008647487001615663, 0.025942461004846987, 0.03891369150727048, 0.021618717504039157, 0.470808099618616, 0.470808099618616, 0.5413111650508322, 0.24058274002259208, 0.18043705501694407, 0.8971670442830112, 0.6554082669129198, 0.2340743810403285, 0.8268399522475431, 0.053002561041509175, 0.02120102441660367, 0.010600512208301835, 0.06360307324981102, 0.46726422610096846, 0.3115094840673123, 0.45720709340671845, 0.45720709340671845, 0.6060748441800684, 0.8214579639370999, 0.7587606805975184, 0.5357991254588272, 0.17859970848627577, 0.17859970848627577, 0.1722162973396681, 0.6888651893586724, 0.6588964824904492, 0.5995227031037087, 0.2786513972172167, 0.08443981733855052, 0.016887963467710106, 0.7964046382126195, 0.111776089573701, 0.031437025192603406, 0.03842303079095972, 0.020958016795068937, 0.5875725919003053, 0.3525435551401832, 0.8551747906779843, 0.06578267620599879, 0.02392097316581774, 0.02392097316581774, 0.029901216457272176, 0.7800733322063842, 0.6885545958145923, 0.858628143353004, 0.7459519722661848, 0.1814477770377206, 0.016128691292241832, 0.008064345646120916, 0.02419303693836275, 0.020160864115302293, 0.72739404879518, 0.5885353488774144, 0.7831079468021757, 0.08498845934287177, 0.030353021193882775, 0.018211812716329667, 0.06070604238776555, 0.01214120847755311, 0.8004102220362724], \"Term\": [\"absorbing\", \"abused\", \"academic\", \"academic\", \"academic\", \"academic\", \"academic\", \"academics\", \"access\", \"access\", \"acquired\", \"acquiring\", \"actions\", \"actions\", \"activity\", \"activity\", \"addition\", \"addressed\", \"adhd\", \"adhd\", \"adhd\", \"adirondack\", \"admirable\", \"adolescents\", \"advances\", \"adventure\", \"adventures\", \"affecting\", \"afraid\", \"afternoon\", \"age\", \"age\", \"ahead\", \"ahead\", \"algebra\", \"algebra\", \"allow\", \"allow\", \"allow\", \"allowing\", \"allowing\", \"aloud\", \"alphabet\", \"alphabet\", \"alternative\", \"alternative\", \"amazing\", \"amazing\", \"amazing\", \"amazing\", \"amazing\", \"amazing\", \"amazing\", \"amazing\", \"amazing\", \"ambassadors\", \"america\", \"america\", \"america\", \"american\", \"animals\", \"appreciate\", \"appreciate\", \"appreciate\", \"appreciative\", \"arctic\", \"area\", \"area\", \"area\", \"aren\", \"aren\", \"array\", \"array\", \"arriving\", \"art\", \"art\", \"assigned\", \"auditory\", \"aunt\", \"authentic\", \"authentic\", \"authentic\", \"autism\", \"autism\", \"autistic\", \"autistic\", \"awesome\", \"awesome\", \"awesome\", \"awesome\", \"background\", \"backgrounds\", \"backgrounds\", \"backgrounds\", \"backgrounds\", \"balls\", \"bands\", \"bands\", \"bands\", \"barely\", \"basic\", \"basic\", \"basics\", \"beautiful\", \"beautiful\", \"beautiful\", \"begins\", \"begins\", \"behavior\", \"behavior\", \"behaviors\", \"behaviors\", \"behaviors\", \"beings\", \"beings\", \"belonging\", \"best\", \"best\", \"best\", \"best\", \"best\", \"best\", \"better\", \"better\", \"better\", \"better\", \"bettering\", \"bins\", \"bleak\", \"blossom\", \"bodies\", \"bodies\", \"bonded\", \"bonus\", \"books\", \"books\", \"books\", \"books\", \"borders\", \"bounce\", \"boys\", \"boys\", \"boys\", \"brains\", \"brains\", \"breaks\", \"breaks\", \"breaks\", \"brick\", \"bridging\", \"bright\", \"bright\", \"bright\", \"bright\", \"brilliant\", \"brilliant\", \"broadway\", \"broken\", \"broken\", \"broken\", \"brooklyn\", \"brooklyn\", \"brooklyn\", \"brooklynite\", \"bubbly\", \"budding\", \"budding\", \"budget\", \"budget\", \"build\", \"build\", \"buses\", \"business\", \"cabs\", \"calmer\", \"capitalize\", \"capture\", \"capture\", \"card\", \"carefully\", \"carpet\", \"carrying\", \"central\", \"certainly\", \"chair\", \"chairs\", \"challenges\", \"challenges\", \"challenges\", \"challenges\", \"challenges\", \"challenges\", \"chance\", \"chance\", \"chance\", \"characteristics\", \"charismatic\", \"chart\", \"chart\", \"child\", \"child\", \"child\", \"child\", \"child\", \"children\", \"children\", \"children\", \"children\", \"children\", \"choose\", \"choose\", \"choose\", \"choosing\", \"chromebook\", \"circumstances\", \"circumstances\", \"circumstances\", \"city\", \"city\", \"city\", \"city\", \"city\", \"city\", \"citywide\", \"civic\", \"class\", \"class\", \"class\", \"class\", \"class\", \"class\", \"classes\", \"classes\", \"classes\", \"classes\", \"classes\", \"classes\", \"classes\", \"classics\", \"classmate\", \"classroom\", \"classroom\", \"classroom\", \"classroom\", \"classroom\", \"classroom\", \"classroom\", \"clay\", \"clever\", \"clever\", \"clever\", \"clip\", \"cloud\", \"cognitive\", \"cognitive\", \"cold\", \"collaboration\", \"collaboration\", \"college\", \"college\", \"colorful\", \"colorful\", \"colorful\", \"combine\", \"come\", \"come\", \"come\", \"come\", \"come\", \"come\", \"coming\", \"coming\", \"coming\", \"coming\", \"commit\", \"communication\", \"communication\", \"community\", \"community\", \"community\", \"community\", \"compare\", \"competent\", \"complain\", \"compliment\", \"computer\", \"concepts\", \"condition\", \"conservation\", \"considering\", \"considering\", \"consists\", \"consists\", \"consists\", \"consists\", \"constant\", \"constant\", \"constant\", \"constant\", \"constantly\", \"constantly\", \"constantly\", \"contained\", \"contained\", \"contained\", \"contains\", \"contains\", \"continually\", \"continue\", \"continue\", \"continue\", \"continue\", \"control\", \"control\", \"cooking\", \"cool\", \"cool\", \"cope\", \"corners\", \"corners\", \"counselor\", \"counselor\", \"courageous\", \"court\", \"craving\", \"create\", \"create\", \"creative\", \"creative\", \"creative\", \"creative\", \"creative\", \"creativity\", \"creators\", \"criteria\", \"crowded\", \"crowded\", \"culinary\", \"curiosity\", \"curiosity\", \"curious\", \"curious\", \"curious\", \"cuts\", \"cuts\", \"dad\", \"daily\", \"daily\", \"daily\", \"daily\", \"daily\", \"daily\", \"dark\", \"day\", \"day\", \"day\", \"day\", \"day\", \"day\", \"day\", \"day\", \"day\", \"day\", \"day\", \"days\", \"days\", \"dealing\", \"dealing\", \"debate\", \"debate\", \"decreased\", \"defy\", \"defying\", \"delays\", \"delays\", \"delays\", \"demanding\", \"demanding\", \"deprived\", \"descendants\", \"desk\", \"desks\", \"desks\", \"desks\", \"desks\", \"despite\", \"despite\", \"despite\", \"despite\", \"determination\", \"determination\", \"developed\", \"developed\", \"developments\", \"devotion\", \"different\", \"different\", \"different\", \"different\", \"digital\", \"digital\", \"directing\", \"disabilities\", \"disabilities\", \"disabilities\", \"disabilities\", \"disabilities\", \"disadvantages\", \"disciplined\", \"discovered\", \"discovering\", \"disorder\", \"disorders\", \"district\", \"district\", \"district\", \"district\", \"districts\", \"districts\", \"disturbance\", \"diverse\", \"diverse\", \"diverse\", \"diverse\", \"diverse\", \"dna\", \"doesn\", \"doesn\", \"doesn\", \"dollars\", \"domestic\", \"domestic\", \"don\", \"don\", \"don\", \"don\", \"door\", \"door\", \"door\", \"dozen\", \"dreamers\", \"dreamers\", \"dreaming\", \"eager\", \"eager\", \"eager\", \"eager\", \"eager\", \"eager\", \"eager\", \"eagerness\", \"eagerness\", \"earliest\", \"ease\", \"easily\", \"easily\", \"east\", \"east\", \"eclipse\", \"education\", \"education\", \"education\", \"education\", \"education\", \"education\", \"education\", \"efficient\", \"eighth\", \"eighth\", \"eighth\", \"einstein\", \"elementary\", \"elementary\", \"elementary\", \"embracing\", \"emotional\", \"emotional\", \"emotional\", \"empower\", \"empower\", \"empowering\", \"empowering\", \"empowers\", \"end\", \"endeavors\", \"endeavors\", \"endeavors\", \"energetic\", \"energetic\", \"energetic\", \"energetic\", \"energize\", \"engage\", \"engaged\", \"engaged\", \"engaged\", \"engaged\", \"engaged\", \"engagement\", \"english\", \"english\", \"english\", \"english\", \"english\", \"english\", \"enrich\", \"enrich\", \"enriching\", \"enrollments\", \"ensure\", \"ensure\", \"ensures\", \"ensuring\", \"entire\", \"entire\", \"entrepreneurs\", \"environment\", \"environment\", \"environment\", \"environment\", \"errands\", \"europe\", \"exactly\", \"exactly\", \"exam\", \"exam\", \"excellence\", \"excellence\", \"excellence\", \"excitable\", \"excited\", \"excited\", \"excited\", \"excited\", \"excited\", \"exciting\", \"exciting\", \"exciting\", \"exemplary\", \"exercise\", \"exercise\", \"existent\", \"experiences\", \"experiences\", \"experiences\", \"experiences\", \"explore\", \"explore\", \"explore\", \"explore\", \"explosion\", \"exposed\", \"exposed\", \"exposed\", \"exposed\", \"express\", \"expressed\", \"expressing\", \"extends\", \"exterior\", \"extraordinary\", \"fabulous\", \"face\", \"face\", \"face\", \"face\", \"face\", \"face\", \"face\", \"faced\", \"faced\", \"faced\", \"faces\", \"faces\", \"facilitates\", \"facilitator\", \"fall\", \"fall\", \"fall\", \"families\", \"families\", \"families\", \"families\", \"families\", \"fantastic\", \"fantastic\", \"fathers\", \"favor\", \"favorite\", \"favorite\", \"favorite\", \"feet\", \"feet\", \"feet\", \"figuring\", \"filled\", \"filled\", \"filled\", \"film\", \"financially\", \"fingerprints\", \"fingertips\", \"fits\", \"flash\", \"flatbush\", \"flatbush\", \"flexible\", \"flexible\", \"floor\", \"flow\", \"flowers\", \"flowing\", \"fly\", \"focus\", \"focus\", \"folders\", \"follows\", \"forever\", \"forgetting\", \"formation\", \"foundations\", \"fourth\", \"fourth\", \"fourth\", \"fourth\", \"free\", \"free\", \"free\", \"free\", \"free\", \"free\", \"free\", \"freely\", \"friend\", \"friendships\", \"friendships\", \"frustrated\", \"frustrated\", \"frustrating\", \"frustration\", \"fuel\", \"fulfilling\", \"fulfilling\", \"fully\", \"fully\", \"fully\", \"function\", \"function\", \"fund\", \"fundamental\", \"funds\", \"funds\", \"funny\", \"funny\", \"funny\", \"future\", \"future\", \"future\", \"future\", \"gangs\", \"gathering\", \"general\", \"general\", \"general\", \"geographic\", \"geographic\", \"geography\", \"gift\", \"girls\", \"girls\", \"girls\", \"goal\", \"goal\", \"goal\", \"goals\", \"goals\", \"goals\", \"goals\", \"goals\", \"goals\", \"gone\", \"gone\", \"goofy\", \"got\", \"gotten\", \"grade\", \"grade\", \"grade\", \"grade\", \"grade\", \"grade\", \"grade\", \"grade\", \"grade\", \"grade\", \"grandparent\", \"grape\", \"gross\", \"group\", \"group\", \"group\", \"group\", \"group\", \"growing\", \"growth\", \"growth\", \"guide\", \"gusto\", \"gym\", \"gymnasium\", \"gymnasium\", \"handicapped\", \"handle\", \"hands\", \"hands\", \"hands\", \"hands\", \"happens\", \"happens\", \"happens\", \"happiest\", \"hard\", \"hard\", \"hard\", \"hard\", \"hard\", \"hard\", \"harder\", \"harder\", \"hardships\", \"hardships\", \"hardships\", \"hardships\", \"heads\", \"hear\", \"hear\", \"hear\", \"heart\", \"heart\", \"help\", \"help\", \"help\", \"help\", \"help\", \"heroes\", \"high\", \"high\", \"high\", \"high\", \"high\", \"hinder\", \"home\", \"home\", \"home\", \"home\", \"home\", \"homeless\", \"homeless\", \"homeless\", \"homes\", \"homes\", \"homes\", \"homes\", \"hooks\", \"hope\", \"hope\", \"hope\", \"hopeful\", \"hopeful\", \"huge\", \"huge\", \"human\", \"human\", \"humanities\", \"humanity\", \"hunger\", \"imagination\", \"imagination\", \"imaginations\", \"imaginations\", \"impacts\", \"impacts\", \"impaired\", \"impairment\", \"impairments\", \"improve\", \"improved\", \"improvements\", \"impulsive\", \"includes\", \"includes\", \"includes\", \"including\", \"including\", \"income\", \"income\", \"income\", \"income\", \"income\", \"indies\", \"influence\", \"injury\", \"innovation\", \"input\", \"inquiry\", \"inquiry\", \"insecurities\", \"inspiration\", \"inspirations\", \"inspire\", \"inspire\", \"inspire\", \"inspire\", \"instead\", \"instead\", \"institutions\", \"instruction\", \"instruction\", \"integrated\", \"integrated\", \"integrated\", \"intellectual\", \"intellectual\", \"intelligences\", \"intelligent\", \"intelligent\", \"intensely\", \"interfere\", \"interfere\", \"intervention\", \"intervention\", \"inviting\", \"inviting\", \"inviting\", \"islander\", \"isn\", \"isolated\", \"japanese\", \"jazz\", \"john\", \"john\", \"journals\", \"joys\", \"june\", \"junior\", \"just\", \"just\", \"just\", \"kennedy\", \"kennedy\", \"keys\", \"keys\", \"kindergarten\", \"kindergarten\", \"kindergarten\", \"kindergarten\", \"kindergarten\", \"kindergarten\", \"kindle\", \"kits\", \"knowledge\", \"knowledge\", \"knowledge\", \"knows\", \"knows\", \"lack\", \"lack\", \"lack\", \"lake\", \"language\", \"language\", \"language\", \"language\", \"language\", \"language\", \"language\", \"language\", \"largest\", \"largest\", \"largest\", \"lastly\", \"late\", \"late\", \"latin\", \"latin\", \"laughter\", \"laughter\", \"laughter\", \"leaders\", \"learn\", \"learn\", \"learn\", \"learn\", \"learn\", \"learn\", \"learn\", \"learn\", \"learn\", \"learn\", \"learners\", \"learners\", \"learners\", \"learners\", \"learners\", \"learners\", \"learners\", \"learning\", \"learning\", \"learning\", \"learning\", \"learning\", \"learning\", \"learning\", \"learning\", \"learning\", \"learning\", \"learns\", \"lego\", \"libraries\", \"libraries\", \"lies\", \"lifelong\", \"lifelong\", \"lifelong\", \"like\", \"like\", \"like\", \"like\", \"like\", \"like\", \"line\", \"line\", \"line\", \"lingual\", \"little\", \"little\", \"little\", \"little\", \"little\", \"little\", \"little\", \"live\", \"live\", \"lives\", \"lives\", \"lives\", \"lives\", \"lives\", \"lives\", \"location\", \"location\", \"long\", \"long\", \"long\", \"looking\", \"looking\", \"looking\", \"looking\", \"lot\", \"lot\", \"lot\", \"loud\", \"love\", \"love\", \"love\", \"love\", \"love\", \"love\", \"love\", \"low\", \"low\", \"low\", \"low\", \"low\", \"luckiest\", \"lunch\", \"lunch\", \"lunch\", \"lunch\", \"lunch\", \"lunch\", \"lunch\", \"luxury\", \"mache\", \"magic\", \"magic\", \"magic\", \"magical\", \"magical\", \"magnet\", \"major\", \"major\", \"major\", \"majority\", \"majority\", \"majority\", \"majority\", \"majority\", \"make\", \"make\", \"make\", \"make\", \"make\", \"make\", \"materials\", \"materials\", \"materials\", \"math\", \"math\", \"math\", \"mean\", \"mean\", \"meaningful\", \"meaningful\", \"meaningful\", \"meet\", \"meet\", \"meet\", \"meet\", \"meet\", \"meet\", \"meeting\", \"meeting\", \"melting\", \"melting\", \"memorable\", \"memorable\", \"memory\", \"mental\", \"mental\", \"mentally\", \"metamorphosis\", \"methods\", \"minds\", \"minds\", \"minds\", \"minds\", \"mini\", \"mini\", \"minute\", \"minute\", \"minute\", \"minutes\", \"minutes\", \"miracle\", \"mistakes\", \"mixed\", \"mixed\", \"mixed\", \"mixture\", \"mixture\", \"mobility\", \"mom\", \"moment\", \"moment\", \"monetary\", \"mono\", \"montessori\", \"morning\", \"morning\", \"morning\", \"mothers\", \"mott\", \"mountains\", \"movement\", \"movement\", \"moving\", \"moving\", \"museum\", \"music\", \"nall\", \"nall\", \"nall\", \"nalmost\", \"nalthough\", \"nalthough\", \"nearly\", \"nearly\", \"nearly\", \"need\", \"need\", \"need\", \"need\", \"need\", \"need\", \"needs\", \"needs\", \"needs\", \"needs\", \"needs\", \"needs\", \"needs\", \"neighborhoods\", \"neighborhoods\", \"neighborhoods\", \"nest\", \"neven\", \"neven\", \"new\", \"new\", \"new\", \"new\", \"new\", \"new\", \"new\", \"new\", \"nice\", \"nlast\", \"nmany\", \"nmany\", \"nmany\", \"nmost\", \"nmost\", \"nmy\", \"nmy\", \"nmy\", \"nmy\", \"nmy\", \"nmy\", \"nmy\", \"nno\", \"non\", \"non\", \"non\", \"nonfiction\", \"notebook\", \"notoriously\", \"ntechnology\", \"nthe\", \"nthe\", \"nthe\", \"nthere\", \"nthere\", \"nuclear\", \"numbers\", \"numbers\", \"nwe\", \"nwe\", \"nwe\", \"nwe\", \"nwe\", \"nwhen\", \"nwhen\", \"nyou\", \"nyou\", \"obesity\", \"occupational\", \"occur\", \"odds\", \"odds\", \"odds\", \"offer\", \"offer\", \"offer\", \"offer\", \"offered\", \"offered\", \"offered\", \"oftentimes\", \"old\", \"old\", \"old\", \"olds\", \"olds\", \"olds\", \"olds\", \"online\", \"operate\", \"opinions\", \"opportunities\", \"opportunities\", \"opportunities\", \"opportunity\", \"opportunity\", \"opportunity\", \"opportunity\", \"optimal\", \"optimal\", \"options\", \"options\", \"order\", \"order\", \"order\", \"order\", \"ordinary\", \"organizational\", \"organizations\", \"orientation\", \"outcomes\", \"outdated\", \"outdated\", \"outlook\", \"outlook\", \"overcome\", \"overcrowded\", \"overcrowded\", \"overrun\", \"pacific\", \"page\", \"par\", \"parental\", \"parents\", \"parents\", \"parents\", \"partnership\", \"passion\", \"passion\", \"passion\", \"passions\", \"passions\", \"path\", \"path\", \"path\", \"pathologist\", \"pathologist\", \"patient\", \"peers\", \"peers\", \"peers\", \"pens\", \"peoples\", \"percentages\", \"peril\", \"perseverance\", \"persevering\", \"phenomenal\", \"phenomenal\", \"photography\", \"photography\", \"physical\", \"physical\", \"physical\", \"physical\", \"physically\", \"physically\", \"physics\", \"place\", \"place\", \"place\", \"place\", \"place\", \"place\", \"place\", \"place\", \"play\", \"play\", \"play\", \"play\", \"playground\", \"plentiful\", \"plentiful\", \"pocket\", \"poetry\", \"polite\", \"political\", \"political\", \"poor\", \"poor\", \"poorest\", \"poorest\", \"popular\", \"portion\", \"portion\", \"poses\", \"position\", \"positive\", \"positive\", \"positive\", \"positive\", \"positive\", \"poster\", \"pot\", \"pot\", \"pot\", \"poverty\", \"poverty\", \"poverty\", \"poverty\", \"poverty\", \"power\", \"power\", \"power\", \"praise\", \"pre\", \"pre\", \"pre\", \"prefer\", \"pregnancies\", \"prek\", \"prek\", \"prepare\", \"presence\", \"presenting\", \"prevent\", \"prevent\", \"price\", \"price\", \"price\", \"price\", \"prizes\", \"producing\", \"professional\", \"professional\", \"professional\", \"profit\", \"program\", \"program\", \"program\", \"program\", \"program\", \"prouder\", \"provide\", \"provide\", \"provide\", \"provide\", \"providing\", \"pull\", \"pull\", \"pushes\", \"qualify\", \"qualify\", \"qualify\", \"qualify\", \"questioners\", \"quick\", \"quiet\", \"quiet\", \"quiet\", \"quote\", \"quote\", \"quote\", \"races\", \"rainbow\", \"raised\", \"raised\", \"rank\", \"reached\", \"reading\", \"reading\", \"reading\", \"reading\", \"reading\", \"reads\", \"ready\", \"ready\", \"ready\", \"ready\", \"really\", \"really\", \"really\", \"really\", \"really\", \"really\", \"reasons\", \"reasons\", \"receive\", \"receive\", \"receive\", \"receive\", \"receive\", \"recognized\", \"redirecting\", \"reduced\", \"reduced\", \"reduced\", \"reduced\", \"refuse\", \"regards\", \"regular\", \"regular\", \"relationship\", \"relies\", \"religion\", \"religion\", \"remain\", \"remain\", \"remember\", \"remember\", \"remember\", \"require\", \"require\", \"require\", \"research\", \"reside\", \"reside\", \"reside\", \"resides\", \"resilient\", \"resilient\", \"resource\", \"resourceful\", \"resources\", \"resources\", \"resources\", \"resources\", \"respond\", \"response\", \"restrictive\", \"reward\", \"reward\", \"reward\", \"reward\", \"rewarded\", \"rewards\", \"richly\", \"room\", \"room\", \"room\", \"room\", \"room\", \"roots\", \"routes\", \"routinely\", \"rug\", \"sake\", \"sample\", \"sat\", \"savvy\", \"savvy\", \"scholarship\", \"scholarship\", \"schools\", \"science\", \"science\", \"science\", \"scientists\", \"scientists\", \"scientists\", \"seating\", \"seating\", \"seats\", \"seats\", \"sections\", \"sections\", \"seeing\", \"seeing\", \"seeing\", \"select\", \"select\", \"selected\", \"sense\", \"sensitive\", \"sensory\", \"sensory\", \"services\", \"services\", \"services\", \"servicing\", \"servicing\", \"servicing\", \"sessions\", \"sessions\", \"set\", \"set\", \"set\", \"setup\", \"setup\", \"seuss\", \"seuss\", \"severe\", \"severe\", \"sexual\", \"shelters\", \"shelters\", \"shelters\", \"shelters\", \"shoes\", \"shoes\", \"shopping\", \"silly\", \"silly\", \"similar\", \"similar\", \"similar\", \"simple\", \"simple\", \"simplest\", \"simplest\", \"singing\", \"singing\", \"sit\", \"sit\", \"sit\", \"site\", \"sitting\", \"sitting\", \"sixth\", \"sixth\", \"sixth\", \"skills\", \"skills\", \"small\", \"smartboard\", \"smoothly\", \"socialization\", \"solely\", \"solid\", \"solid\", \"solution\", \"source\", \"spaces\", \"spanish\", \"sparks\", \"speak\", \"speak\", \"speak\", \"speak\", \"speaking\", \"special\", \"special\", \"special\", \"special\", \"special\", \"special\", \"special\", \"special\", \"species\", \"spectrum\", \"spectrum\", \"speech\", \"speech\", \"speech\", \"spent\", \"spent\", \"spontaneous\", \"spunky\", \"stand\", \"stand\", \"stand\", \"standing\", \"state\", \"state\", \"state\", \"statement\", \"states\", \"station\", \"status\", \"status\", \"staying\", \"steer\", \"stem\", \"stimulating\", \"stimulating\", \"stools\", \"stopping\", \"stretch\", \"stretch\", \"strong\", \"strong\", \"strong\", \"strong\", \"structure\", \"student\", \"student\", \"student\", \"student\", \"student\", \"studies\", \"studio\", \"succeed\", \"succeed\", \"succeed\", \"succeeds\", \"success\", \"success\", \"success\", \"successfully\", \"suffer\", \"suggestions\", \"sum\", \"superheroes\", \"superheroes\", \"supplies\", \"supplies\", \"supplies\", \"supplies\", \"supplies\", \"supplies\", \"support\", \"support\", \"support\", \"supposed\", \"supposed\", \"surround\", \"surround\", \"switch\", \"symbols\", \"syndrome\", \"tables\", \"tables\", \"tactile\", \"tad\", \"talkers\", \"teach\", \"teach\", \"teach\", \"teach\", \"teach\", \"teach\", \"teach\", \"teach\", \"teach\", \"teacher\", \"teacher\", \"teacher\", \"teacher\", \"teacher\", \"teacher\", \"teammates\", \"tech\", \"technology\", \"technology\", \"teen\", \"tenth\", \"therapist\", \"therapy\", \"therapy\", \"therapy\", \"things\", \"things\", \"things\", \"things\", \"things\", \"things\", \"thinkers\", \"thinkers\", \"thinkers\", \"thought\", \"thought\", \"thoughtful\", \"thoughtful\", \"thoughtful\", \"thrilled\", \"thrown\", \"tied\", \"title\", \"title\", \"title\", \"title\", \"title\", \"title\", \"tone\", \"tools\", \"tools\", \"trade\", \"tradition\", \"training\", \"trains\", \"trains\", \"traits\", \"transform\", \"translate\", \"translate\", \"traumatic\", \"travelers\", \"treasure\", \"treasures\", \"trial\", \"twice\", \"type\", \"uncommon\", \"underprivileged\", \"understands\", \"unfair\", \"unfortunate\", \"united\", \"units\", \"units\", \"universities\", \"unsafe\", \"upcoming\", \"upcoming\", \"ups\", \"ups\", \"upward\", \"usa\", \"use\", \"use\", \"use\", \"variety\", \"variety\", \"venues\", \"verbal\", \"verbal\", \"views\", \"virtually\", \"vision\", \"vision\", \"visit\", \"vivacious\", \"volleyball\", \"volunteer\", \"want\", \"want\", \"want\", \"want\", \"want\", \"want\", \"want\", \"wanting\", \"wanting\", \"warm\", \"warm\", \"warm\", \"washington\", \"watching\", \"watching\", \"ways\", \"ways\", \"ways\", \"ways\", \"ways\", \"went\", \"went\", \"west\", \"west\", \"wholehearted\", \"whopping\", \"wildlife\", \"willingness\", \"willingness\", \"willingness\", \"witness\", \"witness\", \"witty\", \"wonderful\", \"wonderful\", \"wonderful\", \"wonderful\", \"work\", \"work\", \"work\", \"work\", \"work\", \"works\", \"works\", \"world\", \"world\", \"world\", \"world\", \"world\", \"worse\", \"wow\", \"wrong\", \"year\", \"year\", \"year\", \"year\", \"year\", \"year\", \"yearning\", \"yemeni\", \"york\", \"york\", \"york\", \"york\", \"york\", \"york\", \"zone\"]}, \"R\": 30, \"lambda.step\": 0.01, \"plot.opts\": {\"xlab\": \"PC1\", \"ylab\": \"PC2\"}, \"topic.order\": [13, 10, 2, 1, 19, 3, 9, 14, 12, 16, 4, 18, 7, 17, 20, 11, 15, 5, 8, 6]};\n",
       "\n",
       "function LDAvis_load_lib(url, callback){\n",
       "  var s = document.createElement('script');\n",
       "  s.src = url;\n",
       "  s.async = true;\n",
       "  s.onreadystatechange = s.onload = callback;\n",
       "  s.onerror = function(){console.warn(\"failed to load library \" + url);};\n",
       "  document.getElementsByTagName(\"head\")[0].appendChild(s);\n",
       "}\n",
       "\n",
       "if(typeof(LDAvis) !== \"undefined\"){\n",
       "   // already loaded: just create the visualization\n",
       "   !function(LDAvis){\n",
       "       new LDAvis(\"#\" + \"ldavis_el634851148826130643189966741\", ldavis_el634851148826130643189966741_data);\n",
       "   }(LDAvis);\n",
       "}else if(typeof define === \"function\" && define.amd){\n",
       "   // require.js is available: use it to load d3/LDAvis\n",
       "   require.config({paths: {d3: \"https://cdnjs.cloudflare.com/ajax/libs/d3/3.5.5/d3.min\"}});\n",
       "   require([\"d3\"], function(d3){\n",
       "      window.d3 = d3;\n",
       "      LDAvis_load_lib(\"https://cdn.rawgit.com/bmabey/pyLDAvis/files/ldavis.v1.0.0.js\", function(){\n",
       "        new LDAvis(\"#\" + \"ldavis_el634851148826130643189966741\", ldavis_el634851148826130643189966741_data);\n",
       "      });\n",
       "    });\n",
       "}else{\n",
       "    // require.js not available: dynamically load d3 & LDAvis\n",
       "    LDAvis_load_lib(\"https://cdnjs.cloudflare.com/ajax/libs/d3/3.5.5/d3.min.js\", function(){\n",
       "         LDAvis_load_lib(\"https://cdn.rawgit.com/bmabey/pyLDAvis/files/ldavis.v1.0.0.js\", function(){\n",
       "                 new LDAvis(\"#\" + \"ldavis_el634851148826130643189966741\", ldavis_el634851148826130643189966741_data);\n",
       "            })\n",
       "         });\n",
       "}\n",
       "</script>"
      ],
      "text/plain": [
       "PreparedData(topic_coordinates=            Freq  cluster  topics         x         y\n",
       "topic                                                \n",
       "12     67.913729        1       1 -0.111778 -0.034817\n",
       "9       8.216426        1       2 -0.211521 -0.073786\n",
       "1       4.351058        1       3 -0.266507 -0.140520\n",
       "0       2.538007        1       4 -0.232547  0.307050\n",
       "18      2.067090        1       5 -0.125105 -0.064381\n",
       "2       1.453167        1       6  0.000411  0.002914\n",
       "8       1.202026        1       7 -0.027031 -0.059233\n",
       "13      1.195761        1       8  0.040307  0.055049\n",
       "11      1.133352        1       9  0.043620 -0.023259\n",
       "15      1.087217        1      10  0.069275  0.022620\n",
       "3       1.071231        1      11  0.060168 -0.010667\n",
       "17      1.001789        1      12  0.017959 -0.021249\n",
       "6       0.998939        1      13  0.078285  0.013940\n",
       "16      0.899138        1      14  0.105989  0.000951\n",
       "19      0.894614        1      15  0.070380  0.029517\n",
       "10      0.847840        1      16  0.105668  0.006175\n",
       "14      0.806998        1      17  0.101906 -0.000470\n",
       "4       0.804692        1      18  0.101697  0.000052\n",
       "7       0.792866        1      19  0.098958 -0.002075\n",
       "5       0.724058        1      20  0.079866 -0.007812, topic_info=     Category        Freq           Term       Total  loglift  logprob\n",
       "term                                                                  \n",
       "598   Default  361.000000           come  361.000000  30.0000  30.0000\n",
       "1987  Default  403.000000          learn  403.000000  29.0000  29.0000\n",
       "492   Default  199.000000     challenges  199.000000  28.0000  28.0000\n",
       "552   Default  400.000000      classroom  400.000000  27.0000  27.0000\n",
       "806   Default  336.000000            day  336.000000  26.0000  26.0000\n",
       "1127  Default  244.000000        english  244.000000  25.0000  25.0000\n",
       "3710  Default  231.000000           want  231.000000  24.0000  24.0000\n",
       "2319  Default  314.000000            new  314.000000  23.0000  23.0000\n",
       "1990  Default  243.000000       learners  243.000000  22.0000  22.0000\n",
       "1991  Default  424.000000       learning  424.000000  21.0000  21.0000\n",
       "325   Default  201.000000           best  201.000000  20.0000  20.0000\n",
       "2082  Default  190.000000            low  190.000000  19.0000  19.0000\n",
       "1049  Default  280.000000      education  280.000000  18.0000  18.0000\n",
       "523   Default  269.000000       children  269.000000  17.0000  17.0000\n",
       "3808  Default  248.000000           year  248.000000  16.0000  16.0000\n",
       "3781  Default  286.000000           work  286.000000  15.0000  15.0000\n",
       "2648  Default  183.000000        poverty  183.000000  14.0000  14.0000\n",
       "1506  Default  286.000000          grade  286.000000  13.0000  13.0000\n",
       "1297  Default  161.000000       families  161.000000  12.0000  12.0000\n",
       "2304  Default  244.000000          needs  244.000000  11.0000  11.0000\n",
       "757   Default  139.000000       creative  139.000000  10.0000  10.0000\n",
       "1214  Default  155.000000        excited  155.000000   9.0000   9.0000\n",
       "2748  Default  171.000000        provide  171.000000   8.0000   8.0000\n",
       "540   Default  161.000000           city  161.000000   7.0000   7.0000\n",
       "1236  Default  136.000000    experiences  136.000000   6.0000   6.0000\n",
       "3231  Default  242.000000        special  242.000000   5.0000   5.0000\n",
       "3450  Default  181.000000     technology  181.000000   4.0000   4.0000\n",
       "1932  Default  140.000000   kindergarten  140.000000   3.0000   3.0000\n",
       "1020  Default  212.000000          eager  212.000000   2.0000   2.0000\n",
       "1412  Default  203.000000           free  203.000000   1.0000   1.0000\n",
       "...       ...         ...            ...         ...      ...      ...\n",
       "613   Topic20    0.135338  communication   28.618883  -0.4260  -8.2498\n",
       "2942  Topic20    0.135338    resourceful    3.857739   1.5780  -8.2498\n",
       "3547  Topic20    0.135338       training    8.280721   0.8141  -8.2498\n",
       "2178  Topic20    0.135338        methods   11.342974   0.4995  -8.2498\n",
       "3670  Topic20    0.135338         verbal   21.491498  -0.1396  -8.2498\n",
       "138   Topic20    0.135338        amazing  157.928146  -2.1341  -8.2498\n",
       "2923  Topic20    0.135338        require   51.530899  -1.0141  -8.2498\n",
       "2353  Topic20    0.135338            non   34.880094  -0.6238  -8.2498\n",
       "3434  Topic20    0.135338          teach  217.316739  -2.4533  -8.2498\n",
       "358   Topic20    0.135338          books  120.189850  -1.8610  -8.2498\n",
       "2445  Topic20    0.135338    opportunity   98.589296  -1.6629  -8.2498\n",
       "3811  Topic20    0.135338       yearning    6.873853   1.0004  -8.2498\n",
       "1199  Topic20    0.135338        exactly   10.898837   0.5394  -8.2498\n",
       "46    Topic20    0.135338        actions    9.106366   0.7191  -8.2498\n",
       "3027  Topic20    0.135338          savvy   11.809127   0.4592  -8.2498\n",
       "3444  Topic20    0.135338           tech   11.055271   0.5252  -8.2498\n",
       "2940  Topic20    0.135338       resource   10.301747   0.5958  -8.2498\n",
       "250   Topic20    0.135338       autistic   11.834469   0.4571  -8.2498\n",
       "1705  Topic20    0.135338    imagination   12.377407   0.4122  -8.2498\n",
       "759   Topic20    0.135338     creativity   35.716834  -0.6475  -8.2498\n",
       "3589  Topic20    0.135338           type   15.498470   0.1873  -8.2498\n",
       "1815  Topic20    0.135338    inspiration   13.777629   0.3050  -8.2498\n",
       "2932  Topic20    0.135338         reside   21.420075  -0.1363  -8.2498\n",
       "1338  Topic20    0.135338           film    5.498734   1.2236  -8.2498\n",
       "492   Topic20    0.135338     challenges  199.799721  -2.3692  -8.2498\n",
       "1122  Topic20    0.135338     engagement   18.019871   0.0366  -8.2498\n",
       "1991  Topic20    0.135338       learning  424.386566  -3.1226  -8.2498\n",
       "3163  Topic20    0.135338          sixth   33.866200  -0.5943  -8.2498\n",
       "1845  Topic20    0.135338    intelligent   21.663606  -0.1476  -8.2498\n",
       "1158  Topic20    0.135338         entire   24.364649  -0.2651  -8.2498\n",
       "\n",
       "[1004 rows x 6 columns], token_table=      Topic      Freq         Term\n",
       "term                              \n",
       "6         5  0.746313    absorbing\n",
       "8        10  0.856547       abused\n",
       "9         1  0.729768     academic\n",
       "9         3  0.157401     academic\n",
       "9         4  0.078700     academic\n",
       "9         5  0.014309     academic\n",
       "9        13  0.014309     academic\n",
       "11        1  0.962363    academics\n",
       "19        1  0.962154       access\n",
       "19       10  0.022639       access\n",
       "40        2  0.881017     acquired\n",
       "41        4  0.820248    acquiring\n",
       "46        2  0.109813      actions\n",
       "46        3  0.768693      actions\n",
       "50        1  0.813114     activity\n",
       "50       12  0.150577     activity\n",
       "60        1  0.957111     addition\n",
       "64        7  0.807337    addressed\n",
       "69        2  0.039138         adhd\n",
       "69        3  0.704485         adhd\n",
       "69        5  0.195690         adhd\n",
       "70        8  0.774973   adirondack\n",
       "75        8  0.700843    admirable\n",
       "78       14  0.839343  adolescents\n",
       "87        1  0.596252     advances\n",
       "89        2  0.915524    adventure\n",
       "90        2  0.894273   adventures\n",
       "97        3  0.785060    affecting\n",
       "102       2  0.854507       afraid\n",
       "105       1  0.596816    afternoon\n",
       "...     ...       ...          ...\n",
       "3781      1  0.796405         work\n",
       "3781      2  0.111776         work\n",
       "3781      3  0.031437         work\n",
       "3781      5  0.038423         work\n",
       "3781      8  0.020958         work\n",
       "3787      1  0.587573        works\n",
       "3787      7  0.352544        works\n",
       "3791      1  0.855175        world\n",
       "3791      2  0.065783        world\n",
       "3791      5  0.023921        world\n",
       "3791      8  0.023921        world\n",
       "3791     15  0.029901        world\n",
       "3794     10  0.780073        worse\n",
       "3799      7  0.688555          wow\n",
       "3805      3  0.858628        wrong\n",
       "3808      1  0.745952         year\n",
       "3808      2  0.181448         year\n",
       "3808      5  0.016129         year\n",
       "3808      6  0.008064         year\n",
       "3808      9  0.024193         year\n",
       "3808     12  0.020161         year\n",
       "3811      1  0.727394     yearning\n",
       "3814      1  0.588535       yemeni\n",
       "3818      1  0.783108         york\n",
       "3818      2  0.084988         york\n",
       "3818      5  0.030353         york\n",
       "3818      8  0.018212         york\n",
       "3818     11  0.060706         york\n",
       "3818     12  0.012141         york\n",
       "3826      6  0.800410         zone\n",
       "\n",
       "[1759 rows x 3 columns], R=30, lambda_step=0.01, plot_opts={'xlab': 'PC1', 'ylab': 'PC2'}, topic_order=[13, 10, 2, 1, 19, 3, 9, 14, 12, 16, 4, 18, 7, 17, 20, 11, 15, 5, 8, 6])"
      ]
     },
     "execution_count": 62,
     "metadata": {},
     "output_type": "execute_result"
    }
   ],
   "source": [
    "pyLDAvis.sklearn.prepare(lda_tfidf, dtm_tfidf, tfidf_vectorizer)"
   ]
  },
  {
   "cell_type": "markdown",
   "metadata": {},
   "source": [
    "### Project Essay Visualizations\n",
    "\n",
    "What are some topics in the `project_essay_2` column?  Can you determine a way to incorporate these into a `LogisticRegression` model?"
   ]
  },
  {
   "cell_type": "code",
   "execution_count": null,
   "metadata": {},
   "outputs": [],
   "source": []
  },
  {
   "cell_type": "code",
   "execution_count": null,
   "metadata": {},
   "outputs": [],
   "source": []
  },
  {
   "cell_type": "code",
   "execution_count": null,
   "metadata": {},
   "outputs": [],
   "source": []
  },
  {
   "cell_type": "code",
   "execution_count": null,
   "metadata": {},
   "outputs": [],
   "source": []
  },
  {
   "cell_type": "code",
   "execution_count": null,
   "metadata": {},
   "outputs": [],
   "source": []
  }
 ],
 "metadata": {
  "kernelspec": {
   "display_name": "Python 3",
   "language": "python",
   "name": "python3"
  },
  "language_info": {
   "codemirror_mode": {
    "name": "ipython",
    "version": 3
   },
   "file_extension": ".py",
   "mimetype": "text/x-python",
   "name": "python",
   "nbconvert_exporter": "python",
   "pygments_lexer": "ipython3",
   "version": "3.6.4"
  }
 },
 "nbformat": 4,
 "nbformat_minor": 2
}
