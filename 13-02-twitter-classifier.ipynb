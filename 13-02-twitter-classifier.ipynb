{
 "cells": [
  {
   "cell_type": "markdown",
   "metadata": {},
   "source": [
    "# Building a Classifier\n",
    "\n",
    "**GOALS**\n",
    "\n",
    "Build a Classifier that compares our classification methods in order to predict the individual who is tweeting: \n",
    "\n",
    "\n",
    "```\n",
    "@iamcardib\n",
    "@hillaryclinton\n",
    "@_yiannopoulos\n",
    "@thrashermag\n",
    "@fwmagazine\n",
    "```\n",
    "\n",
    "In order to do this, we will review the process of retrieving a tweet and building a dataframe from the text of the tweet.  From here, your goal is to\n",
    "\n",
    "1. Build a labeled dataframe containing at least 100 tweets from the five users.  \n",
    "2. Explore the top 5 retweeted tweets from each user, make a visualization, discuss\n",
    "3. Prepare the data for modeling using a `CountVectorizer` or `TfidfVectorizer`.  Remember to incorporate stop words and n-grams in your work.\n",
    "4. Use a `LogisticRegression` classifier to determine the user.  How did it perform?\n",
    "5. Use a `NaiveBayes` classifier to determine the user.  Did this do better?\n",
    "6. Use a `DecisionTreeClassifier` to model the tweets.  How did this compare to the other two methods?\n",
    "7. Build a table that compares the important information about these models.  \n",
    "8. Suppose your task is to verify whether or not another account was actually Milo all along.  Which model would you use?  Why?  "
   ]
  },
  {
   "cell_type": "code",
   "execution_count": 2,
   "metadata": {},
   "outputs": [],
   "source": [
    "import importlib"
   ]
  },
  {
   "cell_type": "code",
   "execution_count": 3,
   "metadata": {},
   "outputs": [
    {
     "data": {
      "text/plain": [
       "<module 'twitter_credentials' from '/Users/karenhao/Google Drive/02 Working/Quartz/Education/GA Data Science/DAT-NYC-6.13/twitter_credentials.py'>"
      ]
     },
     "execution_count": 3,
     "metadata": {},
     "output_type": "execute_result"
    }
   ],
   "source": [
    "#auth info\n",
    "import twitter_credentials as Tw\n",
    "importlib.reload(Tw)"
   ]
  },
  {
   "cell_type": "code",
   "execution_count": 4,
   "metadata": {},
   "outputs": [],
   "source": [
    "import tweepy\n",
    "import json\n",
    "from tweepy import OAuthHandler\n",
    "auth = OAuthHandler(Tw.consumer_key, Tw.consumer_secret)\n",
    "auth.set_access_token(Tw.access_token, Tw.access_token_secret)\n",
    " \n",
    "api = tweepy.API(auth)"
   ]
  },
  {
   "cell_type": "code",
   "execution_count": 5,
   "metadata": {},
   "outputs": [
    {
     "name": "stdout",
     "output_type": "stream",
     "text": [
      "Sitting here trying to even come up with the last white player to get nabbed for PEDs https://t.co/pYJsY23sIa\n",
      "In an era of national political discord, a candidate preaching constitutional localism would possess a new, unique… https://t.co/GXdRUpFA18\n",
      "RT @MichaelEMann: @NatureNews Keep in mind that there are substantial limitations with model-based attribution  studies. They likely undere…\n",
      "Evening run groove. https://t.co/iJRQWGu4fu\n",
      "Firefighters are making small but promising headway on California wildfires: \n",
      "\n",
      "- #CarrFire: 20% contained\n",
      "-… https://t.co/jMJSklKept\n",
      "“The Perils of Adding Layers of Management” by C. L. Hamer https://t.co/w4Bu3CfQqG\n",
      "RT @EMViews: Sub-Saharan #Africa continues to adopt use of the #renminbi. We've taken a closer look at why, and what it means for trade. ht…\n",
      "Watching #TrayvonMartinStory tonight on @BET. Hear it picks up where 13TH left off about Florida’s disastrous “Stan… https://t.co/mpBaPqGysc\n",
      "It took 2 months longer than planned to pull it together, but @thetylerloop's 501c3 application is finally in the m… https://t.co/sHr85S9mQm\n",
      "RT @KaylaKdgardner: RT: @JuliaThayne with @SiemensUSA says sustainability, resiliency and innovation are the 3 key challenges to developing…\n"
     ]
    }
   ],
   "source": [
    "for status in tweepy.Cursor(api.home_timeline).items(10):\n",
    "    # Process a single status\n",
    "    print(status.text)"
   ]
  },
  {
   "cell_type": "code",
   "execution_count": 6,
   "metadata": {},
   "outputs": [
    {
     "name": "stdout",
     "output_type": "stream",
     "text": [
      "{'created_at': 'Tue Jul 31 01:07:32 +0000 2018', 'id': 1024099208884678656, 'id_str': '1024099208884678656', 'text': 'Sitting here trying to even come up with the last white player to get nabbed for PEDs https://t.co/pYJsY23sIa', 'truncated': False, 'entities': {'hashtags': [], 'symbols': [], 'user_mentions': [], 'urls': [{'url': 'https://t.co/pYJsY23sIa', 'expanded_url': 'https://twitter.com/btbscore/status/1024048323752275968', 'display_url': 'twitter.com/btbscore/statu…', 'indices': [86, 109]}]}, 'source': '<a href=\"http://twitter.com/download/iphone\" rel=\"nofollow\">Twitter for iPhone</a>', 'in_reply_to_status_id': None, 'in_reply_to_status_id_str': None, 'in_reply_to_user_id': None, 'in_reply_to_user_id_str': None, 'in_reply_to_screen_name': None, 'user': {'id': 19273919, 'id_str': '19273919', 'name': 'rhea butcher', 'screen_name': 'RheaButcher', 'location': 'Los Angeles, CA.', 'description': \"comic with a 31 year old farmer's tan from akron, ohio.\", 'url': 'https://t.co/ZZ2ANBpJdD', 'entities': {'url': {'urls': [{'url': 'https://t.co/ZZ2ANBpJdD', 'expanded_url': 'http://www.rheabutcher.com', 'display_url': 'rheabutcher.com', 'indices': [0, 23]}]}, 'description': {'urls': []}}, 'protected': False, 'followers_count': 89255, 'friends_count': 1936, 'listed_count': 769, 'created_at': 'Wed Jan 21 03:28:36 +0000 2009', 'favourites_count': 68317, 'utc_offset': None, 'time_zone': None, 'geo_enabled': False, 'verified': True, 'statuses_count': 44223, 'lang': 'en', 'contributors_enabled': False, 'is_translator': False, 'is_translation_enabled': False, 'profile_background_color': '2E2B2C', 'profile_background_image_url': 'http://abs.twimg.com/images/themes/theme14/bg.gif', 'profile_background_image_url_https': 'https://abs.twimg.com/images/themes/theme14/bg.gif', 'profile_background_tile': True, 'profile_image_url': 'http://pbs.twimg.com/profile_images/1016928510101766146/k2iwJ7K__normal.jpg', 'profile_image_url_https': 'https://pbs.twimg.com/profile_images/1016928510101766146/k2iwJ7K__normal.jpg', 'profile_banner_url': 'https://pbs.twimg.com/profile_banners/19273919/1523918658', 'profile_link_color': '1B95E0', 'profile_sidebar_border_color': 'FFFFFF', 'profile_sidebar_fill_color': '070602', 'profile_text_color': '4D4941', 'profile_use_background_image': True, 'has_extended_profile': True, 'default_profile': False, 'default_profile_image': False, 'following': True, 'follow_request_sent': False, 'notifications': False, 'translator_type': 'none'}, 'geo': None, 'coordinates': None, 'place': None, 'contributors': None, 'is_quote_status': True, 'quoted_status_id': 1024048323752275968, 'quoted_status_id_str': '1024048323752275968', 'quoted_status': {'created_at': 'Mon Jul 30 21:45:20 +0000 2018', 'id': 1024048323752275968, 'id_str': '1024048323752275968', 'text': 'It’s an embarrassment that Robinson Cano won’t be able to play in the postseason and Roberto Osuna will.', 'truncated': False, 'entities': {'hashtags': [], 'symbols': [], 'user_mentions': [], 'urls': []}, 'source': '<a href=\"http://twitter.com/download/iphone\" rel=\"nofollow\">Twitter for iPhone</a>', 'in_reply_to_status_id': None, 'in_reply_to_status_id_str': None, 'in_reply_to_user_id': None, 'in_reply_to_user_id_str': None, 'in_reply_to_screen_name': None, 'user': {'id': 87037825, 'id_str': '87037825', 'name': 'Beyond the Box Score', 'screen_name': 'BtBScore', 'location': 'SB Nation', 'description': \"SB Nation's saber-slanted baseball community. Statistics over opinions, of course. (Tweets by @mattprov94 and @paintingcorner)\", 'url': 'https://t.co/XqgLDn5IEK', 'entities': {'url': {'urls': [{'url': 'https://t.co/XqgLDn5IEK', 'expanded_url': 'http://beyondtheboxscore.com', 'display_url': 'beyondtheboxscore.com', 'indices': [0, 23]}]}, 'description': {'urls': []}}, 'protected': False, 'followers_count': 28548, 'friends_count': 346, 'listed_count': 1347, 'created_at': 'Mon Nov 02 21:50:47 +0000 2009', 'favourites_count': 609, 'utc_offset': None, 'time_zone': None, 'geo_enabled': True, 'verified': True, 'statuses_count': 21891, 'lang': 'en', 'contributors_enabled': False, 'is_translator': False, 'is_translation_enabled': False, 'profile_background_color': '2D4662', 'profile_background_image_url': 'http://abs.twimg.com/images/themes/theme1/bg.png', 'profile_background_image_url_https': 'https://abs.twimg.com/images/themes/theme1/bg.png', 'profile_background_tile': True, 'profile_image_url': 'http://pbs.twimg.com/profile_images/875409726292369409/QZ8c3_us_normal.jpg', 'profile_image_url_https': 'https://pbs.twimg.com/profile_images/875409726292369409/QZ8c3_us_normal.jpg', 'profile_banner_url': 'https://pbs.twimg.com/profile_banners/87037825/1489905122', 'profile_link_color': '0084B4', 'profile_sidebar_border_color': 'C0DEED', 'profile_sidebar_fill_color': 'DDEEF6', 'profile_text_color': '333333', 'profile_use_background_image': False, 'has_extended_profile': False, 'default_profile': False, 'default_profile_image': False, 'following': False, 'follow_request_sent': False, 'notifications': False, 'translator_type': 'none'}, 'geo': None, 'coordinates': None, 'place': None, 'contributors': None, 'is_quote_status': False, 'retweet_count': 333, 'favorite_count': 1064, 'favorited': False, 'retweeted': False, 'lang': 'en'}, 'retweet_count': 2, 'favorite_count': 6, 'favorited': False, 'retweeted': False, 'possibly_sensitive': False, 'possibly_sensitive_appealable': False, 'lang': 'en'}\n"
     ]
    }
   ],
   "source": [
    "for status in tweepy.Cursor(api.home_timeline).items(1):\n",
    "    # Process a single status\n",
    "    print(status._json)"
   ]
  },
  {
   "cell_type": "code",
   "execution_count": 7,
   "metadata": {},
   "outputs": [],
   "source": [
    "def process_or_store(tweet):\n",
    "    print(json.dumps(tweet))"
   ]
  },
  {
   "cell_type": "code",
   "execution_count": 8,
   "metadata": {
    "scrolled": true
   },
   "outputs": [
    {
     "name": "stdout",
     "output_type": "stream",
     "text": [
      "Status(_api=<tweepy.api.API object at 0x1046686d8>, _json={'created_at': 'Tue Jul 31 01:09:06 +0000 2018', 'id': 1024099600360189952, 'id_str': '1024099600360189952', 'text': 'RT @family_equality: This piece from @mmfa is a must-read following today\\'s announcement of a \"religious liberty task force\" at DOJ. https:…', 'truncated': False, 'entities': {'hashtags': [], 'symbols': [], 'user_mentions': [{'screen_name': 'family_equality', 'name': 'Family Equality', 'id': 79295663, 'id_str': '79295663', 'indices': [3, 19]}, {'screen_name': 'mmfa', 'name': 'Media Matters', 'id': 13493302, 'id_str': '13493302', 'indices': [37, 42]}], 'urls': []}, 'source': '<a href=\"https://about.twitter.com/products/tweetdeck\" rel=\"nofollow\">TweetDeck</a>', 'in_reply_to_status_id': None, 'in_reply_to_status_id_str': None, 'in_reply_to_user_id': None, 'in_reply_to_user_id_str': None, 'in_reply_to_screen_name': None, 'user': {'id': 13493302, 'id_str': '13493302', 'name': 'Media Matters', 'screen_name': 'mmfa', 'location': 'Washington, DC', 'description': \"Media Matters for America is the nation's premier progressive media watchdog, research and information center.\", 'url': 'http://t.co/aWQ7EsTgj6', 'entities': {'url': {'urls': [{'url': 'http://t.co/aWQ7EsTgj6', 'expanded_url': 'http://mediamatters.org/', 'display_url': 'mediamatters.org', 'indices': [0, 22]}]}, 'description': {'urls': []}}, 'protected': False, 'followers_count': 353369, 'friends_count': 2363, 'listed_count': 10070, 'created_at': 'Thu Feb 14 22:48:21 +0000 2008', 'favourites_count': 2366, 'utc_offset': None, 'time_zone': None, 'geo_enabled': False, 'verified': True, 'statuses_count': 77327, 'lang': 'en', 'contributors_enabled': False, 'is_translator': False, 'is_translation_enabled': False, 'profile_background_color': 'F7F2F7', 'profile_background_image_url': 'http://abs.twimg.com/images/themes/theme1/bg.png', 'profile_background_image_url_https': 'https://abs.twimg.com/images/themes/theme1/bg.png', 'profile_background_tile': True, 'profile_image_url': 'http://pbs.twimg.com/profile_images/875381431077265408/Qui7iaJQ_normal.jpg', 'profile_image_url_https': 'https://pbs.twimg.com/profile_images/875381431077265408/Qui7iaJQ_normal.jpg', 'profile_banner_url': 'https://pbs.twimg.com/profile_banners/13493302/1502140177', 'profile_link_color': '0084B4', 'profile_sidebar_border_color': 'FFFFFF', 'profile_sidebar_fill_color': 'DDEEF6', 'profile_text_color': '333333', 'profile_use_background_image': True, 'has_extended_profile': False, 'default_profile': False, 'default_profile_image': False, 'following': True, 'follow_request_sent': False, 'notifications': False, 'translator_type': 'none'}, 'geo': None, 'coordinates': None, 'place': None, 'contributors': None, 'retweeted_status': {'created_at': 'Tue Jul 31 00:55:01 +0000 2018', 'id': 1024096057565880321, 'id_str': '1024096057565880321', 'text': 'This piece from @mmfa is a must-read following today\\'s announcement of a \"religious liberty task force\" at DOJ. https://t.co/fGlHSxLUaT', 'truncated': False, 'entities': {'hashtags': [], 'symbols': [], 'user_mentions': [{'screen_name': 'mmfa', 'name': 'Media Matters', 'id': 13493302, 'id_str': '13493302', 'indices': [16, 21]}], 'urls': [{'url': 'https://t.co/fGlHSxLUaT', 'expanded_url': 'https://www.mediamatters.org/blog/2018/07/30/Justice-Departments-new-Religious-Liberty-Task-Force-highlights-the-agencys-troubling-ties/220840', 'display_url': 'mediamatters.org/blog/2018/07/3…', 'indices': [112, 135]}]}, 'source': '<a href=\"http://twitter.com\" rel=\"nofollow\">Twitter Web Client</a>', 'in_reply_to_status_id': 1024090588151537665, 'in_reply_to_status_id_str': '1024090588151537665', 'in_reply_to_user_id': 79295663, 'in_reply_to_user_id_str': '79295663', 'in_reply_to_screen_name': 'family_equality', 'user': {'id': 79295663, 'id_str': '79295663', 'name': 'Family Equality', 'screen_name': 'family_equality', 'location': 'National', 'description': 'Family Equality Council is advancing legal and lived equality for #LGBTQ families, and for those who wish to form them. 🌈', 'url': 'https://t.co/l46td444OV', 'entities': {'url': {'urls': [{'url': 'https://t.co/l46td444OV', 'expanded_url': 'http://www.familyequality.org', 'display_url': 'familyequality.org', 'indices': [0, 23]}]}, 'description': {'urls': []}}, 'protected': False, 'followers_count': 22181, 'friends_count': 3142, 'listed_count': 549, 'created_at': 'Fri Oct 02 21:47:09 +0000 2009', 'favourites_count': 2028, 'utc_offset': None, 'time_zone': None, 'geo_enabled': True, 'verified': True, 'statuses_count': 9956, 'lang': 'en', 'contributors_enabled': False, 'is_translator': False, 'is_translation_enabled': False, 'profile_background_color': '4B0082', 'profile_background_image_url': 'http://abs.twimg.com/images/themes/theme1/bg.png', 'profile_background_image_url_https': 'https://abs.twimg.com/images/themes/theme1/bg.png', 'profile_background_tile': False, 'profile_image_url': 'http://pbs.twimg.com/profile_images/524217602457866242/HkOBp_Zn_normal.jpeg', 'profile_image_url_https': 'https://pbs.twimg.com/profile_images/524217602457866242/HkOBp_Zn_normal.jpeg', 'profile_banner_url': 'https://pbs.twimg.com/profile_banners/79295663/1449003021', 'profile_link_color': '390AF5', 'profile_sidebar_border_color': 'FFFFFF', 'profile_sidebar_fill_color': 'F5F8FA', 'profile_text_color': '6A747C', 'profile_use_background_image': False, 'has_extended_profile': False, 'default_profile': False, 'default_profile_image': False, 'following': False, 'follow_request_sent': False, 'notifications': False, 'translator_type': 'none'}, 'geo': None, 'coordinates': None, 'place': None, 'contributors': None, 'is_quote_status': False, 'retweet_count': 1, 'favorite_count': 0, 'favorited': False, 'retweeted': False, 'possibly_sensitive': False, 'possibly_sensitive_appealable': False, 'lang': 'en'}, 'is_quote_status': False, 'retweet_count': 1, 'favorite_count': 0, 'favorited': False, 'retweeted': False, 'lang': 'en'}, created_at=datetime.datetime(2018, 7, 31, 1, 9, 6), id=1024099600360189952, id_str='1024099600360189952', text='RT @family_equality: This piece from @mmfa is a must-read following today\\'s announcement of a \"religious liberty task force\" at DOJ. https:…', truncated=False, entities={'hashtags': [], 'symbols': [], 'user_mentions': [{'screen_name': 'family_equality', 'name': 'Family Equality', 'id': 79295663, 'id_str': '79295663', 'indices': [3, 19]}, {'screen_name': 'mmfa', 'name': 'Media Matters', 'id': 13493302, 'id_str': '13493302', 'indices': [37, 42]}], 'urls': []}, source='TweetDeck', source_url='https://about.twitter.com/products/tweetdeck', in_reply_to_status_id=None, in_reply_to_status_id_str=None, in_reply_to_user_id=None, in_reply_to_user_id_str=None, in_reply_to_screen_name=None, author=User(_api=<tweepy.api.API object at 0x1046686d8>, _json={'id': 13493302, 'id_str': '13493302', 'name': 'Media Matters', 'screen_name': 'mmfa', 'location': 'Washington, DC', 'description': \"Media Matters for America is the nation's premier progressive media watchdog, research and information center.\", 'url': 'http://t.co/aWQ7EsTgj6', 'entities': {'url': {'urls': [{'url': 'http://t.co/aWQ7EsTgj6', 'expanded_url': 'http://mediamatters.org/', 'display_url': 'mediamatters.org', 'indices': [0, 22]}]}, 'description': {'urls': []}}, 'protected': False, 'followers_count': 353369, 'friends_count': 2363, 'listed_count': 10070, 'created_at': 'Thu Feb 14 22:48:21 +0000 2008', 'favourites_count': 2366, 'utc_offset': None, 'time_zone': None, 'geo_enabled': False, 'verified': True, 'statuses_count': 77327, 'lang': 'en', 'contributors_enabled': False, 'is_translator': False, 'is_translation_enabled': False, 'profile_background_color': 'F7F2F7', 'profile_background_image_url': 'http://abs.twimg.com/images/themes/theme1/bg.png', 'profile_background_image_url_https': 'https://abs.twimg.com/images/themes/theme1/bg.png', 'profile_background_tile': True, 'profile_image_url': 'http://pbs.twimg.com/profile_images/875381431077265408/Qui7iaJQ_normal.jpg', 'profile_image_url_https': 'https://pbs.twimg.com/profile_images/875381431077265408/Qui7iaJQ_normal.jpg', 'profile_banner_url': 'https://pbs.twimg.com/profile_banners/13493302/1502140177', 'profile_link_color': '0084B4', 'profile_sidebar_border_color': 'FFFFFF', 'profile_sidebar_fill_color': 'DDEEF6', 'profile_text_color': '333333', 'profile_use_background_image': True, 'has_extended_profile': False, 'default_profile': False, 'default_profile_image': False, 'following': True, 'follow_request_sent': False, 'notifications': False, 'translator_type': 'none'}, id=13493302, id_str='13493302', name='Media Matters', screen_name='mmfa', location='Washington, DC', description=\"Media Matters for America is the nation's premier progressive media watchdog, research and information center.\", url='http://t.co/aWQ7EsTgj6', entities={'url': {'urls': [{'url': 'http://t.co/aWQ7EsTgj6', 'expanded_url': 'http://mediamatters.org/', 'display_url': 'mediamatters.org', 'indices': [0, 22]}]}, 'description': {'urls': []}}, protected=False, followers_count=353369, friends_count=2363, listed_count=10070, created_at=datetime.datetime(2008, 2, 14, 22, 48, 21), favourites_count=2366, utc_offset=None, time_zone=None, geo_enabled=False, verified=True, statuses_count=77327, lang='en', contributors_enabled=False, is_translator=False, is_translation_enabled=False, profile_background_color='F7F2F7', profile_background_image_url='http://abs.twimg.com/images/themes/theme1/bg.png', profile_background_image_url_https='https://abs.twimg.com/images/themes/theme1/bg.png', profile_background_tile=True, profile_image_url='http://pbs.twimg.com/profile_images/875381431077265408/Qui7iaJQ_normal.jpg', profile_image_url_https='https://pbs.twimg.com/profile_images/875381431077265408/Qui7iaJQ_normal.jpg', profile_banner_url='https://pbs.twimg.com/profile_banners/13493302/1502140177', profile_link_color='0084B4', profile_sidebar_border_color='FFFFFF', profile_sidebar_fill_color='DDEEF6', profile_text_color='333333', profile_use_background_image=True, has_extended_profile=False, default_profile=False, default_profile_image=False, following=True, follow_request_sent=False, notifications=False, translator_type='none'), user=User(_api=<tweepy.api.API object at 0x1046686d8>, _json={'id': 13493302, 'id_str': '13493302', 'name': 'Media Matters', 'screen_name': 'mmfa', 'location': 'Washington, DC', 'description': \"Media Matters for America is the nation's premier progressive media watchdog, research and information center.\", 'url': 'http://t.co/aWQ7EsTgj6', 'entities': {'url': {'urls': [{'url': 'http://t.co/aWQ7EsTgj6', 'expanded_url': 'http://mediamatters.org/', 'display_url': 'mediamatters.org', 'indices': [0, 22]}]}, 'description': {'urls': []}}, 'protected': False, 'followers_count': 353369, 'friends_count': 2363, 'listed_count': 10070, 'created_at': 'Thu Feb 14 22:48:21 +0000 2008', 'favourites_count': 2366, 'utc_offset': None, 'time_zone': None, 'geo_enabled': False, 'verified': True, 'statuses_count': 77327, 'lang': 'en', 'contributors_enabled': False, 'is_translator': False, 'is_translation_enabled': False, 'profile_background_color': 'F7F2F7', 'profile_background_image_url': 'http://abs.twimg.com/images/themes/theme1/bg.png', 'profile_background_image_url_https': 'https://abs.twimg.com/images/themes/theme1/bg.png', 'profile_background_tile': True, 'profile_image_url': 'http://pbs.twimg.com/profile_images/875381431077265408/Qui7iaJQ_normal.jpg', 'profile_image_url_https': 'https://pbs.twimg.com/profile_images/875381431077265408/Qui7iaJQ_normal.jpg', 'profile_banner_url': 'https://pbs.twimg.com/profile_banners/13493302/1502140177', 'profile_link_color': '0084B4', 'profile_sidebar_border_color': 'FFFFFF', 'profile_sidebar_fill_color': 'DDEEF6', 'profile_text_color': '333333', 'profile_use_background_image': True, 'has_extended_profile': False, 'default_profile': False, 'default_profile_image': False, 'following': True, 'follow_request_sent': False, 'notifications': False, 'translator_type': 'none'}, id=13493302, id_str='13493302', name='Media Matters', screen_name='mmfa', location='Washington, DC', description=\"Media Matters for America is the nation's premier progressive media watchdog, research and information center.\", url='http://t.co/aWQ7EsTgj6', entities={'url': {'urls': [{'url': 'http://t.co/aWQ7EsTgj6', 'expanded_url': 'http://mediamatters.org/', 'display_url': 'mediamatters.org', 'indices': [0, 22]}]}, 'description': {'urls': []}}, protected=False, followers_count=353369, friends_count=2363, listed_count=10070, created_at=datetime.datetime(2008, 2, 14, 22, 48, 21), favourites_count=2366, utc_offset=None, time_zone=None, geo_enabled=False, verified=True, statuses_count=77327, lang='en', contributors_enabled=False, is_translator=False, is_translation_enabled=False, profile_background_color='F7F2F7', profile_background_image_url='http://abs.twimg.com/images/themes/theme1/bg.png', profile_background_image_url_https='https://abs.twimg.com/images/themes/theme1/bg.png', profile_background_tile=True, profile_image_url='http://pbs.twimg.com/profile_images/875381431077265408/Qui7iaJQ_normal.jpg', profile_image_url_https='https://pbs.twimg.com/profile_images/875381431077265408/Qui7iaJQ_normal.jpg', profile_banner_url='https://pbs.twimg.com/profile_banners/13493302/1502140177', profile_link_color='0084B4', profile_sidebar_border_color='FFFFFF', profile_sidebar_fill_color='DDEEF6', profile_text_color='333333', profile_use_background_image=True, has_extended_profile=False, default_profile=False, default_profile_image=False, following=True, follow_request_sent=False, notifications=False, translator_type='none'), geo=None, coordinates=None, place=None, contributors=None, retweeted_status=Status(_api=<tweepy.api.API object at 0x1046686d8>, _json={'created_at': 'Tue Jul 31 00:55:01 +0000 2018', 'id': 1024096057565880321, 'id_str': '1024096057565880321', 'text': 'This piece from @mmfa is a must-read following today\\'s announcement of a \"religious liberty task force\" at DOJ. https://t.co/fGlHSxLUaT', 'truncated': False, 'entities': {'hashtags': [], 'symbols': [], 'user_mentions': [{'screen_name': 'mmfa', 'name': 'Media Matters', 'id': 13493302, 'id_str': '13493302', 'indices': [16, 21]}], 'urls': [{'url': 'https://t.co/fGlHSxLUaT', 'expanded_url': 'https://www.mediamatters.org/blog/2018/07/30/Justice-Departments-new-Religious-Liberty-Task-Force-highlights-the-agencys-troubling-ties/220840', 'display_url': 'mediamatters.org/blog/2018/07/3…', 'indices': [112, 135]}]}, 'source': '<a href=\"http://twitter.com\" rel=\"nofollow\">Twitter Web Client</a>', 'in_reply_to_status_id': 1024090588151537665, 'in_reply_to_status_id_str': '1024090588151537665', 'in_reply_to_user_id': 79295663, 'in_reply_to_user_id_str': '79295663', 'in_reply_to_screen_name': 'family_equality', 'user': {'id': 79295663, 'id_str': '79295663', 'name': 'Family Equality', 'screen_name': 'family_equality', 'location': 'National', 'description': 'Family Equality Council is advancing legal and lived equality for #LGBTQ families, and for those who wish to form them. 🌈', 'url': 'https://t.co/l46td444OV', 'entities': {'url': {'urls': [{'url': 'https://t.co/l46td444OV', 'expanded_url': 'http://www.familyequality.org', 'display_url': 'familyequality.org', 'indices': [0, 23]}]}, 'description': {'urls': []}}, 'protected': False, 'followers_count': 22181, 'friends_count': 3142, 'listed_count': 549, 'created_at': 'Fri Oct 02 21:47:09 +0000 2009', 'favourites_count': 2028, 'utc_offset': None, 'time_zone': None, 'geo_enabled': True, 'verified': True, 'statuses_count': 9956, 'lang': 'en', 'contributors_enabled': False, 'is_translator': False, 'is_translation_enabled': False, 'profile_background_color': '4B0082', 'profile_background_image_url': 'http://abs.twimg.com/images/themes/theme1/bg.png', 'profile_background_image_url_https': 'https://abs.twimg.com/images/themes/theme1/bg.png', 'profile_background_tile': False, 'profile_image_url': 'http://pbs.twimg.com/profile_images/524217602457866242/HkOBp_Zn_normal.jpeg', 'profile_image_url_https': 'https://pbs.twimg.com/profile_images/524217602457866242/HkOBp_Zn_normal.jpeg', 'profile_banner_url': 'https://pbs.twimg.com/profile_banners/79295663/1449003021', 'profile_link_color': '390AF5', 'profile_sidebar_border_color': 'FFFFFF', 'profile_sidebar_fill_color': 'F5F8FA', 'profile_text_color': '6A747C', 'profile_use_background_image': False, 'has_extended_profile': False, 'default_profile': False, 'default_profile_image': False, 'following': False, 'follow_request_sent': False, 'notifications': False, 'translator_type': 'none'}, 'geo': None, 'coordinates': None, 'place': None, 'contributors': None, 'is_quote_status': False, 'retweet_count': 1, 'favorite_count': 0, 'favorited': False, 'retweeted': False, 'possibly_sensitive': False, 'possibly_sensitive_appealable': False, 'lang': 'en'}, created_at=datetime.datetime(2018, 7, 31, 0, 55, 1), id=1024096057565880321, id_str='1024096057565880321', text='This piece from @mmfa is a must-read following today\\'s announcement of a \"religious liberty task force\" at DOJ. https://t.co/fGlHSxLUaT', truncated=False, entities={'hashtags': [], 'symbols': [], 'user_mentions': [{'screen_name': 'mmfa', 'name': 'Media Matters', 'id': 13493302, 'id_str': '13493302', 'indices': [16, 21]}], 'urls': [{'url': 'https://t.co/fGlHSxLUaT', 'expanded_url': 'https://www.mediamatters.org/blog/2018/07/30/Justice-Departments-new-Religious-Liberty-Task-Force-highlights-the-agencys-troubling-ties/220840', 'display_url': 'mediamatters.org/blog/2018/07/3…', 'indices': [112, 135]}]}, source='Twitter Web Client', source_url='http://twitter.com', in_reply_to_status_id=1024090588151537665, in_reply_to_status_id_str='1024090588151537665', in_reply_to_user_id=79295663, in_reply_to_user_id_str='79295663', in_reply_to_screen_name='family_equality', author=User(_api=<tweepy.api.API object at 0x1046686d8>, _json={'id': 79295663, 'id_str': '79295663', 'name': 'Family Equality', 'screen_name': 'family_equality', 'location': 'National', 'description': 'Family Equality Council is advancing legal and lived equality for #LGBTQ families, and for those who wish to form them. 🌈', 'url': 'https://t.co/l46td444OV', 'entities': {'url': {'urls': [{'url': 'https://t.co/l46td444OV', 'expanded_url': 'http://www.familyequality.org', 'display_url': 'familyequality.org', 'indices': [0, 23]}]}, 'description': {'urls': []}}, 'protected': False, 'followers_count': 22181, 'friends_count': 3142, 'listed_count': 549, 'created_at': 'Fri Oct 02 21:47:09 +0000 2009', 'favourites_count': 2028, 'utc_offset': None, 'time_zone': None, 'geo_enabled': True, 'verified': True, 'statuses_count': 9956, 'lang': 'en', 'contributors_enabled': False, 'is_translator': False, 'is_translation_enabled': False, 'profile_background_color': '4B0082', 'profile_background_image_url': 'http://abs.twimg.com/images/themes/theme1/bg.png', 'profile_background_image_url_https': 'https://abs.twimg.com/images/themes/theme1/bg.png', 'profile_background_tile': False, 'profile_image_url': 'http://pbs.twimg.com/profile_images/524217602457866242/HkOBp_Zn_normal.jpeg', 'profile_image_url_https': 'https://pbs.twimg.com/profile_images/524217602457866242/HkOBp_Zn_normal.jpeg', 'profile_banner_url': 'https://pbs.twimg.com/profile_banners/79295663/1449003021', 'profile_link_color': '390AF5', 'profile_sidebar_border_color': 'FFFFFF', 'profile_sidebar_fill_color': 'F5F8FA', 'profile_text_color': '6A747C', 'profile_use_background_image': False, 'has_extended_profile': False, 'default_profile': False, 'default_profile_image': False, 'following': False, 'follow_request_sent': False, 'notifications': False, 'translator_type': 'none'}, id=79295663, id_str='79295663', name='Family Equality', screen_name='family_equality', location='National', description='Family Equality Council is advancing legal and lived equality for #LGBTQ families, and for those who wish to form them. 🌈', url='https://t.co/l46td444OV', entities={'url': {'urls': [{'url': 'https://t.co/l46td444OV', 'expanded_url': 'http://www.familyequality.org', 'display_url': 'familyequality.org', 'indices': [0, 23]}]}, 'description': {'urls': []}}, protected=False, followers_count=22181, friends_count=3142, listed_count=549, created_at=datetime.datetime(2009, 10, 2, 21, 47, 9), favourites_count=2028, utc_offset=None, time_zone=None, geo_enabled=True, verified=True, statuses_count=9956, lang='en', contributors_enabled=False, is_translator=False, is_translation_enabled=False, profile_background_color='4B0082', profile_background_image_url='http://abs.twimg.com/images/themes/theme1/bg.png', profile_background_image_url_https='https://abs.twimg.com/images/themes/theme1/bg.png', profile_background_tile=False, profile_image_url='http://pbs.twimg.com/profile_images/524217602457866242/HkOBp_Zn_normal.jpeg', profile_image_url_https='https://pbs.twimg.com/profile_images/524217602457866242/HkOBp_Zn_normal.jpeg', profile_banner_url='https://pbs.twimg.com/profile_banners/79295663/1449003021', profile_link_color='390AF5', profile_sidebar_border_color='FFFFFF', profile_sidebar_fill_color='F5F8FA', profile_text_color='6A747C', profile_use_background_image=False, has_extended_profile=False, default_profile=False, default_profile_image=False, following=False, follow_request_sent=False, notifications=False, translator_type='none'), user=User(_api=<tweepy.api.API object at 0x1046686d8>, _json={'id': 79295663, 'id_str': '79295663', 'name': 'Family Equality', 'screen_name': 'family_equality', 'location': 'National', 'description': 'Family Equality Council is advancing legal and lived equality for #LGBTQ families, and for those who wish to form them. 🌈', 'url': 'https://t.co/l46td444OV', 'entities': {'url': {'urls': [{'url': 'https://t.co/l46td444OV', 'expanded_url': 'http://www.familyequality.org', 'display_url': 'familyequality.org', 'indices': [0, 23]}]}, 'description': {'urls': []}}, 'protected': False, 'followers_count': 22181, 'friends_count': 3142, 'listed_count': 549, 'created_at': 'Fri Oct 02 21:47:09 +0000 2009', 'favourites_count': 2028, 'utc_offset': None, 'time_zone': None, 'geo_enabled': True, 'verified': True, 'statuses_count': 9956, 'lang': 'en', 'contributors_enabled': False, 'is_translator': False, 'is_translation_enabled': False, 'profile_background_color': '4B0082', 'profile_background_image_url': 'http://abs.twimg.com/images/themes/theme1/bg.png', 'profile_background_image_url_https': 'https://abs.twimg.com/images/themes/theme1/bg.png', 'profile_background_tile': False, 'profile_image_url': 'http://pbs.twimg.com/profile_images/524217602457866242/HkOBp_Zn_normal.jpeg', 'profile_image_url_https': 'https://pbs.twimg.com/profile_images/524217602457866242/HkOBp_Zn_normal.jpeg', 'profile_banner_url': 'https://pbs.twimg.com/profile_banners/79295663/1449003021', 'profile_link_color': '390AF5', 'profile_sidebar_border_color': 'FFFFFF', 'profile_sidebar_fill_color': 'F5F8FA', 'profile_text_color': '6A747C', 'profile_use_background_image': False, 'has_extended_profile': False, 'default_profile': False, 'default_profile_image': False, 'following': False, 'follow_request_sent': False, 'notifications': False, 'translator_type': 'none'}, id=79295663, id_str='79295663', name='Family Equality', screen_name='family_equality', location='National', description='Family Equality Council is advancing legal and lived equality for #LGBTQ families, and for those who wish to form them. 🌈', url='https://t.co/l46td444OV', entities={'url': {'urls': [{'url': 'https://t.co/l46td444OV', 'expanded_url': 'http://www.familyequality.org', 'display_url': 'familyequality.org', 'indices': [0, 23]}]}, 'description': {'urls': []}}, protected=False, followers_count=22181, friends_count=3142, listed_count=549, created_at=datetime.datetime(2009, 10, 2, 21, 47, 9), favourites_count=2028, utc_offset=None, time_zone=None, geo_enabled=True, verified=True, statuses_count=9956, lang='en', contributors_enabled=False, is_translator=False, is_translation_enabled=False, profile_background_color='4B0082', profile_background_image_url='http://abs.twimg.com/images/themes/theme1/bg.png', profile_background_image_url_https='https://abs.twimg.com/images/themes/theme1/bg.png', profile_background_tile=False, profile_image_url='http://pbs.twimg.com/profile_images/524217602457866242/HkOBp_Zn_normal.jpeg', profile_image_url_https='https://pbs.twimg.com/profile_images/524217602457866242/HkOBp_Zn_normal.jpeg', profile_banner_url='https://pbs.twimg.com/profile_banners/79295663/1449003021', profile_link_color='390AF5', profile_sidebar_border_color='FFFFFF', profile_sidebar_fill_color='F5F8FA', profile_text_color='6A747C', profile_use_background_image=False, has_extended_profile=False, default_profile=False, default_profile_image=False, following=False, follow_request_sent=False, notifications=False, translator_type='none'), geo=None, coordinates=None, place=None, contributors=None, is_quote_status=False, retweet_count=1, favorite_count=0, favorited=False, retweeted=False, possibly_sensitive=False, possibly_sensitive_appealable=False, lang='en'), is_quote_status=False, retweet_count=1, favorite_count=0, favorited=False, retweeted=False, lang='en')\n"
     ]
    }
   ],
   "source": [
    "for status in tweepy.Cursor(api.home_timeline).items(1):\n",
    "    print(status)"
   ]
  },
  {
   "cell_type": "code",
   "execution_count": 9,
   "metadata": {},
   "outputs": [
    {
     "name": "stdout",
     "output_type": "stream",
     "text": [
      "Status(_api=<tweepy.api.API object at 0x1046686d8>, _json={'created_at': 'Fri Jul 27 22:40:58 +0000 2018', 'id': 1022975158536097792, 'id_str': '1022975158536097792', 'text': 'Such a pleasure seeing @BetteMidler back where she belongs! Huge thanks to the cast and crew of @HelloDollyBway for… https://t.co/eSxSVjMh7I', 'truncated': True, 'entities': {'hashtags': [], 'symbols': [], 'user_mentions': [{'screen_name': 'BetteMidler', 'name': 'Bette Midler', 'id': 139823781, 'id_str': '139823781', 'indices': [23, 35]}, {'screen_name': 'HelloDollyBway', 'name': 'Hello, Dolly!', 'id': 4785031154, 'id_str': '4785031154', 'indices': [96, 111]}], 'urls': [{'url': 'https://t.co/eSxSVjMh7I', 'expanded_url': 'https://twitter.com/i/web/status/1022975158536097792', 'display_url': 'twitter.com/i/web/status/1…', 'indices': [117, 140]}]}, 'source': '<a href=\"http://twitter.com\" rel=\"nofollow\">Twitter Web Client</a>', 'in_reply_to_status_id': None, 'in_reply_to_status_id_str': None, 'in_reply_to_user_id': None, 'in_reply_to_user_id_str': None, 'in_reply_to_screen_name': None, 'user': {'id': 1339835893, 'id_str': '1339835893', 'name': 'Hillary Clinton', 'screen_name': 'HillaryClinton', 'location': 'New York, NY', 'description': '2016 Democratic Nominee, SecState, Senator, hair icon. Mom, Wife, Grandma x2, lawyer, advocate, fan of walks in the woods & standing up for our democracy.', 'url': 'https://t.co/99DVW9q1yt', 'entities': {'url': {'urls': [{'url': 'https://t.co/99DVW9q1yt', 'expanded_url': 'http://onwardtogether.org', 'display_url': 'onwardtogether.org', 'indices': [0, 23]}]}, 'description': {'urls': []}}, 'protected': False, 'followers_count': 23157235, 'friends_count': 771, 'listed_count': 40585, 'created_at': 'Tue Apr 09 18:04:35 +0000 2013', 'favourites_count': 1148, 'utc_offset': None, 'time_zone': None, 'geo_enabled': True, 'verified': True, 'statuses_count': 10181, 'lang': 'en', 'contributors_enabled': False, 'is_translator': False, 'is_translation_enabled': False, 'profile_background_color': '0057B8', 'profile_background_image_url': 'http://abs.twimg.com/images/themes/theme1/bg.png', 'profile_background_image_url_https': 'https://abs.twimg.com/images/themes/theme1/bg.png', 'profile_background_tile': False, 'profile_image_url': 'http://pbs.twimg.com/profile_images/839938827837976576/leN1zJJx_normal.jpg', 'profile_image_url_https': 'https://pbs.twimg.com/profile_images/839938827837976576/leN1zJJx_normal.jpg', 'profile_banner_url': 'https://pbs.twimg.com/profile_banners/1339835893/1476893928', 'profile_link_color': '0057B8', 'profile_sidebar_border_color': '000000', 'profile_sidebar_fill_color': '000000', 'profile_text_color': '000000', 'profile_use_background_image': False, 'has_extended_profile': True, 'default_profile': False, 'default_profile_image': False, 'following': True, 'follow_request_sent': False, 'notifications': False, 'translator_type': 'none'}, 'geo': None, 'coordinates': None, 'place': None, 'contributors': None, 'is_quote_status': True, 'quoted_status_id': 1022899775958642688, 'quoted_status_id_str': '1022899775958642688', 'quoted_status': {'created_at': 'Fri Jul 27 17:41:25 +0000 2018', 'id': 1022899775958642688, 'id_str': '1022899775958642688', 'text': 'What a night @HillaryClinton !! A thrill of a lifetime!\\n 📷 Bruce Glikas for @HelloDollyBway https://t.co/ugJf6xcGD8', 'truncated': False, 'entities': {'hashtags': [], 'symbols': [], 'user_mentions': [{'screen_name': 'HillaryClinton', 'name': 'Hillary Clinton', 'id': 1339835893, 'id_str': '1339835893', 'indices': [13, 28]}, {'screen_name': 'HelloDollyBway', 'name': 'Hello, Dolly!', 'id': 4785031154, 'id_str': '4785031154', 'indices': [76, 91]}], 'urls': [], 'media': [{'id': 1022899290480361472, 'id_str': '1022899290480361472', 'indices': [92, 115], 'media_url': 'http://pbs.twimg.com/media/DjIRfDIUwAAeuK3.jpg', 'media_url_https': 'https://pbs.twimg.com/media/DjIRfDIUwAAeuK3.jpg', 'url': 'https://t.co/ugJf6xcGD8', 'display_url': 'pic.twitter.com/ugJf6xcGD8', 'expanded_url': 'https://twitter.com/BetteMidler/status/1022899775958642688/photo/1', 'type': 'photo', 'sizes': {'large': {'w': 640, 'h': 640, 'resize': 'fit'}, 'thumb': {'w': 150, 'h': 150, 'resize': 'crop'}, 'small': {'w': 640, 'h': 640, 'resize': 'fit'}, 'medium': {'w': 640, 'h': 640, 'resize': 'fit'}}}]}, 'extended_entities': {'media': [{'id': 1022899290480361472, 'id_str': '1022899290480361472', 'indices': [92, 115], 'media_url': 'http://pbs.twimg.com/media/DjIRfDIUwAAeuK3.jpg', 'media_url_https': 'https://pbs.twimg.com/media/DjIRfDIUwAAeuK3.jpg', 'url': 'https://t.co/ugJf6xcGD8', 'display_url': 'pic.twitter.com/ugJf6xcGD8', 'expanded_url': 'https://twitter.com/BetteMidler/status/1022899775958642688/photo/1', 'type': 'photo', 'sizes': {'large': {'w': 640, 'h': 640, 'resize': 'fit'}, 'thumb': {'w': 150, 'h': 150, 'resize': 'crop'}, 'small': {'w': 640, 'h': 640, 'resize': 'fit'}, 'medium': {'w': 640, 'h': 640, 'resize': 'fit'}}}]}, 'source': '<a href=\"http://twitter.com\" rel=\"nofollow\">Twitter Web Client</a>', 'in_reply_to_status_id': None, 'in_reply_to_status_id_str': None, 'in_reply_to_user_id': None, 'in_reply_to_user_id_str': None, 'in_reply_to_screen_name': None, 'user': {'id': 139823781, 'id_str': '139823781', 'name': 'Bette Midler', 'screen_name': 'BetteMidler', 'location': 'New York, NY', 'description': 'And the darkest hour is just before dawn.', 'url': 'https://t.co/7ODxSaP5Lc', 'entities': {'url': {'urls': [{'url': 'https://t.co/7ODxSaP5Lc', 'expanded_url': 'http://BetteMidler.com', 'display_url': 'BetteMidler.com', 'indices': [0, 23]}]}, 'description': {'urls': []}}, 'protected': False, 'followers_count': 1416242, 'friends_count': 61, 'listed_count': 7783, 'created_at': 'Mon May 03 20:00:36 +0000 2010', 'favourites_count': 302, 'utc_offset': None, 'time_zone': None, 'geo_enabled': True, 'verified': True, 'statuses_count': 8885, 'lang': 'en', 'contributors_enabled': False, 'is_translator': False, 'is_translation_enabled': False, 'profile_background_color': 'FFFFFF', 'profile_background_image_url': 'http://abs.twimg.com/images/themes/theme1/bg.png', 'profile_background_image_url_https': 'https://abs.twimg.com/images/themes/theme1/bg.png', 'profile_background_tile': False, 'profile_image_url': 'http://pbs.twimg.com/profile_images/1004964783974690817/t8-JFMsI_normal.jpg', 'profile_image_url_https': 'https://pbs.twimg.com/profile_images/1004964783974690817/t8-JFMsI_normal.jpg', 'profile_banner_url': 'https://pbs.twimg.com/profile_banners/139823781/1528437233', 'profile_link_color': 'F5ABB5', 'profile_sidebar_border_color': 'FFFFFF', 'profile_sidebar_fill_color': 'DDEEF6', 'profile_text_color': '333333', 'profile_use_background_image': True, 'has_extended_profile': False, 'default_profile': False, 'default_profile_image': False, 'following': False, 'follow_request_sent': False, 'notifications': False, 'translator_type': 'none'}, 'geo': None, 'coordinates': None, 'place': None, 'contributors': None, 'is_quote_status': False, 'retweet_count': 3211, 'favorite_count': 25827, 'favorited': False, 'retweeted': False, 'possibly_sensitive': False, 'lang': 'en'}, 'retweet_count': 5717, 'favorite_count': 49709, 'favorited': False, 'retweeted': False, 'possibly_sensitive': False, 'lang': 'en'}, created_at=datetime.datetime(2018, 7, 27, 22, 40, 58), id=1022975158536097792, id_str='1022975158536097792', text='Such a pleasure seeing @BetteMidler back where she belongs! Huge thanks to the cast and crew of @HelloDollyBway for… https://t.co/eSxSVjMh7I', truncated=True, entities={'hashtags': [], 'symbols': [], 'user_mentions': [{'screen_name': 'BetteMidler', 'name': 'Bette Midler', 'id': 139823781, 'id_str': '139823781', 'indices': [23, 35]}, {'screen_name': 'HelloDollyBway', 'name': 'Hello, Dolly!', 'id': 4785031154, 'id_str': '4785031154', 'indices': [96, 111]}], 'urls': [{'url': 'https://t.co/eSxSVjMh7I', 'expanded_url': 'https://twitter.com/i/web/status/1022975158536097792', 'display_url': 'twitter.com/i/web/status/1…', 'indices': [117, 140]}]}, source='Twitter Web Client', source_url='http://twitter.com', in_reply_to_status_id=None, in_reply_to_status_id_str=None, in_reply_to_user_id=None, in_reply_to_user_id_str=None, in_reply_to_screen_name=None, author=User(_api=<tweepy.api.API object at 0x1046686d8>, _json={'id': 1339835893, 'id_str': '1339835893', 'name': 'Hillary Clinton', 'screen_name': 'HillaryClinton', 'location': 'New York, NY', 'description': '2016 Democratic Nominee, SecState, Senator, hair icon. Mom, Wife, Grandma x2, lawyer, advocate, fan of walks in the woods & standing up for our democracy.', 'url': 'https://t.co/99DVW9q1yt', 'entities': {'url': {'urls': [{'url': 'https://t.co/99DVW9q1yt', 'expanded_url': 'http://onwardtogether.org', 'display_url': 'onwardtogether.org', 'indices': [0, 23]}]}, 'description': {'urls': []}}, 'protected': False, 'followers_count': 23157235, 'friends_count': 771, 'listed_count': 40585, 'created_at': 'Tue Apr 09 18:04:35 +0000 2013', 'favourites_count': 1148, 'utc_offset': None, 'time_zone': None, 'geo_enabled': True, 'verified': True, 'statuses_count': 10181, 'lang': 'en', 'contributors_enabled': False, 'is_translator': False, 'is_translation_enabled': False, 'profile_background_color': '0057B8', 'profile_background_image_url': 'http://abs.twimg.com/images/themes/theme1/bg.png', 'profile_background_image_url_https': 'https://abs.twimg.com/images/themes/theme1/bg.png', 'profile_background_tile': False, 'profile_image_url': 'http://pbs.twimg.com/profile_images/839938827837976576/leN1zJJx_normal.jpg', 'profile_image_url_https': 'https://pbs.twimg.com/profile_images/839938827837976576/leN1zJJx_normal.jpg', 'profile_banner_url': 'https://pbs.twimg.com/profile_banners/1339835893/1476893928', 'profile_link_color': '0057B8', 'profile_sidebar_border_color': '000000', 'profile_sidebar_fill_color': '000000', 'profile_text_color': '000000', 'profile_use_background_image': False, 'has_extended_profile': True, 'default_profile': False, 'default_profile_image': False, 'following': True, 'follow_request_sent': False, 'notifications': False, 'translator_type': 'none'}, id=1339835893, id_str='1339835893', name='Hillary Clinton', screen_name='HillaryClinton', location='New York, NY', description='2016 Democratic Nominee, SecState, Senator, hair icon. Mom, Wife, Grandma x2, lawyer, advocate, fan of walks in the woods & standing up for our democracy.', url='https://t.co/99DVW9q1yt', entities={'url': {'urls': [{'url': 'https://t.co/99DVW9q1yt', 'expanded_url': 'http://onwardtogether.org', 'display_url': 'onwardtogether.org', 'indices': [0, 23]}]}, 'description': {'urls': []}}, protected=False, followers_count=23157235, friends_count=771, listed_count=40585, created_at=datetime.datetime(2013, 4, 9, 18, 4, 35), favourites_count=1148, utc_offset=None, time_zone=None, geo_enabled=True, verified=True, statuses_count=10181, lang='en', contributors_enabled=False, is_translator=False, is_translation_enabled=False, profile_background_color='0057B8', profile_background_image_url='http://abs.twimg.com/images/themes/theme1/bg.png', profile_background_image_url_https='https://abs.twimg.com/images/themes/theme1/bg.png', profile_background_tile=False, profile_image_url='http://pbs.twimg.com/profile_images/839938827837976576/leN1zJJx_normal.jpg', profile_image_url_https='https://pbs.twimg.com/profile_images/839938827837976576/leN1zJJx_normal.jpg', profile_banner_url='https://pbs.twimg.com/profile_banners/1339835893/1476893928', profile_link_color='0057B8', profile_sidebar_border_color='000000', profile_sidebar_fill_color='000000', profile_text_color='000000', profile_use_background_image=False, has_extended_profile=True, default_profile=False, default_profile_image=False, following=True, follow_request_sent=False, notifications=False, translator_type='none'), user=User(_api=<tweepy.api.API object at 0x1046686d8>, _json={'id': 1339835893, 'id_str': '1339835893', 'name': 'Hillary Clinton', 'screen_name': 'HillaryClinton', 'location': 'New York, NY', 'description': '2016 Democratic Nominee, SecState, Senator, hair icon. Mom, Wife, Grandma x2, lawyer, advocate, fan of walks in the woods & standing up for our democracy.', 'url': 'https://t.co/99DVW9q1yt', 'entities': {'url': {'urls': [{'url': 'https://t.co/99DVW9q1yt', 'expanded_url': 'http://onwardtogether.org', 'display_url': 'onwardtogether.org', 'indices': [0, 23]}]}, 'description': {'urls': []}}, 'protected': False, 'followers_count': 23157235, 'friends_count': 771, 'listed_count': 40585, 'created_at': 'Tue Apr 09 18:04:35 +0000 2013', 'favourites_count': 1148, 'utc_offset': None, 'time_zone': None, 'geo_enabled': True, 'verified': True, 'statuses_count': 10181, 'lang': 'en', 'contributors_enabled': False, 'is_translator': False, 'is_translation_enabled': False, 'profile_background_color': '0057B8', 'profile_background_image_url': 'http://abs.twimg.com/images/themes/theme1/bg.png', 'profile_background_image_url_https': 'https://abs.twimg.com/images/themes/theme1/bg.png', 'profile_background_tile': False, 'profile_image_url': 'http://pbs.twimg.com/profile_images/839938827837976576/leN1zJJx_normal.jpg', 'profile_image_url_https': 'https://pbs.twimg.com/profile_images/839938827837976576/leN1zJJx_normal.jpg', 'profile_banner_url': 'https://pbs.twimg.com/profile_banners/1339835893/1476893928', 'profile_link_color': '0057B8', 'profile_sidebar_border_color': '000000', 'profile_sidebar_fill_color': '000000', 'profile_text_color': '000000', 'profile_use_background_image': False, 'has_extended_profile': True, 'default_profile': False, 'default_profile_image': False, 'following': True, 'follow_request_sent': False, 'notifications': False, 'translator_type': 'none'}, id=1339835893, id_str='1339835893', name='Hillary Clinton', screen_name='HillaryClinton', location='New York, NY', description='2016 Democratic Nominee, SecState, Senator, hair icon. Mom, Wife, Grandma x2, lawyer, advocate, fan of walks in the woods & standing up for our democracy.', url='https://t.co/99DVW9q1yt', entities={'url': {'urls': [{'url': 'https://t.co/99DVW9q1yt', 'expanded_url': 'http://onwardtogether.org', 'display_url': 'onwardtogether.org', 'indices': [0, 23]}]}, 'description': {'urls': []}}, protected=False, followers_count=23157235, friends_count=771, listed_count=40585, created_at=datetime.datetime(2013, 4, 9, 18, 4, 35), favourites_count=1148, utc_offset=None, time_zone=None, geo_enabled=True, verified=True, statuses_count=10181, lang='en', contributors_enabled=False, is_translator=False, is_translation_enabled=False, profile_background_color='0057B8', profile_background_image_url='http://abs.twimg.com/images/themes/theme1/bg.png', profile_background_image_url_https='https://abs.twimg.com/images/themes/theme1/bg.png', profile_background_tile=False, profile_image_url='http://pbs.twimg.com/profile_images/839938827837976576/leN1zJJx_normal.jpg', profile_image_url_https='https://pbs.twimg.com/profile_images/839938827837976576/leN1zJJx_normal.jpg', profile_banner_url='https://pbs.twimg.com/profile_banners/1339835893/1476893928', profile_link_color='0057B8', profile_sidebar_border_color='000000', profile_sidebar_fill_color='000000', profile_text_color='000000', profile_use_background_image=False, has_extended_profile=True, default_profile=False, default_profile_image=False, following=True, follow_request_sent=False, notifications=False, translator_type='none'), geo=None, coordinates=None, place=None, contributors=None, is_quote_status=True, quoted_status_id=1022899775958642688, quoted_status_id_str='1022899775958642688', quoted_status=Status(_api=<tweepy.api.API object at 0x1046686d8>, _json={'created_at': 'Fri Jul 27 17:41:25 +0000 2018', 'id': 1022899775958642688, 'id_str': '1022899775958642688', 'text': 'What a night @HillaryClinton !! A thrill of a lifetime!\\n 📷 Bruce Glikas for @HelloDollyBway https://t.co/ugJf6xcGD8', 'truncated': False, 'entities': {'hashtags': [], 'symbols': [], 'user_mentions': [{'screen_name': 'HillaryClinton', 'name': 'Hillary Clinton', 'id': 1339835893, 'id_str': '1339835893', 'indices': [13, 28]}, {'screen_name': 'HelloDollyBway', 'name': 'Hello, Dolly!', 'id': 4785031154, 'id_str': '4785031154', 'indices': [76, 91]}], 'urls': [], 'media': [{'id': 1022899290480361472, 'id_str': '1022899290480361472', 'indices': [92, 115], 'media_url': 'http://pbs.twimg.com/media/DjIRfDIUwAAeuK3.jpg', 'media_url_https': 'https://pbs.twimg.com/media/DjIRfDIUwAAeuK3.jpg', 'url': 'https://t.co/ugJf6xcGD8', 'display_url': 'pic.twitter.com/ugJf6xcGD8', 'expanded_url': 'https://twitter.com/BetteMidler/status/1022899775958642688/photo/1', 'type': 'photo', 'sizes': {'large': {'w': 640, 'h': 640, 'resize': 'fit'}, 'thumb': {'w': 150, 'h': 150, 'resize': 'crop'}, 'small': {'w': 640, 'h': 640, 'resize': 'fit'}, 'medium': {'w': 640, 'h': 640, 'resize': 'fit'}}}]}, 'extended_entities': {'media': [{'id': 1022899290480361472, 'id_str': '1022899290480361472', 'indices': [92, 115], 'media_url': 'http://pbs.twimg.com/media/DjIRfDIUwAAeuK3.jpg', 'media_url_https': 'https://pbs.twimg.com/media/DjIRfDIUwAAeuK3.jpg', 'url': 'https://t.co/ugJf6xcGD8', 'display_url': 'pic.twitter.com/ugJf6xcGD8', 'expanded_url': 'https://twitter.com/BetteMidler/status/1022899775958642688/photo/1', 'type': 'photo', 'sizes': {'large': {'w': 640, 'h': 640, 'resize': 'fit'}, 'thumb': {'w': 150, 'h': 150, 'resize': 'crop'}, 'small': {'w': 640, 'h': 640, 'resize': 'fit'}, 'medium': {'w': 640, 'h': 640, 'resize': 'fit'}}}]}, 'source': '<a href=\"http://twitter.com\" rel=\"nofollow\">Twitter Web Client</a>', 'in_reply_to_status_id': None, 'in_reply_to_status_id_str': None, 'in_reply_to_user_id': None, 'in_reply_to_user_id_str': None, 'in_reply_to_screen_name': None, 'user': {'id': 139823781, 'id_str': '139823781', 'name': 'Bette Midler', 'screen_name': 'BetteMidler', 'location': 'New York, NY', 'description': 'And the darkest hour is just before dawn.', 'url': 'https://t.co/7ODxSaP5Lc', 'entities': {'url': {'urls': [{'url': 'https://t.co/7ODxSaP5Lc', 'expanded_url': 'http://BetteMidler.com', 'display_url': 'BetteMidler.com', 'indices': [0, 23]}]}, 'description': {'urls': []}}, 'protected': False, 'followers_count': 1416242, 'friends_count': 61, 'listed_count': 7783, 'created_at': 'Mon May 03 20:00:36 +0000 2010', 'favourites_count': 302, 'utc_offset': None, 'time_zone': None, 'geo_enabled': True, 'verified': True, 'statuses_count': 8885, 'lang': 'en', 'contributors_enabled': False, 'is_translator': False, 'is_translation_enabled': False, 'profile_background_color': 'FFFFFF', 'profile_background_image_url': 'http://abs.twimg.com/images/themes/theme1/bg.png', 'profile_background_image_url_https': 'https://abs.twimg.com/images/themes/theme1/bg.png', 'profile_background_tile': False, 'profile_image_url': 'http://pbs.twimg.com/profile_images/1004964783974690817/t8-JFMsI_normal.jpg', 'profile_image_url_https': 'https://pbs.twimg.com/profile_images/1004964783974690817/t8-JFMsI_normal.jpg', 'profile_banner_url': 'https://pbs.twimg.com/profile_banners/139823781/1528437233', 'profile_link_color': 'F5ABB5', 'profile_sidebar_border_color': 'FFFFFF', 'profile_sidebar_fill_color': 'DDEEF6', 'profile_text_color': '333333', 'profile_use_background_image': True, 'has_extended_profile': False, 'default_profile': False, 'default_profile_image': False, 'following': False, 'follow_request_sent': False, 'notifications': False, 'translator_type': 'none'}, 'geo': None, 'coordinates': None, 'place': None, 'contributors': None, 'is_quote_status': False, 'retweet_count': 3211, 'favorite_count': 25827, 'favorited': False, 'retweeted': False, 'possibly_sensitive': False, 'lang': 'en'}, created_at=datetime.datetime(2018, 7, 27, 17, 41, 25), id=1022899775958642688, id_str='1022899775958642688', text='What a night @HillaryClinton !! A thrill of a lifetime!\\n 📷 Bruce Glikas for @HelloDollyBway https://t.co/ugJf6xcGD8', truncated=False, entities={'hashtags': [], 'symbols': [], 'user_mentions': [{'screen_name': 'HillaryClinton', 'name': 'Hillary Clinton', 'id': 1339835893, 'id_str': '1339835893', 'indices': [13, 28]}, {'screen_name': 'HelloDollyBway', 'name': 'Hello, Dolly!', 'id': 4785031154, 'id_str': '4785031154', 'indices': [76, 91]}], 'urls': [], 'media': [{'id': 1022899290480361472, 'id_str': '1022899290480361472', 'indices': [92, 115], 'media_url': 'http://pbs.twimg.com/media/DjIRfDIUwAAeuK3.jpg', 'media_url_https': 'https://pbs.twimg.com/media/DjIRfDIUwAAeuK3.jpg', 'url': 'https://t.co/ugJf6xcGD8', 'display_url': 'pic.twitter.com/ugJf6xcGD8', 'expanded_url': 'https://twitter.com/BetteMidler/status/1022899775958642688/photo/1', 'type': 'photo', 'sizes': {'large': {'w': 640, 'h': 640, 'resize': 'fit'}, 'thumb': {'w': 150, 'h': 150, 'resize': 'crop'}, 'small': {'w': 640, 'h': 640, 'resize': 'fit'}, 'medium': {'w': 640, 'h': 640, 'resize': 'fit'}}}]}, extended_entities={'media': [{'id': 1022899290480361472, 'id_str': '1022899290480361472', 'indices': [92, 115], 'media_url': 'http://pbs.twimg.com/media/DjIRfDIUwAAeuK3.jpg', 'media_url_https': 'https://pbs.twimg.com/media/DjIRfDIUwAAeuK3.jpg', 'url': 'https://t.co/ugJf6xcGD8', 'display_url': 'pic.twitter.com/ugJf6xcGD8', 'expanded_url': 'https://twitter.com/BetteMidler/status/1022899775958642688/photo/1', 'type': 'photo', 'sizes': {'large': {'w': 640, 'h': 640, 'resize': 'fit'}, 'thumb': {'w': 150, 'h': 150, 'resize': 'crop'}, 'small': {'w': 640, 'h': 640, 'resize': 'fit'}, 'medium': {'w': 640, 'h': 640, 'resize': 'fit'}}}]}, source='Twitter Web Client', source_url='http://twitter.com', in_reply_to_status_id=None, in_reply_to_status_id_str=None, in_reply_to_user_id=None, in_reply_to_user_id_str=None, in_reply_to_screen_name=None, author=User(_api=<tweepy.api.API object at 0x1046686d8>, _json={'id': 139823781, 'id_str': '139823781', 'name': 'Bette Midler', 'screen_name': 'BetteMidler', 'location': 'New York, NY', 'description': 'And the darkest hour is just before dawn.', 'url': 'https://t.co/7ODxSaP5Lc', 'entities': {'url': {'urls': [{'url': 'https://t.co/7ODxSaP5Lc', 'expanded_url': 'http://BetteMidler.com', 'display_url': 'BetteMidler.com', 'indices': [0, 23]}]}, 'description': {'urls': []}}, 'protected': False, 'followers_count': 1416242, 'friends_count': 61, 'listed_count': 7783, 'created_at': 'Mon May 03 20:00:36 +0000 2010', 'favourites_count': 302, 'utc_offset': None, 'time_zone': None, 'geo_enabled': True, 'verified': True, 'statuses_count': 8885, 'lang': 'en', 'contributors_enabled': False, 'is_translator': False, 'is_translation_enabled': False, 'profile_background_color': 'FFFFFF', 'profile_background_image_url': 'http://abs.twimg.com/images/themes/theme1/bg.png', 'profile_background_image_url_https': 'https://abs.twimg.com/images/themes/theme1/bg.png', 'profile_background_tile': False, 'profile_image_url': 'http://pbs.twimg.com/profile_images/1004964783974690817/t8-JFMsI_normal.jpg', 'profile_image_url_https': 'https://pbs.twimg.com/profile_images/1004964783974690817/t8-JFMsI_normal.jpg', 'profile_banner_url': 'https://pbs.twimg.com/profile_banners/139823781/1528437233', 'profile_link_color': 'F5ABB5', 'profile_sidebar_border_color': 'FFFFFF', 'profile_sidebar_fill_color': 'DDEEF6', 'profile_text_color': '333333', 'profile_use_background_image': True, 'has_extended_profile': False, 'default_profile': False, 'default_profile_image': False, 'following': False, 'follow_request_sent': False, 'notifications': False, 'translator_type': 'none'}, id=139823781, id_str='139823781', name='Bette Midler', screen_name='BetteMidler', location='New York, NY', description='And the darkest hour is just before dawn.', url='https://t.co/7ODxSaP5Lc', entities={'url': {'urls': [{'url': 'https://t.co/7ODxSaP5Lc', 'expanded_url': 'http://BetteMidler.com', 'display_url': 'BetteMidler.com', 'indices': [0, 23]}]}, 'description': {'urls': []}}, protected=False, followers_count=1416242, friends_count=61, listed_count=7783, created_at=datetime.datetime(2010, 5, 3, 20, 0, 36), favourites_count=302, utc_offset=None, time_zone=None, geo_enabled=True, verified=True, statuses_count=8885, lang='en', contributors_enabled=False, is_translator=False, is_translation_enabled=False, profile_background_color='FFFFFF', profile_background_image_url='http://abs.twimg.com/images/themes/theme1/bg.png', profile_background_image_url_https='https://abs.twimg.com/images/themes/theme1/bg.png', profile_background_tile=False, profile_image_url='http://pbs.twimg.com/profile_images/1004964783974690817/t8-JFMsI_normal.jpg', profile_image_url_https='https://pbs.twimg.com/profile_images/1004964783974690817/t8-JFMsI_normal.jpg', profile_banner_url='https://pbs.twimg.com/profile_banners/139823781/1528437233', profile_link_color='F5ABB5', profile_sidebar_border_color='FFFFFF', profile_sidebar_fill_color='DDEEF6', profile_text_color='333333', profile_use_background_image=True, has_extended_profile=False, default_profile=False, default_profile_image=False, following=False, follow_request_sent=False, notifications=False, translator_type='none'), user=User(_api=<tweepy.api.API object at 0x1046686d8>, _json={'id': 139823781, 'id_str': '139823781', 'name': 'Bette Midler', 'screen_name': 'BetteMidler', 'location': 'New York, NY', 'description': 'And the darkest hour is just before dawn.', 'url': 'https://t.co/7ODxSaP5Lc', 'entities': {'url': {'urls': [{'url': 'https://t.co/7ODxSaP5Lc', 'expanded_url': 'http://BetteMidler.com', 'display_url': 'BetteMidler.com', 'indices': [0, 23]}]}, 'description': {'urls': []}}, 'protected': False, 'followers_count': 1416242, 'friends_count': 61, 'listed_count': 7783, 'created_at': 'Mon May 03 20:00:36 +0000 2010', 'favourites_count': 302, 'utc_offset': None, 'time_zone': None, 'geo_enabled': True, 'verified': True, 'statuses_count': 8885, 'lang': 'en', 'contributors_enabled': False, 'is_translator': False, 'is_translation_enabled': False, 'profile_background_color': 'FFFFFF', 'profile_background_image_url': 'http://abs.twimg.com/images/themes/theme1/bg.png', 'profile_background_image_url_https': 'https://abs.twimg.com/images/themes/theme1/bg.png', 'profile_background_tile': False, 'profile_image_url': 'http://pbs.twimg.com/profile_images/1004964783974690817/t8-JFMsI_normal.jpg', 'profile_image_url_https': 'https://pbs.twimg.com/profile_images/1004964783974690817/t8-JFMsI_normal.jpg', 'profile_banner_url': 'https://pbs.twimg.com/profile_banners/139823781/1528437233', 'profile_link_color': 'F5ABB5', 'profile_sidebar_border_color': 'FFFFFF', 'profile_sidebar_fill_color': 'DDEEF6', 'profile_text_color': '333333', 'profile_use_background_image': True, 'has_extended_profile': False, 'default_profile': False, 'default_profile_image': False, 'following': False, 'follow_request_sent': False, 'notifications': False, 'translator_type': 'none'}, id=139823781, id_str='139823781', name='Bette Midler', screen_name='BetteMidler', location='New York, NY', description='And the darkest hour is just before dawn.', url='https://t.co/7ODxSaP5Lc', entities={'url': {'urls': [{'url': 'https://t.co/7ODxSaP5Lc', 'expanded_url': 'http://BetteMidler.com', 'display_url': 'BetteMidler.com', 'indices': [0, 23]}]}, 'description': {'urls': []}}, protected=False, followers_count=1416242, friends_count=61, listed_count=7783, created_at=datetime.datetime(2010, 5, 3, 20, 0, 36), favourites_count=302, utc_offset=None, time_zone=None, geo_enabled=True, verified=True, statuses_count=8885, lang='en', contributors_enabled=False, is_translator=False, is_translation_enabled=False, profile_background_color='FFFFFF', profile_background_image_url='http://abs.twimg.com/images/themes/theme1/bg.png', profile_background_image_url_https='https://abs.twimg.com/images/themes/theme1/bg.png', profile_background_tile=False, profile_image_url='http://pbs.twimg.com/profile_images/1004964783974690817/t8-JFMsI_normal.jpg', profile_image_url_https='https://pbs.twimg.com/profile_images/1004964783974690817/t8-JFMsI_normal.jpg', profile_banner_url='https://pbs.twimg.com/profile_banners/139823781/1528437233', profile_link_color='F5ABB5', profile_sidebar_border_color='FFFFFF', profile_sidebar_fill_color='DDEEF6', profile_text_color='333333', profile_use_background_image=True, has_extended_profile=False, default_profile=False, default_profile_image=False, following=False, follow_request_sent=False, notifications=False, translator_type='none'), geo=None, coordinates=None, place=None, contributors=None, is_quote_status=False, retweet_count=3211, favorite_count=25827, favorited=False, retweeted=False, possibly_sensitive=False, lang='en'), retweet_count=5717, favorite_count=49709, favorited=False, retweeted=False, possibly_sensitive=False, lang='en')\n"
     ]
    }
   ],
   "source": [
    "for tweet in tweepy.Cursor(api.user_timeline, id = \"hillaryclinton\").items(1):\n",
    "    print(tweet)"
   ]
  },
  {
   "cell_type": "code",
   "execution_count": 10,
   "metadata": {},
   "outputs": [
    {
     "name": "stdout",
     "output_type": "stream",
     "text": [
      "Such a pleasure seeing @BetteMidler back where she belongs! Huge thanks to the cast and crew of @HelloDollyBway for… https://t.co/eSxSVjMh7I\n"
     ]
    }
   ],
   "source": [
    "for tweet in tweepy.Cursor(api.user_timeline, id = \"hillaryclinton\").items(1):\n",
    "    print(tweet._json['text'])"
   ]
  },
  {
   "cell_type": "code",
   "execution_count": 11,
   "metadata": {},
   "outputs": [
    {
     "name": "stdout",
     "output_type": "stream",
     "text": [
      "\"Such a pleasure seeing @BetteMidler back where she belongs! Huge thanks to the cast and crew of @HelloDollyBway for\\u2026 https://t.co/eSxSVjMh7I\"\n"
     ]
    }
   ],
   "source": [
    "for tweet in tweepy.Cursor(api.user_timeline, id = \"hillaryclinton\").items(1):\n",
    "    print(json.dumps(tweet._json['text']))"
   ]
  },
  {
   "cell_type": "code",
   "execution_count": 12,
   "metadata": {},
   "outputs": [
    {
     "name": "stdout",
     "output_type": "stream",
     "text": [
      "{\"created_at\": \"Fri Jul 27 22:40:58 +0000 2018\", \"id\": 1022975158536097792, \"id_str\": \"1022975158536097792\", \"text\": \"Such a pleasure seeing @BetteMidler back where she belongs! Huge thanks to the cast and crew of @HelloDollyBway for\\u2026 https://t.co/eSxSVjMh7I\", \"truncated\": true, \"entities\": {\"hashtags\": [], \"symbols\": [], \"user_mentions\": [{\"screen_name\": \"BetteMidler\", \"name\": \"Bette Midler\", \"id\": 139823781, \"id_str\": \"139823781\", \"indices\": [23, 35]}, {\"screen_name\": \"HelloDollyBway\", \"name\": \"Hello, Dolly!\", \"id\": 4785031154, \"id_str\": \"4785031154\", \"indices\": [96, 111]}], \"urls\": [{\"url\": \"https://t.co/eSxSVjMh7I\", \"expanded_url\": \"https://twitter.com/i/web/status/1022975158536097792\", \"display_url\": \"twitter.com/i/web/status/1\\u2026\", \"indices\": [117, 140]}]}, \"source\": \"<a href=\\\"http://twitter.com\\\" rel=\\\"nofollow\\\">Twitter Web Client</a>\", \"in_reply_to_status_id\": null, \"in_reply_to_status_id_str\": null, \"in_reply_to_user_id\": null, \"in_reply_to_user_id_str\": null, \"in_reply_to_screen_name\": null, \"user\": {\"id\": 1339835893, \"id_str\": \"1339835893\", \"name\": \"Hillary Clinton\", \"screen_name\": \"HillaryClinton\", \"location\": \"New York, NY\", \"description\": \"2016 Democratic Nominee, SecState, Senator, hair icon. Mom, Wife, Grandma x2, lawyer, advocate, fan of walks in the woods & standing up for our democracy.\", \"url\": \"https://t.co/99DVW9q1yt\", \"entities\": {\"url\": {\"urls\": [{\"url\": \"https://t.co/99DVW9q1yt\", \"expanded_url\": \"http://onwardtogether.org\", \"display_url\": \"onwardtogether.org\", \"indices\": [0, 23]}]}, \"description\": {\"urls\": []}}, \"protected\": false, \"followers_count\": 23157236, \"friends_count\": 771, \"listed_count\": 40585, \"created_at\": \"Tue Apr 09 18:04:35 +0000 2013\", \"favourites_count\": 1148, \"utc_offset\": null, \"time_zone\": null, \"geo_enabled\": true, \"verified\": true, \"statuses_count\": 10181, \"lang\": \"en\", \"contributors_enabled\": false, \"is_translator\": false, \"is_translation_enabled\": false, \"profile_background_color\": \"0057B8\", \"profile_background_image_url\": \"http://abs.twimg.com/images/themes/theme1/bg.png\", \"profile_background_image_url_https\": \"https://abs.twimg.com/images/themes/theme1/bg.png\", \"profile_background_tile\": false, \"profile_image_url\": \"http://pbs.twimg.com/profile_images/839938827837976576/leN1zJJx_normal.jpg\", \"profile_image_url_https\": \"https://pbs.twimg.com/profile_images/839938827837976576/leN1zJJx_normal.jpg\", \"profile_banner_url\": \"https://pbs.twimg.com/profile_banners/1339835893/1476893928\", \"profile_link_color\": \"0057B8\", \"profile_sidebar_border_color\": \"000000\", \"profile_sidebar_fill_color\": \"000000\", \"profile_text_color\": \"000000\", \"profile_use_background_image\": false, \"has_extended_profile\": true, \"default_profile\": false, \"default_profile_image\": false, \"following\": true, \"follow_request_sent\": false, \"notifications\": false, \"translator_type\": \"none\"}, \"geo\": null, \"coordinates\": null, \"place\": null, \"contributors\": null, \"is_quote_status\": true, \"quoted_status_id\": 1022899775958642688, \"quoted_status_id_str\": \"1022899775958642688\", \"quoted_status\": {\"created_at\": \"Fri Jul 27 17:41:25 +0000 2018\", \"id\": 1022899775958642688, \"id_str\": \"1022899775958642688\", \"text\": \"What a night @HillaryClinton !! A thrill of a lifetime!\\n \\ud83d\\udcf7 Bruce Glikas for @HelloDollyBway https://t.co/ugJf6xcGD8\", \"truncated\": false, \"entities\": {\"hashtags\": [], \"symbols\": [], \"user_mentions\": [{\"screen_name\": \"HillaryClinton\", \"name\": \"Hillary Clinton\", \"id\": 1339835893, \"id_str\": \"1339835893\", \"indices\": [13, 28]}, {\"screen_name\": \"HelloDollyBway\", \"name\": \"Hello, Dolly!\", \"id\": 4785031154, \"id_str\": \"4785031154\", \"indices\": [76, 91]}], \"urls\": [], \"media\": [{\"id\": 1022899290480361472, \"id_str\": \"1022899290480361472\", \"indices\": [92, 115], \"media_url\": \"http://pbs.twimg.com/media/DjIRfDIUwAAeuK3.jpg\", \"media_url_https\": \"https://pbs.twimg.com/media/DjIRfDIUwAAeuK3.jpg\", \"url\": \"https://t.co/ugJf6xcGD8\", \"display_url\": \"pic.twitter.com/ugJf6xcGD8\", \"expanded_url\": \"https://twitter.com/BetteMidler/status/1022899775958642688/photo/1\", \"type\": \"photo\", \"sizes\": {\"large\": {\"w\": 640, \"h\": 640, \"resize\": \"fit\"}, \"thumb\": {\"w\": 150, \"h\": 150, \"resize\": \"crop\"}, \"small\": {\"w\": 640, \"h\": 640, \"resize\": \"fit\"}, \"medium\": {\"w\": 640, \"h\": 640, \"resize\": \"fit\"}}}]}, \"extended_entities\": {\"media\": [{\"id\": 1022899290480361472, \"id_str\": \"1022899290480361472\", \"indices\": [92, 115], \"media_url\": \"http://pbs.twimg.com/media/DjIRfDIUwAAeuK3.jpg\", \"media_url_https\": \"https://pbs.twimg.com/media/DjIRfDIUwAAeuK3.jpg\", \"url\": \"https://t.co/ugJf6xcGD8\", \"display_url\": \"pic.twitter.com/ugJf6xcGD8\", \"expanded_url\": \"https://twitter.com/BetteMidler/status/1022899775958642688/photo/1\", \"type\": \"photo\", \"sizes\": {\"large\": {\"w\": 640, \"h\": 640, \"resize\": \"fit\"}, \"thumb\": {\"w\": 150, \"h\": 150, \"resize\": \"crop\"}, \"small\": {\"w\": 640, \"h\": 640, \"resize\": \"fit\"}, \"medium\": {\"w\": 640, \"h\": 640, \"resize\": \"fit\"}}}]}, \"source\": \"<a href=\\\"http://twitter.com\\\" rel=\\\"nofollow\\\">Twitter Web Client</a>\", \"in_reply_to_status_id\": null, \"in_reply_to_status_id_str\": null, \"in_reply_to_user_id\": null, \"in_reply_to_user_id_str\": null, \"in_reply_to_screen_name\": null, \"user\": {\"id\": 139823781, \"id_str\": \"139823781\", \"name\": \"Bette Midler\", \"screen_name\": \"BetteMidler\", \"location\": \"New York, NY\", \"description\": \"And the darkest hour is just before dawn.\", \"url\": \"https://t.co/7ODxSaP5Lc\", \"entities\": {\"url\": {\"urls\": [{\"url\": \"https://t.co/7ODxSaP5Lc\", \"expanded_url\": \"http://BetteMidler.com\", \"display_url\": \"BetteMidler.com\", \"indices\": [0, 23]}]}, \"description\": {\"urls\": []}}, \"protected\": false, \"followers_count\": 1416242, \"friends_count\": 61, \"listed_count\": 7783, \"created_at\": \"Mon May 03 20:00:36 +0000 2010\", \"favourites_count\": 302, \"utc_offset\": null, \"time_zone\": null, \"geo_enabled\": true, \"verified\": true, \"statuses_count\": 8885, \"lang\": \"en\", \"contributors_enabled\": false, \"is_translator\": false, \"is_translation_enabled\": false, \"profile_background_color\": \"FFFFFF\", \"profile_background_image_url\": \"http://abs.twimg.com/images/themes/theme1/bg.png\", \"profile_background_image_url_https\": \"https://abs.twimg.com/images/themes/theme1/bg.png\", \"profile_background_tile\": false, \"profile_image_url\": \"http://pbs.twimg.com/profile_images/1004964783974690817/t8-JFMsI_normal.jpg\", \"profile_image_url_https\": \"https://pbs.twimg.com/profile_images/1004964783974690817/t8-JFMsI_normal.jpg\", \"profile_banner_url\": \"https://pbs.twimg.com/profile_banners/139823781/1528437233\", \"profile_link_color\": \"F5ABB5\", \"profile_sidebar_border_color\": \"FFFFFF\", \"profile_sidebar_fill_color\": \"DDEEF6\", \"profile_text_color\": \"333333\", \"profile_use_background_image\": true, \"has_extended_profile\": false, \"default_profile\": false, \"default_profile_image\": false, \"following\": false, \"follow_request_sent\": false, \"notifications\": false, \"translator_type\": \"none\"}, \"geo\": null, \"coordinates\": null, \"place\": null, \"contributors\": null, \"is_quote_status\": false, \"retweet_count\": 3211, \"favorite_count\": 25827, \"favorited\": false, \"retweeted\": false, \"possibly_sensitive\": false, \"lang\": \"en\"}, \"retweet_count\": 5717, \"favorite_count\": 49709, \"favorited\": false, \"retweeted\": false, \"possibly_sensitive\": false, \"lang\": \"en\"}\n"
     ]
    }
   ],
   "source": [
    "for tweet in tweepy.Cursor(api.user_timeline, id = \"hillaryclinton\").items(1):\n",
    "    print(json.dumps(tweet._json))"
   ]
  },
  {
   "cell_type": "code",
   "execution_count": 13,
   "metadata": {},
   "outputs": [
    {
     "name": "stdout",
     "output_type": "stream",
     "text": [
      "dict_keys(['created_at', 'id', 'id_str', 'text', 'truncated', 'entities', 'source', 'in_reply_to_status_id', 'in_reply_to_status_id_str', 'in_reply_to_user_id', 'in_reply_to_user_id_str', 'in_reply_to_screen_name', 'user', 'geo', 'coordinates', 'place', 'contributors', 'is_quote_status', 'quoted_status_id', 'quoted_status_id_str', 'quoted_status', 'retweet_count', 'favorite_count', 'favorited', 'retweeted', 'possibly_sensitive', 'lang'])\n"
     ]
    }
   ],
   "source": [
    "for tweet in tweepy.Cursor(api.user_timeline, id = \"hillaryclinton\").items(1):\n",
    "    print((tweet._json.keys()))"
   ]
  },
  {
   "cell_type": "code",
   "execution_count": 14,
   "metadata": {},
   "outputs": [],
   "source": [
    "tweets = []\n",
    "retweets = []\n",
    "user = []\n",
    "for tweet in tweepy.Cursor(api.user_timeline, id = \"hillaryclinton\").items(2000):\n",
    "    tweets.append(tweet._json['text'])\n",
    "    retweets.append(tweet._json['retweet_count'])\n",
    "    user.append(tweet._json['user']['screen_name'])"
   ]
  },
  {
   "cell_type": "code",
   "execution_count": 15,
   "metadata": {},
   "outputs": [
    {
     "data": {
      "text/html": [
       "<div>\n",
       "<style scoped>\n",
       "    .dataframe tbody tr th:only-of-type {\n",
       "        vertical-align: middle;\n",
       "    }\n",
       "\n",
       "    .dataframe tbody tr th {\n",
       "        vertical-align: top;\n",
       "    }\n",
       "\n",
       "    .dataframe thead th {\n",
       "        text-align: right;\n",
       "    }\n",
       "</style>\n",
       "<table border=\"1\" class=\"dataframe\">\n",
       "  <thead>\n",
       "    <tr style=\"text-align: right;\">\n",
       "      <th></th>\n",
       "      <th>retweets</th>\n",
       "      <th>tweets</th>\n",
       "      <th>user</th>\n",
       "    </tr>\n",
       "  </thead>\n",
       "  <tbody>\n",
       "    <tr>\n",
       "      <th>0</th>\n",
       "      <td>5717</td>\n",
       "      <td>Such a pleasure seeing @BetteMidler back where...</td>\n",
       "      <td>HillaryClinton</td>\n",
       "    </tr>\n",
       "    <tr>\n",
       "      <th>1</th>\n",
       "      <td>18964</td>\n",
       "      <td>Yesterday was the court-ordered deadline for t...</td>\n",
       "      <td>HillaryClinton</td>\n",
       "    </tr>\n",
       "    <tr>\n",
       "      <th>2</th>\n",
       "      <td>7944</td>\n",
       "      <td>From mother to activist to candidate - congrat...</td>\n",
       "      <td>HillaryClinton</td>\n",
       "    </tr>\n",
       "    <tr>\n",
       "      <th>3</th>\n",
       "      <td>7514</td>\n",
       "      <td>It was wonderful to spend some time with the t...</td>\n",
       "      <td>HillaryClinton</td>\n",
       "    </tr>\n",
       "    <tr>\n",
       "      <th>4</th>\n",
       "      <td>590</td>\n",
       "      <td>RT @domesticworkers: Miles de niños y niñas si...</td>\n",
       "      <td>HillaryClinton</td>\n",
       "    </tr>\n",
       "  </tbody>\n",
       "</table>\n",
       "</div>"
      ],
      "text/plain": [
       "   retweets                                             tweets            user\n",
       "0      5717  Such a pleasure seeing @BetteMidler back where...  HillaryClinton\n",
       "1     18964  Yesterday was the court-ordered deadline for t...  HillaryClinton\n",
       "2      7944  From mother to activist to candidate - congrat...  HillaryClinton\n",
       "3      7514  It was wonderful to spend some time with the t...  HillaryClinton\n",
       "4       590  RT @domesticworkers: Miles de niños y niñas si...  HillaryClinton"
      ]
     },
     "execution_count": 15,
     "metadata": {},
     "output_type": "execute_result"
    }
   ],
   "source": [
    "import pandas as pd\n",
    "df = pd.DataFrame({'tweets': tweets, 'retweets': retweets, 'user': user})\n",
    "df.head()"
   ]
  },
  {
   "cell_type": "code",
   "execution_count": 16,
   "metadata": {},
   "outputs": [],
   "source": [
    "tweets = []\n",
    "retweets = []\n",
    "user = []\n",
    "for tweet in tweepy.Cursor(api.user_timeline, id = \"iamcardib\").items(2000):\n",
    "    tweets.append(tweet._json['text'])\n",
    "    retweets.append(tweet._json['retweet_count'])\n",
    "    user.append(tweet._json['user']['screen_name'])"
   ]
  },
  {
   "cell_type": "code",
   "execution_count": 17,
   "metadata": {},
   "outputs": [
    {
     "data": {
      "text/html": [
       "<div>\n",
       "<style scoped>\n",
       "    .dataframe tbody tr th:only-of-type {\n",
       "        vertical-align: middle;\n",
       "    }\n",
       "\n",
       "    .dataframe tbody tr th {\n",
       "        vertical-align: top;\n",
       "    }\n",
       "\n",
       "    .dataframe thead th {\n",
       "        text-align: right;\n",
       "    }\n",
       "</style>\n",
       "<table border=\"1\" class=\"dataframe\">\n",
       "  <thead>\n",
       "    <tr style=\"text-align: right;\">\n",
       "      <th></th>\n",
       "      <th>retweets</th>\n",
       "      <th>tweets</th>\n",
       "      <th>user</th>\n",
       "    </tr>\n",
       "  </thead>\n",
       "  <tbody>\n",
       "    <tr>\n",
       "      <th>0</th>\n",
       "      <td>10975</td>\n",
       "      <td>Mood https://t.co/burVuT9Apz</td>\n",
       "      <td>iamcardib</td>\n",
       "    </tr>\n",
       "    <tr>\n",
       "      <th>1</th>\n",
       "      <td>16</td>\n",
       "      <td>@CardiMila__ 😎</td>\n",
       "      <td>iamcardib</td>\n",
       "    </tr>\n",
       "    <tr>\n",
       "      <th>2</th>\n",
       "      <td>1051</td>\n",
       "      <td>I got a baby i need some money shieeettt i nee...</td>\n",
       "      <td>iamcardib</td>\n",
       "    </tr>\n",
       "    <tr>\n",
       "      <th>3</th>\n",
       "      <td>2748</td>\n",
       "      <td>DO YOU SMELL WHAT CARDI IS COOKING ?</td>\n",
       "      <td>iamcardib</td>\n",
       "    </tr>\n",
       "    <tr>\n",
       "      <th>4</th>\n",
       "      <td>2022</td>\n",
       "      <td>People love doubting you then when you hit the...</td>\n",
       "      <td>iamcardib</td>\n",
       "    </tr>\n",
       "  </tbody>\n",
       "</table>\n",
       "</div>"
      ],
      "text/plain": [
       "   retweets                                             tweets       user\n",
       "0     10975                       Mood https://t.co/burVuT9Apz  iamcardib\n",
       "1        16                                     @CardiMila__ 😎  iamcardib\n",
       "2      1051  I got a baby i need some money shieeettt i nee...  iamcardib\n",
       "3      2748               DO YOU SMELL WHAT CARDI IS COOKING ?  iamcardib\n",
       "4      2022  People love doubting you then when you hit the...  iamcardib"
      ]
     },
     "execution_count": 17,
     "metadata": {},
     "output_type": "execute_result"
    }
   ],
   "source": [
    "df2 = pd.DataFrame({'tweets': tweets, 'retweets': retweets, 'user': user})\n",
    "df2.head()"
   ]
  },
  {
   "cell_type": "code",
   "execution_count": 19,
   "metadata": {},
   "outputs": [
    {
     "data": {
      "text/html": [
       "<div>\n",
       "<style scoped>\n",
       "    .dataframe tbody tr th:only-of-type {\n",
       "        vertical-align: middle;\n",
       "    }\n",
       "\n",
       "    .dataframe tbody tr th {\n",
       "        vertical-align: top;\n",
       "    }\n",
       "\n",
       "    .dataframe thead th {\n",
       "        text-align: right;\n",
       "    }\n",
       "</style>\n",
       "<table border=\"1\" class=\"dataframe\">\n",
       "  <thead>\n",
       "    <tr style=\"text-align: right;\">\n",
       "      <th></th>\n",
       "      <th>retweets</th>\n",
       "      <th>tweets</th>\n",
       "      <th>user</th>\n",
       "    </tr>\n",
       "  </thead>\n",
       "  <tbody>\n",
       "    <tr>\n",
       "      <th>0</th>\n",
       "      <td>5717</td>\n",
       "      <td>Such a pleasure seeing @BetteMidler back where...</td>\n",
       "      <td>HillaryClinton</td>\n",
       "    </tr>\n",
       "    <tr>\n",
       "      <th>1</th>\n",
       "      <td>18964</td>\n",
       "      <td>Yesterday was the court-ordered deadline for t...</td>\n",
       "      <td>HillaryClinton</td>\n",
       "    </tr>\n",
       "    <tr>\n",
       "      <th>2</th>\n",
       "      <td>7944</td>\n",
       "      <td>From mother to activist to candidate - congrat...</td>\n",
       "      <td>HillaryClinton</td>\n",
       "    </tr>\n",
       "    <tr>\n",
       "      <th>3</th>\n",
       "      <td>7514</td>\n",
       "      <td>It was wonderful to spend some time with the t...</td>\n",
       "      <td>HillaryClinton</td>\n",
       "    </tr>\n",
       "    <tr>\n",
       "      <th>4</th>\n",
       "      <td>590</td>\n",
       "      <td>RT @domesticworkers: Miles de niños y niñas si...</td>\n",
       "      <td>HillaryClinton</td>\n",
       "    </tr>\n",
       "  </tbody>\n",
       "</table>\n",
       "</div>"
      ],
      "text/plain": [
       "   retweets                                             tweets            user\n",
       "0      5717  Such a pleasure seeing @BetteMidler back where...  HillaryClinton\n",
       "1     18964  Yesterday was the court-ordered deadline for t...  HillaryClinton\n",
       "2      7944  From mother to activist to candidate - congrat...  HillaryClinton\n",
       "3      7514  It was wonderful to spend some time with the t...  HillaryClinton\n",
       "4       590  RT @domesticworkers: Miles de niños y niñas si...  HillaryClinton"
      ]
     },
     "execution_count": 19,
     "metadata": {},
     "output_type": "execute_result"
    }
   ],
   "source": [
    "tweets = pd.concat([df,df2])\n",
    "tweets.head()"
   ]
  },
  {
   "cell_type": "code",
   "execution_count": 20,
   "metadata": {},
   "outputs": [],
   "source": [
    "tweets.to_csv('tweets.csv')"
   ]
  },
  {
   "cell_type": "code",
   "execution_count": 21,
   "metadata": {},
   "outputs": [
    {
     "data": {
      "text/plain": [
       "4000"
      ]
     },
     "execution_count": 21,
     "metadata": {},
     "output_type": "execute_result"
    }
   ],
   "source": [
    "len(tweets)"
   ]
  },
  {
   "cell_type": "code",
   "execution_count": 23,
   "metadata": {},
   "outputs": [],
   "source": [
    "from sklearn.feature_extraction.text import CountVectorizer\n",
    "from sklearn.feature_extraction.text import TfidfVectorizer"
   ]
  },
  {
   "cell_type": "code",
   "execution_count": 24,
   "metadata": {},
   "outputs": [],
   "source": [
    "tfidf = TfidfVectorizer(tweets,ngram_range=(1,3),stop_words='english')"
   ]
  },
  {
   "cell_type": "code",
   "execution_count": 25,
   "metadata": {},
   "outputs": [
    {
     "data": {
      "text/plain": [
       "TfidfVectorizer(analyzer='word', binary=False, decode_error='strict',\n",
       "        dtype=<class 'numpy.int64'>, encoding='utf-8',\n",
       "        input=      retweets                                             tweets  \\\n",
       "0         5717  Such a pleasure seeing @BetteMidler back where...\n",
       "1        18964  Yesterday was the court-ordered deadline for t...\n",
       "2         7944  From mother to activist to candidate - congrat...\n",
       "3         7514  It...rdib\n",
       "1997       iamcardib\n",
       "1998       iamcardib\n",
       "1999       iamcardib\n",
       "\n",
       "[4000 rows x 3 columns],\n",
       "        lowercase=True, max_df=1.0, max_features=None, min_df=1,\n",
       "        ngram_range=(1, 3), norm='l2', preprocessor=None, smooth_idf=True,\n",
       "        stop_words='english', strip_accents=None, sublinear_tf=False,\n",
       "        token_pattern='(?u)\\\\b\\\\w\\\\w+\\\\b', tokenizer=None, use_idf=True,\n",
       "        vocabulary=None)"
      ]
     },
     "execution_count": 25,
     "metadata": {},
     "output_type": "execute_result"
    }
   ],
   "source": [
    "tfidf"
   ]
  },
  {
   "cell_type": "code",
   "execution_count": null,
   "metadata": {},
   "outputs": [],
   "source": []
  },
  {
   "cell_type": "code",
   "execution_count": null,
   "metadata": {},
   "outputs": [],
   "source": []
  },
  {
   "cell_type": "code",
   "execution_count": null,
   "metadata": {},
   "outputs": [],
   "source": []
  },
  {
   "cell_type": "code",
   "execution_count": null,
   "metadata": {},
   "outputs": [],
   "source": []
  },
  {
   "cell_type": "code",
   "execution_count": null,
   "metadata": {},
   "outputs": [],
   "source": []
  },
  {
   "cell_type": "markdown",
   "metadata": {},
   "source": [
    "### To Do\n",
    "\n",
    "- Write a function that takes in usernames and tweet number, and returns a `DataFrame` with the appropriate number of tweets, labeled user, tweet body, retweets, and geo location information.\n",
    "- Explore top retweets\n",
    "- Prepare for `sklearn`\n",
    "- Classification Models"
   ]
  },
  {
   "cell_type": "code",
   "execution_count": null,
   "metadata": {},
   "outputs": [],
   "source": []
  },
  {
   "cell_type": "code",
   "execution_count": null,
   "metadata": {},
   "outputs": [],
   "source": []
  },
  {
   "cell_type": "code",
   "execution_count": null,
   "metadata": {},
   "outputs": [],
   "source": []
  },
  {
   "cell_type": "code",
   "execution_count": null,
   "metadata": {},
   "outputs": [],
   "source": []
  },
  {
   "cell_type": "code",
   "execution_count": null,
   "metadata": {},
   "outputs": [],
   "source": []
  },
  {
   "cell_type": "code",
   "execution_count": null,
   "metadata": {},
   "outputs": [],
   "source": []
  }
 ],
 "metadata": {
  "kernelspec": {
   "display_name": "Python 3",
   "language": "python",
   "name": "python3"
  },
  "language_info": {
   "codemirror_mode": {
    "name": "ipython",
    "version": 3
   },
   "file_extension": ".py",
   "mimetype": "text/x-python",
   "name": "python",
   "nbconvert_exporter": "python",
   "pygments_lexer": "ipython3",
   "version": "3.6.4"
  }
 },
 "nbformat": 4,
 "nbformat_minor": 2
}
