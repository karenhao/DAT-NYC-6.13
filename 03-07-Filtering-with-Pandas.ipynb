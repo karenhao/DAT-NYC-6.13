{
 "cells": [
  {
   "cell_type": "markdown",
   "metadata": {},
   "source": [
    "# Pandas and EDA II\n",
    "\n",
    "In this notebook, we will extend our use of the Pandas library in exploring datasets.  We want to add the ability to filter and subset data based on logical criteria.  \n",
    "\n",
    "\n",
    "**OBJECTIVES**:\n",
    "\n",
    "- Load data using `Pandas` in a variety of formats.\n",
    "- Describe data types and explain characteristics of data set at a descriptive level\n",
    "- Subset rows and columns based on numerical features\n",
    "- Subset rows and columns based on categorical features\n"
   ]
  },
  {
   "cell_type": "code",
   "execution_count": 37,
   "metadata": {},
   "outputs": [],
   "source": [
    "%matplotlib inline\n",
    "import matplotlib.pyplot as plt\n",
    "import numpy as np\n",
    "import pandas as pd\n",
    "import seaborn as sns\n",
    "\n",
    "sns.set(style='ticks')"
   ]
  },
  {
   "cell_type": "code",
   "execution_count": 3,
   "metadata": {},
   "outputs": [],
   "source": [
    "occ = pd.read_csv('data/eda_data/occupations.csv')"
   ]
  },
  {
   "cell_type": "code",
   "execution_count": 4,
   "metadata": {},
   "outputs": [
    {
     "name": "stdout",
     "output_type": "stream",
     "text": [
      "<class 'pandas.core.frame.DataFrame'>\n",
      "RangeIndex: 943 entries, 0 to 942\n",
      "Data columns (total 5 columns):\n",
      "user_id       943 non-null int64\n",
      "age           943 non-null int64\n",
      "gender        943 non-null object\n",
      "occupation    943 non-null object\n",
      "zip_code      943 non-null object\n",
      "dtypes: int64(2), object(3)\n",
      "memory usage: 36.9+ KB\n"
     ]
    }
   ],
   "source": [
    "occ.info()"
   ]
  },
  {
   "cell_type": "code",
   "execution_count": 5,
   "metadata": {},
   "outputs": [
    {
     "data": {
      "text/plain": [
       "user_id        int64\n",
       "age            int64\n",
       "gender        object\n",
       "occupation    object\n",
       "zip_code      object\n",
       "dtype: object"
      ]
     },
     "execution_count": 5,
     "metadata": {},
     "output_type": "execute_result"
    }
   ],
   "source": [
    "occ.dtypes"
   ]
  },
  {
   "cell_type": "code",
   "execution_count": 6,
   "metadata": {},
   "outputs": [
    {
     "data": {
      "text/plain": [
       "Index(['user_id', 'age', 'gender', 'occupation', 'zip_code'], dtype='object')"
      ]
     },
     "execution_count": 6,
     "metadata": {},
     "output_type": "execute_result"
    }
   ],
   "source": [
    "occ.columns"
   ]
  },
  {
   "cell_type": "code",
   "execution_count": 7,
   "metadata": {},
   "outputs": [
    {
     "data": {
      "text/html": [
       "<div>\n",
       "<style scoped>\n",
       "    .dataframe tbody tr th:only-of-type {\n",
       "        vertical-align: middle;\n",
       "    }\n",
       "\n",
       "    .dataframe tbody tr th {\n",
       "        vertical-align: top;\n",
       "    }\n",
       "\n",
       "    .dataframe thead th {\n",
       "        text-align: right;\n",
       "    }\n",
       "</style>\n",
       "<table border=\"1\" class=\"dataframe\">\n",
       "  <thead>\n",
       "    <tr style=\"text-align: right;\">\n",
       "      <th></th>\n",
       "      <th>user_id</th>\n",
       "      <th>age</th>\n",
       "      <th>gender</th>\n",
       "      <th>occupation</th>\n",
       "      <th>zip_code</th>\n",
       "    </tr>\n",
       "  </thead>\n",
       "  <tbody>\n",
       "    <tr>\n",
       "      <th>0</th>\n",
       "      <td>1</td>\n",
       "      <td>24</td>\n",
       "      <td>M</td>\n",
       "      <td>technician</td>\n",
       "      <td>85711</td>\n",
       "    </tr>\n",
       "    <tr>\n",
       "      <th>1</th>\n",
       "      <td>2</td>\n",
       "      <td>53</td>\n",
       "      <td>F</td>\n",
       "      <td>other</td>\n",
       "      <td>94043</td>\n",
       "    </tr>\n",
       "    <tr>\n",
       "      <th>2</th>\n",
       "      <td>3</td>\n",
       "      <td>23</td>\n",
       "      <td>M</td>\n",
       "      <td>writer</td>\n",
       "      <td>32067</td>\n",
       "    </tr>\n",
       "    <tr>\n",
       "      <th>3</th>\n",
       "      <td>4</td>\n",
       "      <td>24</td>\n",
       "      <td>M</td>\n",
       "      <td>technician</td>\n",
       "      <td>43537</td>\n",
       "    </tr>\n",
       "    <tr>\n",
       "      <th>4</th>\n",
       "      <td>5</td>\n",
       "      <td>33</td>\n",
       "      <td>F</td>\n",
       "      <td>other</td>\n",
       "      <td>15213</td>\n",
       "    </tr>\n",
       "    <tr>\n",
       "      <th>5</th>\n",
       "      <td>6</td>\n",
       "      <td>42</td>\n",
       "      <td>M</td>\n",
       "      <td>executive</td>\n",
       "      <td>98101</td>\n",
       "    </tr>\n",
       "    <tr>\n",
       "      <th>6</th>\n",
       "      <td>7</td>\n",
       "      <td>57</td>\n",
       "      <td>M</td>\n",
       "      <td>administrator</td>\n",
       "      <td>91344</td>\n",
       "    </tr>\n",
       "    <tr>\n",
       "      <th>7</th>\n",
       "      <td>8</td>\n",
       "      <td>36</td>\n",
       "      <td>M</td>\n",
       "      <td>administrator</td>\n",
       "      <td>05201</td>\n",
       "    </tr>\n",
       "    <tr>\n",
       "      <th>8</th>\n",
       "      <td>9</td>\n",
       "      <td>29</td>\n",
       "      <td>M</td>\n",
       "      <td>student</td>\n",
       "      <td>01002</td>\n",
       "    </tr>\n",
       "    <tr>\n",
       "      <th>9</th>\n",
       "      <td>10</td>\n",
       "      <td>53</td>\n",
       "      <td>M</td>\n",
       "      <td>lawyer</td>\n",
       "      <td>90703</td>\n",
       "    </tr>\n",
       "  </tbody>\n",
       "</table>\n",
       "</div>"
      ],
      "text/plain": [
       "   user_id  age gender     occupation zip_code\n",
       "0        1   24      M     technician    85711\n",
       "1        2   53      F          other    94043\n",
       "2        3   23      M         writer    32067\n",
       "3        4   24      M     technician    43537\n",
       "4        5   33      F          other    15213\n",
       "5        6   42      M      executive    98101\n",
       "6        7   57      M  administrator    91344\n",
       "7        8   36      M  administrator    05201\n",
       "8        9   29      M        student    01002\n",
       "9       10   53      M         lawyer    90703"
      ]
     },
     "execution_count": 7,
     "metadata": {},
     "output_type": "execute_result"
    }
   ],
   "source": [
    "occ.head(10)"
   ]
  },
  {
   "cell_type": "code",
   "execution_count": 8,
   "metadata": {},
   "outputs": [
    {
     "data": {
      "image/png": "[encoded data removed]",
      "text/plain": [
       "<matplotlib.figure.Figure at 0x1a0ba689e8>"
      ]
     },
     "metadata": {},
     "output_type": "display_data"
    }
   ],
   "source": [
    "plt.figure(figsize = (10, 5))\n",
    "sns.countplot(occ.occupation, hue = occ.gender)\n",
    "plt.xticks(rotation = 70)\n",
    "plt.xlabel('')\n",
    "plt.ylabel('')\n",
    "plt.title('Occupation by Gender', loc = 'left', fontsize = 16);"
   ]
  },
  {
   "cell_type": "markdown",
   "metadata": {},
   "source": [
    "### Filtering Data\n",
    "\n",
    "Now, we will examine how to filter data in a way that returns a `DataFrame`.  This means that once filtered, we can apply our usual operations including plots.  For example, suppose we wanted to look at just the librarians.  We can see whether or not this is true, and then we can apply this as a mask to our original `DataFrame`, creating a subset of the original data as a `DataFrame`."
   ]
  },
  {
   "cell_type": "code",
   "execution_count": 9,
   "metadata": {},
   "outputs": [
    {
     "data": {
      "text/plain": [
       "0    False\n",
       "1    False\n",
       "2    False\n",
       "3    False\n",
       "4    False\n",
       "5    False\n",
       "6    False\n",
       "7    False\n",
       "8    False\n",
       "9    False\n",
       "Name: occupation, dtype: bool"
      ]
     },
     "execution_count": 9,
     "metadata": {},
     "output_type": "execute_result"
    }
   ],
   "source": [
    "#this means the first ten rows of our datafram do not contain librarians\n",
    "(occ.occupation == 'librarian').head(10)"
   ]
  },
  {
   "cell_type": "code",
   "execution_count": 10,
   "metadata": {},
   "outputs": [
    {
     "data": {
      "text/html": [
       "<div>\n",
       "<style scoped>\n",
       "    .dataframe tbody tr th:only-of-type {\n",
       "        vertical-align: middle;\n",
       "    }\n",
       "\n",
       "    .dataframe tbody tr th {\n",
       "        vertical-align: top;\n",
       "    }\n",
       "\n",
       "    .dataframe thead th {\n",
       "        text-align: right;\n",
       "    }\n",
       "</style>\n",
       "<table border=\"1\" class=\"dataframe\">\n",
       "  <thead>\n",
       "    <tr style=\"text-align: right;\">\n",
       "      <th></th>\n",
       "      <th>user_id</th>\n",
       "      <th>age</th>\n",
       "      <th>gender</th>\n",
       "      <th>occupation</th>\n",
       "      <th>zip_code</th>\n",
       "    </tr>\n",
       "  </thead>\n",
       "  <tbody>\n",
       "    <tr>\n",
       "      <th>18</th>\n",
       "      <td>19</td>\n",
       "      <td>40</td>\n",
       "      <td>M</td>\n",
       "      <td>librarian</td>\n",
       "      <td>02138</td>\n",
       "    </tr>\n",
       "    <tr>\n",
       "      <th>26</th>\n",
       "      <td>27</td>\n",
       "      <td>40</td>\n",
       "      <td>F</td>\n",
       "      <td>librarian</td>\n",
       "      <td>30030</td>\n",
       "    </tr>\n",
       "    <tr>\n",
       "      <th>42</th>\n",
       "      <td>43</td>\n",
       "      <td>29</td>\n",
       "      <td>F</td>\n",
       "      <td>librarian</td>\n",
       "      <td>20854</td>\n",
       "    </tr>\n",
       "    <tr>\n",
       "      <th>55</th>\n",
       "      <td>56</td>\n",
       "      <td>25</td>\n",
       "      <td>M</td>\n",
       "      <td>librarian</td>\n",
       "      <td>46260</td>\n",
       "    </tr>\n",
       "    <tr>\n",
       "      <th>87</th>\n",
       "      <td>88</td>\n",
       "      <td>49</td>\n",
       "      <td>F</td>\n",
       "      <td>librarian</td>\n",
       "      <td>11701</td>\n",
       "    </tr>\n",
       "  </tbody>\n",
       "</table>\n",
       "</div>"
      ],
      "text/plain": [
       "    user_id  age gender occupation zip_code\n",
       "18       19   40      M  librarian    02138\n",
       "26       27   40      F  librarian    30030\n",
       "42       43   29      F  librarian    20854\n",
       "55       56   25      M  librarian    46260\n",
       "87       88   49      F  librarian    11701"
      ]
     },
     "execution_count": 10,
     "metadata": {},
     "output_type": "execute_result"
    }
   ],
   "source": [
    "#see the top of a subset dataframe\n",
    "occ[occ.occupation == 'librarian'].head()"
   ]
  },
  {
   "cell_type": "code",
   "execution_count": 11,
   "metadata": {},
   "outputs": [],
   "source": [
    "#save this as a new dataframe named librarians\n",
    "librarians = occ[occ.occupation == 'librarian']"
   ]
  },
  {
   "cell_type": "code",
   "execution_count": 12,
   "metadata": {},
   "outputs": [
    {
     "data": {
      "image/png": "[encoded data removed]",
      "text/plain": [
       "<matplotlib.figure.Figure at 0x1a14989080>"
      ]
     },
     "metadata": {},
     "output_type": "display_data"
    }
   ],
   "source": [
    "#use the dataframe just like we have before\n",
    "sns.countplot(librarians.gender, palette=['grey', 'lightblue'])\n",
    "plt.title('Librarians by Gender');"
   ]
  },
  {
   "cell_type": "markdown",
   "metadata": {},
   "source": [
    "### Logical Combinations\n",
    "\n",
    "At a higher level, we are using comparisons to create subsets of our original data.  In Python we have the following comparison syntax:\n",
    "\n",
    "- `>`: Greater Than\n",
    "- `<`: Less Than\n",
    "- `>=`: Greater Than or Equal To\n",
    "- `<=`: Less than or Equal To\n",
    "- `==`: Congruent\n",
    "- `!=`: Not Equal To\n",
    "\n",
    "We can combine these operations with **and**/**or** operations.  For example if we wanted librarians who were under the age of 40, we want:\n",
    "\n",
    "```python\n",
    "occupation == 'librarian'\n",
    "age < 40\n",
    "```\n",
    "\n",
    "This would be put together with the **and** operation, implemented with `&`. "
   ]
  },
  {
   "cell_type": "code",
   "execution_count": 13,
   "metadata": {},
   "outputs": [
    {
     "data": {
      "text/html": [
       "<div>\n",
       "<style scoped>\n",
       "    .dataframe tbody tr th:only-of-type {\n",
       "        vertical-align: middle;\n",
       "    }\n",
       "\n",
       "    .dataframe tbody tr th {\n",
       "        vertical-align: top;\n",
       "    }\n",
       "\n",
       "    .dataframe thead th {\n",
       "        text-align: right;\n",
       "    }\n",
       "</style>\n",
       "<table border=\"1\" class=\"dataframe\">\n",
       "  <thead>\n",
       "    <tr style=\"text-align: right;\">\n",
       "      <th></th>\n",
       "      <th>user_id</th>\n",
       "      <th>age</th>\n",
       "      <th>gender</th>\n",
       "      <th>occupation</th>\n",
       "      <th>zip_code</th>\n",
       "    </tr>\n",
       "  </thead>\n",
       "  <tbody>\n",
       "    <tr>\n",
       "      <th>42</th>\n",
       "      <td>43</td>\n",
       "      <td>29</td>\n",
       "      <td>F</td>\n",
       "      <td>librarian</td>\n",
       "      <td>20854</td>\n",
       "    </tr>\n",
       "    <tr>\n",
       "      <th>55</th>\n",
       "      <td>56</td>\n",
       "      <td>25</td>\n",
       "      <td>M</td>\n",
       "      <td>librarian</td>\n",
       "      <td>46260</td>\n",
       "    </tr>\n",
       "    <tr>\n",
       "      <th>183</th>\n",
       "      <td>184</td>\n",
       "      <td>37</td>\n",
       "      <td>M</td>\n",
       "      <td>librarian</td>\n",
       "      <td>76013</td>\n",
       "    </tr>\n",
       "    <tr>\n",
       "      <th>213</th>\n",
       "      <td>214</td>\n",
       "      <td>26</td>\n",
       "      <td>F</td>\n",
       "      <td>librarian</td>\n",
       "      <td>11231</td>\n",
       "    </tr>\n",
       "    <tr>\n",
       "      <th>219</th>\n",
       "      <td>220</td>\n",
       "      <td>30</td>\n",
       "      <td>M</td>\n",
       "      <td>librarian</td>\n",
       "      <td>78205</td>\n",
       "    </tr>\n",
       "  </tbody>\n",
       "</table>\n",
       "</div>"
      ],
      "text/plain": [
       "     user_id  age gender occupation zip_code\n",
       "42        43   29      F  librarian    20854\n",
       "55        56   25      M  librarian    46260\n",
       "183      184   37      M  librarian    76013\n",
       "213      214   26      F  librarian    11231\n",
       "219      220   30      M  librarian    78205"
      ]
     },
     "execution_count": 13,
     "metadata": {},
     "output_type": "execute_result"
    }
   ],
   "source": [
    "occ[(occ.occupation == 'librarian' ) & (occ.age < 40)].head()"
   ]
  },
  {
   "cell_type": "code",
   "execution_count": 14,
   "metadata": {},
   "outputs": [],
   "source": [
    "young_librarians = (occ.occupation == 'librarian' ) & (occ.age < 40)"
   ]
  },
  {
   "cell_type": "code",
   "execution_count": 15,
   "metadata": {},
   "outputs": [
    {
     "data": {
      "text/html": [
       "<div>\n",
       "<style scoped>\n",
       "    .dataframe tbody tr th:only-of-type {\n",
       "        vertical-align: middle;\n",
       "    }\n",
       "\n",
       "    .dataframe tbody tr th {\n",
       "        vertical-align: top;\n",
       "    }\n",
       "\n",
       "    .dataframe thead th {\n",
       "        text-align: right;\n",
       "    }\n",
       "</style>\n",
       "<table border=\"1\" class=\"dataframe\">\n",
       "  <thead>\n",
       "    <tr style=\"text-align: right;\">\n",
       "      <th></th>\n",
       "      <th>user_id</th>\n",
       "      <th>age</th>\n",
       "      <th>gender</th>\n",
       "      <th>occupation</th>\n",
       "      <th>zip_code</th>\n",
       "    </tr>\n",
       "  </thead>\n",
       "  <tbody>\n",
       "    <tr>\n",
       "      <th>42</th>\n",
       "      <td>43</td>\n",
       "      <td>29</td>\n",
       "      <td>F</td>\n",
       "      <td>librarian</td>\n",
       "      <td>20854</td>\n",
       "    </tr>\n",
       "    <tr>\n",
       "      <th>55</th>\n",
       "      <td>56</td>\n",
       "      <td>25</td>\n",
       "      <td>M</td>\n",
       "      <td>librarian</td>\n",
       "      <td>46260</td>\n",
       "    </tr>\n",
       "    <tr>\n",
       "      <th>183</th>\n",
       "      <td>184</td>\n",
       "      <td>37</td>\n",
       "      <td>M</td>\n",
       "      <td>librarian</td>\n",
       "      <td>76013</td>\n",
       "    </tr>\n",
       "    <tr>\n",
       "      <th>213</th>\n",
       "      <td>214</td>\n",
       "      <td>26</td>\n",
       "      <td>F</td>\n",
       "      <td>librarian</td>\n",
       "      <td>11231</td>\n",
       "    </tr>\n",
       "    <tr>\n",
       "      <th>219</th>\n",
       "      <td>220</td>\n",
       "      <td>30</td>\n",
       "      <td>M</td>\n",
       "      <td>librarian</td>\n",
       "      <td>78205</td>\n",
       "    </tr>\n",
       "  </tbody>\n",
       "</table>\n",
       "</div>"
      ],
      "text/plain": [
       "     user_id  age gender occupation zip_code\n",
       "42        43   29      F  librarian    20854\n",
       "55        56   25      M  librarian    46260\n",
       "183      184   37      M  librarian    76013\n",
       "213      214   26      F  librarian    11231\n",
       "219      220   30      M  librarian    78205"
      ]
     },
     "execution_count": 15,
     "metadata": {},
     "output_type": "execute_result"
    }
   ],
   "source": [
    "occ[young_librarians].head()"
   ]
  },
  {
   "cell_type": "code",
   "execution_count": 16,
   "metadata": {},
   "outputs": [
    {
     "data": {
      "text/plain": [
       "<matplotlib.axes._subplots.AxesSubplot at 0x1a14bf0710>"
      ]
     },
     "execution_count": 16,
     "metadata": {},
     "output_type": "execute_result"
    },
    {
     "data": {
      "image/png": "[encoded data removed]",
      "text/plain": [
       "<matplotlib.figure.Figure at 0x1a14ae7dd8>"
      ]
     },
     "metadata": {},
     "output_type": "display_data"
    }
   ],
   "source": [
    "sns.boxplot( occ[young_librarians].gender, occ[young_librarians].age)"
   ]
  },
  {
   "cell_type": "code",
   "execution_count": 17,
   "metadata": {},
   "outputs": [
    {
     "data": {
      "text/html": [
       "<div>\n",
       "<style scoped>\n",
       "    .dataframe tbody tr th:only-of-type {\n",
       "        vertical-align: middle;\n",
       "    }\n",
       "\n",
       "    .dataframe tbody tr th {\n",
       "        vertical-align: top;\n",
       "    }\n",
       "\n",
       "    .dataframe thead tr th {\n",
       "        text-align: left;\n",
       "    }\n",
       "\n",
       "    .dataframe thead tr:last-of-type th {\n",
       "        text-align: right;\n",
       "    }\n",
       "</style>\n",
       "<table border=\"1\" class=\"dataframe\">\n",
       "  <thead>\n",
       "    <tr>\n",
       "      <th></th>\n",
       "      <th colspan=\"8\" halign=\"left\">age</th>\n",
       "      <th colspan=\"8\" halign=\"left\">user_id</th>\n",
       "    </tr>\n",
       "    <tr>\n",
       "      <th></th>\n",
       "      <th>count</th>\n",
       "      <th>mean</th>\n",
       "      <th>std</th>\n",
       "      <th>min</th>\n",
       "      <th>25%</th>\n",
       "      <th>50%</th>\n",
       "      <th>75%</th>\n",
       "      <th>max</th>\n",
       "      <th>count</th>\n",
       "      <th>mean</th>\n",
       "      <th>std</th>\n",
       "      <th>min</th>\n",
       "      <th>25%</th>\n",
       "      <th>50%</th>\n",
       "      <th>75%</th>\n",
       "      <th>max</th>\n",
       "    </tr>\n",
       "    <tr>\n",
       "      <th>gender</th>\n",
       "      <th></th>\n",
       "      <th></th>\n",
       "      <th></th>\n",
       "      <th></th>\n",
       "      <th></th>\n",
       "      <th></th>\n",
       "      <th></th>\n",
       "      <th></th>\n",
       "      <th></th>\n",
       "      <th></th>\n",
       "      <th></th>\n",
       "      <th></th>\n",
       "      <th></th>\n",
       "      <th></th>\n",
       "      <th></th>\n",
       "      <th></th>\n",
       "    </tr>\n",
       "  </thead>\n",
       "  <tbody>\n",
       "    <tr>\n",
       "      <th>F</th>\n",
       "      <td>15.0</td>\n",
       "      <td>31.000000</td>\n",
       "      <td>4.157609</td>\n",
       "      <td>26.0</td>\n",
       "      <td>29.0</td>\n",
       "      <td>30.0</td>\n",
       "      <td>31.5</td>\n",
       "      <td>39.0</td>\n",
       "      <td>15.0</td>\n",
       "      <td>394.133333</td>\n",
       "      <td>239.321621</td>\n",
       "      <td>43.0</td>\n",
       "      <td>261.0</td>\n",
       "      <td>338.0</td>\n",
       "      <td>458.5</td>\n",
       "      <td>895.0</td>\n",
       "    </tr>\n",
       "    <tr>\n",
       "      <th>M</th>\n",
       "      <td>11.0</td>\n",
       "      <td>30.545455</td>\n",
       "      <td>4.367233</td>\n",
       "      <td>23.0</td>\n",
       "      <td>28.0</td>\n",
       "      <td>30.0</td>\n",
       "      <td>34.0</td>\n",
       "      <td>37.0</td>\n",
       "      <td>11.0</td>\n",
       "      <td>518.363636</td>\n",
       "      <td>288.615756</td>\n",
       "      <td>56.0</td>\n",
       "      <td>277.0</td>\n",
       "      <td>527.0</td>\n",
       "      <td>797.0</td>\n",
       "      <td>843.0</td>\n",
       "    </tr>\n",
       "  </tbody>\n",
       "</table>\n",
       "</div>"
      ],
      "text/plain": [
       "         age                                                    user_id  \\\n",
       "       count       mean       std   min   25%   50%   75%   max   count   \n",
       "gender                                                                    \n",
       "F       15.0  31.000000  4.157609  26.0  29.0  30.0  31.5  39.0    15.0   \n",
       "M       11.0  30.545455  4.367233  23.0  28.0  30.0  34.0  37.0    11.0   \n",
       "\n",
       "                                                                  \n",
       "              mean         std   min    25%    50%    75%    max  \n",
       "gender                                                            \n",
       "F       394.133333  239.321621  43.0  261.0  338.0  458.5  895.0  \n",
       "M       518.363636  288.615756  56.0  277.0  527.0  797.0  843.0  "
      ]
     },
     "execution_count": 17,
     "metadata": {},
     "output_type": "execute_result"
    }
   ],
   "source": [
    "occ[young_librarians].groupby('gender').describe()"
   ]
  },
  {
   "cell_type": "code",
   "execution_count": 18,
   "metadata": {},
   "outputs": [
    {
     "data": {
      "text/html": [
       "<div>\n",
       "<style scoped>\n",
       "    .dataframe tbody tr th:only-of-type {\n",
       "        vertical-align: middle;\n",
       "    }\n",
       "\n",
       "    .dataframe tbody tr th {\n",
       "        vertical-align: top;\n",
       "    }\n",
       "\n",
       "    .dataframe thead tr th {\n",
       "        text-align: left;\n",
       "    }\n",
       "\n",
       "    .dataframe thead tr:last-of-type th {\n",
       "        text-align: right;\n",
       "    }\n",
       "</style>\n",
       "<table border=\"1\" class=\"dataframe\">\n",
       "  <thead>\n",
       "    <tr>\n",
       "      <th></th>\n",
       "      <th></th>\n",
       "      <th colspan=\"8\" halign=\"left\">age</th>\n",
       "      <th colspan=\"8\" halign=\"left\">user_id</th>\n",
       "    </tr>\n",
       "    <tr>\n",
       "      <th></th>\n",
       "      <th></th>\n",
       "      <th>count</th>\n",
       "      <th>mean</th>\n",
       "      <th>std</th>\n",
       "      <th>min</th>\n",
       "      <th>25%</th>\n",
       "      <th>50%</th>\n",
       "      <th>75%</th>\n",
       "      <th>max</th>\n",
       "      <th>count</th>\n",
       "      <th>mean</th>\n",
       "      <th>std</th>\n",
       "      <th>min</th>\n",
       "      <th>25%</th>\n",
       "      <th>50%</th>\n",
       "      <th>75%</th>\n",
       "      <th>max</th>\n",
       "    </tr>\n",
       "    <tr>\n",
       "      <th>occupation</th>\n",
       "      <th>gender</th>\n",
       "      <th></th>\n",
       "      <th></th>\n",
       "      <th></th>\n",
       "      <th></th>\n",
       "      <th></th>\n",
       "      <th></th>\n",
       "      <th></th>\n",
       "      <th></th>\n",
       "      <th></th>\n",
       "      <th></th>\n",
       "      <th></th>\n",
       "      <th></th>\n",
       "      <th></th>\n",
       "      <th></th>\n",
       "      <th></th>\n",
       "      <th></th>\n",
       "    </tr>\n",
       "  </thead>\n",
       "  <tbody>\n",
       "    <tr>\n",
       "      <th rowspan=\"2\" valign=\"top\">administrator</th>\n",
       "      <th>F</th>\n",
       "      <td>36.0</td>\n",
       "      <td>40.638889</td>\n",
       "      <td>10.602298</td>\n",
       "      <td>22.0</td>\n",
       "      <td>33.00</td>\n",
       "      <td>38.5</td>\n",
       "      <td>49.25</td>\n",
       "      <td>62.0</td>\n",
       "      <td>36.0</td>\n",
       "      <td>443.944444</td>\n",
       "      <td>284.320538</td>\n",
       "      <td>34.0</td>\n",
       "      <td>178.50</td>\n",
       "      <td>438.5</td>\n",
       "      <td>695.00</td>\n",
       "      <td>922.0</td>\n",
       "    </tr>\n",
       "    <tr>\n",
       "      <th>M</th>\n",
       "      <td>43.0</td>\n",
       "      <td>37.162791</td>\n",
       "      <td>11.422472</td>\n",
       "      <td>21.0</td>\n",
       "      <td>28.00</td>\n",
       "      <td>35.0</td>\n",
       "      <td>46.50</td>\n",
       "      <td>70.0</td>\n",
       "      <td>43.0</td>\n",
       "      <td>420.069767</td>\n",
       "      <td>281.650780</td>\n",
       "      <td>7.0</td>\n",
       "      <td>190.50</td>\n",
       "      <td>394.0</td>\n",
       "      <td>707.00</td>\n",
       "      <td>940.0</td>\n",
       "    </tr>\n",
       "    <tr>\n",
       "      <th rowspan=\"2\" valign=\"top\">artist</th>\n",
       "      <th>F</th>\n",
       "      <td>13.0</td>\n",
       "      <td>30.307692</td>\n",
       "      <td>9.542751</td>\n",
       "      <td>19.0</td>\n",
       "      <td>21.00</td>\n",
       "      <td>30.0</td>\n",
       "      <td>36.00</td>\n",
       "      <td>48.0</td>\n",
       "      <td>13.0</td>\n",
       "      <td>432.153846</td>\n",
       "      <td>345.109607</td>\n",
       "      <td>23.0</td>\n",
       "      <td>123.00</td>\n",
       "      <td>410.0</td>\n",
       "      <td>782.00</td>\n",
       "      <td>920.0</td>\n",
       "    </tr>\n",
       "    <tr>\n",
       "      <th>M</th>\n",
       "      <td>15.0</td>\n",
       "      <td>32.333333</td>\n",
       "      <td>8.050436</td>\n",
       "      <td>20.0</td>\n",
       "      <td>26.00</td>\n",
       "      <td>32.0</td>\n",
       "      <td>39.00</td>\n",
       "      <td>45.0</td>\n",
       "      <td>15.0</td>\n",
       "      <td>469.000000</td>\n",
       "      <td>313.686604</td>\n",
       "      <td>31.0</td>\n",
       "      <td>175.50</td>\n",
       "      <td>433.0</td>\n",
       "      <td>824.50</td>\n",
       "      <td>865.0</td>\n",
       "    </tr>\n",
       "    <tr>\n",
       "      <th>doctor</th>\n",
       "      <th>M</th>\n",
       "      <td>7.0</td>\n",
       "      <td>43.571429</td>\n",
       "      <td>12.501428</td>\n",
       "      <td>28.0</td>\n",
       "      <td>35.50</td>\n",
       "      <td>45.0</td>\n",
       "      <td>48.50</td>\n",
       "      <td>64.0</td>\n",
       "      <td>7.0</td>\n",
       "      <td>533.714286</td>\n",
       "      <td>330.491913</td>\n",
       "      <td>138.0</td>\n",
       "      <td>275.00</td>\n",
       "      <td>427.0</td>\n",
       "      <td>843.00</td>\n",
       "      <td>935.0</td>\n",
       "    </tr>\n",
       "    <tr>\n",
       "      <th rowspan=\"2\" valign=\"top\">educator</th>\n",
       "      <th>F</th>\n",
       "      <td>26.0</td>\n",
       "      <td>39.115385</td>\n",
       "      <td>9.003674</td>\n",
       "      <td>23.0</td>\n",
       "      <td>31.50</td>\n",
       "      <td>40.5</td>\n",
       "      <td>48.75</td>\n",
       "      <td>51.0</td>\n",
       "      <td>26.0</td>\n",
       "      <td>454.730769</td>\n",
       "      <td>267.531315</td>\n",
       "      <td>15.0</td>\n",
       "      <td>215.00</td>\n",
       "      <td>467.5</td>\n",
       "      <td>704.00</td>\n",
       "      <td>909.0</td>\n",
       "    </tr>\n",
       "    <tr>\n",
       "      <th>M</th>\n",
       "      <td>69.0</td>\n",
       "      <td>43.101449</td>\n",
       "      <td>10.755498</td>\n",
       "      <td>25.0</td>\n",
       "      <td>33.00</td>\n",
       "      <td>44.0</td>\n",
       "      <td>51.00</td>\n",
       "      <td>63.0</td>\n",
       "      <td>69.0</td>\n",
       "      <td>471.492754</td>\n",
       "      <td>245.985331</td>\n",
       "      <td>13.0</td>\n",
       "      <td>295.00</td>\n",
       "      <td>486.0</td>\n",
       "      <td>636.00</td>\n",
       "      <td>937.0</td>\n",
       "    </tr>\n",
       "    <tr>\n",
       "      <th rowspan=\"2\" valign=\"top\">engineer</th>\n",
       "      <th>F</th>\n",
       "      <td>2.0</td>\n",
       "      <td>29.500000</td>\n",
       "      <td>9.192388</td>\n",
       "      <td>23.0</td>\n",
       "      <td>26.25</td>\n",
       "      <td>29.5</td>\n",
       "      <td>32.75</td>\n",
       "      <td>36.0</td>\n",
       "      <td>2.0</td>\n",
       "      <td>806.500000</td>\n",
       "      <td>28.991378</td>\n",
       "      <td>786.0</td>\n",
       "      <td>796.25</td>\n",
       "      <td>806.5</td>\n",
       "      <td>816.75</td>\n",
       "      <td>827.0</td>\n",
       "    </tr>\n",
       "    <tr>\n",
       "      <th>M</th>\n",
       "      <td>65.0</td>\n",
       "      <td>36.600000</td>\n",
       "      <td>11.246944</td>\n",
       "      <td>22.0</td>\n",
       "      <td>28.00</td>\n",
       "      <td>36.0</td>\n",
       "      <td>43.00</td>\n",
       "      <td>70.0</td>\n",
       "      <td>65.0</td>\n",
       "      <td>445.553846</td>\n",
       "      <td>258.156144</td>\n",
       "      <td>25.0</td>\n",
       "      <td>247.00</td>\n",
       "      <td>435.0</td>\n",
       "      <td>638.00</td>\n",
       "      <td>934.0</td>\n",
       "    </tr>\n",
       "    <tr>\n",
       "      <th>entertainment</th>\n",
       "      <th>F</th>\n",
       "      <td>2.0</td>\n",
       "      <td>31.000000</td>\n",
       "      <td>9.899495</td>\n",
       "      <td>24.0</td>\n",
       "      <td>27.50</td>\n",
       "      <td>31.0</td>\n",
       "      <td>34.50</td>\n",
       "      <td>38.0</td>\n",
       "      <td>2.0</td>\n",
       "      <td>780.000000</td>\n",
       "      <td>83.438600</td>\n",
       "      <td>721.0</td>\n",
       "      <td>750.50</td>\n",
       "      <td>780.0</td>\n",
       "      <td>809.50</td>\n",
       "      <td>839.0</td>\n",
       "    </tr>\n",
       "  </tbody>\n",
       "</table>\n",
       "</div>"
      ],
      "text/plain": [
       "                       age                                                  \\\n",
       "                     count       mean        std   min    25%   50%    75%   \n",
       "occupation    gender                                                         \n",
       "administrator F       36.0  40.638889  10.602298  22.0  33.00  38.5  49.25   \n",
       "              M       43.0  37.162791  11.422472  21.0  28.00  35.0  46.50   \n",
       "artist        F       13.0  30.307692   9.542751  19.0  21.00  30.0  36.00   \n",
       "              M       15.0  32.333333   8.050436  20.0  26.00  32.0  39.00   \n",
       "doctor        M        7.0  43.571429  12.501428  28.0  35.50  45.0  48.50   \n",
       "educator      F       26.0  39.115385   9.003674  23.0  31.50  40.5  48.75   \n",
       "              M       69.0  43.101449  10.755498  25.0  33.00  44.0  51.00   \n",
       "engineer      F        2.0  29.500000   9.192388  23.0  26.25  29.5  32.75   \n",
       "              M       65.0  36.600000  11.246944  22.0  28.00  36.0  43.00   \n",
       "entertainment F        2.0  31.000000   9.899495  24.0  27.50  31.0  34.50   \n",
       "\n",
       "                           user_id                                         \\\n",
       "                       max   count        mean         std    min     25%   \n",
       "occupation    gender                                                        \n",
       "administrator F       62.0    36.0  443.944444  284.320538   34.0  178.50   \n",
       "              M       70.0    43.0  420.069767  281.650780    7.0  190.50   \n",
       "artist        F       48.0    13.0  432.153846  345.109607   23.0  123.00   \n",
       "              M       45.0    15.0  469.000000  313.686604   31.0  175.50   \n",
       "doctor        M       64.0     7.0  533.714286  330.491913  138.0  275.00   \n",
       "educator      F       51.0    26.0  454.730769  267.531315   15.0  215.00   \n",
       "              M       63.0    69.0  471.492754  245.985331   13.0  295.00   \n",
       "engineer      F       36.0     2.0  806.500000   28.991378  786.0  796.25   \n",
       "              M       70.0    65.0  445.553846  258.156144   25.0  247.00   \n",
       "entertainment F       38.0     2.0  780.000000   83.438600  721.0  750.50   \n",
       "\n",
       "                                            \n",
       "                        50%     75%    max  \n",
       "occupation    gender                        \n",
       "administrator F       438.5  695.00  922.0  \n",
       "              M       394.0  707.00  940.0  \n",
       "artist        F       410.0  782.00  920.0  \n",
       "              M       433.0  824.50  865.0  \n",
       "doctor        M       427.0  843.00  935.0  \n",
       "educator      F       467.5  704.00  909.0  \n",
       "              M       486.0  636.00  937.0  \n",
       "engineer      F       806.5  816.75  827.0  \n",
       "              M       435.0  638.00  934.0  \n",
       "entertainment F       780.0  809.50  839.0  "
      ]
     },
     "execution_count": 18,
     "metadata": {},
     "output_type": "execute_result"
    }
   ],
   "source": [
    "occ.groupby(['occupation', 'gender']).describe()[:10]"
   ]
  },
  {
   "cell_type": "markdown",
   "metadata": {},
   "source": [
    "### Exploration I\n",
    "\n",
    "Using the dataset provided, you should load and explore the different variables.  Provide information about the following:\n",
    "\n",
    "- Distributions of quantitative variables\n",
    "- Top beer drinking countries\n",
    "- Bottom spirit serving continents\n",
    "- Does it appear that as more wine is served, more beer is served?\n",
    "- What are the top total consumers by continent?"
   ]
  },
  {
   "cell_type": "code",
   "execution_count": 73,
   "metadata": {},
   "outputs": [],
   "source": [
    "drinks = pd.read_csv('data/eda_data/drinks.csv')"
   ]
  },
  {
   "cell_type": "code",
   "execution_count": 74,
   "metadata": {},
   "outputs": [
    {
     "name": "stdout",
     "output_type": "stream",
     "text": [
      "<class 'pandas.core.frame.DataFrame'>\n",
      "RangeIndex: 193 entries, 0 to 192\n",
      "Data columns (total 7 columns):\n",
      "Unnamed: 0                      193 non-null int64\n",
      "country                         193 non-null object\n",
      "beer_servings                   193 non-null int64\n",
      "spirit_servings                 193 non-null int64\n",
      "wine_servings                   193 non-null int64\n",
      "total_litres_of_pure_alcohol    193 non-null float64\n",
      "continent                       170 non-null object\n",
      "dtypes: float64(1), int64(4), object(2)\n",
      "memory usage: 10.6+ KB\n"
     ]
    }
   ],
   "source": [
    "drinks.info()"
   ]
  },
  {
   "cell_type": "markdown",
   "metadata": {},
   "source": [
    "#### Distributions of quantitative variables\n"
   ]
  },
  {
   "cell_type": "code",
   "execution_count": 75,
   "metadata": {},
   "outputs": [],
   "source": [
    "drinks.drop(\"Unnamed: 0\",axis=1,inplace=True)\n",
    "drinks.fillna('NA',inplace=True)"
   ]
  },
  {
   "cell_type": "code",
   "execution_count": 76,
   "metadata": {},
   "outputs": [
    {
     "data": {
      "image/png": "[encoded data removed]",
      "text/plain": [
       "<matplotlib.figure.Figure at 0x1a15504f98>"
      ]
     },
     "metadata": {},
     "output_type": "display_data"
    }
   ],
   "source": [
    "# create subplots\n",
    "fig, ax = plt.subplots(2,2,figsize=(10,6))\n",
    "ax = ax.flatten()\n",
    "\n",
    "# list of numeric columns\n",
    "num_columns = drinks.describe().columns\n",
    "\n",
    "# plot distribution of each numeric file\n",
    "for i in range(len(num_columns)):\n",
    "    drinks[num_columns[i]].plot.hist(ax=ax[i])\n",
    "\n",
    "sns.despine(left=True,bottom=True)"
   ]
  },
  {
   "cell_type": "markdown",
   "metadata": {},
   "source": [
    "#### Top beer drinking countries"
   ]
  },
  {
   "cell_type": "code",
   "execution_count": 42,
   "metadata": {},
   "outputs": [
    {
     "data": {
      "text/html": [
       "<div>\n",
       "<style scoped>\n",
       "    .dataframe tbody tr th:only-of-type {\n",
       "        vertical-align: middle;\n",
       "    }\n",
       "\n",
       "    .dataframe tbody tr th {\n",
       "        vertical-align: top;\n",
       "    }\n",
       "\n",
       "    .dataframe thead th {\n",
       "        text-align: right;\n",
       "    }\n",
       "</style>\n",
       "<table border=\"1\" class=\"dataframe\">\n",
       "  <thead>\n",
       "    <tr style=\"text-align: right;\">\n",
       "      <th></th>\n",
       "      <th>country</th>\n",
       "      <th>beer_servings</th>\n",
       "      <th>spirit_servings</th>\n",
       "      <th>wine_servings</th>\n",
       "      <th>total_litres_of_pure_alcohol</th>\n",
       "      <th>continent</th>\n",
       "    </tr>\n",
       "  </thead>\n",
       "  <tbody>\n",
       "    <tr>\n",
       "      <th>0</th>\n",
       "      <td>Afghanistan</td>\n",
       "      <td>0</td>\n",
       "      <td>0</td>\n",
       "      <td>0</td>\n",
       "      <td>0.0</td>\n",
       "      <td>AS</td>\n",
       "    </tr>\n",
       "    <tr>\n",
       "      <th>1</th>\n",
       "      <td>Albania</td>\n",
       "      <td>89</td>\n",
       "      <td>132</td>\n",
       "      <td>54</td>\n",
       "      <td>4.9</td>\n",
       "      <td>EU</td>\n",
       "    </tr>\n",
       "    <tr>\n",
       "      <th>2</th>\n",
       "      <td>Algeria</td>\n",
       "      <td>25</td>\n",
       "      <td>0</td>\n",
       "      <td>14</td>\n",
       "      <td>0.7</td>\n",
       "      <td>AF</td>\n",
       "    </tr>\n",
       "    <tr>\n",
       "      <th>3</th>\n",
       "      <td>Andorra</td>\n",
       "      <td>245</td>\n",
       "      <td>138</td>\n",
       "      <td>312</td>\n",
       "      <td>12.4</td>\n",
       "      <td>EU</td>\n",
       "    </tr>\n",
       "    <tr>\n",
       "      <th>4</th>\n",
       "      <td>Angola</td>\n",
       "      <td>217</td>\n",
       "      <td>57</td>\n",
       "      <td>45</td>\n",
       "      <td>5.9</td>\n",
       "      <td>AF</td>\n",
       "    </tr>\n",
       "  </tbody>\n",
       "</table>\n",
       "</div>"
      ],
      "text/plain": [
       "       country  beer_servings  spirit_servings  wine_servings  \\\n",
       "0  Afghanistan              0                0              0   \n",
       "1      Albania             89              132             54   \n",
       "2      Algeria             25                0             14   \n",
       "3      Andorra            245              138            312   \n",
       "4       Angola            217               57             45   \n",
       "\n",
       "   total_litres_of_pure_alcohol continent  \n",
       "0                           0.0        AS  \n",
       "1                           4.9        EU  \n",
       "2                           0.7        AF  \n",
       "3                          12.4        EU  \n",
       "4                           5.9        AF  "
      ]
     },
     "execution_count": 42,
     "metadata": {},
     "output_type": "execute_result"
    }
   ],
   "source": [
    "drinks.head()"
   ]
  },
  {
   "cell_type": "code",
   "execution_count": 77,
   "metadata": {},
   "outputs": [
    {
     "data": {
      "image/png": "[encoded data removed]",
      "text/plain": [
       "<matplotlib.figure.Figure at 0x1a1548f668>"
      ]
     },
     "metadata": {},
     "output_type": "display_data"
    }
   ],
   "source": [
    "# sort drinks by beer volume\n",
    "drinks.sort_values('beer_servings',ascending=False,inplace=True)\n",
    "\n",
    "# plot top countries\n",
    "fig, ax = plt.subplots(figsize=(5,6))\n",
    "sns.barplot('beer_servings','country',data=drinks[:20], color='#419DCF',ax=ax)\n",
    "sns.despine(left=True,bottom=True)"
   ]
  },
  {
   "cell_type": "markdown",
   "metadata": {},
   "source": [
    "#### Bottom spirit serving continents"
   ]
  },
  {
   "cell_type": "code",
   "execution_count": 61,
   "metadata": {},
   "outputs": [
    {
     "data": {
      "image/png": "[encoded data removed]",
      "text/plain": [
       "<matplotlib.figure.Figure at 0x1a175f6978>"
      ]
     },
     "metadata": {},
     "output_type": "display_data"
    }
   ],
   "source": [
    "# sort drinks by spirit volume\n",
    "drinks.sort_values('spirit_servings',inplace=True)\n",
    "non_zero_drinks = drinks[drinks['spirit_servings']>0]\n",
    "\n",
    "# plot top countries\n",
    "fig, ax = plt.subplots(figsize=(5,6))\n",
    "sns.barplot('spirit_servings','country',data=non_zero_drinks[:20], color='#419DCF',ax=ax)\n",
    "sns.despine(left=True,bottom=True)"
   ]
  },
  {
   "cell_type": "markdown",
   "metadata": {},
   "source": [
    "#### Does it appear that as more wine is served, more beer is served?"
   ]
  },
  {
   "cell_type": "code",
   "execution_count": 65,
   "metadata": {},
   "outputs": [
    {
     "data": {
      "image/png": "[encoded data removed]",
      "text/plain": [
       "<matplotlib.figure.Figure at 0x1a17182630>"
      ]
     },
     "metadata": {},
     "output_type": "display_data"
    }
   ],
   "source": [
    "drinks[['wine_servings','beer_servings']].sum().plot.bar(color='#419DCF')\n",
    "sns.despine(left=True,bottom=True)"
   ]
  },
  {
   "cell_type": "markdown",
   "metadata": {},
   "source": [
    "#### What are the top total consumers by continent?"
   ]
  },
  {
   "cell_type": "code",
   "execution_count": 78,
   "metadata": {},
   "outputs": [
    {
     "data": {
      "image/png": "[encoded data removed]",
      "text/plain": [
       "<matplotlib.figure.Figure at 0x1a15d09908>"
      ]
     },
     "metadata": {},
     "output_type": "display_data"
    }
   ],
   "source": [
    "alc_by_continent = drinks.groupby('continent')['total_litres_of_pure_alcohol'].sum()\n",
    "alc_by_continent.sort_values(inplace=True)\n",
    "alc_by_continent.plot.barh(color='#419DCF')\n",
    "sns.despine(left=True,bottom=True)"
   ]
  },
  {
   "cell_type": "code",
   "execution_count": null,
   "metadata": {},
   "outputs": [],
   "source": []
  }
 ],
 "metadata": {
  "kernelspec": {
   "display_name": "Python 3",
   "language": "python",
   "name": "python3"
  },
  "language_info": {
   "codemirror_mode": {
    "name": "ipython",
    "version": 3
   },
   "file_extension": ".py",
   "mimetype": "text/x-python",
   "name": "python",
   "nbconvert_exporter": "python",
   "pygments_lexer": "ipython3",
   "version": "3.6.4"
  }
 },
 "nbformat": 4,
 "nbformat_minor": 2
}
