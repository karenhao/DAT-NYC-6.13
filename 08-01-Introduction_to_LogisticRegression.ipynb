{
 "cells": [
  {
   "cell_type": "markdown",
   "metadata": {},
   "source": [
    "# Logistic Regression\n",
    "\n",
    "\n",
    "We are trying to decide between whether an object belongs to one of two categories:  $C_0$ and $C_1$.  In terms of probability, we frame this as the likelihood that something belongs to $C_1$ as:\n",
    "\n",
    "$$ y = P(C_1 | X)$$\n",
    "\n",
    "which is the conditional probability of $C_1$ given some $X$.  Because we are talking about a binary situation, we know:\n",
    "\n",
    "$$ P(C_1 | X) + P(C_0 | X) = 1$$\n",
    "\n",
    "$$ y + P(C_0 | X) = 1$$\n",
    "\n",
    "$$ 1 - y = P(C_0 | X)$$\n",
    "\n",
    "**Probability and Odds**\n",
    "\n",
    "If we consider the odds of a binary event, we are really talking about \n",
    "\n",
    "$$\\frac{p}{1 - p}$$\n",
    "\n",
    "Recognizing this expression as having the same structure as the transformation that linearizes a set of data having an s-shaped curve, (i.e. $\\frac{y}{1-y}$) we connect the idea of odds and that the logistic function is in fact giving us the **log odds** for some value $x$.  Hence, we have:\n",
    "\n",
    "$$\\ln(\\frac{y}{1-y}) = \\text{logit}(y)$$\n",
    "\n",
    "and if we solve for $y$ we have:\n",
    "\n",
    "$$y = \\frac{1}{1 + e^{-(ax + b)}}$$"
   ]
  },
  {
   "cell_type": "code",
   "execution_count": 1,
   "metadata": {},
   "outputs": [],
   "source": [
    "%matplotlib inline\n",
    "import matplotlib.pyplot as plt\n",
    "import numpy as np\n",
    "import pandas as pd\n",
    "import seaborn as sns"
   ]
  },
  {
   "cell_type": "markdown",
   "metadata": {},
   "source": [
    "### Example\n",
    "\n",
    "Heights of Boys against Girls."
   ]
  },
  {
   "cell_type": "code",
   "execution_count": 2,
   "metadata": {},
   "outputs": [],
   "source": [
    "b = np.random.normal(149.05, 3.75, 800)\n",
    "g = np.random.normal(151.19, 3.75, 700)"
   ]
  },
  {
   "cell_type": "code",
   "execution_count": 3,
   "metadata": {},
   "outputs": [
    {
     "data": {
      "text/plain": [
       "(array([  3.,  35.,  45., 102., 150., 161., 118.,  63.,  18.,   5.]),\n",
       " array([140.25357464, 142.43723836, 144.62090208, 146.8045658 ,\n",
       "        148.98822952, 151.17189323, 153.35555695, 155.53922067,\n",
       "        157.72288439, 159.90654811, 162.09021183]),\n",
       " <a list of 10 Patch objects>)"
      ]
     },
     "execution_count": 3,
     "metadata": {},
     "output_type": "execute_result"
    },
    {
     "data": {
      "image/png": "[encoded data removed]",
      "text/plain": [
       "<matplotlib.figure.Figure at 0x10f2b5550>"
      ]
     },
     "metadata": {},
     "output_type": "display_data"
    }
   ],
   "source": [
    "plt.hist(b, alpha = 0.3)\n",
    "plt.hist(g, alpha = 0.3)"
   ]
  },
  {
   "cell_type": "code",
   "execution_count": 4,
   "metadata": {},
   "outputs": [],
   "source": [
    "b = [[x, 0] for x in b]\n",
    "g = [[x, 1] for x in g]"
   ]
  },
  {
   "cell_type": "code",
   "execution_count": 5,
   "metadata": {},
   "outputs": [],
   "source": [
    "bg = np.array(b + g)"
   ]
  },
  {
   "cell_type": "code",
   "execution_count": 6,
   "metadata": {},
   "outputs": [
    {
     "data": {
      "text/plain": [
       "array([[149.55688924,   0.        ],\n",
       "       [149.07590041,   0.        ],\n",
       "       [152.880216  ,   0.        ],\n",
       "       ...,\n",
       "       [154.09324685,   1.        ],\n",
       "       [154.67968426,   1.        ],\n",
       "       [154.52010473,   1.        ]])"
      ]
     },
     "execution_count": 6,
     "metadata": {},
     "output_type": "execute_result"
    }
   ],
   "source": [
    "bg"
   ]
  },
  {
   "cell_type": "code",
   "execution_count": 7,
   "metadata": {},
   "outputs": [
    {
     "data": {
      "text/plain": [
       "array([149.55688924, 149.07590041, 152.880216  , ..., 154.09324685,\n",
       "       154.67968426, 154.52010473])"
      ]
     },
     "execution_count": 7,
     "metadata": {},
     "output_type": "execute_result"
    }
   ],
   "source": [
    "bg[:, 0]"
   ]
  },
  {
   "cell_type": "code",
   "execution_count": 8,
   "metadata": {},
   "outputs": [
    {
     "data": {
      "text/plain": [
       "array([0., 0., 0., ..., 1., 1., 1.])"
      ]
     },
     "execution_count": 8,
     "metadata": {},
     "output_type": "execute_result"
    }
   ],
   "source": [
    "bg[:, 1]"
   ]
  },
  {
   "cell_type": "code",
   "execution_count": 9,
   "metadata": {},
   "outputs": [
    {
     "data": {
      "text/plain": [
       "[<matplotlib.lines.Line2D at 0x1a1d53a240>]"
      ]
     },
     "execution_count": 9,
     "metadata": {},
     "output_type": "execute_result"
    },
    {
     "data": {
      "image/png": "[encoded data removed]",
      "text/plain": [
       "<matplotlib.figure.Figure at 0x1a144ec0f0>"
      ]
     },
     "metadata": {},
     "output_type": "display_data"
    }
   ],
   "source": [
    "x = bg[:, 0]\n",
    "y = bg[:, 1]\n",
    "plt.plot(x, y, 'o', alpha = 0.1)"
   ]
  },
  {
   "cell_type": "code",
   "execution_count": 10,
   "metadata": {},
   "outputs": [],
   "source": [
    "boy_girl = pd.DataFrame(bg, columns= ['heights', 'gender'])"
   ]
  },
  {
   "cell_type": "code",
   "execution_count": 11,
   "metadata": {},
   "outputs": [
    {
     "data": {
      "text/html": [
       "<div>\n",
       "<style scoped>\n",
       "    .dataframe tbody tr th:only-of-type {\n",
       "        vertical-align: middle;\n",
       "    }\n",
       "\n",
       "    .dataframe tbody tr th {\n",
       "        vertical-align: top;\n",
       "    }\n",
       "\n",
       "    .dataframe thead th {\n",
       "        text-align: right;\n",
       "    }\n",
       "</style>\n",
       "<table border=\"1\" class=\"dataframe\">\n",
       "  <thead>\n",
       "    <tr style=\"text-align: right;\">\n",
       "      <th></th>\n",
       "      <th>heights</th>\n",
       "      <th>gender</th>\n",
       "    </tr>\n",
       "  </thead>\n",
       "  <tbody>\n",
       "    <tr>\n",
       "      <th>0</th>\n",
       "      <td>149.556889</td>\n",
       "      <td>0.0</td>\n",
       "    </tr>\n",
       "    <tr>\n",
       "      <th>1</th>\n",
       "      <td>149.075900</td>\n",
       "      <td>0.0</td>\n",
       "    </tr>\n",
       "    <tr>\n",
       "      <th>2</th>\n",
       "      <td>152.880216</td>\n",
       "      <td>0.0</td>\n",
       "    </tr>\n",
       "    <tr>\n",
       "      <th>3</th>\n",
       "      <td>149.088307</td>\n",
       "      <td>0.0</td>\n",
       "    </tr>\n",
       "    <tr>\n",
       "      <th>4</th>\n",
       "      <td>150.922953</td>\n",
       "      <td>0.0</td>\n",
       "    </tr>\n",
       "  </tbody>\n",
       "</table>\n",
       "</div>"
      ],
      "text/plain": [
       "      heights  gender\n",
       "0  149.556889     0.0\n",
       "1  149.075900     0.0\n",
       "2  152.880216     0.0\n",
       "3  149.088307     0.0\n",
       "4  150.922953     0.0"
      ]
     },
     "execution_count": 11,
     "metadata": {},
     "output_type": "execute_result"
    }
   ],
   "source": [
    "boy_girl.head()"
   ]
  },
  {
   "cell_type": "code",
   "execution_count": 12,
   "metadata": {},
   "outputs": [],
   "source": [
    "girls = boy_girl[boy_girl['gender'] == 1]"
   ]
  },
  {
   "cell_type": "code",
   "execution_count": 13,
   "metadata": {},
   "outputs": [
    {
     "data": {
      "text/plain": [
       "(array([  3.,  38.,  83., 185., 335., 496., 614., 677., 695., 700.]),\n",
       " array([140.25357464, 142.43723836, 144.62090208, 146.8045658 ,\n",
       "        148.98822952, 151.17189323, 153.35555695, 155.53922067,\n",
       "        157.72288439, 159.90654811, 162.09021183]),\n",
       " <a list of 10 Patch objects>)"
      ]
     },
     "execution_count": 13,
     "metadata": {},
     "output_type": "execute_result"
    },
    {
     "data": {
      "image/png": "[encoded data removed]",
      "text/plain": [
       "<matplotlib.figure.Figure at 0x1a1d602278>"
      ]
     },
     "metadata": {},
     "output_type": "display_data"
    }
   ],
   "source": [
    "plt.hist(girls['heights'], cumulative = True)"
   ]
  },
  {
   "cell_type": "code",
   "execution_count": 14,
   "metadata": {},
   "outputs": [],
   "source": [
    "from sklearn.linear_model import LogisticRegression"
   ]
  },
  {
   "cell_type": "code",
   "execution_count": 15,
   "metadata": {},
   "outputs": [
    {
     "data": {
      "text/plain": [
       "LogisticRegression(C=1.0, class_weight=None, dual=False, fit_intercept=True,\n",
       "          intercept_scaling=1, max_iter=100, multi_class='ovr', n_jobs=1,\n",
       "          penalty='l2', random_state=None, solver='liblinear', tol=0.0001,\n",
       "          verbose=0, warm_start=False)"
      ]
     },
     "execution_count": 15,
     "metadata": {},
     "output_type": "execute_result"
    }
   ],
   "source": [
    "X = boy_girl['heights'].values.reshape(-1,1)\n",
    "y = boy_girl['gender']\n",
    "lr = LogisticRegression()\n",
    "lr.fit(X, y)"
   ]
  },
  {
   "cell_type": "code",
   "execution_count": 16,
   "metadata": {},
   "outputs": [
    {
     "data": {
      "text/plain": [
       "0.5766666666666667"
      ]
     },
     "execution_count": 16,
     "metadata": {},
     "output_type": "execute_result"
    }
   ],
   "source": [
    "# calculates accuracy\n",
    "lr.score(X, y)"
   ]
  },
  {
   "cell_type": "code",
   "execution_count": 17,
   "metadata": {},
   "outputs": [
    {
     "data": {
      "text/plain": [
       "0.02651192870176753"
      ]
     },
     "execution_count": 17,
     "metadata": {},
     "output_type": "execute_result"
    }
   ],
   "source": [
    "lr.coef_[0][0]"
   ]
  },
  {
   "cell_type": "code",
   "execution_count": 18,
   "metadata": {},
   "outputs": [
    {
     "data": {
      "text/plain": [
       "-4.102947071408793"
      ]
     },
     "execution_count": 18,
     "metadata": {},
     "output_type": "execute_result"
    }
   ],
   "source": [
    "lr.intercept_[0]"
   ]
  },
  {
   "cell_type": "code",
   "execution_count": 19,
   "metadata": {},
   "outputs": [],
   "source": [
    "from sklearn.metrics import classification_report, confusion_matrix"
   ]
  },
  {
   "cell_type": "code",
   "execution_count": 20,
   "metadata": {},
   "outputs": [
    {
     "name": "stdout",
     "output_type": "stream",
     "text": [
      "             precision    recall  f1-score   support\n",
      "\n",
      "        0.0       0.56      0.93      0.70       800\n",
      "        1.0       0.69      0.17      0.27       700\n",
      "\n",
      "avg / total       0.62      0.58      0.50      1500\n",
      "\n"
     ]
    }
   ],
   "source": [
    "predictions = lr.predict(X)\n",
    "print(classification_report(y, predictions))"
   ]
  },
  {
   "cell_type": "code",
   "execution_count": 21,
   "metadata": {},
   "outputs": [
    {
     "data": {
      "text/plain": [
       "array([[747,  53],\n",
       "       [582, 118]])"
      ]
     },
     "execution_count": 21,
     "metadata": {},
     "output_type": "execute_result"
    }
   ],
   "source": [
    "confusion_matrix(y, predictions)"
   ]
  },
  {
   "cell_type": "markdown",
   "metadata": {},
   "source": [
    "  |  | $C_0$ | $C_1$ |\n",
    "  | ----- | ----- | ----- |\n",
    "  | $C_0$|  | |\n",
    "  | $C_1$|  |  |\n",
    "  \n",
    "  **Precision**: Proportion of values from thos predicted to be in $C_1$ correctly.\n",
    "  \n",
    "  $$\\frac{TP}{TP + FP}$$\n",
    "  \n",
    "  **Recall**: Proportion of values that are actually in $C_1$ predicted correctly.\n",
    "  \n",
    "  $$\\frac{TP}{TP + FN}$$\n",
    "  \n",
    "  Ideally, we'd like this to be as high as possible in each regard.  We can understand the relationship between Precision and Recall through their harmonic mean -- the F1 score.\n",
    "  \n",
    "  **F1**: Harmonic mean of Precision and Recall\n",
    "  \n",
    "  $$\\frac{2PR}{P + R}$$"
   ]
  },
  {
   "cell_type": "code",
   "execution_count": 22,
   "metadata": {},
   "outputs": [],
   "source": [
    "from sklearn import datasets"
   ]
  },
  {
   "cell_type": "code",
   "execution_count": 23,
   "metadata": {},
   "outputs": [],
   "source": [
    "iris = datasets.load_iris()"
   ]
  },
  {
   "cell_type": "code",
   "execution_count": 24,
   "metadata": {},
   "outputs": [],
   "source": [
    "X = iris['data'][:, 3:] # petalwidth\n",
    "y = (iris['target'] == 2).astype(np.int)"
   ]
  },
  {
   "cell_type": "code",
   "execution_count": 25,
   "metadata": {},
   "outputs": [],
   "source": [
    "lgr = LogisticRegression()\n",
    "lgr.fit(X,y)\n",
    "predictions = lgr.predict(X)"
   ]
  },
  {
   "cell_type": "code",
   "execution_count": 26,
   "metadata": {},
   "outputs": [
    {
     "data": {
      "text/plain": [
       "array([0, 0, 0, 0, 0, 0, 0, 0, 0, 0, 0, 0, 0, 0, 0, 0, 0, 0, 0, 0, 0, 0,\n",
       "       0, 0, 0, 0, 0, 0, 0, 0, 0, 0, 0, 0, 0, 0, 0, 0, 0, 0, 0, 0, 0, 0,\n",
       "       0, 0, 0, 0, 0, 0, 0, 0, 0, 0, 0, 0, 0, 0, 0, 0, 0, 0, 0, 0, 0, 0,\n",
       "       0, 0, 0, 0, 1, 0, 0, 0, 0, 0, 0, 1, 0, 0, 0, 0, 0, 0, 0, 0, 0, 0,\n",
       "       0, 0, 0, 0, 0, 0, 0, 0, 0, 0, 0, 0, 1, 1, 1, 1, 1, 1, 1, 1, 1, 1,\n",
       "       1, 1, 1, 1, 1, 1, 1, 1, 1, 0, 1, 1, 1, 1, 1, 1, 1, 1, 1, 0, 1, 1,\n",
       "       1, 0, 0, 1, 1, 1, 1, 1, 1, 1, 1, 1, 1, 1, 1, 1, 1, 1])"
      ]
     },
     "execution_count": 26,
     "metadata": {},
     "output_type": "execute_result"
    }
   ],
   "source": [
    "predictions"
   ]
  },
  {
   "cell_type": "code",
   "execution_count": 27,
   "metadata": {},
   "outputs": [
    {
     "data": {
      "text/plain": [
       "array([[0.97581359, 0.02418641],\n",
       "       [0.97581359, 0.02418641],\n",
       "       [0.97581359, 0.02418641],\n",
       "       [0.97581359, 0.02418641],\n",
       "       [0.97581359, 0.02418641],\n",
       "       [0.95984502, 0.04015498],\n",
       "       [0.96880341, 0.03119659],\n",
       "       [0.97581359, 0.02418641],\n",
       "       [0.97581359, 0.02418641],\n",
       "       [0.98127896, 0.01872104],\n",
       "       [0.97581359, 0.02418641],\n",
       "       [0.97581359, 0.02418641],\n",
       "       [0.98127896, 0.01872104],\n",
       "       [0.98127896, 0.01872104],\n",
       "       [0.97581359, 0.02418641],\n",
       "       [0.95984502, 0.04015498],\n",
       "       [0.95984502, 0.04015498],\n",
       "       [0.96880341, 0.03119659],\n",
       "       [0.96880341, 0.03119659],\n",
       "       [0.96880341, 0.03119659],\n",
       "       [0.97581359, 0.02418641],\n",
       "       [0.95984502, 0.04015498],\n",
       "       [0.97581359, 0.02418641],\n",
       "       [0.94845101, 0.05154899],\n",
       "       [0.97581359, 0.02418641],\n",
       "       [0.97581359, 0.02418641],\n",
       "       [0.95984502, 0.04015498],\n",
       "       [0.97581359, 0.02418641],\n",
       "       [0.97581359, 0.02418641],\n",
       "       [0.97581359, 0.02418641],\n",
       "       [0.97581359, 0.02418641],\n",
       "       [0.95984502, 0.04015498],\n",
       "       [0.98127896, 0.01872104],\n",
       "       [0.97581359, 0.02418641],\n",
       "       [0.98127896, 0.01872104],\n",
       "       [0.97581359, 0.02418641],\n",
       "       [0.97581359, 0.02418641],\n",
       "       [0.98127896, 0.01872104],\n",
       "       [0.97581359, 0.02418641],\n",
       "       [0.97581359, 0.02418641],\n",
       "       [0.96880341, 0.03119659],\n",
       "       [0.96880341, 0.03119659],\n",
       "       [0.97581359, 0.02418641],\n",
       "       [0.9340461 , 0.0659539 ],\n",
       "       [0.95984502, 0.04015498],\n",
       "       [0.96880341, 0.03119659],\n",
       "       [0.97581359, 0.02418641],\n",
       "       [0.97581359, 0.02418641],\n",
       "       [0.97581359, 0.02418641],\n",
       "       [0.97581359, 0.02418641],\n",
       "       [0.63569965, 0.36430035],\n",
       "       [0.5732246 , 0.4267754 ],\n",
       "       [0.5732246 , 0.4267754 ],\n",
       "       [0.69391259, 0.30608741],\n",
       "       [0.5732246 , 0.4267754 ],\n",
       "       [0.69391259, 0.30608741],\n",
       "       [0.50832222, 0.49167778],\n",
       "       [0.83252911, 0.16747089],\n",
       "       [0.69391259, 0.30608741],\n",
       "       [0.63569965, 0.36430035],\n",
       "       [0.83252911, 0.16747089],\n",
       "       [0.5732246 , 0.4267754 ],\n",
       "       [0.83252911, 0.16747089],\n",
       "       [0.63569965, 0.36430035],\n",
       "       [0.69391259, 0.30608741],\n",
       "       [0.63569965, 0.36430035],\n",
       "       [0.5732246 , 0.4267754 ],\n",
       "       [0.83252911, 0.16747089],\n",
       "       [0.5732246 , 0.4267754 ],\n",
       "       [0.79280729, 0.20719271],\n",
       "       [0.37985503, 0.62014497],\n",
       "       [0.69391259, 0.30608741],\n",
       "       [0.5732246 , 0.4267754 ],\n",
       "       [0.74653241, 0.25346759],\n",
       "       [0.69391259, 0.30608741],\n",
       "       [0.63569965, 0.36430035],\n",
       "       [0.63569965, 0.36430035],\n",
       "       [0.4431381 , 0.5568619 ],\n",
       "       [0.5732246 , 0.4267754 ],\n",
       "       [0.83252911, 0.16747089],\n",
       "       [0.79280729, 0.20719271],\n",
       "       [0.83252911, 0.16747089],\n",
       "       [0.74653241, 0.25346759],\n",
       "       [0.50832222, 0.49167778],\n",
       "       [0.5732246 , 0.4267754 ],\n",
       "       [0.50832222, 0.49167778],\n",
       "       [0.5732246 , 0.4267754 ],\n",
       "       [0.69391259, 0.30608741],\n",
       "       [0.69391259, 0.30608741],\n",
       "       [0.69391259, 0.30608741],\n",
       "       [0.74653241, 0.25346759],\n",
       "       [0.63569965, 0.36430035],\n",
       "       [0.74653241, 0.25346759],\n",
       "       [0.83252911, 0.16747089],\n",
       "       [0.69391259, 0.30608741],\n",
       "       [0.74653241, 0.25346759],\n",
       "       [0.69391259, 0.30608741],\n",
       "       [0.69391259, 0.30608741],\n",
       "       [0.79280729, 0.20719271],\n",
       "       [0.69391259, 0.30608741],\n",
       "       [0.08929626, 0.91070374],\n",
       "       [0.32040932, 0.67959068],\n",
       "       [0.21834332, 0.78165668],\n",
       "       [0.37985503, 0.62014497],\n",
       "       [0.17696093, 0.82303907],\n",
       "       [0.21834332, 0.78165668],\n",
       "       [0.4431381 , 0.5568619 ],\n",
       "       [0.37985503, 0.62014497],\n",
       "       [0.37985503, 0.62014497],\n",
       "       [0.08929626, 0.91070374],\n",
       "       [0.26627218, 0.73372782],\n",
       "       [0.32040932, 0.67959068],\n",
       "       [0.21834332, 0.78165668],\n",
       "       [0.26627218, 0.73372782],\n",
       "       [0.11299268, 0.88700732],\n",
       "       [0.1419969 , 0.8580031 ],\n",
       "       [0.37985503, 0.62014497],\n",
       "       [0.17696093, 0.82303907],\n",
       "       [0.1419969 , 0.8580031 ],\n",
       "       [0.5732246 , 0.4267754 ],\n",
       "       [0.1419969 , 0.8580031 ],\n",
       "       [0.26627218, 0.73372782],\n",
       "       [0.26627218, 0.73372782],\n",
       "       [0.37985503, 0.62014497],\n",
       "       [0.21834332, 0.78165668],\n",
       "       [0.37985503, 0.62014497],\n",
       "       [0.37985503, 0.62014497],\n",
       "       [0.37985503, 0.62014497],\n",
       "       [0.21834332, 0.78165668],\n",
       "       [0.50832222, 0.49167778],\n",
       "       [0.32040932, 0.67959068],\n",
       "       [0.26627218, 0.73372782],\n",
       "       [0.17696093, 0.82303907],\n",
       "       [0.5732246 , 0.4267754 ],\n",
       "       [0.63569965, 0.36430035],\n",
       "       [0.1419969 , 0.8580031 ],\n",
       "       [0.11299268, 0.88700732],\n",
       "       [0.37985503, 0.62014497],\n",
       "       [0.37985503, 0.62014497],\n",
       "       [0.21834332, 0.78165668],\n",
       "       [0.11299268, 0.88700732],\n",
       "       [0.1419969 , 0.8580031 ],\n",
       "       [0.32040932, 0.67959068],\n",
       "       [0.1419969 , 0.8580031 ],\n",
       "       [0.08929626, 0.91070374],\n",
       "       [0.1419969 , 0.8580031 ],\n",
       "       [0.32040932, 0.67959068],\n",
       "       [0.26627218, 0.73372782],\n",
       "       [0.1419969 , 0.8580031 ],\n",
       "       [0.37985503, 0.62014497]])"
      ]
     },
     "execution_count": 27,
     "metadata": {},
     "output_type": "execute_result"
    }
   ],
   "source": [
    "# shows predicted probability of it being a 1 or 0\n",
    "prb_predict= lgr.predict_proba(X)\n",
    "prb_predict"
   ]
  },
  {
   "cell_type": "code",
   "execution_count": 28,
   "metadata": {},
   "outputs": [],
   "source": [
    "probs = pd.DataFrame(prb_predict, columns=['0', '1'])"
   ]
  },
  {
   "cell_type": "code",
   "execution_count": 29,
   "metadata": {},
   "outputs": [
    {
     "data": {
      "text/html": [
       "<div>\n",
       "<style scoped>\n",
       "    .dataframe tbody tr th:only-of-type {\n",
       "        vertical-align: middle;\n",
       "    }\n",
       "\n",
       "    .dataframe tbody tr th {\n",
       "        vertical-align: top;\n",
       "    }\n",
       "\n",
       "    .dataframe thead th {\n",
       "        text-align: right;\n",
       "    }\n",
       "</style>\n",
       "<table border=\"1\" class=\"dataframe\">\n",
       "  <thead>\n",
       "    <tr style=\"text-align: right;\">\n",
       "      <th></th>\n",
       "      <th>0</th>\n",
       "      <th>1</th>\n",
       "    </tr>\n",
       "  </thead>\n",
       "  <tbody>\n",
       "    <tr>\n",
       "      <th>0</th>\n",
       "      <td>0.975814</td>\n",
       "      <td>0.024186</td>\n",
       "    </tr>\n",
       "    <tr>\n",
       "      <th>1</th>\n",
       "      <td>0.975814</td>\n",
       "      <td>0.024186</td>\n",
       "    </tr>\n",
       "    <tr>\n",
       "      <th>2</th>\n",
       "      <td>0.975814</td>\n",
       "      <td>0.024186</td>\n",
       "    </tr>\n",
       "    <tr>\n",
       "      <th>3</th>\n",
       "      <td>0.975814</td>\n",
       "      <td>0.024186</td>\n",
       "    </tr>\n",
       "    <tr>\n",
       "      <th>4</th>\n",
       "      <td>0.975814</td>\n",
       "      <td>0.024186</td>\n",
       "    </tr>\n",
       "  </tbody>\n",
       "</table>\n",
       "</div>"
      ],
      "text/plain": [
       "          0         1\n",
       "0  0.975814  0.024186\n",
       "1  0.975814  0.024186\n",
       "2  0.975814  0.024186\n",
       "3  0.975814  0.024186\n",
       "4  0.975814  0.024186"
      ]
     },
     "execution_count": 29,
     "metadata": {},
     "output_type": "execute_result"
    }
   ],
   "source": [
    "probs.head()"
   ]
  },
  {
   "cell_type": "code",
   "execution_count": 30,
   "metadata": {},
   "outputs": [
    {
     "data": {
      "text/plain": [
       "<matplotlib.lines.Line2D at 0x1a1de95438>"
      ]
     },
     "execution_count": 30,
     "metadata": {},
     "output_type": "execute_result"
    },
    {
     "data": {
      "image/png": "[encoded data removed]",
      "text/plain": [
       "<matplotlib.figure.Figure at 0x1a1de577b8>"
      ]
     },
     "metadata": {},
     "output_type": "display_data"
    }
   ],
   "source": [
    "plt.figure(figsize = (9, 5))\n",
    "x = np.linspace(0, 3, 150).reshape(-1,1)\n",
    "y_probs= lgr.predict_proba(x)\n",
    "plt.plot(x, y_probs[:, 0], label= 'Iris-Virginica')\n",
    "plt.plot(x,y_probs[:,1], label= 'Not Virginica')\n",
    "plt.legend()\n",
    "plt.axvline(x = 1.62, color= 'black',linestyle = '--')"
   ]
  },
  {
   "cell_type": "code",
   "execution_count": 31,
   "metadata": {},
   "outputs": [
    {
     "name": "stderr",
     "output_type": "stream",
     "text": [
      "/Users/karenhao/Documents/anaconda3/lib/python3.6/site-packages/sklearn/cross_validation.py:41: DeprecationWarning: This module was deprecated in version 0.18 in favor of the model_selection module into which all the refactored classes and functions are moved. Also note that the interface of the new CV iterators are different from that of this module. This module will be removed in 0.20.\n",
      "  \"This module will be removed in 0.20.\", DeprecationWarning)\n"
     ]
    }
   ],
   "source": [
    "from sklearn.metrics import precision_recall_curve\n",
    "from sklearn.cross_validation import cross_val_predict, cross_val_score"
   ]
  },
  {
   "cell_type": "code",
   "execution_count": 32,
   "metadata": {},
   "outputs": [],
   "source": [
    "from sklearn.metrics import precision_score, recall_score, f1_score"
   ]
  },
  {
   "cell_type": "code",
   "execution_count": 33,
   "metadata": {},
   "outputs": [
    {
     "data": {
      "text/plain": [
       "0.9583333333333334"
      ]
     },
     "execution_count": 33,
     "metadata": {},
     "output_type": "execute_result"
    }
   ],
   "source": [
    "precision_score(y, predictions)"
   ]
  },
  {
   "cell_type": "code",
   "execution_count": 34,
   "metadata": {},
   "outputs": [
    {
     "data": {
      "text/plain": [
       "0.92"
      ]
     },
     "execution_count": 34,
     "metadata": {},
     "output_type": "execute_result"
    }
   ],
   "source": [
    "recall_score(y, predictions)"
   ]
  },
  {
   "cell_type": "code",
   "execution_count": 35,
   "metadata": {},
   "outputs": [
    {
     "data": {
      "text/plain": [
       "0.9387755102040817"
      ]
     },
     "execution_count": 35,
     "metadata": {},
     "output_type": "execute_result"
    }
   ],
   "source": [
    "f1_score(y, predictions)"
   ]
  },
  {
   "cell_type": "markdown",
   "metadata": {},
   "source": [
    "### Class example"
   ]
  },
  {
   "cell_type": "code",
   "execution_count": 38,
   "metadata": {},
   "outputs": [],
   "source": [
    "from sklearn.model_selection import train_test_split, GridSearchCV\n",
    "from sklearn.pipeline import make_pipeline\n",
    "from sklearn.preprocessing import PolynomialFeatures"
   ]
  },
  {
   "cell_type": "code",
   "execution_count": 37,
   "metadata": {},
   "outputs": [],
   "source": [
    "X_train, X_test, y_train, y_test = train_test_split(X,y)"
   ]
  },
  {
   "cell_type": "code",
   "execution_count": 39,
   "metadata": {},
   "outputs": [],
   "source": [
    "pipe = make_pipeline(PolynomialFeatures(),LogisticRegression())"
   ]
  },
  {
   "cell_type": "code",
   "execution_count": 40,
   "metadata": {},
   "outputs": [],
   "source": [
    "# two underscores __ access keyword arguments\n",
    "params = {'polynomialfeatures__degree': range(1,5),\n",
    "          'logisticregression__C': [0.1,1,5,10,100]}"
   ]
  },
  {
   "cell_type": "code",
   "execution_count": 43,
   "metadata": {},
   "outputs": [],
   "source": [
    "# cross validate 5 times\n",
    "grid = GridSearchCV(pipe,param_grid=params, cv = 5)"
   ]
  },
  {
   "cell_type": "code",
   "execution_count": 44,
   "metadata": {},
   "outputs": [
    {
     "data": {
      "text/plain": [
       "GridSearchCV(cv=5, error_score='raise',\n",
       "       estimator=Pipeline(memory=None,\n",
       "     steps=[('polynomialfeatures', PolynomialFeatures(degree=2, include_bias=True, interaction_only=False)), ('logisticregression', LogisticRegression(C=1.0, class_weight=None, dual=False, fit_intercept=True,\n",
       "          intercept_scaling=1, max_iter=100, multi_class='ovr', n_jobs=1,\n",
       "          penalty='l2', random_state=None, solver='liblinear', tol=0.0001,\n",
       "          verbose=0, warm_start=False))]),\n",
       "       fit_params=None, iid=True, n_jobs=1,\n",
       "       param_grid={'polynomialfeatures__degree': range(1, 5), 'logisticregression__C': [0.1, 1, 5, 10, 100]},\n",
       "       pre_dispatch='2*n_jobs', refit=True, return_train_score='warn',\n",
       "       scoring=None, verbose=0)"
      ]
     },
     "execution_count": 44,
     "metadata": {},
     "output_type": "execute_result"
    }
   ],
   "source": [
    "grid.fit(X_train,y_train)"
   ]
  },
  {
   "cell_type": "code",
   "execution_count": 45,
   "metadata": {},
   "outputs": [
    {
     "data": {
      "text/plain": [
       "Pipeline(memory=None,\n",
       "     steps=[('polynomialfeatures', PolynomialFeatures(degree=2, include_bias=True, interaction_only=False)), ('logisticregression', LogisticRegression(C=0.1, class_weight=None, dual=False, fit_intercept=True,\n",
       "          intercept_scaling=1, max_iter=100, multi_class='ovr', n_jobs=1,\n",
       "          penalty='l2', random_state=None, solver='liblinear', tol=0.0001,\n",
       "          verbose=0, warm_start=False))])"
      ]
     },
     "execution_count": 45,
     "metadata": {},
     "output_type": "execute_result"
    }
   ],
   "source": [
    "grid.best_estimator_"
   ]
  },
  {
   "cell_type": "code",
   "execution_count": 46,
   "metadata": {},
   "outputs": [],
   "source": [
    "best = grid.best_estimator_"
   ]
  },
  {
   "cell_type": "code",
   "execution_count": 47,
   "metadata": {},
   "outputs": [],
   "source": [
    "pred = best.predict(X_test)"
   ]
  },
  {
   "cell_type": "code",
   "execution_count": 48,
   "metadata": {},
   "outputs": [
    {
     "name": "stdout",
     "output_type": "stream",
     "text": [
      "             precision    recall  f1-score   support\n",
      "\n",
      "          0       1.00      0.92      0.96        26\n",
      "          1       0.86      1.00      0.92        12\n",
      "\n",
      "avg / total       0.95      0.95      0.95        38\n",
      "\n"
     ]
    }
   ],
   "source": [
    "print(classification_report(pred,y_test))"
   ]
  },
  {
   "cell_type": "code",
   "execution_count": null,
   "metadata": {},
   "outputs": [],
   "source": []
  }
 ],
 "metadata": {
  "kernelspec": {
   "display_name": "Python 3",
   "language": "python",
   "name": "python3"
  },
  "language_info": {
   "codemirror_mode": {
    "name": "ipython",
    "version": 3
   },
   "file_extension": ".py",
   "mimetype": "text/x-python",
   "name": "python",
   "nbconvert_exporter": "python",
   "pygments_lexer": "ipython3",
   "version": "3.6.4"
  }
 },
 "nbformat": 4,
 "nbformat_minor": 2
}
