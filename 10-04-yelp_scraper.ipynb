{
 "cells": [
  {
   "cell_type": "code",
   "execution_count": 1,
   "metadata": {},
   "outputs": [],
   "source": [
    "import requests\n",
    "from bs4 import BeautifulSoup\n",
    "import pandas as pd\n",
    "import numpy as np"
   ]
  },
  {
   "cell_type": "markdown",
   "metadata": {},
   "source": [
    "# Basic Scrape"
   ]
  },
  {
   "cell_type": "code",
   "execution_count": 2,
   "metadata": {},
   "outputs": [],
   "source": [
    "req = requests.get('https://www.yelp.com/biz/frijolitos-new-york-2?hrid=BLupS78ZcaWflLpdvtOmNA&osq=Burrito')"
   ]
  },
  {
   "cell_type": "code",
   "execution_count": 3,
   "metadata": {},
   "outputs": [
    {
     "data": {
      "text/plain": [
       "<Response [200]>"
      ]
     },
     "execution_count": 3,
     "metadata": {},
     "output_type": "execute_result"
    }
   ],
   "source": [
    "req"
   ]
  },
  {
   "cell_type": "code",
   "execution_count": 4,
   "metadata": {},
   "outputs": [],
   "source": [
    "soup = BeautifulSoup(req.text,'html.parser')"
   ]
  },
  {
   "cell_type": "code",
   "execution_count": 5,
   "metadata": {},
   "outputs": [
    {
     "data": {
      "text/plain": [
       "'\\n\\n\\n\\n\\n  \\n\\n            window.yPageStart = new Date().getTime();\\n\\n            var initialVisibilityState = document.webkitVisibilityState;\\n\\n                yPerfTimings = [];\\n\\n                ySitRepPar'"
      ]
     },
     "execution_count": 5,
     "metadata": {},
     "output_type": "execute_result"
    }
   ],
   "source": [
    "soup.text[:200]"
   ]
  },
  {
   "cell_type": "code",
   "execution_count": 6,
   "metadata": {},
   "outputs": [
    {
     "data": {
      "text/plain": [
       "\"Best burrito i've had outside of California. I'm always on the look out for awesome authentic Mexican food. Found it! Carnitas burrito was great, steak one was just okay. But we'll definitely be back.\""
      ]
     },
     "execution_count": 6,
     "metadata": {},
     "output_type": "execute_result"
    }
   ],
   "source": [
    "soup.find('p', {'lang': 'en'}).text"
   ]
  },
  {
   "cell_type": "markdown",
   "metadata": {},
   "source": [
    "### Kanye's Tweets"
   ]
  },
  {
   "cell_type": "code",
   "execution_count": 7,
   "metadata": {},
   "outputs": [],
   "source": [
    "req = requests.get('https://twitter.com/kanyewest')"
   ]
  },
  {
   "cell_type": "code",
   "execution_count": 8,
   "metadata": {},
   "outputs": [
    {
     "data": {
      "text/plain": [
       "<Response [200]>"
      ]
     },
     "execution_count": 8,
     "metadata": {},
     "output_type": "execute_result"
    }
   ],
   "source": [
    "req"
   ]
  },
  {
   "cell_type": "code",
   "execution_count": 9,
   "metadata": {},
   "outputs": [],
   "source": [
    "soup = BeautifulSoup(req.text, 'html.parser')"
   ]
  },
  {
   "cell_type": "code",
   "execution_count": 10,
   "metadata": {},
   "outputs": [
    {
     "data": {
      "text/plain": [
       "'\\n\\n\\n\\n\\n        !function(){window.initErrorstack||(window.initErrorstack=[]),window.onerror=function(r,i,n,o,t){r.indexOf(\"Script error.\")>-1||window.initErrorstack.push({errorMsg:r,url:i,lineNumber:n,c'"
      ]
     },
     "execution_count": 10,
     "metadata": {},
     "output_type": "execute_result"
    }
   ],
   "source": [
    "soup.text[:200]"
   ]
  },
  {
   "cell_type": "code",
   "execution_count": 11,
   "metadata": {},
   "outputs": [],
   "source": [
    "tweets = soup.find_all('p', {'class': 'TweetTextSize TweetTextSize--normal js-tweet-text tweet-text'})"
   ]
  },
  {
   "cell_type": "code",
   "execution_count": 12,
   "metadata": {},
   "outputs": [
    {
     "name": "stdout",
     "output_type": "stream",
     "text": [
      "f the world changed to love the world pic.twitter.com/BtqdEghrLf\n",
      "today is the best day ever and tomorrow's going to be even better\n",
      "ye vs the people @  http://kanyewest.com pic.twitter.com/8f8WZpO8WH\n",
      "Trust your feelings. Stop thinking so much\n",
      "lift yourselfpic.twitter.com/ggVztSeZeO\n",
      "I've got a new challenge for everyone today. Pick somebody that you had an argument with that you think you hate maybe even someone you haven't spoken to in years and contact that person and tell them I love you.\n",
      "pic.twitter.com/qkvKK6A3Mm\n",
      "pic.twitter.com/QY2v1OgblE\n",
      "Lead with lovepic.twitter.com/tj2a9LFYKZ\n",
      "We got love. Agree to disagreepic.twitter.com/kaTcPYH0zL\n",
      "Lift Yourself  http://kanyewest.com \n",
      "I'm going to drop a song with a verse that will bring Ebro the closure he's been seeking \n",
      "\n",
      "The bars \n",
      "\n",
      "It's called Lift Yourself\n",
      "I haven't done enough research on conservatives to call myself or be called one. I'm just refusing to be enslaved by monolithic thought.\n",
      "pic.twitter.com/CBfSpDahCP\n",
      "pic.twitter.com/ayEL4Fkftq\n",
      "pic.twitter.com/7PlBuFVc6G\n",
      "pic.twitter.com/Sd8YC2ZAcf\n",
      "pic.twitter.com/ZxLgpv8s19\n",
      "pic.twitter.com/5CE8Nmo7z9\n",
      "pic.twitter.com/86zXN9v580\n"
     ]
    }
   ],
   "source": [
    "tweet_kanye = []\n",
    "for i in tweets:\n",
    "    tweet_kanye.append(i.text)\n",
    "    print(i.text)"
   ]
  },
  {
   "cell_type": "code",
   "execution_count": 13,
   "metadata": {},
   "outputs": [
    {
     "data": {
      "text/plain": [
       "['f the world changed to love the world pic.twitter.com/BtqdEghrLf',\n",
       " \"today is the best day ever and tomorrow's going to be even better\",\n",
       " 'ye vs the people @\\xa0\\xa0http://kanyewest.com\\xa0pic.twitter.com/8f8WZpO8WH',\n",
       " 'Trust your feelings. Stop thinking so much',\n",
       " 'lift yourselfpic.twitter.com/ggVztSeZeO',\n",
       " \"I've got a new challenge for everyone today. Pick somebody that you had an argument with that you think you hate maybe even someone you haven't spoken to in years and contact that person and tell them I love you.\",\n",
       " 'pic.twitter.com/qkvKK6A3Mm',\n",
       " 'pic.twitter.com/QY2v1OgblE',\n",
       " 'Lead with lovepic.twitter.com/tj2a9LFYKZ',\n",
       " 'We got love. Agree to disagreepic.twitter.com/kaTcPYH0zL',\n",
       " 'Lift Yourself\\xa0\\xa0http://kanyewest.com\\xa0',\n",
       " \"I'm going to drop a song with a verse that will bring Ebro the closure he's been seeking \\n\\nThe bars \\n\\nIt's called Lift Yourself\",\n",
       " \"I haven't done enough research on conservatives to call myself or be called one. I'm just refusing to be enslaved by monolithic thought.\",\n",
       " 'pic.twitter.com/CBfSpDahCP',\n",
       " 'pic.twitter.com/ayEL4Fkftq',\n",
       " 'pic.twitter.com/7PlBuFVc6G',\n",
       " 'pic.twitter.com/Sd8YC2ZAcf',\n",
       " 'pic.twitter.com/ZxLgpv8s19',\n",
       " 'pic.twitter.com/5CE8Nmo7z9',\n",
       " 'pic.twitter.com/86zXN9v580']"
      ]
     },
     "execution_count": 13,
     "metadata": {},
     "output_type": "execute_result"
    }
   ],
   "source": [
    "tweet_kanye"
   ]
  },
  {
   "cell_type": "markdown",
   "metadata": {},
   "source": [
    "### Sentiment"
   ]
  },
  {
   "cell_type": "code",
   "execution_count": 14,
   "metadata": {},
   "outputs": [],
   "source": [
    "from textblob import TextBlob"
   ]
  },
  {
   "cell_type": "code",
   "execution_count": 15,
   "metadata": {},
   "outputs": [],
   "source": [
    "analysis = TextBlob(\"this is bad text or good very very good\") "
   ]
  },
  {
   "cell_type": "code",
   "execution_count": 16,
   "metadata": {},
   "outputs": [
    {
     "name": "stdout",
     "output_type": "stream",
     "text": [
      "['__add__', '__class__', '__contains__', '__delattr__', '__dict__', '__dir__', '__doc__', '__eq__', '__format__', '__ge__', '__getattribute__', '__getitem__', '__gt__', '__hash__', '__init__', '__init_subclass__', '__iter__', '__le__', '__len__', '__lt__', '__module__', '__ne__', '__new__', '__reduce__', '__reduce_ex__', '__repr__', '__setattr__', '__sizeof__', '__str__', '__subclasshook__', '__weakref__', '_cmpkey', '_compare', '_create_sentence_objects', '_strkey', 'analyzer', 'classifier', 'classify', 'correct', 'detect_language', 'ends_with', 'endswith', 'find', 'format', 'index', 'join', 'json', 'lower', 'ngrams', 'noun_phrases', 'np_counts', 'np_extractor', 'parse', 'parser', 'polarity', 'pos_tagger', 'pos_tags', 'raw', 'raw_sentences', 'replace', 'rfind', 'rindex', 'sentences', 'sentiment', 'sentiment_assessments', 'serialized', 'split', 'starts_with', 'startswith', 'string', 'strip', 'stripped', 'subjectivity', 'tags', 'title', 'to_json', 'tokenize', 'tokenizer', 'tokens', 'translate', 'translator', 'upper', 'word_counts', 'words']\n"
     ]
    }
   ],
   "source": [
    "print(dir(analysis))"
   ]
  },
  {
   "cell_type": "code",
   "execution_count": 17,
   "metadata": {},
   "outputs": [
    {
     "data": {
      "text/plain": [
       "Sentiment(polarity=0.30333333333333334, subjectivity=0.6822222222222223)"
      ]
     },
     "execution_count": 17,
     "metadata": {},
     "output_type": "execute_result"
    }
   ],
   "source": [
    "analysis.sentiment"
   ]
  },
  {
   "cell_type": "code",
   "execution_count": 18,
   "metadata": {},
   "outputs": [
    {
     "name": "stdout",
     "output_type": "stream",
     "text": [
      "Sentiment(polarity=0.5, subjectivity=0.6)\n",
      "Sentiment(polarity=0.75, subjectivity=0.4)\n",
      "Sentiment(polarity=0.0, subjectivity=0.0)\n",
      "Sentiment(polarity=0.2, subjectivity=0.2)\n",
      "Sentiment(polarity=0.0, subjectivity=0.0)\n",
      "Sentiment(polarity=-0.054545454545454564, subjectivity=0.6515151515151515)\n",
      "Sentiment(polarity=0.0, subjectivity=0.0)\n",
      "Sentiment(polarity=0.0, subjectivity=0.0)\n",
      "Sentiment(polarity=0.0, subjectivity=0.0)\n",
      "Sentiment(polarity=0.5, subjectivity=0.6)\n",
      "Sentiment(polarity=0.0, subjectivity=0.0)\n",
      "Sentiment(polarity=0.0, subjectivity=0.0)\n",
      "Sentiment(polarity=0.0, subjectivity=0.5)\n",
      "Sentiment(polarity=0.0, subjectivity=0.0)\n",
      "Sentiment(polarity=0.0, subjectivity=0.0)\n",
      "Sentiment(polarity=0.0, subjectivity=0.0)\n",
      "Sentiment(polarity=0.0, subjectivity=0.0)\n",
      "Sentiment(polarity=0.0, subjectivity=0.0)\n",
      "Sentiment(polarity=0.0, subjectivity=0.0)\n",
      "Sentiment(polarity=0.0, subjectivity=0.0)\n"
     ]
    }
   ],
   "source": [
    "for tw in tweet_kanye:\n",
    "    a2 = TextBlob(tw)\n",
    "    print(a2.sentiment)"
   ]
  },
  {
   "cell_type": "code",
   "execution_count": 19,
   "metadata": {},
   "outputs": [
    {
     "data": {
      "text/plain": [
       "['pic.twitter.com/ZxLgpv8s19',\n",
       " 'pic.twitter.com/5CE8Nmo7z9',\n",
       " 'pic.twitter.com/86zXN9v580']"
      ]
     },
     "execution_count": 19,
     "metadata": {},
     "output_type": "execute_result"
    }
   ],
   "source": [
    "tweet_kanye[-3:]"
   ]
  },
  {
   "cell_type": "code",
   "execution_count": 27,
   "metadata": {},
   "outputs": [],
   "source": [
    "def get_tweet(user):\n",
    "    tweet_text = []\n",
    "    polarity = []\n",
    "    subjectivity = []\n",
    "    public_tweets = requests.get('https://twitter.com/' + user)\n",
    "    soup = BeautifulSoup(public_tweets.text, 'html.parser')\n",
    "    tweets = soup.find_all('p', {'class': 'TweetTextSize TweetTextSize--normal js-tweet-text tweet-text'})\n",
    "    for tweet in tweets:\n",
    "        tweet_text.append(tweet.text)\n",
    "        a2 = TextBlob(tweet.text)\n",
    "        polarity.append(a2.polarity)\n",
    "        subjectivity.append(a2.subjectivity)\n",
    "    df = pd.DataFrame( {\n",
    "            'Tweet': tweet_text,\n",
    "            'Polarity Score': polarity,\n",
    "            'Subjectivity Score': subjectivity,\n",
    "        })\n",
    "    return df.head()"
   ]
  },
  {
   "cell_type": "code",
   "execution_count": 28,
   "metadata": {},
   "outputs": [
    {
     "data": {
      "text/html": [
       "<div>\n",
       "<style scoped>\n",
       "    .dataframe tbody tr th:only-of-type {\n",
       "        vertical-align: middle;\n",
       "    }\n",
       "\n",
       "    .dataframe tbody tr th {\n",
       "        vertical-align: top;\n",
       "    }\n",
       "\n",
       "    .dataframe thead th {\n",
       "        text-align: right;\n",
       "    }\n",
       "</style>\n",
       "<table border=\"1\" class=\"dataframe\">\n",
       "  <thead>\n",
       "    <tr style=\"text-align: right;\">\n",
       "      <th></th>\n",
       "      <th>Polarity Score</th>\n",
       "      <th>Subjectivity Score</th>\n",
       "      <th>Tweet</th>\n",
       "    </tr>\n",
       "  </thead>\n",
       "  <tbody>\n",
       "    <tr>\n",
       "      <th>0</th>\n",
       "      <td>0.50</td>\n",
       "      <td>0.6</td>\n",
       "      <td>f the world changed to love the world pic.twit...</td>\n",
       "    </tr>\n",
       "    <tr>\n",
       "      <th>1</th>\n",
       "      <td>0.75</td>\n",
       "      <td>0.4</td>\n",
       "      <td>today is the best day ever and tomorrow's goin...</td>\n",
       "    </tr>\n",
       "    <tr>\n",
       "      <th>2</th>\n",
       "      <td>0.00</td>\n",
       "      <td>0.0</td>\n",
       "      <td>ye vs the people @  http://kanyewest.com pic.t...</td>\n",
       "    </tr>\n",
       "    <tr>\n",
       "      <th>3</th>\n",
       "      <td>0.20</td>\n",
       "      <td>0.2</td>\n",
       "      <td>Trust your feelings. Stop thinking so much</td>\n",
       "    </tr>\n",
       "    <tr>\n",
       "      <th>4</th>\n",
       "      <td>0.00</td>\n",
       "      <td>0.0</td>\n",
       "      <td>lift yourselfpic.twitter.com/ggVztSeZeO</td>\n",
       "    </tr>\n",
       "  </tbody>\n",
       "</table>\n",
       "</div>"
      ],
      "text/plain": [
       "   Polarity Score  Subjectivity Score  \\\n",
       "0            0.50                 0.6   \n",
       "1            0.75                 0.4   \n",
       "2            0.00                 0.0   \n",
       "3            0.20                 0.2   \n",
       "4            0.00                 0.0   \n",
       "\n",
       "                                               Tweet  \n",
       "0  f the world changed to love the world pic.twit...  \n",
       "1  today is the best day ever and tomorrow's goin...  \n",
       "2  ye vs the people @  http://kanyewest.com pic.t...  \n",
       "3         Trust your feelings. Stop thinking so much  \n",
       "4            lift yourselfpic.twitter.com/ggVztSeZeO  "
      ]
     },
     "execution_count": 28,
     "metadata": {},
     "output_type": "execute_result"
    }
   ],
   "source": [
    "get_tweet('kanyewest')"
   ]
  },
  {
   "cell_type": "code",
   "execution_count": 29,
   "metadata": {},
   "outputs": [
    {
     "data": {
      "text/html": [
       "<div>\n",
       "<style scoped>\n",
       "    .dataframe tbody tr th:only-of-type {\n",
       "        vertical-align: middle;\n",
       "    }\n",
       "\n",
       "    .dataframe tbody tr th {\n",
       "        vertical-align: top;\n",
       "    }\n",
       "\n",
       "    .dataframe thead th {\n",
       "        text-align: right;\n",
       "    }\n",
       "</style>\n",
       "<table border=\"1\" class=\"dataframe\">\n",
       "  <thead>\n",
       "    <tr style=\"text-align: right;\">\n",
       "      <th></th>\n",
       "      <th>Polarity Score</th>\n",
       "      <th>Subjectivity Score</th>\n",
       "      <th>Tweet</th>\n",
       "    </tr>\n",
       "  </thead>\n",
       "  <tbody>\n",
       "    <tr>\n",
       "      <th>0</th>\n",
       "      <td>0.170455</td>\n",
       "      <td>0.500000</td>\n",
       "      <td>Join me LIVE in Washington, Michigan at 7:00pm...</td>\n",
       "    </tr>\n",
       "    <tr>\n",
       "      <th>1</th>\n",
       "      <td>-0.340187</td>\n",
       "      <td>0.607143</td>\n",
       "      <td>Secret Service has just informed me that Senat...</td>\n",
       "    </tr>\n",
       "    <tr>\n",
       "      <th>2</th>\n",
       "      <td>0.249716</td>\n",
       "      <td>0.462500</td>\n",
       "      <td>Look forward to being in the Great State of Mi...</td>\n",
       "    </tr>\n",
       "    <tr>\n",
       "      <th>3</th>\n",
       "      <td>0.353333</td>\n",
       "      <td>0.493333</td>\n",
       "      <td>Just had a long and very good talk with Presid...</td>\n",
       "    </tr>\n",
       "    <tr>\n",
       "      <th>4</th>\n",
       "      <td>-0.500000</td>\n",
       "      <td>1.000000</td>\n",
       "      <td>“Clapper lied about (fraudulent) Dossier leaks...</td>\n",
       "    </tr>\n",
       "  </tbody>\n",
       "</table>\n",
       "</div>"
      ],
      "text/plain": [
       "   Polarity Score  Subjectivity Score  \\\n",
       "0        0.170455            0.500000   \n",
       "1       -0.340187            0.607143   \n",
       "2        0.249716            0.462500   \n",
       "3        0.353333            0.493333   \n",
       "4       -0.500000            1.000000   \n",
       "\n",
       "                                               Tweet  \n",
       "0  Join me LIVE in Washington, Michigan at 7:00pm...  \n",
       "1  Secret Service has just informed me that Senat...  \n",
       "2  Look forward to being in the Great State of Mi...  \n",
       "3  Just had a long and very good talk with Presid...  \n",
       "4  “Clapper lied about (fraudulent) Dossier leaks...  "
      ]
     },
     "execution_count": 29,
     "metadata": {},
     "output_type": "execute_result"
    }
   ],
   "source": [
    "get_tweet('realDonaldTrump')"
   ]
  }
 ],
 "metadata": {
  "kernelspec": {
   "display_name": "Python 3",
   "language": "python",
   "name": "python3"
  },
  "language_info": {
   "codemirror_mode": {
    "name": "ipython",
    "version": 3
   },
   "file_extension": ".py",
   "mimetype": "text/x-python",
   "name": "python",
   "nbconvert_exporter": "python",
   "pygments_lexer": "ipython3",
   "version": "3.6.4"
  }
 },
 "nbformat": 4,
 "nbformat_minor": 2
}
