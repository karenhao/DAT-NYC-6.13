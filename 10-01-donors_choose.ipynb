{
 "cells": [
  {
   "cell_type": "markdown",
   "metadata": {},
   "source": [
    "# Predicting Donor's Choose\n",
    "\n",
    "1. What is the primary metric you care about in this task?  Be sure to clearly state the question about why this is the case.\n",
    "1. Is the column `teacher_number_of_previously_posted_projects` a good predictor for the approval of the project? Use both a `KNearestNeighbors` and `LogisticRegression` model. Which model performs better?  Can you select the best parameters for each?  The best penalty for `LogisticRegression`?  Form a pipeline that includes a scaling transformation?  Compare this to a `DummyClassifier`?\n",
    "2. What are the top 8 states in terms of raw number approved? The lowest?  Show me with a nice barplot.\n",
    "3. Are these states different from the number of proportion of applications approved by state?  Show me.\n",
    "4. Does your model improve with the inclusion of the `teacher_prefix` column in a `LogisticRegression` model?\n",
    "5. What is your best parameter for the training set with these inputs?\n",
    "6. Construct a feature that is simply `STEM`, which is 1 if a scientific discipline is a part of the `subject_subcategory` column, or 0 if not.  Did your model improve?\n",
    "7. What if you include the `project_grade_category` column?  Is your model improved?\n",
    "8. What if your client only cares about what's happening in New York.  Is there a difference in the performance of a `LogisticRegression` model? `KNearestNeighbors`?\n"
   ]
  },
  {
   "cell_type": "code",
   "execution_count": 1,
   "metadata": {},
   "outputs": [],
   "source": [
    "import numpy as np\n",
    "import pandas as pd\n",
    "import seaborn as sns\n",
    "import matplotlib.pyplot as plt\n",
    "import os\n",
    "\n",
    "from sklearn.dummy import DummyClassifier\n",
    "from sklearn.neighbors import KNeighborsClassifier\n",
    "from sklearn.linear_model import LogisticRegression\n",
    "\n",
    "from sklearn.model_selection import train_test_split, GridSearchCV\n",
    "from sklearn.pipeline import make_pipeline\n",
    "from sklearn.preprocessing import PolynomialFeatures, StandardScaler\n",
    "from sklearn.metrics import accuracy_score, classification_report\n",
    "\n",
    "# set chart style\n",
    "sns.set(style='ticks')\n",
    "%matplotlib inline"
   ]
  },
  {
   "cell_type": "code",
   "execution_count": 2,
   "metadata": {},
   "outputs": [],
   "source": [
    "train = pd.read_csv('data/donorschoose_train.csv', index_col = 'id')"
   ]
  },
  {
   "cell_type": "code",
   "execution_count": 3,
   "metadata": {},
   "outputs": [
    {
     "name": "stdout",
     "output_type": "stream",
     "text": [
      "<class 'pandas.core.frame.DataFrame'>\n",
      "Index: 182080 entries, p036502 to p190772\n",
      "Data columns (total 15 columns):\n",
      "teacher_id                                      182080 non-null object\n",
      "teacher_prefix                                  182076 non-null object\n",
      "school_state                                    182080 non-null object\n",
      "project_submitted_datetime                      182080 non-null object\n",
      "project_grade_category                          182080 non-null object\n",
      "project_subject_categories                      182080 non-null object\n",
      "project_subject_subcategories                   182080 non-null object\n",
      "project_title                                   182080 non-null object\n",
      "project_essay_1                                 182080 non-null object\n",
      "project_essay_2                                 182080 non-null object\n",
      "project_essay_3                                 6374 non-null object\n",
      "project_essay_4                                 6374 non-null object\n",
      "project_resource_summary                        182080 non-null object\n",
      "teacher_number_of_previously_posted_projects    182080 non-null int64\n",
      "project_is_approved                             182080 non-null int64\n",
      "dtypes: int64(2), object(13)\n",
      "memory usage: 22.2+ MB\n"
     ]
    }
   ],
   "source": [
    "train.info()"
   ]
  },
  {
   "cell_type": "code",
   "execution_count": 4,
   "metadata": {},
   "outputs": [
    {
     "data": {
      "text/html": [
       "<div>\n",
       "<style scoped>\n",
       "    .dataframe tbody tr th:only-of-type {\n",
       "        vertical-align: middle;\n",
       "    }\n",
       "\n",
       "    .dataframe tbody tr th {\n",
       "        vertical-align: top;\n",
       "    }\n",
       "\n",
       "    .dataframe thead th {\n",
       "        text-align: right;\n",
       "    }\n",
       "</style>\n",
       "<table border=\"1\" class=\"dataframe\">\n",
       "  <thead>\n",
       "    <tr style=\"text-align: right;\">\n",
       "      <th></th>\n",
       "      <th>teacher_id</th>\n",
       "      <th>teacher_prefix</th>\n",
       "      <th>school_state</th>\n",
       "      <th>project_submitted_datetime</th>\n",
       "      <th>project_grade_category</th>\n",
       "      <th>project_subject_categories</th>\n",
       "      <th>project_subject_subcategories</th>\n",
       "      <th>project_title</th>\n",
       "      <th>project_essay_1</th>\n",
       "      <th>project_essay_2</th>\n",
       "      <th>project_essay_3</th>\n",
       "      <th>project_essay_4</th>\n",
       "      <th>project_resource_summary</th>\n",
       "      <th>teacher_number_of_previously_posted_projects</th>\n",
       "      <th>project_is_approved</th>\n",
       "    </tr>\n",
       "    <tr>\n",
       "      <th>id</th>\n",
       "      <th></th>\n",
       "      <th></th>\n",
       "      <th></th>\n",
       "      <th></th>\n",
       "      <th></th>\n",
       "      <th></th>\n",
       "      <th></th>\n",
       "      <th></th>\n",
       "      <th></th>\n",
       "      <th></th>\n",
       "      <th></th>\n",
       "      <th></th>\n",
       "      <th></th>\n",
       "      <th></th>\n",
       "      <th></th>\n",
       "    </tr>\n",
       "  </thead>\n",
       "  <tbody>\n",
       "    <tr>\n",
       "      <th>p036502</th>\n",
       "      <td>484aaf11257089a66cfedc9461c6bd0a</td>\n",
       "      <td>Ms.</td>\n",
       "      <td>NV</td>\n",
       "      <td>2016-11-18 14:45:59</td>\n",
       "      <td>Grades PreK-2</td>\n",
       "      <td>Literacy &amp; Language</td>\n",
       "      <td>Literacy</td>\n",
       "      <td>Super Sight Word Centers</td>\n",
       "      <td>Most of my kindergarten students come from low...</td>\n",
       "      <td>I currently have a differentiated sight word c...</td>\n",
       "      <td>NaN</td>\n",
       "      <td>NaN</td>\n",
       "      <td>My students need 6 Ipod Nano's to create and d...</td>\n",
       "      <td>26</td>\n",
       "      <td>1</td>\n",
       "    </tr>\n",
       "    <tr>\n",
       "      <th>p039565</th>\n",
       "      <td>df72a3ba8089423fa8a94be88060f6ed</td>\n",
       "      <td>Mrs.</td>\n",
       "      <td>GA</td>\n",
       "      <td>2017-04-26 15:57:28</td>\n",
       "      <td>Grades 3-5</td>\n",
       "      <td>Music &amp; The Arts, Health &amp; Sports</td>\n",
       "      <td>Performing Arts, Team Sports</td>\n",
       "      <td>Keep Calm and Dance On</td>\n",
       "      <td>Our elementary school is a culturally rich sch...</td>\n",
       "      <td>We strive to provide our diverse population of...</td>\n",
       "      <td>NaN</td>\n",
       "      <td>NaN</td>\n",
       "      <td>My students need matching shirts to wear for d...</td>\n",
       "      <td>1</td>\n",
       "      <td>0</td>\n",
       "    </tr>\n",
       "    <tr>\n",
       "      <th>p233823</th>\n",
       "      <td>a9b876a9252e08a55e3d894150f75ba3</td>\n",
       "      <td>Ms.</td>\n",
       "      <td>UT</td>\n",
       "      <td>2017-01-01 22:57:44</td>\n",
       "      <td>Grades 3-5</td>\n",
       "      <td>Math &amp; Science, Literacy &amp; Language</td>\n",
       "      <td>Applied Sciences, Literature &amp; Writing</td>\n",
       "      <td>Lets 3Doodle to Learn</td>\n",
       "      <td>Hello;\\r\\nMy name is Mrs. Brotherton. I teach ...</td>\n",
       "      <td>We are looking to add some 3Doodler to our cla...</td>\n",
       "      <td>NaN</td>\n",
       "      <td>NaN</td>\n",
       "      <td>My students need the 3doodler. We are an SEM s...</td>\n",
       "      <td>5</td>\n",
       "      <td>1</td>\n",
       "    </tr>\n",
       "    <tr>\n",
       "      <th>p185307</th>\n",
       "      <td>525fdbb6ec7f538a48beebaa0a51b24f</td>\n",
       "      <td>Mr.</td>\n",
       "      <td>NC</td>\n",
       "      <td>2016-08-12 15:42:11</td>\n",
       "      <td>Grades 3-5</td>\n",
       "      <td>Health &amp; Sports</td>\n",
       "      <td>Health &amp; Wellness</td>\n",
       "      <td>\\\"Kid Inspired\\\" Equipment to Increase Activit...</td>\n",
       "      <td>My students are the greatest students but are ...</td>\n",
       "      <td>The student's project which is totally \\\"kid-i...</td>\n",
       "      <td>NaN</td>\n",
       "      <td>NaN</td>\n",
       "      <td>My students need balls and other activity equi...</td>\n",
       "      <td>16</td>\n",
       "      <td>0</td>\n",
       "    </tr>\n",
       "    <tr>\n",
       "      <th>p013780</th>\n",
       "      <td>a63b5547a7239eae4c1872670848e61a</td>\n",
       "      <td>Mr.</td>\n",
       "      <td>CA</td>\n",
       "      <td>2016-08-06 09:09:11</td>\n",
       "      <td>Grades 6-8</td>\n",
       "      <td>Health &amp; Sports</td>\n",
       "      <td>Health &amp; Wellness</td>\n",
       "      <td>We need clean water for our culinary arts class!</td>\n",
       "      <td>My students are athletes and students who are ...</td>\n",
       "      <td>For some reason in our kitchen the water comes...</td>\n",
       "      <td>NaN</td>\n",
       "      <td>NaN</td>\n",
       "      <td>My students need a water filtration system for...</td>\n",
       "      <td>42</td>\n",
       "      <td>1</td>\n",
       "    </tr>\n",
       "  </tbody>\n",
       "</table>\n",
       "</div>"
      ],
      "text/plain": [
       "                               teacher_id teacher_prefix school_state  \\\n",
       "id                                                                      \n",
       "p036502  484aaf11257089a66cfedc9461c6bd0a            Ms.           NV   \n",
       "p039565  df72a3ba8089423fa8a94be88060f6ed           Mrs.           GA   \n",
       "p233823  a9b876a9252e08a55e3d894150f75ba3            Ms.           UT   \n",
       "p185307  525fdbb6ec7f538a48beebaa0a51b24f            Mr.           NC   \n",
       "p013780  a63b5547a7239eae4c1872670848e61a            Mr.           CA   \n",
       "\n",
       "        project_submitted_datetime project_grade_category  \\\n",
       "id                                                          \n",
       "p036502        2016-11-18 14:45:59          Grades PreK-2   \n",
       "p039565        2017-04-26 15:57:28             Grades 3-5   \n",
       "p233823        2017-01-01 22:57:44             Grades 3-5   \n",
       "p185307        2016-08-12 15:42:11             Grades 3-5   \n",
       "p013780        2016-08-06 09:09:11             Grades 6-8   \n",
       "\n",
       "                  project_subject_categories  \\\n",
       "id                                             \n",
       "p036502                  Literacy & Language   \n",
       "p039565    Music & The Arts, Health & Sports   \n",
       "p233823  Math & Science, Literacy & Language   \n",
       "p185307                      Health & Sports   \n",
       "p013780                      Health & Sports   \n",
       "\n",
       "                  project_subject_subcategories  \\\n",
       "id                                                \n",
       "p036502                                Literacy   \n",
       "p039565            Performing Arts, Team Sports   \n",
       "p233823  Applied Sciences, Literature & Writing   \n",
       "p185307                       Health & Wellness   \n",
       "p013780                       Health & Wellness   \n",
       "\n",
       "                                             project_title  \\\n",
       "id                                                           \n",
       "p036502                           Super Sight Word Centers   \n",
       "p039565                             Keep Calm and Dance On   \n",
       "p233823                              Lets 3Doodle to Learn   \n",
       "p185307  \\\"Kid Inspired\\\" Equipment to Increase Activit...   \n",
       "p013780   We need clean water for our culinary arts class!   \n",
       "\n",
       "                                           project_essay_1  \\\n",
       "id                                                           \n",
       "p036502  Most of my kindergarten students come from low...   \n",
       "p039565  Our elementary school is a culturally rich sch...   \n",
       "p233823  Hello;\\r\\nMy name is Mrs. Brotherton. I teach ...   \n",
       "p185307  My students are the greatest students but are ...   \n",
       "p013780  My students are athletes and students who are ...   \n",
       "\n",
       "                                           project_essay_2 project_essay_3  \\\n",
       "id                                                                           \n",
       "p036502  I currently have a differentiated sight word c...             NaN   \n",
       "p039565  We strive to provide our diverse population of...             NaN   \n",
       "p233823  We are looking to add some 3Doodler to our cla...             NaN   \n",
       "p185307  The student's project which is totally \\\"kid-i...             NaN   \n",
       "p013780  For some reason in our kitchen the water comes...             NaN   \n",
       "\n",
       "        project_essay_4                           project_resource_summary  \\\n",
       "id                                                                           \n",
       "p036502             NaN  My students need 6 Ipod Nano's to create and d...   \n",
       "p039565             NaN  My students need matching shirts to wear for d...   \n",
       "p233823             NaN  My students need the 3doodler. We are an SEM s...   \n",
       "p185307             NaN  My students need balls and other activity equi...   \n",
       "p013780             NaN  My students need a water filtration system for...   \n",
       "\n",
       "         teacher_number_of_previously_posted_projects  project_is_approved  \n",
       "id                                                                          \n",
       "p036502                                            26                    1  \n",
       "p039565                                             1                    0  \n",
       "p233823                                             5                    1  \n",
       "p185307                                            16                    0  \n",
       "p013780                                            42                    1  "
      ]
     },
     "execution_count": 4,
     "metadata": {},
     "output_type": "execute_result"
    }
   ],
   "source": [
    "train.head()"
   ]
  },
  {
   "cell_type": "markdown",
   "metadata": {},
   "source": [
    "### wrangle data"
   ]
  },
  {
   "cell_type": "code",
   "execution_count": 5,
   "metadata": {},
   "outputs": [
    {
     "data": {
      "text/plain": [
       "Mrs.       95405\n",
       "Ms.        65066\n",
       "Mr.        17667\n",
       "Teacher     3912\n",
       "Dr.           26\n",
       "Name: teacher_prefix, dtype: int64"
      ]
     },
     "execution_count": 5,
     "metadata": {},
     "output_type": "execute_result"
    }
   ],
   "source": [
    "train.teacher_prefix.value_counts()"
   ]
  },
  {
   "cell_type": "code",
   "execution_count": 6,
   "metadata": {},
   "outputs": [],
   "source": [
    "# create new gender variable\n",
    "\n",
    "gender_map = {\n",
    "    \"Mrs.\": \"W\",\n",
    "    \"Ms.\": \"W\",\n",
    "    \"Mr.\": \"M\",\n",
    "    \"Teacher\": \"Unknown\",\n",
    "    \"Dr.\": \"Unknown\"\n",
    "}\n",
    "\n",
    "train['gender'] = train.teacher_prefix.map(gender_map)"
   ]
  },
  {
   "cell_type": "code",
   "execution_count": 7,
   "metadata": {},
   "outputs": [
    {
     "data": {
      "text/plain": [
       "W          160471\n",
       "M           17667\n",
       "Unknown      3938\n",
       "Name: gender, dtype: int64"
      ]
     },
     "execution_count": 7,
     "metadata": {},
     "output_type": "execute_result"
    }
   ],
   "source": [
    "train.gender.value_counts()"
   ]
  },
  {
   "cell_type": "code",
   "execution_count": 8,
   "metadata": {},
   "outputs": [],
   "source": [
    "# create new variables for essay length\n",
    "\n",
    "## can also do train['wc_1'] = train.project_essay_1.apply(len)\n",
    "train['wc_1'] = train.project_essay_1.apply(lambda essay: len(essay) if isinstance(essay,str) else 0)\n",
    "train['wc_2'] = train.project_essay_2.apply(lambda essay: len(essay) if isinstance(essay,str) else 0)\n",
    "train['wc_3'] = train.project_essay_3.apply(lambda essay: len(essay) if isinstance(essay,str) else 0)\n",
    "train['wc_4'] = train.project_essay_4.apply(lambda essay: len(essay) if isinstance(essay,str) else 0)"
   ]
  },
  {
   "cell_type": "code",
   "execution_count": 9,
   "metadata": {},
   "outputs": [
    {
     "data": {
      "text/plain": [
       "<matplotlib.axes._subplots.AxesSubplot at 0x1a1447b358>"
      ]
     },
     "execution_count": 9,
     "metadata": {},
     "output_type": "execute_result"
    },
    {
     "data": {
      "image/png": "[encoded data removed]",
      "text/plain": [
       "<matplotlib.figure.Figure at 0x1a206bbfd0>"
      ]
     },
     "metadata": {},
     "output_type": "display_data"
    }
   ],
   "source": [
    "train.wc_1.hist()"
   ]
  },
  {
   "cell_type": "code",
   "execution_count": 10,
   "metadata": {},
   "outputs": [],
   "source": [
    "# create new variable for average essay length\n",
    "\n",
    "train['avg_wc'] = (train['wc_1'] + train['wc_2'] + train['wc_3'] + train['wc_4'])/4"
   ]
  },
  {
   "cell_type": "code",
   "execution_count": 11,
   "metadata": {},
   "outputs": [
    {
     "data": {
      "text/plain": [
       "<matplotlib.axes._subplots.AxesSubplot at 0x1a144a4b38>"
      ]
     },
     "execution_count": 11,
     "metadata": {},
     "output_type": "execute_result"
    },
    {
     "data": {
      "image/png": "[encoded data removed]",
      "text/plain": [
       "<matplotlib.figure.Figure at 0x1a14603f98>"
      ]
     },
     "metadata": {},
     "output_type": "display_data"
    }
   ],
   "source": [
    "train.avg_wc.hist()"
   ]
  },
  {
   "cell_type": "code",
   "execution_count": 12,
   "metadata": {},
   "outputs": [],
   "source": [
    "train.project_submitted_datetime = pd.to_datetime(train.project_submitted_datetime,format='%Y-%m-%d %H:%M:%S')"
   ]
  },
  {
   "cell_type": "code",
   "execution_count": 13,
   "metadata": {},
   "outputs": [],
   "source": [
    "train['year'] = train.project_submitted_datetime.dt.year"
   ]
  },
  {
   "cell_type": "code",
   "execution_count": 14,
   "metadata": {},
   "outputs": [
    {
     "data": {
      "text/plain": [
       "2016    131473\n",
       "2017     50607\n",
       "Name: year, dtype: int64"
      ]
     },
     "execution_count": 14,
     "metadata": {},
     "output_type": "execute_result"
    }
   ],
   "source": [
    "train.year.value_counts()"
   ]
  },
  {
   "cell_type": "markdown",
   "metadata": {},
   "source": [
    "### feed in all the variables"
   ]
  },
  {
   "cell_type": "code",
   "execution_count": 15,
   "metadata": {},
   "outputs": [],
   "source": [
    "X = train[['school_state','year','project_grade_category','project_subject_categories',\n",
    "           'project_subject_subcategories','teacher_number_of_previously_posted_projects',\n",
    "           'gender','wc_1','wc_2','wc_3','wc_4','avg_wc']]\n",
    "\n",
    "X = pd.get_dummies(X,columns=['school_state','project_grade_category','project_subject_categories',\n",
    "                              'project_subject_subcategories','gender'],drop_first=True)\n",
    "\n",
    "X = X[:1000]"
   ]
  },
  {
   "cell_type": "code",
   "execution_count": 16,
   "metadata": {},
   "outputs": [
    {
     "name": "stdout",
     "output_type": "stream",
     "text": [
      "accuracy score: 0.848\n"
     ]
    }
   ],
   "source": [
    "y = train.project_is_approved[:1000]\n",
    "\n",
    "X_train, X_test, y_train, y_test = train_test_split(X,y)\n",
    "\n",
    "clf = LogisticRegression()\n",
    "clf.fit(X_train,y_train)\n",
    "y_pred = clf.predict(X_test)\n",
    "\n",
    "print(\"accuracy score:\",accuracy_score(y_test,y_pred))"
   ]
  },
  {
   "cell_type": "code",
   "execution_count": 17,
   "metadata": {},
   "outputs": [
    {
     "name": "stdout",
     "output_type": "stream",
     "text": [
      "accuracy score: 0.74\n"
     ]
    }
   ],
   "source": [
    "dummy = DummyClassifier()\n",
    "dummy.fit(X_train,y_train)\n",
    "y_dummy = dummy.predict(X_test)\n",
    "\n",
    "print(\"accuracy score:\",accuracy_score(y_test,y_dummy))"
   ]
  },
  {
   "cell_type": "markdown",
   "metadata": {},
   "source": [
    "### scale"
   ]
  },
  {
   "cell_type": "code",
   "execution_count": 18,
   "metadata": {},
   "outputs": [],
   "source": [
    "pipe = make_pipeline(StandardScaler(),LogisticRegression())"
   ]
  },
  {
   "cell_type": "code",
   "execution_count": 19,
   "metadata": {},
   "outputs": [],
   "source": [
    "params = {'logisticregression__C': [0.1, 1, 5, 10, 100, 1000], 'logisticregression__penalty': ['l1','l2']}"
   ]
  },
  {
   "cell_type": "code",
   "execution_count": 20,
   "metadata": {},
   "outputs": [],
   "source": [
    "grid = GridSearchCV(pipe,param_grid=params, cv=5)"
   ]
  },
  {
   "cell_type": "code",
   "execution_count": 21,
   "metadata": {},
   "outputs": [
    {
     "name": "stdout",
     "output_type": "stream",
     "text": [
      "accuracy score: 0.84\n"
     ]
    }
   ],
   "source": [
    "grid.fit(X_train,y_train)\n",
    "\n",
    "best = grid.best_estimator_\n",
    "\n",
    "best.fit(X_train,y_train)\n",
    "y_best = best.predict(X_test)\n",
    "\n",
    "print(\"accuracy score:\",accuracy_score(y_test,y_best))"
   ]
  },
  {
   "cell_type": "code",
   "execution_count": 22,
   "metadata": {},
   "outputs": [
    {
     "data": {
      "text/plain": [
       "{'logisticregression__C': 0.1, 'logisticregression__penalty': 'l1'}"
      ]
     },
     "execution_count": 22,
     "metadata": {},
     "output_type": "execute_result"
    }
   ],
   "source": [
    "grid.best_params_"
   ]
  },
  {
   "cell_type": "code",
   "execution_count": null,
   "metadata": {},
   "outputs": [],
   "source": []
  }
 ],
 "metadata": {
  "kernelspec": {
   "display_name": "Python 3",
   "language": "python",
   "name": "python3"
  },
  "language_info": {
   "codemirror_mode": {
    "name": "ipython",
    "version": 3
   },
   "file_extension": ".py",
   "mimetype": "text/x-python",
   "name": "python",
   "nbconvert_exporter": "python",
   "pygments_lexer": "ipython3",
   "version": "3.6.4"
  }
 },
 "nbformat": 4,
 "nbformat_minor": 2
}
