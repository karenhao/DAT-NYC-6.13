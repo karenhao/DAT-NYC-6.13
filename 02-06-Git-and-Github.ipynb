{
 "cells": [
  {
   "cell_type": "markdown",
   "metadata": {},
   "source": [
    "# Starting the Work\n",
    "\n",
    "This note assumes you have both a working version of **Git** installed on your computer, and that you have a **GitHub** user account.  After verifying your email and logging in to your repository, you will see the page in the figure below.  For an extra tutorial, please do read the [**getting started guide**](https://guides.github.com/activities/hello-world/).\n",
    "\n",
    "![](images/Git/start_screen.png)"
   ]
  },
  {
   "cell_type": "markdown",
   "metadata": {},
   "source": [
    "### Forking a Repo\n",
    "\n",
    "To begin, we fork a repository aka make a copy of materials from another users **GitHub** into our own **GitHub** account.  Specifically, we will be using the repository located at https://github.com/jfkoehler/DAT-NYC-6.13 .  After following this link, you will be in the base repository for the class.  Here, you will see a **fork** button in the upper right portion of the screen.  Make sure that you are logged in to your **GitHub** account, and **fork** this repo.\n",
    "\n",
    "![](images/Git/fork_repo.png)"
   ]
  },
  {
   "cell_type": "markdown",
   "metadata": {},
   "source": [
    "Now, we have a repository of our own containing these materials.  This collection is only located on the web in your **GitHub** account.  Now, we want to bring the materials onto our local machine.  To do this we will use the terminal and **Git**.  Remember that **Git** and **GitHub** are not the same thing, and we can use **Git** locally as an application.  To bring the materials down, you can **clone** the repository by copying the url to the repo after clicking the **Clone or Download** button.  \n",
    "\n",
    "![](images/Git/clone.png)"
   ]
  },
  {
   "cell_type": "markdown",
   "metadata": {},
   "source": [
    "Now, start a terminal up and navigate to your Desktop (`cd Desktop`).  Type `git clone your.url.here` where `your.url.here` is the url copied from your repository. For example user 666hennessy666 forked and cloned the repo with the command below.  Note the addition of the directory name `GA-Git-Test`, which will save the materials into a directory of this name on our Desktop.\n",
    "\n",
    "![](images/Git/tclone.png)"
   ]
  },
  {
   "cell_type": "markdown",
   "metadata": {},
   "source": [
    "### Updating Materials\n",
    "\n",
    "We are now ready to start moving materials between our machine, and the internet by connecting our local computer to **GitHub**.  To do this, we will add a **remote** that connects us to our repo.  We will again use the url that we did with the clone command, writing `git remote add origin https://github.com/666hennessy666/DAT-NYC-6.13.git`.  This creates a remote connection to our **GitHub** repository, and we have named it `origin`. We will also add a **remote** called `upstream` that connects us to the original repository containing the materials for the class.\n",
    "\n",
    "We can check to see that we don't have a **remote** with `git remote -v`.  The image below demonstrates adding the two **remote** identifiers and verifying their existence.\n",
    "\n",
    "![](images/Git/remotes.png)"
   ]
  },
  {
   "cell_type": "markdown",
   "metadata": {},
   "source": [
    "In essence, what we have done is to create two paths to materials.  If we want to access the materials in the main repository (not yours), this is the `upstream` path.  If we want our repo, this is the `origin` path.  Further, note that we can do both a **fetch** and a **push**.  The diagram below is meant to demonstrate this situation.\n",
    "\n",
    "![](images/Git/paths.jpg)"
   ]
  },
  {
   "cell_type": "markdown",
   "metadata": {},
   "source": [
    "Now, we simply have to follow the steps below:\n",
    "\n",
    "- `git fetch upstream`: Pulls down materials from Main Repo\n",
    "- `git checkout master`: Checks out your master branch\n",
    "- `git merge upstream/master`: Merges your master branch with new updates from main repo\n",
    "\n",
    "For more, see the **GitHub** guide on syncing forks: https://help.github.com/articles/syncing-a-fork/.\n",
    "\n",
    "To push your changes up to your repo, you would use:\n",
    "\n",
    "- `git push -u origin master`: Pushes materials up the origin path.\n",
    "\n",
    "For more, see the **GitHub** guide on pushing materials: https://help.github.com/articles/pushing-to-a-remote/\n",
    "\n",
    "### Additional Resources\n",
    "\n",
    "- [Software Carpentry Git](http://swcarpentry.github.io/git-novice/): Complete up and running steps with **Git** and **GitHub**.\n",
    "- [The Git Book](https://git-scm.com/book/en/v2): Complete documentation covering deep usage of **Git**.\n",
    "- [Git Cheatsheet](files/github-git-cheat-sheet.pdf): Cheatsheet for **Git** basics."
   ]
  }
 ],
 "metadata": {
  "kernelspec": {
   "display_name": "Python 3",
   "language": "python",
   "name": "python3"
  },
  "language_info": {
   "codemirror_mode": {
    "name": "ipython",
    "version": 3
   },
   "file_extension": ".py",
   "mimetype": "text/x-python",
   "name": "python",
   "nbconvert_exporter": "python",
   "pygments_lexer": "ipython3",
   "version": "3.6.4"
  }
 },
 "nbformat": 4,
 "nbformat_minor": 2
}
