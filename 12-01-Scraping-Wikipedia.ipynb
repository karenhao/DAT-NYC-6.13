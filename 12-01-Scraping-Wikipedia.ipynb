{
 "cells": [
  {
   "cell_type": "markdown",
   "metadata": {},
   "source": [
    "# Six Degrees of Kevin Bacon\n",
    "\n",
    "![](images/Kevin_Bacon.jpg)\n",
    "\n",
    "This activity is motivated by the text **Web Scraping with Python** by Ryan Mitchell, available through O'Reilly [here](http://shop.oreilly.com/product/0636920078067.do).  This book goes in depth with much more on using different libraries with Python around common webscraping tasks and I highly recommend it.  We will focus on the activity of moving from a base page to further pages through their links.  "
   ]
  },
  {
   "cell_type": "code",
   "execution_count": 1,
   "metadata": {},
   "outputs": [],
   "source": [
    "import requests\n",
    "from bs4 import BeautifulSoup"
   ]
  },
  {
   "cell_type": "markdown",
   "metadata": {},
   "source": [
    "### Scraping Links\n",
    "\n",
    "Below, we take the page dealing with the six degrees of Keving Bacon problem.  Here, our goal is to extract links to other pages that we will subsequently pass to requests.  Recall that a link is located in an `<a>` tag and the link is contained in the `href` attribute.  For example, the tag\n",
    "\n",
    "```HTML\n",
    "<a href=\"/wiki/Six_degrees_of_separation\" title=\"Six degrees of separation\">six degrees of separation</a>\n",
    "```\n",
    "\n",
    "references the Six Degrees of Separation article.  Note that this is a url within Wikipedia.  We can isolate these inner Wikipedia references.  To begin, let's inspect the link content."
   ]
  },
  {
   "cell_type": "code",
   "execution_count": 2,
   "metadata": {},
   "outputs": [],
   "source": [
    "response = requests.get('https://en.wikipedia.org/wiki/Six_Degrees_of_Kevin_Bacon')"
   ]
  },
  {
   "cell_type": "code",
   "execution_count": 3,
   "metadata": {},
   "outputs": [],
   "source": [
    "soup = BeautifulSoup(response.text, 'html.parser')"
   ]
  },
  {
   "cell_type": "code",
   "execution_count": 6,
   "metadata": {},
   "outputs": [
    {
     "data": {
      "text/plain": [
       "[<a id=\"top\"></a>,\n",
       " <a class=\"mw-jump-link\" href=\"#mw-head\">Jump to navigation</a>,\n",
       " <a class=\"mw-jump-link\" href=\"#p-search\">Jump to search</a>,\n",
       " <a class=\"image\" href=\"/wiki/File:Kevin_Bacon.jpg\"><img alt=\"\" class=\"thumbimage\" data-file-height=\"461\" data-file-width=\"369\" height=\"275\" src=\"//upload.wikimedia.org/wikipedia/commons/thumb/d/d2/Kevin_Bacon.jpg/220px-Kevin_Bacon.jpg\" srcset=\"//upload.wikimedia.org/wikipedia/commons/thumb/d/d2/Kevin_Bacon.jpg/330px-Kevin_Bacon.jpg 1.5x, //upload.wikimedia.org/wikipedia/commons/d/d2/Kevin_Bacon.jpg 2x\" width=\"220\"/></a>,\n",
       " <a class=\"internal\" href=\"/wiki/File:Kevin_Bacon.jpg\" title=\"Enlarge\"></a>,\n",
       " <a class=\"mw-redirect\" href=\"/wiki/Parlor_game\" title=\"Parlor game\">parlor game</a>,\n",
       " <a href=\"/wiki/Six_degrees_of_separation\" title=\"Six degrees of separation\">six degrees of separation</a>,\n",
       " <a href=\"/wiki/Kevin_Bacon\" title=\"Kevin Bacon\">Kevin Bacon</a>,\n",
       " <a href=\"/wiki/Hollywood\" title=\"Hollywood\">Hollywood</a>,\n",
       " <a href=\"/wiki/Kevin_Bacon\" title=\"Kevin Bacon\">Bacon</a>]"
      ]
     },
     "execution_count": 6,
     "metadata": {},
     "output_type": "execute_result"
    }
   ],
   "source": [
    "soup.find_all('a')[:10]"
   ]
  },
  {
   "cell_type": "code",
   "execution_count": 7,
   "metadata": {},
   "outputs": [
    {
     "name": "stdout",
     "output_type": "stream",
     "text": [
      "{'id': 'top'}\n",
      "{'class': ['mw-jump-link'], 'href': '#mw-head'}\n",
      "{'class': ['mw-jump-link'], 'href': '#p-search'}\n",
      "{'href': '/wiki/File:Kevin_Bacon.jpg', 'class': ['image']}\n",
      "{'href': '/wiki/File:Kevin_Bacon.jpg', 'class': ['internal'], 'title': 'Enlarge'}\n",
      "{'href': '/wiki/Parlor_game', 'class': ['mw-redirect'], 'title': 'Parlor game'}\n",
      "{'href': '/wiki/Six_degrees_of_separation', 'title': 'Six degrees of separation'}\n",
      "{'href': '/wiki/Kevin_Bacon', 'title': 'Kevin Bacon'}\n",
      "{'href': '/wiki/Hollywood', 'title': 'Hollywood'}\n",
      "{'href': '/wiki/Kevin_Bacon', 'title': 'Kevin Bacon'}\n"
     ]
    }
   ],
   "source": [
    "for link in soup.find_all('a')[:10]:\n",
    "    print(link.attrs)"
   ]
  },
  {
   "cell_type": "code",
   "execution_count": 4,
   "metadata": {},
   "outputs": [
    {
     "name": "stdout",
     "output_type": "stream",
     "text": [
      "#mw-head\n",
      "#p-search\n",
      "/wiki/File:Kevin_Bacon.jpg\n",
      "/wiki/File:Kevin_Bacon.jpg\n",
      "/wiki/Parlor_game\n",
      "/wiki/Six_degrees_of_separation\n",
      "/wiki/Kevin_Bacon\n",
      "/wiki/Hollywood\n",
      "/wiki/Kevin_Bacon\n"
     ]
    }
   ],
   "source": [
    "for link in soup.find_all('a')[:10]:\n",
    "    if 'href' in link.attrs:\n",
    "        print(link.attrs['href'])"
   ]
  },
  {
   "cell_type": "markdown",
   "metadata": {},
   "source": [
    "Okay, seems there are links outside of the inner wiki links.  However, we see that the wiki links contain `/wiki/`, no colons, and the links are all within the body of the page.  Exploiting these means we can write a regular expression \n",
    "\n",
    "```\n",
    "^(/wiki/)((?!:).)*$\n",
    "```\n",
    "\n",
    "that will match only the wiki links.  "
   ]
  },
  {
   "cell_type": "markdown",
   "metadata": {},
   "source": [
    "**regular expression**\n",
    "* `^(/wiki/)` means contains `/wiki/`\n",
    "* `[^A]` means doesn't contain `A`\n",
    "* `(?!:)` means do not include `:`\n",
    "* `.` means followed by anything\n",
    "* `$` end of the string"
   ]
  },
  {
   "cell_type": "code",
   "execution_count": 5,
   "metadata": {},
   "outputs": [],
   "source": [
    "import re"
   ]
  },
  {
   "cell_type": "code",
   "execution_count": 11,
   "metadata": {
    "scrolled": true
   },
   "outputs": [
    {
     "data": {
      "text/plain": [
       "<div class=\"mw-body-content\" id=\"bodyContent\">\n",
       "<div class=\"noprint\" id=\"siteSub\">From Wikipedia, the free encyclopedia</div> <div id=\"contentSub\"></div>\n",
       "<div id=\"jump-to-nav\"></div> <a class=\"mw-jump-link\" href=\"#mw-head\">Jump to navigation</a>\n",
       "<a class=\"mw-jump-link\" href=\"#p-search\">Jump to search</a>\n",
       "<div class=\"mw-content-ltr\" dir=\"ltr\" id=\"mw-content-text\" lang=\"en\"><div class=\"mw-parser-output\"><div class=\"thumb tright\">\n",
       "<div class=\"thumbinner\" style=\"width:222px;\"><a class=\"image\" href=\"/wiki/File:Kevin_Bacon.jpg\"><img alt=\"\" class=\"thumbimage\" data-file-height=\"461\" data-file-width=\"369\" height=\"275\" src=\"//upload.wikimedia.org/wikipedia/commons/thumb/d/d2/Kevin_Bacon.jpg/220px-Kevin_Bacon.jpg\" srcset=\"//upload.wikimedia.org/wikipedia/commons/thumb/d/d2/Kevin_Bacon.jpg/330px-Kevin_Bacon.jpg 1.5x, //upload.wikimedia.org/wikipedia/commons/d/d2/Kevin_Bacon.jpg 2x\" width=\"220\"/></a>\n",
       "<div class=\"thumbcaption\">\n",
       "<div class=\"magnify\"><a class=\"internal\" href=\"/wiki/File:Kevin_Bacon.jpg\" title=\"Enlarge\"></a></div>\n",
       "Kevin Bacon</div>\n",
       "</div>\n",
       "</div>\n",
       "<p><b>Six Degrees of Kevin Bacon</b> is a <a class=\"mw-redirect\" href=\"/wiki/Parlor_game\" title=\"Parlor game\">parlor game</a> based on the \"<a href=\"/wiki/Six_degrees_of_separation\" title=\"Six degrees of separation\">six degrees of separation</a>\" concept, which posits that any two people on Earth are six or fewer acquaintance links apart. Movie buffs challenge each other to find the shortest path between an arbitrary actor and prolific actor <a href=\"/wiki/Kevin_Bacon\" title=\"Kevin Bacon\">Kevin Bacon</a>. It rests on the assumption that anyone involved in the <a href=\"/wiki/Hollywood\" title=\"Hollywood\">Hollywood</a> film industry can be linked through their film roles to <a href=\"/wiki/Kevin_Bacon\" title=\"Kevin Bacon\">Bacon</a> within six steps. In 2007, <a href=\"/wiki/Kevin_Bacon\" title=\"Kevin Bacon\">Bacon</a> started a <a href=\"/wiki/Charitable_organization\" title=\"Charitable organization\">charitable organization</a> called <a href=\"/wiki/SixDegrees.org\" title=\"SixDegrees.org\">SixDegrees.org</a>.</p>\n",
       "<p></p>\n",
       "<div class=\"toc\" id=\"toc\">\n",
       "<div class=\"toctitle\" dir=\"ltr\" lang=\"en\">\n",
       "<h2>Contents</h2>\n",
       "</div>\n",
       "<ul>\n",
       "<li class=\"toclevel-1 tocsection-1\"><a href=\"#History\"><span class=\"tocnumber\">1</span> <span class=\"toctext\">History</span></a></li>\n",
       "<li class=\"toclevel-1 tocsection-2\"><a href=\"#Bacon_numbers\"><span class=\"tocnumber\">2</span> <span class=\"toctext\">Bacon numbers</span></a>\n",
       "<ul>\n",
       "<li class=\"toclevel-2 tocsection-3\"><a href=\"#Examples\"><span class=\"tocnumber\">2.1</span> <span class=\"toctext\">Examples</span></a></li>\n",
       "</ul>\n",
       "</li>\n",
       "<li class=\"toclevel-1 tocsection-4\"><a href=\"#Center_of_the_Hollywood_Universe\"><span class=\"tocnumber\">3</span> <span class=\"toctext\">Center of the Hollywood Universe</span></a></li>\n",
       "<li class=\"toclevel-1 tocsection-5\"><a href=\"#Photography_book\"><span class=\"tocnumber\">4</span> <span class=\"toctext\">Photography book</span></a></li>\n",
       "<li class=\"toclevel-1 tocsection-6\"><a href=\"#See_also\"><span class=\"tocnumber\">5</span> <span class=\"toctext\">See also</span></a></li>\n",
       "<li class=\"toclevel-1 tocsection-7\"><a href=\"#References\"><span class=\"tocnumber\">6</span> <span class=\"toctext\">References</span></a></li>\n",
       "<li class=\"toclevel-1 tocsection-8\"><a href=\"#External_links\"><span class=\"tocnumber\">7</span> <span class=\"toctext\">External links</span></a></li>\n",
       "</ul>\n",
       "</div>\n",
       "<p></p>\n",
       "<h2><span class=\"mw-headline\" id=\"History\">History</span><span class=\"mw-editsection\"><span class=\"mw-editsection-bracket\">[</span><a href=\"/w/index.php?title=Six_Degrees_of_Kevin_Bacon&amp;action=edit&amp;section=1\" title=\"Edit section: History\">edit</a><span class=\"mw-editsection-bracket\">]</span></span></h2>\n",
       "<p>In a January 1994 interview with <a href=\"/wiki/Premiere_(magazine)\" title=\"Premiere (magazine)\"><i>Premiere</i> magazine</a> <a href=\"/wiki/Kevin_Bacon\" title=\"Kevin Bacon\">Kevin Bacon</a> mentioned while discussing the film <i><a href=\"/wiki/The_River_Wild\" title=\"The River Wild\">The River Wild</a></i> that \"he had worked with everybody in Hollywood or someone who’s worked with them.\"<sup class=\"reference\" id=\"cite_ref-:0_1-0\"><a href=\"#cite_note-:0-1\">[1]</a></sup> Following this, a lengthy <a class=\"mw-redirect\" href=\"/wiki/Newsgroup\" title=\"Newsgroup\">newsgroup</a> thread headed \"Kevin Bacon is the Center of the Universe\" appeared .<sup class=\"reference\" id=\"cite_ref-2\"><a href=\"#cite_note-2\">[2]</a></sup> Four <a href=\"/wiki/Albright_College\" title=\"Albright College\">Albright College</a> students, including Brian Turtle, claim to have invented the game that became known as \"Six Degrees of Kevin Bacon\"<sup class=\"reference\" id=\"cite_ref-:0_1-1\"><a href=\"#cite_note-:0-1\">[1]</a></sup> after watching two movies featuring Bacon back to back, <i><a href=\"/wiki/Footloose_(1984_film)\" title=\"Footloose (1984 film)\">Footloose</a></i> and <i><a href=\"/wiki/The_Air_Up_There\" title=\"The Air Up There\">The Air Up There</a></i>. During the second they began to speculate on how many movies Bacon had been in and the number of people with whom he had worked.<sup class=\"reference\" id=\"cite_ref-3\"><a href=\"#cite_note-3\">[3]</a></sup> In the interview, Brian Turtle explained how \"it became one of our stupid party tricks I guess. People would throw names at us and we'd connect them to Kevin Bacon.\"</p>\n",
       "<p>They wrote a letter to <a href=\"/wiki/Talk_show\" title=\"Talk show\">talk show</a> host <a href=\"/wiki/Jon_Stewart\" title=\"Jon Stewart\">Jon Stewart</a>, telling him that \"Kevin Bacon was the center of the entertainment universe\" and explaining the game.<sup class=\"reference\" id=\"cite_ref-book_4-0\"><a href=\"#cite_note-book-4\">[4]</a></sup> They appeared on <i><a href=\"/wiki/The_Jon_Stewart_Show\" title=\"The Jon Stewart Show\">The Jon Stewart Show</a></i> and <i><a href=\"/wiki/The_Howard_Stern_Show\" title=\"The Howard Stern Show\">The Howard Stern Show</a></i> with Bacon to explain the game. Bacon admitted that he initially disliked the game because he believed it was ridiculing him, but he eventually came to enjoy it. The three inventors released a book, <i>Six Degrees of Kevin Bacon</i> (<a href=\"/wiki/International_Standard_Book_Number\" title=\"International Standard Book Number\">ISBN</a> <a href=\"/wiki/Special:BookSources/9780452278448\" title=\"Special:BookSources/9780452278448\">9780452278448</a>), with an introduction written by Bacon.<sup class=\"reference\" id=\"cite_ref-book_4-1\"><a href=\"#cite_note-book-4\">[4]</a></sup> A board game based on the concept was released by Endless Games.</p>\n",
       "<p>Bacon also appeared in a commercial for the <a class=\"mw-redirect\" href=\"/wiki/Visa_(company)\" title=\"Visa (company)\">Visa</a> <a href=\"/wiki/Check_card\" title=\"Check card\">check card</a> that parodied the game. In the commercial, Bacon wants to write a check to buy a book, but the clerk asks for his ID, which he does not have. He leaves and returns with a group of people, then says to the clerk, \"Okay, I was in a movie with an extra, Eunice, whose hairdresser, Wayne, attended Sunday school with Father O'Neill, who plays racquetball with Dr. Sanjay, who recently removed the appendix of Kim, who dumped you sophomore year. So you see, we're practically brothers.\"<sup class=\"reference\" id=\"cite_ref-5\"><a href=\"#cite_note-5\">[5]</a></sup> In a similar vein, <a href=\"/wiki/Dave_Barry\" title=\"Dave Barry\">Dave Barry</a>, in a column describing the unexpected complications that emerged when he attempted to find out the precise wording of the <a href=\"/wiki/Lone_Ranger\" title=\"Lone Ranger\">Lone Ranger</a>'s catchphrase, connected the Lone Ranger to Kevin Bacon in the following way: the Lone Ranger was the <a href=\"/wiki/Green_Hornet\" title=\"Green Hornet\">Green Hornet</a>'s great-uncle; the Green Hornet and <a href=\"/wiki/O._J._Simpson\" title=\"O. J. Simpson\">O. J. Simpson</a> both hung out with <a href=\"/wiki/Kato\" title=\"Kato\">people named Kato</a>; Simpson and <a href=\"/wiki/Robert_Wagner\" title=\"Robert Wagner\">Robert Wagner</a> co-starred in <i><a href=\"/wiki/The_Towering_Inferno\" title=\"The Towering Inferno\">The Towering Inferno</a></i>; Wagner and Bacon co-starred in <i><a href=\"/wiki/Wild_Things_(film)\" title=\"Wild Things (film)\">Wild Things</a></i>.<sup class=\"reference\" id=\"cite_ref-6\"><a href=\"#cite_note-6\">[6]</a></sup></p>\n",
       "<p>The concept was also presented in an episode of the TV show <i><a href=\"/wiki/Mad_About_You\" title=\"Mad About You\">Mad About You</a></i> dated November 19, 1996, in which a character expressed the opinion that every actor is only three degrees of separation from Kevin Bacon. Bacon spoofed the concept himself in a cameo he performed for the independent film <i><a href=\"/wiki/We_Married_Margo\" title=\"We Married Margo\">We Married Margo</a></i>.<sup class=\"reference\" id=\"cite_ref-7\"><a href=\"#cite_note-7\">[7]</a></sup> Playing himself in a 2003 episode of <i><a class=\"mw-redirect\" href=\"/wiki/Will_and_Grace\" title=\"Will and Grace\">Will and Grace</a></i>, Bacon connects himself to <a href=\"/wiki/Val_Kilmer\" title=\"Val Kilmer\">Val Kilmer</a> through <a href=\"/wiki/Tom_Cruise\" title=\"Tom Cruise\">Tom Cruise</a> and jokes \"Hey, that was a short one!\".<sup class=\"reference\" id=\"cite_ref-8\"><a href=\"#cite_note-8\">[8]</a></sup> The headline of <i><a href=\"/wiki/The_Onion\" title=\"The Onion\">The Onion</a></i>, a satirical newspaper, on October 30, 2002, was \"Kevin Bacon Linked To <a href=\"/wiki/Al-Qaeda\" title=\"Al-Qaeda\">Al-Qaeda</a>\".<sup class=\"reference\" id=\"cite_ref-9\"><a href=\"#cite_note-9\">[9]</a></sup> Bacon provides the voice-over commentary for the <a class=\"mw-redirect\" href=\"/wiki/NY_Skyride\" title=\"NY Skyride\">NY Skyride</a> attraction at the <a href=\"/wiki/Empire_State_Building\" title=\"Empire State Building\">Empire State Building</a> in <a href=\"/wiki/New_York_City\" title=\"New York City\">New York City</a>. At several points throughout the commentary, Bacon alludes to his connections to Hollywood stars via other actors with whom he has worked.</p>\n",
       "<p>In 2009, Bacon narrated a <a class=\"mw-redirect\" href=\"/wiki/National_Geographic_Channel\" title=\"National Geographic Channel\">National Geographic Channel</a> show \"The Human Family Tree\"<sup class=\"reference\" id=\"cite_ref-10\"><a href=\"#cite_note-10\">[10]</a></sup> – a program which describes the efforts of that organization's <a href=\"/wiki/Genographic_Project\" title=\"Genographic Project\">Genographic Project</a> to establish the genetic interconnectedness of all humans. In 2011, <a href=\"/wiki/James_Franco\" title=\"James Franco\">James Franco</a> made reference to Six Degrees of Kevin Bacon while hosting the <a href=\"/wiki/83rd_Academy_Awards\" title=\"83rd Academy Awards\">83rd Academy Awards</a>. In the summer of 2012, <a href=\"/wiki/Google\" title=\"Google\">Google</a> began to offer the ability to find an actor's Bacon number on its main page, by searching for the actor's name preceded by the phrase \"bacon number\". <a class=\"mw-redirect\" href=\"/wiki/EE_(telecommunications_company)\" title=\"EE (telecommunications company)\">EE</a> began a UK television advertising campaign on November 3, 2012, based on the Six Degrees concept, where Kevin Bacon illustrates his connections and draws attention to how the EE 4G network allows similar connectivity.<sup class=\"reference\" id=\"cite_ref-11\"><a href=\"#cite_note-11\">[11]</a></sup></p>\n",
       "<p>The most highly connected nodes of the Internet have been referred to as \"the 'Kevin Bacons' of the Web,\" inasmuch as they enable most users to navigate to most sites in 19 clicks or less.<sup class=\"reference\" id=\"cite_ref-12\"><a href=\"#cite_note-12\">[12]</a></sup><sup class=\"reference\" id=\"cite_ref-13\"><a href=\"#cite_note-13\">[13]</a></sup> In <a href=\"/wiki/%22Weird_Al%22_Yankovic\" title='\"Weird Al\" Yankovic'>\"Weird Al\" Yankovic</a>'s song \"Lame Claim to Fame,\" one of the lines is, \"I know a guy who knows a guy who knows a guy who knows a guy who knows a guy who knows Kevin Bacon,\" leading to a Bacon Number of 6.</p>\n",
       "<h2><span class=\"mw-headline\" id=\"Bacon_numbers\">Bacon numbers</span><span class=\"mw-editsection\"><span class=\"mw-editsection-bracket\">[</span><a href=\"/w/index.php?title=Six_Degrees_of_Kevin_Bacon&amp;action=edit&amp;section=2\" title=\"Edit section: Bacon numbers\">edit</a><span class=\"mw-editsection-bracket\">]</span></span></h2>\n",
       "<p>The <b>Bacon number</b> of an <a href=\"/wiki/Actor\" title=\"Actor\">actor</a> is the number of degrees of separation he or she has from Bacon, as defined by the game. This is an application of the <a href=\"/wiki/Erd%C5%91s_number\" title=\"Erdős number\">Erdős number</a> concept to the <a href=\"/wiki/Hollywood\" title=\"Hollywood\">Hollywood</a> movie industry. The higher the Bacon number, the greater the separation from Kevin Bacon the actor is.</p>\n",
       "<p>The computation of a Bacon number for actor X is a \"<a href=\"/wiki/Shortest_path_problem\" title=\"Shortest path problem\">shortest path</a>\" <a href=\"/wiki/Algorithm\" title=\"Algorithm\">algorithm</a>, applied to the <a href=\"/wiki/Co-stardom_network\" title=\"Co-stardom network\">co-stardom network</a>:</p>\n",
       "<ul>\n",
       "<li>Kevin Bacon himself has a Bacon number of 0.</li>\n",
       "<li>Those actors who have worked directly with Kevin Bacon have a Bacon number of 1.</li>\n",
       "<li>If the lowest Bacon number of any actor with whom X has appeared in any movie is N, X's Bacon number is N+1.</li>\n",
       "</ul>\n",
       "<h3><span class=\"mw-headline\" id=\"Examples\">Examples</span><span class=\"mw-editsection\"><span class=\"mw-editsection-bracket\">[</span><a href=\"/w/index.php?title=Six_Degrees_of_Kevin_Bacon&amp;action=edit&amp;section=3\" title=\"Edit section: Examples\">edit</a><span class=\"mw-editsection-bracket\">]</span></span></h3>\n",
       "<p><a href=\"/wiki/Elvis_Presley\" title=\"Elvis Presley\">Elvis Presley</a>:</p>\n",
       "<ul>\n",
       "<li>Elvis Presley was in <i><a href=\"/wiki/Change_of_Habit\" title=\"Change of Habit\">Change of Habit</a></i> (1969) with <a class=\"mw-redirect\" href=\"/wiki/Edward_Asner\" title=\"Edward Asner\">Edward Asner</a></li>\n",
       "<li>Edward Asner was in <i><a href=\"/wiki/JFK_(film)\" title=\"JFK (film)\">JFK</a></i> (1991) with Kevin Bacon</li>\n",
       "</ul>\n",
       "<p>Therefore, Asner has a Bacon number of 1, and Presley (who never appeared in a film with Bacon) has a Bacon number of 2.</p>\n",
       "<p><a href=\"/wiki/Ian_McKellen\" title=\"Ian McKellen\">Ian McKellen</a>:</p>\n",
       "<ul>\n",
       "<li>Ian McKellen was in <i><a href=\"/wiki/X-Men:_Days_of_Future_Past\" title=\"X-Men: Days of Future Past\">X-Men: Days of Future Past</a></i> (2014) with <a href=\"/wiki/Michael_Fassbender\" title=\"Michael Fassbender\">Michael Fassbender</a> and <a href=\"/wiki/James_McAvoy\" title=\"James McAvoy\">James McAvoy</a></li>\n",
       "<li>McAvoy and Fassbender were in <i><a href=\"/wiki/X-Men:_First_Class\" title=\"X-Men: First Class\">X-Men: First Class</a></i> (2011) with Kevin Bacon</li>\n",
       "</ul>\n",
       "<p>Therefore, McAvoy and Fassbender have Bacon numbers of 1, and McKellen has a Bacon number of 2.</p>\n",
       "<p>Because some people have both a finite Bacon <i>and</i> a finite <a href=\"/wiki/Erd%C5%91s_number\" title=\"Erdős number\">Erdős number</a> because of acting and publications, there are a rare few who have a finite <a href=\"/wiki/Erd%C5%91s%E2%80%93Bacon_number\" title=\"Erdős–Bacon number\">Erdős–Bacon number</a>, which is defined as the sum of a person's independent Erdős and Bacon numbers.</p>\n",
       "<h2><span class=\"mw-headline\" id=\"Center_of_the_Hollywood_Universe\">Center of the Hollywood Universe</span><span class=\"mw-editsection\"><span class=\"mw-editsection-bracket\">[</span><a href=\"/w/index.php?title=Six_Degrees_of_Kevin_Bacon&amp;action=edit&amp;section=4\" title=\"Edit section: Center of the Hollywood Universe\">edit</a><span class=\"mw-editsection-bracket\">]</span></span></h2>\n",
       "<p>While at the <a href=\"/wiki/University_of_Virginia\" title=\"University of Virginia\">University of Virginia</a>, Brett Tjaden created the Oracle of Bacon,<sup class=\"reference\" id=\"cite_ref-14\"><a href=\"#cite_note-14\">[14]</a></sup> a computer program that uses information on some 800,000 people from the <a class=\"mw-redirect\" href=\"/wiki/Internet_Movie_Database\" title=\"Internet Movie Database\">Internet Movie Database</a> (IMDb). The algorithm calculates \"how good a center\"<sup class=\"reference\" id=\"cite_ref-15\"><a href=\"#cite_note-15\">[15]</a></sup> an individual IMDb personality is, i.e. a <a class=\"mw-redirect\" href=\"/wiki/Weighted_mean\" title=\"Weighted mean\">weighted average</a> of the degree of separation of all the people that link to that particular person. The site returns an average <i>personality</i> number, e.g. for <a href=\"/wiki/Clint_Eastwood\" title=\"Clint Eastwood\">Clint Eastwood</a>, it returns an average \"Clint Eastwood Number.\" From there the Oracle site posits \"The Center of the Hollywood Universe\" as being the person with the lowest average personality number. Kevin Bacon, as it turns out, is not the \"Center of the Hollywood Universe\" (i.e. the most linkable actor). In fact, Bacon does not even make the top 100 list of average personality numbers.<sup class=\"reference\" id=\"cite_ref-16\"><a href=\"#cite_note-16\">[16]</a></sup> While he is not the most linkable actor, this still signifies being a better center than more than 99% of the people who have ever appeared in a film. Since each actor's average personality number can change with each new film made, the center can and does shift. \"Centers\" have included <a href=\"/wiki/Rod_Steiger\" title=\"Rod Steiger\">Rod Steiger</a>, <a href=\"/wiki/Donald_Sutherland\" title=\"Donald Sutherland\">Donald Sutherland</a>, <a href=\"/wiki/Eric_Roberts\" title=\"Eric Roberts\">Eric Roberts</a>, <a href=\"/wiki/Dennis_Hopper\" title=\"Dennis Hopper\">Dennis Hopper</a> and <a href=\"/wiki/Harvey_Keitel\" title=\"Harvey Keitel\">Harvey Keitel</a>.</p>\n",
       "<h2><span class=\"mw-headline\" id=\"Photography_book\">Photography book</span><span class=\"mw-editsection\"><span class=\"mw-editsection-bracket\">[</span><a href=\"/w/index.php?title=Six_Degrees_of_Kevin_Bacon&amp;action=edit&amp;section=5\" title=\"Edit section: Photography book\">edit</a><span class=\"mw-editsection-bracket\">]</span></span></h2>\n",
       "<p>Inspired by the game, the British photographer <a href=\"/wiki/Andy_Gotts\" title=\"Andy Gotts\">Andy Gotts</a> tried to reach Kevin Bacon through photographic links instead of film links.</p>\n",
       "<p>Gotts wrote to 300 actors asking to take their pictures, and received permission only from <a href=\"/wiki/Joss_Ackland\" title=\"Joss Ackland\">Joss Ackland</a>. Ackland then suggested that Gotts photograph <a href=\"/wiki/Greta_Scacchi\" title=\"Greta Scacchi\">Greta Scacchi</a>, with whom he had appeared in the film <i><a href=\"/wiki/White_Mischief_(film)\" title=\"White Mischief (film)\">White Mischief</a></i>. Gotts proceeded from there, asking each actor to refer him to one or more friends or colleagues. Eventually, <a href=\"/wiki/Christian_Slater\" title=\"Christian Slater\">Christian Slater</a> referred him to Bacon. Gotts' photograph of Bacon completed the project, eight years after it began. Gotts published the photos in a book, <i>Degrees</i> (<a href=\"/wiki/International_Standard_Book_Number\" title=\"International Standard Book Number\">ISBN</a> <a href=\"/wiki/Special:BookSources/0-9546843-6-2\" title=\"Special:BookSources/0-9546843-6-2\">0-9546843-6-2</a>), with text by <a href=\"/wiki/Alan_Bates\" title=\"Alan Bates\">Alan Bates</a>, <a href=\"/wiki/Pierce_Brosnan\" title=\"Pierce Brosnan\">Pierce Brosnan</a>, and Bacon.<sup class=\"reference\" id=\"cite_ref-17\"><a href=\"#cite_note-17\">[17]</a></sup></p>\n",
       "<h2><span class=\"mw-headline\" id=\"See_also\">See also</span><span class=\"mw-editsection\"><span class=\"mw-editsection-bracket\">[</span><a href=\"/w/index.php?title=Six_Degrees_of_Kevin_Bacon&amp;action=edit&amp;section=6\" title=\"Edit section: See also\">edit</a><span class=\"mw-editsection-bracket\">]</span></span></h2>\n",
       "<ul>\n",
       "<li><a class=\"mw-redirect\" href=\"/wiki/Morphy_Number\" title=\"Morphy Number\">Morphy Number</a>, connections via chess games to <a href=\"/wiki/Paul_Morphy\" title=\"Paul Morphy\">Paul Morphy</a>;</li>\n",
       "<li><a class=\"mw-redirect\" href=\"/wiki/Shusaku_number\" title=\"Shusaku number\">Shusaku number</a>, equivalent in the <a href=\"/wiki/Go_(game)\" title=\"Go (game)\">Go</a> world with <a class=\"mw-redirect\" href=\"/wiki/Honinbo_Shusaku\" title=\"Honinbo Shusaku\">Honinbo Shusaku</a>;</li>\n",
       "<li><a href=\"/wiki/Erd%C5%91s_number\" title=\"Erdős number\">Erdős number</a>, collaborations on mathematical papers with <a href=\"/wiki/Paul_Erd%C5%91s\" title=\"Paul Erdős\">Paul Erdős</a>;</li>\n",
       "<li><a href=\"/wiki/Erd%C5%91s%E2%80%93Bacon_number\" title=\"Erdős–Bacon number\">Erdős–Bacon number</a>, the sum of a person's Erdős number and Bacon number.</li>\n",
       "</ul>\n",
       "<h2><span class=\"mw-headline\" id=\"References\">References</span><span class=\"mw-editsection\"><span class=\"mw-editsection-bracket\">[</span><a href=\"/w/index.php?title=Six_Degrees_of_Kevin_Bacon&amp;action=edit&amp;section=7\" title=\"Edit section: References\">edit</a><span class=\"mw-editsection-bracket\">]</span></span></h2>\n",
       "<div class=\"reflist\" style=\"list-style-type: decimal;\">\n",
       "<div class=\"mw-references-wrap mw-references-columns\">\n",
       "<ol class=\"references\">\n",
       "<li id=\"cite_note-:0-1\"><span class=\"mw-cite-backlink\">^ <a href=\"#cite_ref-:0_1-0\"><sup><i><b>a</b></i></sup></a> <a href=\"#cite_ref-:0_1-1\"><sup><i><b>b</b></i></sup></a></span> <span class=\"reference-text\"><cite class=\"citation web\">Teotonio, Isabel (September 13, 2012). <a class=\"external text\" href=\"https://www.thestar.com/entertainment/2012/09/13/google_adds_six_degrees_of_kevin_bacon_to_search_engine.html\" rel=\"nofollow\">\"Google adds Six Degrees of Kevin Bacon to search engine\"</a>. <i>Toronto Star</i><span class=\"reference-accessdate\">. Retrieved <span class=\"nowrap\">January 31,</span> 2018</span>.</cite><span class=\"Z3988\" title=\"ctx_ver=Z39.88-2004&amp;rft_val_fmt=info%3Aofi%2Ffmt%3Akev%3Amtx%3Ajournal&amp;rft.genre=unknown&amp;rft.jtitle=Toronto+Star&amp;rft.atitle=Google+adds+Six+Degrees+of+Kevin+Bacon+to+search+engine&amp;rft.date=2012-09-13&amp;rft.aulast=Teotonio&amp;rft.aufirst=Isabel&amp;rft_id=https%3A%2F%2Fwww.thestar.com%2Fentertainment%2F2012%2F09%2F13%2Fgoogle_adds_six_degrees_of_kevin_bacon_to_search_engine.html&amp;rfr_id=info%3Asid%2Fen.wikipedia.org%3ASix+Degrees+of+Kevin+Bacon\"><span style=\"display:none;\"> </span></span></span></li>\n",
       "<li id=\"cite_note-2\"><span class=\"mw-cite-backlink\"><b><a href=\"#cite_ref-2\">^</a></b></span> <span class=\"reference-text\"><cite class=\"citation web\">Ruthven, Alexander (April 7, 1994). <a class=\"external text\" href=\"http://groups.google.com/group/rec.arts.movies/browse_frm/thread/faa36e7ba4704e7f/58cbe670d2acbcd7\" rel=\"nofollow\">\"Kevin Bacon is the Center of the Universe\"</a>. <i>rec.arts.movies</i>. Google groups<span class=\"reference-accessdate\">. Retrieved <span class=\"nowrap\">2009-07-19</span></span>.</cite><span class=\"Z3988\" title=\"ctx_ver=Z39.88-2004&amp;rft_val_fmt=info%3Aofi%2Ffmt%3Akev%3Amtx%3Ajournal&amp;rft.genre=unknown&amp;rft.jtitle=rec.arts.movies&amp;rft.atitle=Kevin+Bacon+is+the+Center+of+the+Universe&amp;rft.date=1994-04-07&amp;rft.aulast=Ruthven&amp;rft.aufirst=Alexander&amp;rft_id=http%3A%2F%2Fgroups.google.com%2Fgroup%2Frec.arts.movies%2Fbrowse_frm%2Fthread%2Ffaa36e7ba4704e7f%2F58cbe670d2acbcd7&amp;rfr_id=info%3Asid%2Fen.wikipedia.org%3ASix+Degrees+of+Kevin+Bacon\"><span style=\"display:none;\"> </span></span></span></li>\n",
       "<li id=\"cite_note-3\"><span class=\"mw-cite-backlink\"><b><a href=\"#cite_ref-3\">^</a></b></span> <span class=\"reference-text\">Interview with inventors in the college's magazine, <i>The Albright Reporter</i>, Spring 1999</span></li>\n",
       "<li id=\"cite_note-book-4\"><span class=\"mw-cite-backlink\">^ <a href=\"#cite_ref-book_4-0\"><sup><i><b>a</b></i></sup></a> <a href=\"#cite_ref-book_4-1\"><sup><i><b>b</b></i></sup></a></span> <span class=\"reference-text\"><cite class=\"citation book\">Fass, Craig; Turtle, Brian; Ginelli, Mike (1996). <i>Six Degrees of Kevin Bacon</i>. <a href=\"/wiki/New_York_City\" title=\"New York City\">New York City</a>: <a class=\"mw-redirect\" href=\"/wiki/Plume_(publishing)\" title=\"Plume (publishing)\">Plume</a>. <a href=\"/wiki/International_Standard_Book_Number\" title=\"International Standard Book Number\">ISBN</a> <a href=\"/wiki/Special:BookSources/978-0-452-27844-8\" title=\"Special:BookSources/978-0-452-27844-8\">978-0-452-27844-8</a>.</cite><span class=\"Z3988\" title=\"ctx_ver=Z39.88-2004&amp;rft_val_fmt=info%3Aofi%2Ffmt%3Akev%3Amtx%3Abook&amp;rft.genre=book&amp;rft.btitle=Six+Degrees+of+Kevin+Bacon&amp;rft.place=New+York+City&amp;rft.pub=Plume&amp;rft.date=1996&amp;rft.isbn=978-0-452-27844-8&amp;rft.aulast=Fass&amp;rft.aufirst=Craig&amp;rft.au=Turtle%2C+Brian&amp;rft.au=Ginelli%2C+Mike&amp;rfr_id=info%3Asid%2Fen.wikipedia.org%3ASix+Degrees+of+Kevin+Bacon\"><span style=\"display:none;\"> </span></span></span></li>\n",
       "<li id=\"cite_note-5\"><span class=\"mw-cite-backlink\"><b><a href=\"#cite_ref-5\">^</a></b></span> <span class=\"reference-text\"><cite class=\"citation web\"><a class=\"external text\" href=\"https://www.youtube.com/watch?v=afJRKbBEr2Q\" rel=\"nofollow\">\"VISA CHECK CARD The Six Degrees Of Kevin Bacon\"</a>. YouTube<span class=\"reference-accessdate\">. Retrieved <span class=\"nowrap\">Sep 4,</span> 2017</span>.</cite><span class=\"Z3988\" title=\"ctx_ver=Z39.88-2004&amp;rft_val_fmt=info%3Aofi%2Ffmt%3Akev%3Amtx%3Abook&amp;rft.genre=unknown&amp;rft.btitle=VISA+CHECK+CARD+The+Six+Degrees+Of+Kevin+Bacon&amp;rft.pub=YouTube&amp;rft_id=https%3A%2F%2Fwww.youtube.com%2Fwatch%3Fv%3DafJRKbBEr2Q&amp;rfr_id=info%3Asid%2Fen.wikipedia.org%3ASix+Degrees+of+Kevin+Bacon\"><span style=\"display:none;\"> </span></span></span></li>\n",
       "<li id=\"cite_note-6\"><span class=\"mw-cite-backlink\"><b><a href=\"#cite_ref-6\">^</a></b></span> <span class=\"reference-text\">Dave Barry, <i>Boogers Are My Beat</i> (New York: Three Rivers Press, 2003), 101.</span></li>\n",
       "<li id=\"cite_note-7\"><span class=\"mw-cite-backlink\"><b><a href=\"#cite_ref-7\">^</a></b></span> <span class=\"reference-text\"><cite class=\"citation web\"><a class=\"external text\" href=\"http://web.mac.com/jdshapiro/Site/WeMarriedMargo.html#1\" rel=\"nofollow\">\"We Married Margo\"</a>. <i>J.D. Shapiro’s Official Website</i>.</cite><span class=\"Z3988\" title=\"ctx_ver=Z39.88-2004&amp;rft_val_fmt=info%3Aofi%2Ffmt%3Akev%3Amtx%3Ajournal&amp;rft.genre=unknown&amp;rft.jtitle=J.D.+Shapiro%E2%80%99s+Official+Website&amp;rft.atitle=We+Married+Margo&amp;rft_id=http%3A%2F%2Fweb.mac.com%2Fjdshapiro%2FSite%2FWeMarriedMargo.html%231&amp;rfr_id=info%3Asid%2Fen.wikipedia.org%3ASix+Degrees+of+Kevin+Bacon\"><span style=\"display:none;\"> </span></span></span></li>\n",
       "<li id=\"cite_note-8\"><span class=\"mw-cite-backlink\"><b><a href=\"#cite_ref-8\">^</a></b></span> <span class=\"reference-text\"><i>Will and Grace</i>, Season 5 episode 2 \"Bacon and Eggs\"</span></li>\n",
       "<li id=\"cite_note-9\"><span class=\"mw-cite-backlink\"><b><a href=\"#cite_ref-9\">^</a></b></span> <span class=\"reference-text\"><cite class=\"citation web\"><a class=\"external text\" href=\"http://www.theonion.com/articles/kevin-bacon-linked-to-alqaeda,37/\" rel=\"nofollow\">\"The Onion, Volume 38, Issue 40\"</a>. theonion.com<span class=\"reference-accessdate\">. Retrieved <span class=\"nowrap\">May 26,</span> 2013</span>.</cite><span class=\"Z3988\" title=\"ctx_ver=Z39.88-2004&amp;rft_val_fmt=info%3Aofi%2Ffmt%3Akev%3Amtx%3Abook&amp;rft.genre=unknown&amp;rft.btitle=The+Onion%2C+Volume+38%2C+Issue+40&amp;rft.pub=theonion.com&amp;rft_id=http%3A%2F%2Fwww.theonion.com%2Farticles%2Fkevin-bacon-linked-to-alqaeda%2C37%2F&amp;rfr_id=info%3Asid%2Fen.wikipedia.org%3ASix+Degrees+of+Kevin+Bacon\"><span style=\"display:none;\"> </span></span></span></li>\n",
       "<li id=\"cite_note-10\"><span class=\"mw-cite-backlink\"><b><a href=\"#cite_ref-10\">^</a></b></span> <span class=\"reference-text\"><cite class=\"citation web\"><a class=\"external text\" href=\"http://channel.nationalgeographic.com/episode/the-human-family-tree-3706/Overview\" rel=\"nofollow\">\"The Human Family Tree\"</a>. <a class=\"mw-redirect\" href=\"/wiki/National_Geographic_Channel\" title=\"National Geographic Channel\">National Geographic Channel</a>.</cite><span class=\"Z3988\" title=\"ctx_ver=Z39.88-2004&amp;rft_val_fmt=info%3Aofi%2Ffmt%3Akev%3Amtx%3Abook&amp;rft.genre=unknown&amp;rft.btitle=The+Human+Family+Tree&amp;rft.pub=National+Geographic+Channel&amp;rft_id=http%3A%2F%2Fchannel.nationalgeographic.com%2Fepisode%2Fthe-human-family-tree-3706%2FOverview&amp;rfr_id=info%3Asid%2Fen.wikipedia.org%3ASix+Degrees+of+Kevin+Bacon\"><span style=\"display:none;\"> </span></span></span></li>\n",
       "<li id=\"cite_note-11\"><span class=\"mw-cite-backlink\"><b><a href=\"#cite_ref-11\">^</a></b></span> <span class=\"reference-text\"><cite class=\"citation web\"><a class=\"external text\" href=\"http://www.saatchi.co.uk/news/archive/ee_debuts_multi-million_pound_marketing_launch_campaign_starring_kevin_bacon_\" rel=\"nofollow\">\"EE debuts multi-million pound marketing launch campaign starring Kevin Bacon\"</a>. The Lovemarks Company, Saatchi &amp; Saatchi London<span class=\"reference-accessdate\">. Retrieved <span class=\"nowrap\">November 5,</span> 2012</span>.</cite><span class=\"Z3988\" title=\"ctx_ver=Z39.88-2004&amp;rft_val_fmt=info%3Aofi%2Ffmt%3Akev%3Amtx%3Abook&amp;rft.genre=unknown&amp;rft.btitle=EE+debuts+multi-million+pound+marketing+launch+campaign+starring+Kevin+Bacon&amp;rft.pub=The+Lovemarks+Company%2C+Saatchi+%26+Saatchi+London&amp;rft_id=http%3A%2F%2Fwww.saatchi.co.uk%2Fnews%2Farchive%2Fee_debuts_multi-million_pound_marketing_launch_campaign_starring_kevin_bacon_&amp;rfr_id=info%3Asid%2Fen.wikipedia.org%3ASix+Degrees+of+Kevin+Bacon\"><span style=\"display:none;\"> </span></span></span></li>\n",
       "<li id=\"cite_note-12\"><span class=\"mw-cite-backlink\"><b><a href=\"#cite_ref-12\">^</a></b></span> <span class=\"reference-text\"><cite class=\"citation web\">Stromberg, Joseph (February 18, 2013). <a class=\"external text\" href=\"http://blogs.smithsonianmag.com/science/2013/02/any-two-pages-on-the-web-are-connected-by-19-clicks-or-less/\" rel=\"nofollow\">\"Any Two Pages on the Web Are Connected By 19 Clicks or Less\"</a>. <i><a href=\"/wiki/Smithsonian_(magazine)\" title=\"Smithsonian (magazine)\">Smithsonian</a></i><span class=\"reference-accessdate\">. Retrieved <span class=\"nowrap\">March 22,</span> 2013</span>.</cite><span class=\"Z3988\" title=\"ctx_ver=Z39.88-2004&amp;rft_val_fmt=info%3Aofi%2Ffmt%3Akev%3Amtx%3Ajournal&amp;rft.genre=unknown&amp;rft.jtitle=Smithsonian&amp;rft.atitle=Any+Two+Pages+on+the+Web+Are+Connected+By+19+Clicks+or+Less&amp;rft.date=2013-02-18&amp;rft.aulast=Stromberg&amp;rft.aufirst=Joseph&amp;rft_id=http%3A%2F%2Fblogs.smithsonianmag.com%2Fscience%2F2013%2F02%2Fany-two-pages-on-the-web-are-connected-by-19-clicks-or-less%2F&amp;rfr_id=info%3Asid%2Fen.wikipedia.org%3ASix+Degrees+of+Kevin+Bacon\"><span style=\"display:none;\"> </span></span></span></li>\n",
       "<li id=\"cite_note-13\"><span class=\"mw-cite-backlink\"><b><a href=\"#cite_ref-13\">^</a></b></span> <span class=\"reference-text\"><cite class=\"citation journal\">Albert-László Barabási (February 18, 2013). <a class=\"external text\" href=\"http://rsta.royalsocietypublishing.org/content/371/1987/20120375.full\" rel=\"nofollow\">\"Discussion: Network science\"</a>. <i><a href=\"/wiki/Philosophical_Transactions_of_the_Royal_Society\" title=\"Philosophical Transactions of the Royal Society\">Philosophical Transactions of the Royal Society</a></i>. <b>371</b> (1987). <a href=\"/wiki/Digital_object_identifier\" title=\"Digital object identifier\">doi</a>:<a class=\"external text\" href=\"//doi.org/10.1098/rsta.2012.0375\" rel=\"nofollow\">10.1098/rsta.2012.0375</a><span class=\"reference-accessdate\">. Retrieved <span class=\"nowrap\">March 22,</span> 2013</span>.</cite><span class=\"Z3988\" title=\"ctx_ver=Z39.88-2004&amp;rft_val_fmt=info%3Aofi%2Ffmt%3Akev%3Amtx%3Ajournal&amp;rft.genre=article&amp;rft.jtitle=Philosophical+Transactions+of+the+Royal+Society&amp;rft.atitle=Discussion%3A+Network+science&amp;rft.volume=371&amp;rft.issue=1987&amp;rft.date=2013-02-18&amp;rft_id=info%3Adoi%2F10.1098%2Frsta.2012.0375&amp;rft.au=Albert-L%C3%A1szl%C3%B3+Barab%C3%A1si&amp;rft_id=http%3A%2F%2Frsta.royalsocietypublishing.org%2Fcontent%2F371%2F1987%2F20120375.full&amp;rfr_id=info%3Asid%2Fen.wikipedia.org%3ASix+Degrees+of+Kevin+Bacon\"><span style=\"display:none;\"> </span></span></span></li>\n",
       "<li id=\"cite_note-14\"><span class=\"mw-cite-backlink\"><b><a href=\"#cite_ref-14\">^</a></b></span> <span class=\"reference-text\"><a class=\"external text\" href=\"http://oracleofbacon.org\" rel=\"nofollow\">oracleofbacon.org</a></span></li>\n",
       "<li id=\"cite_note-15\"><span class=\"mw-cite-backlink\"><b><a href=\"#cite_ref-15\">^</a></b></span> <span class=\"reference-text\"><cite class=\"citation web\">Reynolds, Patrick. <a class=\"external text\" href=\"http://oracleofbacon.org/cgi-bin/center-cgi\" rel=\"nofollow\">\"How good a center an actor is?\"</a>. <i>The Oracle of Bacon</i>.</cite><span class=\"Z3988\" title=\"ctx_ver=Z39.88-2004&amp;rft_val_fmt=info%3Aofi%2Ffmt%3Akev%3Amtx%3Ajournal&amp;rft.genre=unknown&amp;rft.jtitle=The+Oracle+of+Bacon&amp;rft.atitle=How+good+a+center+an+actor+is%3F&amp;rft.aulast=Reynolds&amp;rft.aufirst=Patrick&amp;rft_id=http%3A%2F%2Foracleofbacon.org%2Fcgi-bin%2Fcenter-cgi&amp;rfr_id=info%3Asid%2Fen.wikipedia.org%3ASix+Degrees+of+Kevin+Bacon\"><span style=\"display:none;\"> </span></span></span></li>\n",
       "<li id=\"cite_note-16\"><span class=\"mw-cite-backlink\"><b><a href=\"#cite_ref-16\">^</a></b></span> <span class=\"reference-text\"><cite class=\"citation web\">Reynolds, Patrick. <a class=\"external text\" href=\"http://oracleofbacon.org/center_list.php\" rel=\"nofollow\">\"1000 best centers\"</a>. <i>The Oracle of Bacon</i>.</cite><span class=\"Z3988\" title=\"ctx_ver=Z39.88-2004&amp;rft_val_fmt=info%3Aofi%2Ffmt%3Akev%3Amtx%3Ajournal&amp;rft.genre=unknown&amp;rft.jtitle=The+Oracle+of+Bacon&amp;rft.atitle=1000+best+centers&amp;rft.aulast=Reynolds&amp;rft.aufirst=Patrick&amp;rft_id=http%3A%2F%2Foracleofbacon.org%2Fcenter_list.php&amp;rfr_id=info%3Asid%2Fen.wikipedia.org%3ASix+Degrees+of+Kevin+Bacon\"><span style=\"display:none;\"> </span></span></span></li>\n",
       "<li id=\"cite_note-17\"><span class=\"mw-cite-backlink\"><b><a href=\"#cite_ref-17\">^</a></b></span> <span class=\"reference-text\"><cite class=\"citation web\"><a class=\"external text\" href=\"https://web.archive.org/web/20071013051515/http://clooneystudio.com/degrees2.html\" rel=\"nofollow\">\"Andy Gotts' Degrees Exhibition\"</a>. <i>Clooney Studio</i>. Archived from <a class=\"external text\" href=\"http://www.clooneystudio.com/degrees2.html\" rel=\"nofollow\">the original</a> on October 13, 2007.</cite><span class=\"Z3988\" title=\"ctx_ver=Z39.88-2004&amp;rft_val_fmt=info%3Aofi%2Ffmt%3Akev%3Amtx%3Ajournal&amp;rft.genre=unknown&amp;rft.jtitle=Clooney+Studio&amp;rft.atitle=Andy+Gotts%27+Degrees+Exhibition&amp;rft_id=http%3A%2F%2Fwww.clooneystudio.com%2Fdegrees2.html&amp;rfr_id=info%3Asid%2Fen.wikipedia.org%3ASix+Degrees+of+Kevin+Bacon\"><span style=\"display:none;\"> </span></span></span></li>\n",
       "</ol>\n",
       "</div>\n",
       "</div>\n",
       "<h2><span class=\"mw-headline\" id=\"External_links\">External links</span><span class=\"mw-editsection\"><span class=\"mw-editsection-bracket\">[</span><a href=\"/w/index.php?title=Six_Degrees_of_Kevin_Bacon&amp;action=edit&amp;section=8\" title=\"Edit section: External links\">edit</a><span class=\"mw-editsection-bracket\">]</span></span></h2>\n",
       "<ul>\n",
       "<li>The <a class=\"external text\" href=\"http://oracleofbacon.org/\" rel=\"nofollow\">Oracle of Bacon</a> computes the Bacon number of any actor or actress from IMDb data\n",
       "<ul>\n",
       "<li><a class=\"external text\" href=\"http://jamesaconrad.com/media/james-bio.html#six-degrees-of-james-a-conrad\" rel=\"nofollow\">Six Degrees of James A. Conrad</a> A how-to demonstration for those wishing to compile their own \"degrees of\" list by a Hollywood author who is three degrees of Bacon.</li>\n",
       "<li><a class=\"external text\" href=\"http://www.cinfn.com/\" rel=\"nofollow\">Cinema FreeNet Movie Connector</a> finds links between stars, but can also use directors and producers.</li>\n",
       "<li><a class=\"external text\" href=\"https://www.filmlovr.com/\" rel=\"nofollow\">Filmlovr.com</a> browse the extensive film library to find films to connect via their actors aka determine the Bacon number.</li>\n",
       "</ul>\n",
       "</li>\n",
       "</ul>\n",
       "<ul>\n",
       "<li><a class=\"external text\" href=\"http://gladwell.com/six-degrees-of-lois-weisberg/\" rel=\"nofollow\">Six Degrees of Lois Weisberg</a> suggests that Bacon connects to many actors because he acts in many different kinds of roles and films.</li>\n",
       "</ul>\n",
       "<!-- \n",
       "NewPP limit report\n",
       "Parsed by mw1257\n",
       "Cached time: 20180703135147\n",
       "Cache expiry: 1900800\n",
       "Dynamic content: false\n",
       "CPU time usage: 0.156 seconds\n",
       "Real time usage: 0.194 seconds\n",
       "Preprocessor visited node count: 1189/1000000\n",
       "Preprocessor generated node count: 0/1500000\n",
       "Post‐expand include size: 21496/2097152 bytes\n",
       "Template argument size: 988/2097152 bytes\n",
       "Highest expansion depth: 15/40\n",
       "Expensive parser function count: 1/500\n",
       "Unstrip recursion depth: 0/20\n",
       "Unstrip post‐expand size: 14902/5000000 bytes\n",
       "Number of Wikibase entities loaded: 0/400\n",
       "Lua time usage: 0.066/10.000 seconds\n",
       "Lua memory usage: 3.45 MB/50 MB\n",
       "-->\n",
       "<!--\n",
       "Transclusion expansion time report (%,ms,calls,template)\n",
       "100.00%  166.761      1 -total\n",
       " 61.84%  103.122      1 Template:Reflist\n",
       " 40.13%   66.924     11 Template:Cite_web\n",
       " 17.27%   28.803      2 Template:ISBN\n",
       " 14.56%   24.283      1 Template:Use_mdy_dates\n",
       "  7.14%   11.899      2 Template:Catalog_lookup_link\n",
       "  6.81%   11.349      1 Template:DMCA\n",
       "  5.66%    9.445      1 Template:Dated_maintenance_category\n",
       "  4.51%    7.524      1 Template:Cite_book\n",
       "  3.72%    6.203      1 Template:FULLROOTPAGENAME\n",
       "-->\n",
       "</div>\n",
       "<!-- Saved in parser cache with key enwiki:pcache:idhash:43607-0!canonical and timestamp 20180703135147 and revision id 847226957\n",
       " -->\n",
       "<noscript><img alt=\"\" height=\"1\" src=\"//en.wikipedia.org/wiki/Special:CentralAutoLogin/start?type=1x1\" style=\"border: none; position: absolute;\" title=\"\" width=\"1\"/></noscript></div> <div class=\"printfooter\">\n",
       "\t\t\t\t\t\tRetrieved from \"<a dir=\"ltr\" href=\"https://en.wikipedia.org/w/index.php?title=Six_Degrees_of_Kevin_Bacon&amp;oldid=847226957\">https://en.wikipedia.org/w/index.php?title=Six_Degrees_of_Kevin_Bacon&amp;oldid=847226957</a>\"\t\t\t\t\t</div>\n",
       "<div class=\"catlinks\" data-mw=\"interface\" id=\"catlinks\"><div class=\"mw-normal-catlinks\" id=\"mw-normal-catlinks\"><a href=\"/wiki/Help:Category\" title=\"Help:Category\">Categories</a>: <ul><li><a href=\"/wiki/Category:Endless_Games_games\" title=\"Category:Endless Games games\">Endless Games games</a></li><li><a href=\"/wiki/Category:Entertainment_websites\" title=\"Category:Entertainment websites\">Entertainment websites</a></li><li><a href=\"/wiki/Category:Games_of_mental_skill\" title=\"Category:Games of mental skill\">Games of mental skill</a></li><li><a href=\"/wiki/Category:Separation_numbers\" title=\"Category:Separation numbers\">Separation numbers</a></li></ul></div><div class=\"mw-hidden-catlinks mw-hidden-cats-hidden\" id=\"mw-hidden-catlinks\">Hidden categories: <ul><li><a href=\"/wiki/Category:Use_mdy_dates_from_May_2015\" title=\"Category:Use mdy dates from May 2015\">Use mdy dates from May 2015</a></li></ul></div></div> <div class=\"visualClear\"></div>\n",
       "</div>"
      ]
     },
     "execution_count": 11,
     "metadata": {},
     "output_type": "execute_result"
    }
   ],
   "source": [
    "soup.find('div', {'id': 'bodyContent'})"
   ]
  },
  {
   "cell_type": "code",
   "execution_count": 8,
   "metadata": {},
   "outputs": [
    {
     "name": "stdout",
     "output_type": "stream",
     "text": [
      "/wiki/Parlor_game\n",
      "/wiki/Six_degrees_of_separation\n",
      "/wiki/Kevin_Bacon\n",
      "/wiki/Hollywood\n",
      "/wiki/Kevin_Bacon\n",
      "/wiki/Kevin_Bacon\n",
      "/wiki/Charitable_organization\n",
      "/wiki/SixDegrees.org\n",
      "/wiki/Premiere_(magazine)\n",
      "/wiki/Kevin_Bacon\n"
     ]
    }
   ],
   "source": [
    "for link in soup.find('div', {'id': 'bodyContent'}).find_all('a', href = re.compile('^(/wiki/)((?!:).)*$'))[:10]:\n",
    "    if 'href' in link.attrs:\n",
    "        print(link.attrs['href'])"
   ]
  },
  {
   "cell_type": "markdown",
   "metadata": {},
   "source": [
    "### A Function for Links\n",
    "\n",
    "Now, let's write a function that extracts the link from any wikipedia page.  We should be able to use the idea that the links we care about are located in the same place as our Six Degrees example.  "
   ]
  },
  {
   "cell_type": "code",
   "execution_count": 12,
   "metadata": {},
   "outputs": [],
   "source": [
    "def get_wikilinks(url):\n",
    "    links = []\n",
    "    response = requests.get(url)\n",
    "    soup = BeautifulSoup(response.text, 'html.parser')\n",
    "    for link in soup.find('div', {'id': 'bodyContent'}).find_all('a', href = re.compile('^(/wiki/)((?!:).)*$')):\n",
    "        links.append(link)\n",
    "    return links"
   ]
  },
  {
   "cell_type": "code",
   "execution_count": 13,
   "metadata": {},
   "outputs": [],
   "source": [
    "links = get_wikilinks('https://en.wikipedia.org/wiki/Kevin_Bacon')"
   ]
  },
  {
   "cell_type": "code",
   "execution_count": 14,
   "metadata": {},
   "outputs": [
    {
     "data": {
      "text/plain": [
       "[<a class=\"mw-disambig\" href=\"/wiki/Kevin_Bacon_(disambiguation)\" title=\"Kevin Bacon (disambiguation)\">Kevin Bacon (disambiguation)</a>,\n",
       " <a href=\"/wiki/San_Diego_Comic-Con\" title=\"San Diego Comic-Con\">San Diego Comic-Con</a>,\n",
       " <a href=\"/wiki/Philadelphia\" title=\"Philadelphia\">Philadelphia</a>,\n",
       " <a href=\"/wiki/Pennsylvania\" title=\"Pennsylvania\">Pennsylvania</a>,\n",
       " <a href=\"/wiki/Kyra_Sedgwick\" title=\"Kyra Sedgwick\">Kyra Sedgwick</a>,\n",
       " <a href=\"/wiki/Sosie_Bacon\" title=\"Sosie Bacon\">Sosie Bacon</a>,\n",
       " <a href=\"/wiki/Edmund_Bacon_(architect)\" title=\"Edmund Bacon (architect)\">Edmund Bacon</a>,\n",
       " <a href=\"/wiki/Michael_Bacon_(musician)\" title=\"Michael Bacon (musician)\">Michael Bacon</a>,\n",
       " <a href=\"/wiki/Footloose_(1984_film)\" title=\"Footloose (1984 film)\">Footloose</a>,\n",
       " <a href=\"/wiki/JFK_(film)\" title=\"JFK (film)\">JFK</a>]"
      ]
     },
     "execution_count": 14,
     "metadata": {},
     "output_type": "execute_result"
    }
   ],
   "source": [
    "links[:10]"
   ]
  },
  {
   "cell_type": "code",
   "execution_count": 17,
   "metadata": {},
   "outputs": [
    {
     "data": {
      "text/plain": [
       "bs4.element.Tag"
      ]
     },
     "execution_count": 17,
     "metadata": {},
     "output_type": "execute_result"
    }
   ],
   "source": [
    "type(links[0])"
   ]
  },
  {
   "cell_type": "markdown",
   "metadata": {},
   "source": [
    "### Connecting Pages\n",
    "\n",
    "Now, we want to follow these references, gather more urls, and repeat. For the sake of not running to exhaustion, I abbreviate the output using only a large length requirement for the link list.  To traverse all the pages we would simply change the \n",
    "\n",
    "```python\n",
    "while len(links) > 100:\n",
    "```\n",
    "\n",
    "to \n",
    "\n",
    "```python\n",
    "while len(links) > 0:\n",
    "```"
   ]
  },
  {
   "cell_type": "code",
   "execution_count": 19,
   "metadata": {},
   "outputs": [],
   "source": [
    "import random"
   ]
  },
  {
   "cell_type": "code",
   "execution_count": 20,
   "metadata": {},
   "outputs": [],
   "source": [
    "links = get_wikilinks('https://en.wikipedia.org/wiki/Kevin_Bacon')"
   ]
  },
  {
   "cell_type": "code",
   "execution_count": 21,
   "metadata": {},
   "outputs": [
    {
     "data": {
      "text/plain": [
       "353"
      ]
     },
     "execution_count": 21,
     "metadata": {},
     "output_type": "execute_result"
    }
   ],
   "source": [
    "len(links)"
   ]
  },
  {
   "cell_type": "code",
   "execution_count": 22,
   "metadata": {},
   "outputs": [
    {
     "name": "stdout",
     "output_type": "stream",
     "text": [
      "https://en.wikipedia.org/wiki/People_(American_magazine)\n",
      "https://en.wikipedia.org/wiki/Allrecipes.com\n"
     ]
    }
   ],
   "source": [
    "while len(links) > 100:\n",
    "    newArticle = 'https://en.wikipedia.org' + links[random.randint(0, len(links)-1)].attrs['href']\n",
    "    print(newArticle)\n",
    "    links = get_wikilinks(newArticle)"
   ]
  },
  {
   "cell_type": "markdown",
   "metadata": {},
   "source": [
    "### Problem\n",
    "\n",
    "Write a function to retrieve a list of albums of any area you are interested in using Wikipedia's list of list of albums page: https://en.wikipedia.org/wiki/Lists_of_albums."
   ]
  },
  {
   "cell_type": "code",
   "execution_count": 23,
   "metadata": {},
   "outputs": [],
   "source": [
    "response = requests.get('https://en.wikipedia.org/wiki/Lists_of_fastest-selling_albums')\n",
    "soup = BeautifulSoup(response.text, 'html.parser')"
   ]
  },
  {
   "cell_type": "code",
   "execution_count": 53,
   "metadata": {
    "scrolled": false
   },
   "outputs": [
    {
     "name": "stdout",
     "output_type": "stream",
     "text": [
      "Canada\n",
      "Rank  Year  Title  Artist  Sales  Reference\n",
      "1  2015  25  Adele  305,928  [5]\n",
      "2  1997  Let's Talk About Love  Céline Dion  230,212  [6][7]\n",
      "3  1999  Millennium  Backstreet Boys  191,791  [8][9]\n",
      "4  2003  Star Académie  Star Académie  173,000  [10]\n",
      "5  2000  Black & Blue  Backstreet Boys  156,307  [8]\n",
      "6  2002  A New Day Has Come  Céline Dion  151,600  [11]\n",
      "7  2002  Up!  Shania Twain  150,000  [12]\n",
      "8  2008  Black Ice  AC/DC  119,000  [13]\n",
      "9  2006  I Think of You  Gregory Charles  109,000  [14]\n",
      "10  2014  1989  Taylor Swift  107,000  [15]\n",
      "\n",
      "Germany\n",
      "Rank  Year  Title  Artist  Sales  Reference\n",
      "1  2007  12  Herbert Grönemeyer  More than 263,000  [16]\n",
      "2  2015  25  Adele  263,000  [16]\n",
      "\n",
      "Ireland\n",
      "Rank  Year  Title  Artist  Sales  Reference\n",
      "1  2001  Distance  Hikaru Utada  3,002,720  [19][20]\n",
      "2  2001  A Best  Ayumi Hamasaki  2,874,870  [19][20]\n",
      "3  1998  The Best \"Pleasure\"  B'z  2,709,530  [20][21]\n",
      "4  1998  The Best \"Treasure\"  B'z  2,500,120  [20][22]\n",
      "5  2002  Deep River  Hikaru Utada  2,350,170  [20][23]\n",
      "6  2000  Delicious Way  Mai Kuraki  2,218,640  [20][24]\n",
      "7  1999  First Love  Hikaru Utada  2,026,870  [20][25]\n",
      "8  1997  Review  Glay  2,003,150  [20][26]\n",
      "9  1996  Sweet 19 Blues  Namie Amuro  1,921,850  [20][27]\n",
      "10  2002  I Am...  Ayumi Hamasaki  1,751,360  [20][28]\n",
      "\n",
      "Japan\n",
      "Rank  Year  Title  Artist  Sales  Reference\n",
      "1  2015  25  Adele  18,766  [29]\n",
      "2  2009  I Dreamed a Dream  Susan Boyle  17,435  [29]\n",
      "\n",
      "New Zealand\n",
      "Rank  Year  Title  Artist  Sales  Reference\n",
      "1  2015  25  Adele  803,000  [30][31]\n",
      "2  1997  Be Here Now  Oasis  695,761  [32]\n",
      "3  2017  ÷  Ed Sheeran  672,000  [33]\n",
      "4  2010  Progress  Take That  518,601  [34]\n",
      "5  2005  X&Y  Coldplay  464,471  [35]\n",
      "6  2008  The Circus  Take That  432,490  [36]\n",
      "7  2009  I Dreamed a Dream  Susan Boyle  411,820  [37]\n",
      "8  2003  Life for Rent  Dido  400,351  [38]\n",
      "9  2007  Spirit  Leona Lewis  375,872  [39]\n",
      "\n",
      "United Kingdom\n",
      "Rank  Year  Title  Artist  Sales  Reference\n",
      "1  2015  25  Adele  3,378,000  [43]\n",
      "2  2000  No Strings Attached  *NSYNC  2,416,000  [43]\n",
      "3  2001  Celebrity  *NSYNC  1,880,000  [43]\n",
      "4  2000  The Marshall Mathers LP  Eminem  1,760,000  [43]\n",
      "5  2000  Black & Blue  Backstreet Boys  1,591,000  [43]\n",
      "6  2002  The Eminem Show  Eminem  1,322,000  [43]\n",
      "7  2000  Oops!... I Did It Again  Britney Spears  1,319,000  [43]\n",
      "8  2014  1989  Taylor Swift  1,287,000  [43]\n",
      "9  2017  reputation  Taylor Swift  1,216,000  [44]\n",
      "10  2012  Red  Taylor Swift  1,208,000  [43]\n",
      "11  2005  The Massacre[I]  50 Cent  1,141,000  [43]\n",
      "12  1999  Millennium  Backstreet Boys  1,134,000  [43]\n",
      "13  2011  Born This Way  Lady Gaga  1,108,000  [43]\n",
      "14  2004  Confessions  Usher  1,096,000  [43]\n",
      "15  1998  Double Live  Garth Brooks  1,095,000  [43]\n",
      "16  2000  Chocolate Starfish and the Hot Dog Flavored Water  Limp Bizkit  1,055,000  [43]\n",
      "17  2010  Speak Now  Taylor Swift  1,047,000  [43]\n",
      "18  2004  Feels Like Home  Norah Jones  1,022,000  [43]\n",
      "19  2008  Tha Carter III  Lil Wayne  1,006,000  [45]\n",
      "\n"
     ]
    }
   ],
   "source": [
    "h2s = soup.find('div', {'id': 'mw-content-text'}).find_all('span', {'class': 'mw-headline'})\n",
    "tables = soup.find('div', {'id': 'mw-content-text'}).find_all('table', {'class': 'wikitable'})\n",
    "\n",
    "for i,table in enumerate(tables):\n",
    "    print(h2s[i].text)\n",
    "    rows = table.find('tbody').find_all('tr')\n",
    "\n",
    "    for row in rows:\n",
    "        print(re.sub(r'\\n',' ',row.text).strip())\n",
    "    print(\"\")"
   ]
  },
  {
   "cell_type": "code",
   "execution_count": null,
   "metadata": {},
   "outputs": [],
   "source": []
  }
 ],
 "metadata": {
  "kernelspec": {
   "display_name": "Python 3",
   "language": "python",
   "name": "python3"
  },
  "language_info": {
   "codemirror_mode": {
    "name": "ipython",
    "version": 3
   },
   "file_extension": ".py",
   "mimetype": "text/x-python",
   "name": "python",
   "nbconvert_exporter": "python",
   "pygments_lexer": "ipython3",
   "version": "3.6.4"
  }
 },
 "nbformat": 4,
 "nbformat_minor": 2
}
