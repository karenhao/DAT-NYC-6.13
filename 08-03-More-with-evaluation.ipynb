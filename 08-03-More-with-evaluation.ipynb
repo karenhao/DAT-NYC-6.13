{
 "cells": [
  {
   "cell_type": "markdown",
   "metadata": {},
   "source": [
    "# Performance Metrics\n",
    "\n",
    "**GOALS**:\n",
    "\n",
    "- Compare Accuracy, Precision, and Recall metrics for different classifiers\n",
    "- Examine the Precision Recall tradeoff and understand appropriate determination of thresholds\n",
    "- Visualize Precision Recall tradeoff \n",
    "- Examine performance of multiclass classifiers"
   ]
  },
  {
   "cell_type": "code",
   "execution_count": 6,
   "metadata": {},
   "outputs": [],
   "source": [
    "%matplotlib inline\n",
    "import matplotlib.pyplot as plt\n",
    "import numpy as np\n",
    "import pandas as pd\n",
    "from sklearn.datasets import fetch_mldata"
   ]
  },
  {
   "cell_type": "markdown",
   "metadata": {},
   "source": [
    "### Digits Example\n",
    "\n",
    "To begin, we will return to the MNIST handwritten digit dataset.  First, we examine a binary classifier for the data based on whether or not a digit is a 5.  "
   ]
  },
  {
   "cell_type": "code",
   "execution_count": 2,
   "metadata": {},
   "outputs": [],
   "source": [
    "mnist = fetch_mldata('MNIST original')"
   ]
  },
  {
   "cell_type": "code",
   "execution_count": 3,
   "metadata": {},
   "outputs": [
    {
     "data": {
      "text/plain": [
       "{'COL_NAMES': ['label', 'data'],\n",
       " 'DESCR': 'mldata.org dataset: mnist-original',\n",
       " 'data': array([[0, 0, 0, ..., 0, 0, 0],\n",
       "        [0, 0, 0, ..., 0, 0, 0],\n",
       "        [0, 0, 0, ..., 0, 0, 0],\n",
       "        ...,\n",
       "        [0, 0, 0, ..., 0, 0, 0],\n",
       "        [0, 0, 0, ..., 0, 0, 0],\n",
       "        [0, 0, 0, ..., 0, 0, 0]], dtype=uint8),\n",
       " 'target': array([0., 0., 0., ..., 9., 9., 9.])}"
      ]
     },
     "execution_count": 3,
     "metadata": {},
     "output_type": "execute_result"
    }
   ],
   "source": [
    "mnist"
   ]
  },
  {
   "cell_type": "code",
   "execution_count": 4,
   "metadata": {},
   "outputs": [],
   "source": [
    "y = []\n",
    "for label in mnist['target']:\n",
    "    if label == 5:\n",
    "        y.append(1)\n",
    "    else:\n",
    "        y.append(0)"
   ]
  },
  {
   "cell_type": "code",
   "execution_count": 37,
   "metadata": {},
   "outputs": [],
   "source": [
    "from sklearn.model_selection import train_test_split"
   ]
  },
  {
   "cell_type": "code",
   "execution_count": 6,
   "metadata": {},
   "outputs": [],
   "source": [
    "X_train, X_test, y_train, y_test = train_test_split(mnist['data'], y)"
   ]
  },
  {
   "cell_type": "code",
   "execution_count": 39,
   "metadata": {},
   "outputs": [],
   "source": [
    "from sklearn.linear_model import LogisticRegression, SGDClassifier"
   ]
  },
  {
   "cell_type": "code",
   "execution_count": 8,
   "metadata": {},
   "outputs": [],
   "source": [
    "lgr = LogisticRegression()\n",
    "sgd = SGDClassifier()"
   ]
  },
  {
   "cell_type": "code",
   "execution_count": 9,
   "metadata": {},
   "outputs": [
    {
     "data": {
      "text/plain": [
       "LogisticRegression(C=1.0, class_weight=None, dual=False, fit_intercept=True,\n",
       "          intercept_scaling=1, max_iter=100, multi_class='ovr', n_jobs=1,\n",
       "          penalty='l2', random_state=None, solver='liblinear', tol=0.0001,\n",
       "          verbose=0, warm_start=False)"
      ]
     },
     "execution_count": 9,
     "metadata": {},
     "output_type": "execute_result"
    }
   ],
   "source": [
    "lgr.fit(X_train, y_train)"
   ]
  },
  {
   "cell_type": "code",
   "execution_count": 10,
   "metadata": {},
   "outputs": [
    {
     "data": {
      "text/plain": [
       "0.9778666666666667"
      ]
     },
     "execution_count": 10,
     "metadata": {},
     "output_type": "execute_result"
    }
   ],
   "source": [
    "lgr.score(X_train, y_train)"
   ]
  },
  {
   "cell_type": "markdown",
   "metadata": {},
   "source": [
    "### An Alternative Classifier\n",
    "\n",
    "Just for comparison, we can implement a Stochastic Gradient Descent classifier.  We will discuss the algorithm more next class, for now let's just use it to compare against our Logisitic Regression example."
   ]
  },
  {
   "cell_type": "code",
   "execution_count": 11,
   "metadata": {},
   "outputs": [
    {
     "name": "stderr",
     "output_type": "stream",
     "text": [
      "/anaconda3/lib/python3.6/site-packages/sklearn/linear_model/stochastic_gradient.py:128: FutureWarning: max_iter and tol parameters have been added in <class 'sklearn.linear_model.stochastic_gradient.SGDClassifier'> in 0.19. If both are left unset, they default to max_iter=5 and tol=None. If tol is not None, max_iter defaults to max_iter=1000. From 0.21, default max_iter will be 1000, and default tol will be 1e-3.\n",
      "  \"and default tol will be 1e-3.\" % type(self), FutureWarning)\n"
     ]
    },
    {
     "data": {
      "text/plain": [
       "SGDClassifier(alpha=0.0001, average=False, class_weight=None, epsilon=0.1,\n",
       "       eta0=0.0, fit_intercept=True, l1_ratio=0.15,\n",
       "       learning_rate='optimal', loss='hinge', max_iter=None, n_iter=None,\n",
       "       n_jobs=1, penalty='l2', power_t=0.5, random_state=None,\n",
       "       shuffle=True, tol=None, verbose=0, warm_start=False)"
      ]
     },
     "execution_count": 11,
     "metadata": {},
     "output_type": "execute_result"
    }
   ],
   "source": [
    "sgd.fit(X_train, y_train)"
   ]
  },
  {
   "cell_type": "code",
   "execution_count": 12,
   "metadata": {},
   "outputs": [
    {
     "data": {
      "text/plain": [
       "0.9663428571428572"
      ]
     },
     "execution_count": 12,
     "metadata": {},
     "output_type": "execute_result"
    }
   ],
   "source": [
    "sgd.score(X_train, y_train)"
   ]
  },
  {
   "cell_type": "markdown",
   "metadata": {},
   "source": [
    "### Comparing to Baseline\n",
    "\n",
    "We can use the `DummyClassifier` to generate a baseline estimation that only guesses the majority class everytime regardless of the data.  This is akin to examining the baseline of a dataset.  Let's see how this example does."
   ]
  },
  {
   "cell_type": "code",
   "execution_count": 13,
   "metadata": {},
   "outputs": [],
   "source": [
    "from sklearn.dummy import DummyClassifier"
   ]
  },
  {
   "cell_type": "code",
   "execution_count": 14,
   "metadata": {},
   "outputs": [],
   "source": [
    "dum_dum = DummyClassifier(strategy='most_frequent')"
   ]
  },
  {
   "cell_type": "code",
   "execution_count": 15,
   "metadata": {},
   "outputs": [
    {
     "data": {
      "text/plain": [
       "DummyClassifier(constant=None, random_state=None, strategy='most_frequent')"
      ]
     },
     "execution_count": 15,
     "metadata": {},
     "output_type": "execute_result"
    }
   ],
   "source": [
    "dum_dum.fit(X_train, y_train)"
   ]
  },
  {
   "cell_type": "code",
   "execution_count": 16,
   "metadata": {},
   "outputs": [
    {
     "data": {
      "text/plain": [
       "0.9087238095238095"
      ]
     },
     "execution_count": 16,
     "metadata": {},
     "output_type": "execute_result"
    }
   ],
   "source": [
    "dum_dum.score(X_train,y_train)"
   ]
  },
  {
   "cell_type": "code",
   "execution_count": 17,
   "metadata": {},
   "outputs": [],
   "source": [
    "d_pred = dum_dum.predict(X_train)"
   ]
  },
  {
   "cell_type": "markdown",
   "metadata": {},
   "source": [
    "Hmm. What's going on here?  It seems that simply guessing 0 gives a fairly \"accurate\" classifier.  This is because the accuracy is simply the number guessed correctly out of the total number of options.  In this example, 1 in 10 are 5's.  Let's consider the confusion matrix for a situation where there are 1000 digits and 100 of them are 5's.  \n",
    "\n",
    "**CONFUSION MATRIX**\n",
    "\n",
    "<table style=\"width:60%\">\n",
    "  <tr>\n",
    "    <th> </th>\n",
    "    <th>Predicted Negative</th> \n",
    "    <th>Predicted Positive</th>\n",
    "  </tr>\n",
    "  <tr>\n",
    "    <td>Actually Negative</td>\n",
    "    <td> True Negative</td> \n",
    "      <td> False Positive</td>\n",
    "\n",
    "  </tr>\n",
    "  <tr>\n",
    "    <td>Actually Positive</td>\n",
    "    <td>False Negative</td>\n",
    "    <td>True Positive</td>\n",
    "</table>\n",
    "\n",
    "**EXAMPLE**\n",
    "\n",
    "|     |  Predict Neg | Predict Pos |\n",
    "| ----- | ----- | ------ |\n",
    "| Really Negative |  900  |  0  |\n",
    "| Really Positive | 100  |  0  |"
   ]
  },
  {
   "cell_type": "code",
   "execution_count": 18,
   "metadata": {},
   "outputs": [],
   "source": [
    "#predicting sgd results\n",
    "sgd_prd = sgd.predict(X_train)"
   ]
  },
  {
   "cell_type": "code",
   "execution_count": 19,
   "metadata": {},
   "outputs": [],
   "source": [
    "#predicting logistic results\n",
    "lgr_prd = lgr.predict(X_train)"
   ]
  },
  {
   "cell_type": "code",
   "execution_count": 20,
   "metadata": {},
   "outputs": [],
   "source": [
    "from sklearn.metrics import confusion_matrix"
   ]
  },
  {
   "cell_type": "code",
   "execution_count": 21,
   "metadata": {},
   "outputs": [
    {
     "data": {
      "text/plain": [
       "array([[46850,   858],\n",
       "       [  909,  3883]])"
      ]
     },
     "execution_count": 21,
     "metadata": {},
     "output_type": "execute_result"
    }
   ],
   "source": [
    "#sgd confustion matrix\n",
    "confusion_matrix(y_train, sgd_prd)"
   ]
  },
  {
   "cell_type": "code",
   "execution_count": 22,
   "metadata": {},
   "outputs": [
    {
     "data": {
      "text/plain": [
       "array([[47343,   365],\n",
       "       [  797,  3995]])"
      ]
     },
     "execution_count": 22,
     "metadata": {},
     "output_type": "execute_result"
    }
   ],
   "source": [
    "#logistic regression \n",
    "confusion_matrix(y_train, lgr_prd)"
   ]
  },
  {
   "cell_type": "code",
   "execution_count": 23,
   "metadata": {},
   "outputs": [
    {
     "data": {
      "text/plain": [
       "array([[47708,     0],\n",
       "       [ 4792,     0]])"
      ]
     },
     "execution_count": 23,
     "metadata": {},
     "output_type": "execute_result"
    }
   ],
   "source": [
    "#dummy predictor\n",
    "confusion_matrix(y_train, d_pred)"
   ]
  },
  {
   "cell_type": "markdown",
   "metadata": {},
   "source": [
    "### Beyond Accuracy\n",
    "\n",
    "**Accuracy**: \n",
    "\n",
    "Percent classified correctly.\n",
    "\n",
    "$$\\displaystyle \\frac{TP +TN}{TP + FP + TN + FN}$$\n",
    "\n",
    "\n",
    "\n",
    "**Precision**:\n",
    "\n",
    "More refined metrics begin with Precision, which is the proportion of positives that are really true positives.  Here, to increase precision, we want to decrease False Positive results.\n",
    "\n",
    "\n",
    " $$\\displaystyle \\frac{TP}{TP + FP}$$\n",
    " \n",
    " \n",
    "**Recall**:\n",
    "\n",
    "If we consider the number of true positives in terms of all the real positives, we have recall.  To get better recall, we want to avoid False Negatives.\n",
    "\n",
    " $$\\displaystyle \\frac{TP}{TP + FN}$$\n",
    " \n",
    " "
   ]
  },
  {
   "cell_type": "code",
   "execution_count": 41,
   "metadata": {},
   "outputs": [],
   "source": [
    "from sklearn.metrics import accuracy_score, precision_score, recall_score, f1_score, classification_report"
   ]
  },
  {
   "cell_type": "code",
   "execution_count": 25,
   "metadata": {},
   "outputs": [
    {
     "name": "stdout",
     "output_type": "stream",
     "text": [
      "Accuracy score for Logistic Regression model:\n",
      "0.98\n",
      "Accuracy score for SGD model: \n",
      "0.97\n",
      "Accuracy score for Dummy Classifer model: \n",
      "0.91\n"
     ]
    }
   ],
   "source": [
    "print(\"Accuracy score for Logistic Regression model:\\n{:.2f}\".format(accuracy_score(y_train, lgr_prd)))\n",
    "print(\"Accuracy score for SGD model: \\n{:.2f}\".format(accuracy_score(y_train, sgd_prd)))\n",
    "print(\"Accuracy score for Dummy Classifer model: \\n{:.2f}\".format(accuracy_score(y_train, d_pred)))"
   ]
  },
  {
   "cell_type": "code",
   "execution_count": 26,
   "metadata": {},
   "outputs": [
    {
     "name": "stdout",
     "output_type": "stream",
     "text": [
      "Precision score for Logistic Regression model: \n",
      " 0.9162844036697247\n",
      "Precision score for SGD model: \n",
      " 0.8190255220417634\n",
      "Precision score for Dummy Classifer model: \n",
      " 0.0\n"
     ]
    },
    {
     "name": "stderr",
     "output_type": "stream",
     "text": [
      "/anaconda3/lib/python3.6/site-packages/sklearn/metrics/classification.py:1135: UndefinedMetricWarning: Precision is ill-defined and being set to 0.0 due to no predicted samples.\n",
      "  'precision', 'predicted', average, warn_for)\n"
     ]
    }
   ],
   "source": [
    "print(\"Precision score for Logistic Regression model: \\n\", precision_score(y_train, lgr_prd))\n",
    "print(\"Precision score for SGD model: \\n\", precision_score(y_train, sgd_prd))\n",
    "print(\"Precision score for Dummy Classifer model: \\n\", precision_score(y_train, d_pred))"
   ]
  },
  {
   "cell_type": "code",
   "execution_count": 27,
   "metadata": {},
   "outputs": [
    {
     "name": "stdout",
     "output_type": "stream",
     "text": [
      "Recall score for Logistic Regression model: \n",
      " 0.8336811352253757\n",
      "Recall score for SGD model: \n",
      " 0.8103088480801336\n",
      "Recall score for Dummy Classifer model: \n",
      " 0.0\n"
     ]
    }
   ],
   "source": [
    "print(\"Recall score for Logistic Regression model: \\n\", recall_score(y_train, lgr_prd))\n",
    "print(\"Recall score for SGD model: \\n\", recall_score(y_train, sgd_prd))\n",
    "print(\"Recall score for Dummy Classifer model: \\n\", recall_score(y_train, d_pred))"
   ]
  },
  {
   "cell_type": "code",
   "execution_count": 28,
   "metadata": {},
   "outputs": [
    {
     "name": "stdout",
     "output_type": "stream",
     "text": [
      "Logistic Regression full report\n",
      "              precision    recall  f1-score   support\n",
      "\n",
      "          0       0.98      0.99      0.99     47708\n",
      "          1       0.92      0.83      0.87      4792\n",
      "\n",
      "avg / total       0.98      0.98      0.98     52500\n",
      "\n"
     ]
    }
   ],
   "source": [
    "print(\"Logistic Regression full report\\n\", classification_report(y_train,lgr_prd))"
   ]
  },
  {
   "cell_type": "code",
   "execution_count": 29,
   "metadata": {},
   "outputs": [
    {
     "name": "stdout",
     "output_type": "stream",
     "text": [
      "SGD full report\n",
      "              precision    recall  f1-score   support\n",
      "\n",
      "          0       0.98      0.98      0.98     47708\n",
      "          1       0.82      0.81      0.81      4792\n",
      "\n",
      "avg / total       0.97      0.97      0.97     52500\n",
      "\n"
     ]
    }
   ],
   "source": [
    "print(\"SGD full report\\n\", classification_report(y_train,sgd_prd))"
   ]
  },
  {
   "cell_type": "code",
   "execution_count": 30,
   "metadata": {},
   "outputs": [
    {
     "name": "stdout",
     "output_type": "stream",
     "text": [
      "Dummy full report\n",
      "              precision    recall  f1-score   support\n",
      "\n",
      "          0       0.91      1.00      0.95     47708\n",
      "          1       0.00      0.00      0.00      4792\n",
      "\n",
      "avg / total       0.83      0.91      0.87     52500\n",
      "\n"
     ]
    },
    {
     "name": "stderr",
     "output_type": "stream",
     "text": [
      "/anaconda3/lib/python3.6/site-packages/sklearn/metrics/classification.py:1135: UndefinedMetricWarning: Precision and F-score are ill-defined and being set to 0.0 in labels with no predicted samples.\n",
      "  'precision', 'predicted', average, warn_for)\n"
     ]
    }
   ],
   "source": [
    "print(\"Dummy full report\\n\", classification_report(y_train,d_pred))"
   ]
  },
  {
   "cell_type": "markdown",
   "metadata": {},
   "source": [
    "### Admissions Example\n",
    "\n",
    "Now, let's predict the `admit` class from the `gre` variable.  Be sure to use a train test split and cross validation.\n",
    "\n",
    "- Load Dataset\n",
    "- Examine Variables\n",
    "- Deal with missing and non-numeric\n",
    "- Split\n",
    "- Create Dummy Classifier\n",
    "- Create and fit a Logistic Classifier with Cross Validation\n",
    "- Compare and discuss the results"
   ]
  },
  {
   "cell_type": "code",
   "execution_count": 7,
   "metadata": {},
   "outputs": [],
   "source": [
    "admissions = pd.read_csv('data/admissions.csv')"
   ]
  },
  {
   "cell_type": "code",
   "execution_count": 8,
   "metadata": {},
   "outputs": [
    {
     "name": "stdout",
     "output_type": "stream",
     "text": [
      "<class 'pandas.core.frame.DataFrame'>\n",
      "RangeIndex: 400 entries, 0 to 399\n",
      "Data columns (total 4 columns):\n",
      "admit       400 non-null int64\n",
      "gre         398 non-null float64\n",
      "gpa         398 non-null float64\n",
      "prestige    399 non-null float64\n",
      "dtypes: float64(3), int64(1)\n",
      "memory usage: 12.6 KB\n"
     ]
    }
   ],
   "source": [
    "admissions.info()"
   ]
  },
  {
   "cell_type": "code",
   "execution_count": 10,
   "metadata": {},
   "outputs": [
    {
     "data": {
      "text/plain": [
       "0    273\n",
       "1    127\n",
       "Name: admit, dtype: int64"
      ]
     },
     "execution_count": 10,
     "metadata": {},
     "output_type": "execute_result"
    }
   ],
   "source": [
    "admissions.admit.value_counts()"
   ]
  },
  {
   "cell_type": "code",
   "execution_count": 49,
   "metadata": {},
   "outputs": [],
   "source": [
    "# fill in na gre\n",
    "gre_not_admitted = admissions.gre[admissions.admit==0].mean()\n",
    "admissions.gre.fillna(gre_not_admitted,inplace=True)\n",
    "\n",
    "# fill in na gpa\n",
    "admissions.gpa.fillna(admissions.gpa.mean(),inplace=True)\n",
    "\n",
    "# fill in na prestige\n",
    "prestige_admitted = admissions.prestige[admissions.admit==1].mode()\n",
    "admissions.prestige.fillna(prestige_admitted,inplace=True)"
   ]
  },
  {
   "cell_type": "code",
   "execution_count": 30,
   "metadata": {},
   "outputs": [],
   "source": [
    "import seaborn as sns"
   ]
  },
  {
   "cell_type": "code",
   "execution_count": 32,
   "metadata": {},
   "outputs": [
    {
     "data": {
      "text/plain": [
       "<matplotlib.axes._subplots.AxesSubplot at 0x1a0a3e2f28>"
      ]
     },
     "execution_count": 32,
     "metadata": {},
     "output_type": "execute_result"
    },
    {
     "data": {
      "image/png": "[encoded data removed]",
      "text/plain": [
       "<matplotlib.figure.Figure at 0x1a0a3e2128>"
      ]
     },
     "metadata": {},
     "output_type": "display_data"
    }
   ],
   "source": [
    "sns.boxplot(x='admit',y='gre',data=admissions)"
   ]
  },
  {
   "cell_type": "code",
   "execution_count": 34,
   "metadata": {},
   "outputs": [
    {
     "data": {
      "text/plain": [
       "<matplotlib.axes._subplots.AxesSubplot at 0x1a09ea47b8>"
      ]
     },
     "execution_count": 34,
     "metadata": {},
     "output_type": "execute_result"
    },
    {
     "data": {
      "image/png": "[encoded data removed]",
      "text/plain": [
       "<matplotlib.figure.Figure at 0x1a0ab7d358>"
      ]
     },
     "metadata": {},
     "output_type": "display_data"
    }
   ],
   "source": [
    "sns.boxplot(x='admit',y='prestige',data=admissions)"
   ]
  },
  {
   "cell_type": "code",
   "execution_count": 35,
   "metadata": {},
   "outputs": [
    {
     "data": {
      "text/plain": [
       "<matplotlib.axes._subplots.AxesSubplot at 0x1a09e61518>"
      ]
     },
     "execution_count": 35,
     "metadata": {},
     "output_type": "execute_result"
    },
    {
     "data": {
      "image/png": "[encoded data removed]",
      "text/plain": [
       "<matplotlib.figure.Figure at 0x1a0a07f9b0>"
      ]
     },
     "metadata": {},
     "output_type": "display_data"
    }
   ],
   "source": [
    "sns.boxplot(x='admit',y='gpa',data=admissions)"
   ]
  },
  {
   "cell_type": "code",
   "execution_count": 40,
   "metadata": {},
   "outputs": [],
   "source": [
    "from sklearn.linear_model import LogisticRegression, LogisticRegressionCV"
   ]
  },
  {
   "cell_type": "code",
   "execution_count": 38,
   "metadata": {},
   "outputs": [],
   "source": [
    "X = admissions[['gre']]\n",
    "y = admissions.admit\n",
    "\n",
    "X_train, X_test, y_train, y_test = train_test_split(X,y)"
   ]
  },
  {
   "cell_type": "code",
   "execution_count": 43,
   "metadata": {},
   "outputs": [
    {
     "name": "stdout",
     "output_type": "stream",
     "text": [
      "             precision    recall  f1-score   support\n",
      "\n",
      "          0       0.76      1.00      0.86        76\n",
      "          1       0.00      0.00      0.00        24\n",
      "\n",
      "avg / total       0.58      0.76      0.66       100\n",
      "\n"
     ]
    },
    {
     "name": "stderr",
     "output_type": "stream",
     "text": [
      "/Users/karenhao/Documents/anaconda3/lib/python3.6/site-packages/sklearn/metrics/classification.py:1135: UndefinedMetricWarning: Precision and F-score are ill-defined and being set to 0.0 in labels with no predicted samples.\n",
      "  'precision', 'predicted', average, warn_for)\n"
     ]
    }
   ],
   "source": [
    "lgr = LogisticRegression()\n",
    "\n",
    "lgr.fit(X_train,y_train)\n",
    "y_pred = lgr.predict(X_test)\n",
    "\n",
    "print(classification_report(y_test,y_pred))"
   ]
  }
 ],
 "metadata": {
  "kernelspec": {
   "display_name": "Python 3",
   "language": "python",
   "name": "python3"
  },
  "language_info": {
   "codemirror_mode": {
    "name": "ipython",
    "version": 3
   },
   "file_extension": ".py",
   "mimetype": "text/x-python",
   "name": "python",
   "nbconvert_exporter": "python",
   "pygments_lexer": "ipython3",
   "version": "3.6.4"
  }
 },
 "nbformat": 4,
 "nbformat_minor": 2
}
